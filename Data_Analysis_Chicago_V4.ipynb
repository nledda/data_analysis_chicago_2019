{
 "cells": [
  {
   "cell_type": "markdown",
   "id": "96a68f83",
   "metadata": {
    "id": "96a68f83"
   },
   "source": [
    "# Data Analysis of the Chicago Dataset\n",
    "\n",
    "In this Jupyter Notebook we will analyze a bike sharing dataset of the city Chicago of the year 2019. We will also include the hourly weather data of the city during the same time. In the first part we will visualize the data and try to develop a deep understanding of the user types and recurring bahavioral patterns. In the second part we use this knowledge to develop a predicition model which forecasts future demand."
   ]
  },
  {
   "cell_type": "markdown",
   "id": "38b51333",
   "metadata": {
    "id": "38b51333"
   },
   "source": [
    "## Getting started: importing the data and getting it in the right format"
   ]
  },
  {
   "cell_type": "markdown",
   "id": "9d1cfc09",
   "metadata": {
    "id": "9d1cfc09"
   },
   "source": [
    "At first we import all of the required libraries in this notebook. In this case we import *NumPy, Pandas, Matplotlib and Seaborn*. \n"
   ]
  },
  {
   "cell_type": "code",
   "execution_count": 1,
   "id": "1b763a1d",
   "metadata": {
    "id": "1b763a1d"
   },
   "outputs": [],
   "source": [
    "import numpy as np\n",
    "import pandas as pd\n",
    "import matplotlib as mpl\n",
    "import matplotlib.pyplot as plt\n",
    "import seaborn as sns"
   ]
  },
  {
   "cell_type": "markdown",
   "id": "c287f648",
   "metadata": {
    "id": "c287f648"
   },
   "source": [
    "Next we import the datasets. This is in perticular the dataset of the city Chicago of the year 2019 and the associated weather data. We do this with the library Pandas, therefore both datasets have now the datatype \"Pandas Dataframe\" ([documentation](https://pandas.pydata.org/docs/reference/frame.html))."
   ]
  },
  {
   "cell_type": "code",
   "execution_count": 2,
   "id": "0bcfd986",
   "metadata": {
    "id": "0bcfd986"
   },
   "outputs": [],
   "source": [
    "chicago_set = pd.read_csv('chicago_2019.csv')\n",
    "weather_set = pd.read_csv('weather_hourly_chicago.csv')"
   ]
  },
  {
   "cell_type": "markdown",
   "id": "83ddc03b",
   "metadata": {
    "id": "83ddc03b"
   },
   "source": [
    "We use the commands head() and info() to get a feeling for the data"
   ]
  },
  {
   "cell_type": "code",
   "execution_count": 3,
   "id": "e6024bfd",
   "metadata": {
    "id": "e6024bfd",
    "outputId": "e8de8fa0-5d71-4e76-9bb2-900e45e7f7a1",
    "scrolled": true
   },
   "outputs": [
    {
     "data": {
      "text/html": [
       "<div>\n",
       "<style scoped>\n",
       "    .dataframe tbody tr th:only-of-type {\n",
       "        vertical-align: middle;\n",
       "    }\n",
       "\n",
       "    .dataframe tbody tr th {\n",
       "        vertical-align: top;\n",
       "    }\n",
       "\n",
       "    .dataframe thead th {\n",
       "        text-align: right;\n",
       "    }\n",
       "</style>\n",
       "<table border=\"1\" class=\"dataframe\">\n",
       "  <thead>\n",
       "    <tr style=\"text-align: right;\">\n",
       "      <th></th>\n",
       "      <th>start_time</th>\n",
       "      <th>end_time</th>\n",
       "      <th>start_station_id</th>\n",
       "      <th>end_station_id</th>\n",
       "      <th>start_station_name</th>\n",
       "      <th>end_station_name</th>\n",
       "      <th>bike_id</th>\n",
       "      <th>user_type</th>\n",
       "    </tr>\n",
       "  </thead>\n",
       "  <tbody>\n",
       "    <tr>\n",
       "      <th>0</th>\n",
       "      <td>2019-01-01 00:04:37</td>\n",
       "      <td>2019-01-01 00:11:07</td>\n",
       "      <td>199</td>\n",
       "      <td>84</td>\n",
       "      <td>Wabash Ave &amp; Grand Ave</td>\n",
       "      <td>Milwaukee Ave &amp; Grand Ave</td>\n",
       "      <td>2167</td>\n",
       "      <td>Subscriber</td>\n",
       "    </tr>\n",
       "    <tr>\n",
       "      <th>1</th>\n",
       "      <td>2019-01-01 00:08:13</td>\n",
       "      <td>2019-01-01 00:15:34</td>\n",
       "      <td>44</td>\n",
       "      <td>624</td>\n",
       "      <td>State St &amp; Randolph St</td>\n",
       "      <td>Dearborn St &amp; Van Buren St (*)</td>\n",
       "      <td>4386</td>\n",
       "      <td>Subscriber</td>\n",
       "    </tr>\n",
       "    <tr>\n",
       "      <th>2</th>\n",
       "      <td>2019-01-01 00:13:23</td>\n",
       "      <td>2019-01-01 00:27:12</td>\n",
       "      <td>15</td>\n",
       "      <td>644</td>\n",
       "      <td>Racine Ave &amp; 18th St</td>\n",
       "      <td>Western Ave &amp; Fillmore St (*)</td>\n",
       "      <td>1524</td>\n",
       "      <td>Subscriber</td>\n",
       "    </tr>\n",
       "    <tr>\n",
       "      <th>3</th>\n",
       "      <td>2019-01-01 00:13:45</td>\n",
       "      <td>2019-01-01 00:43:28</td>\n",
       "      <td>123</td>\n",
       "      <td>176</td>\n",
       "      <td>California Ave &amp; Milwaukee Ave</td>\n",
       "      <td>Clark St &amp; Elm St</td>\n",
       "      <td>252</td>\n",
       "      <td>Subscriber</td>\n",
       "    </tr>\n",
       "    <tr>\n",
       "      <th>4</th>\n",
       "      <td>2019-01-01 00:14:52</td>\n",
       "      <td>2019-01-01 00:20:56</td>\n",
       "      <td>173</td>\n",
       "      <td>35</td>\n",
       "      <td>Mies van der Rohe Way &amp; Chicago Ave</td>\n",
       "      <td>Streeter Dr &amp; Grand Ave</td>\n",
       "      <td>1170</td>\n",
       "      <td>Subscriber</td>\n",
       "    </tr>\n",
       "  </tbody>\n",
       "</table>\n",
       "</div>"
      ],
      "text/plain": [
       "            start_time             end_time  start_station_id  end_station_id  \\\n",
       "0  2019-01-01 00:04:37  2019-01-01 00:11:07               199              84   \n",
       "1  2019-01-01 00:08:13  2019-01-01 00:15:34                44             624   \n",
       "2  2019-01-01 00:13:23  2019-01-01 00:27:12                15             644   \n",
       "3  2019-01-01 00:13:45  2019-01-01 00:43:28               123             176   \n",
       "4  2019-01-01 00:14:52  2019-01-01 00:20:56               173              35   \n",
       "\n",
       "                    start_station_name                end_station_name  \\\n",
       "0               Wabash Ave & Grand Ave       Milwaukee Ave & Grand Ave   \n",
       "1               State St & Randolph St  Dearborn St & Van Buren St (*)   \n",
       "2                 Racine Ave & 18th St   Western Ave & Fillmore St (*)   \n",
       "3       California Ave & Milwaukee Ave               Clark St & Elm St   \n",
       "4  Mies van der Rohe Way & Chicago Ave         Streeter Dr & Grand Ave   \n",
       "\n",
       "   bike_id   user_type  \n",
       "0     2167  Subscriber  \n",
       "1     4386  Subscriber  \n",
       "2     1524  Subscriber  \n",
       "3      252  Subscriber  \n",
       "4     1170  Subscriber  "
      ]
     },
     "execution_count": 3,
     "metadata": {},
     "output_type": "execute_result"
    }
   ],
   "source": [
    "chicago_set.head()"
   ]
  },
  {
   "cell_type": "code",
   "execution_count": 4,
   "id": "49d74cf8",
   "metadata": {
    "id": "49d74cf8",
    "outputId": "1732f017-8e8a-491b-d51d-c8e584a3e784",
    "scrolled": true
   },
   "outputs": [
    {
     "name": "stdout",
     "output_type": "stream",
     "text": [
      "<class 'pandas.core.frame.DataFrame'>\n",
      "RangeIndex: 3818004 entries, 0 to 3818003\n",
      "Data columns (total 8 columns):\n",
      " #   Column              Dtype \n",
      "---  ------              ----- \n",
      " 0   start_time          object\n",
      " 1   end_time            object\n",
      " 2   start_station_id    int64 \n",
      " 3   end_station_id      int64 \n",
      " 4   start_station_name  object\n",
      " 5   end_station_name    object\n",
      " 6   bike_id             int64 \n",
      " 7   user_type           object\n",
      "dtypes: int64(3), object(5)\n",
      "memory usage: 233.0+ MB\n"
     ]
    }
   ],
   "source": [
    "chicago_set.info()"
   ]
  },
  {
   "cell_type": "markdown",
   "id": "a080324c",
   "metadata": {
    "id": "a080324c"
   },
   "source": [
    "So we know that we have a dataset with 3.8 million entries and we have multiple columns, two columns for the time (*start_time and end_time*), four columns for the location (*start_station_id, end_station_id and the respective names*) and the *bike_id* and *user_type*. "
   ]
  },
  {
   "cell_type": "code",
   "execution_count": 5,
   "id": "dd0ad6ad",
   "metadata": {
    "id": "dd0ad6ad",
    "outputId": "106b67a5-557f-4215-c049-dfe6eb556cce"
   },
   "outputs": [
    {
     "name": "stdout",
     "output_type": "stream",
     "text": [
      "<class 'pandas.core.frame.DataFrame'>\n",
      "RangeIndex: 43848 entries, 0 to 43847\n",
      "Data columns (total 4 columns):\n",
      " #   Column     Non-Null Count  Dtype  \n",
      "---  ------     --------------  -----  \n",
      " 0   date_time  43788 non-null  object \n",
      " 1   max_temp   43788 non-null  float64\n",
      " 2   min_temp   43788 non-null  float64\n",
      " 3   precip     43790 non-null  float64\n",
      "dtypes: float64(3), object(1)\n",
      "memory usage: 1.3+ MB\n"
     ]
    }
   ],
   "source": [
    "weather_set.info()"
   ]
  },
  {
   "cell_type": "markdown",
   "id": "00c0f31c",
   "metadata": {
    "id": "00c0f31c"
   },
   "source": [
    "We first investigate the time data we got. Therefore, we need to transform the data type of the columns \"*start_time*\" and \"*end_time*\" from String to Panda Datetime. This allows us in the following code snippet to add another column to our dataframe which we call *duration*. This is the difference between the end_time and the start_time. "
   ]
  },
  {
   "cell_type": "code",
   "execution_count": 6,
   "id": "ab2ca06e",
   "metadata": {
    "id": "ab2ca06e",
    "outputId": "43b671ba-38d6-4bc0-fdac-4becd8c0ec33"
   },
   "outputs": [
    {
     "data": {
      "text/html": [
       "<div>\n",
       "<style scoped>\n",
       "    .dataframe tbody tr th:only-of-type {\n",
       "        vertical-align: middle;\n",
       "    }\n",
       "\n",
       "    .dataframe tbody tr th {\n",
       "        vertical-align: top;\n",
       "    }\n",
       "\n",
       "    .dataframe thead th {\n",
       "        text-align: right;\n",
       "    }\n",
       "</style>\n",
       "<table border=\"1\" class=\"dataframe\">\n",
       "  <thead>\n",
       "    <tr style=\"text-align: right;\">\n",
       "      <th></th>\n",
       "      <th>start_station_id</th>\n",
       "      <th>end_station_id</th>\n",
       "      <th>bike_id</th>\n",
       "      <th>duration</th>\n",
       "    </tr>\n",
       "  </thead>\n",
       "  <tbody>\n",
       "    <tr>\n",
       "      <th>count</th>\n",
       "      <td>3.818004e+06</td>\n",
       "      <td>3.818004e+06</td>\n",
       "      <td>3.818004e+06</td>\n",
       "      <td>3818004</td>\n",
       "    </tr>\n",
       "    <tr>\n",
       "      <th>mean</th>\n",
       "      <td>2.016659e+02</td>\n",
       "      <td>2.026363e+02</td>\n",
       "      <td>3.380252e+03</td>\n",
       "      <td>0 days 00:24:10.451397903</td>\n",
       "    </tr>\n",
       "    <tr>\n",
       "      <th>std</th>\n",
       "      <td>1.560798e+02</td>\n",
       "      <td>1.562388e+02</td>\n",
       "      <td>1.902511e+03</td>\n",
       "      <td>0 days 08:17:32.263421746</td>\n",
       "    </tr>\n",
       "    <tr>\n",
       "      <th>min</th>\n",
       "      <td>1.000000e+00</td>\n",
       "      <td>1.000000e+00</td>\n",
       "      <td>1.000000e+00</td>\n",
       "      <td>-1 days +23:03:38</td>\n",
       "    </tr>\n",
       "    <tr>\n",
       "      <th>25%</th>\n",
       "      <td>7.700000e+01</td>\n",
       "      <td>7.700000e+01</td>\n",
       "      <td>1.727000e+03</td>\n",
       "      <td>0 days 00:06:51</td>\n",
       "    </tr>\n",
       "    <tr>\n",
       "      <th>50%</th>\n",
       "      <td>1.740000e+02</td>\n",
       "      <td>1.740000e+02</td>\n",
       "      <td>3.451000e+03</td>\n",
       "      <td>0 days 00:11:49</td>\n",
       "    </tr>\n",
       "    <tr>\n",
       "      <th>75%</th>\n",
       "      <td>2.890000e+02</td>\n",
       "      <td>2.910000e+02</td>\n",
       "      <td>5.046000e+03</td>\n",
       "      <td>0 days 00:21:24</td>\n",
       "    </tr>\n",
       "    <tr>\n",
       "      <th>max</th>\n",
       "      <td>6.730000e+02</td>\n",
       "      <td>6.730000e+02</td>\n",
       "      <td>6.946000e+03</td>\n",
       "      <td>123 days 01:20:22</td>\n",
       "    </tr>\n",
       "  </tbody>\n",
       "</table>\n",
       "</div>"
      ],
      "text/plain": [
       "       start_station_id  end_station_id       bike_id  \\\n",
       "count      3.818004e+06    3.818004e+06  3.818004e+06   \n",
       "mean       2.016659e+02    2.026363e+02  3.380252e+03   \n",
       "std        1.560798e+02    1.562388e+02  1.902511e+03   \n",
       "min        1.000000e+00    1.000000e+00  1.000000e+00   \n",
       "25%        7.700000e+01    7.700000e+01  1.727000e+03   \n",
       "50%        1.740000e+02    1.740000e+02  3.451000e+03   \n",
       "75%        2.890000e+02    2.910000e+02  5.046000e+03   \n",
       "max        6.730000e+02    6.730000e+02  6.946000e+03   \n",
       "\n",
       "                        duration  \n",
       "count                    3818004  \n",
       "mean   0 days 00:24:10.451397903  \n",
       "std    0 days 08:17:32.263421746  \n",
       "min            -1 days +23:03:38  \n",
       "25%              0 days 00:06:51  \n",
       "50%              0 days 00:11:49  \n",
       "75%              0 days 00:21:24  \n",
       "max            123 days 01:20:22  "
      ]
     },
     "execution_count": 6,
     "metadata": {},
     "output_type": "execute_result"
    }
   ],
   "source": [
    "chicago_set['start_time'] = pd.to_datetime(chicago_set['start_time'])\n",
    "chicago_set['end_time'] = pd.to_datetime(chicago_set['end_time'])\n",
    "\n",
    "chicago_set['duration'] = chicago_set['end_time'] - chicago_set['start_time']\n",
    "chicago_set.describe()"
   ]
  },
  {
   "cell_type": "markdown",
   "id": "adc1449b",
   "metadata": {
    "id": "adc1449b"
   },
   "source": [
    "We calculated the duration of the rides and see that the maximum duration of a ride was over 123 days. We can assume that there a other cases where the data is inconclusive, therefore we will clean our dataset and delete those wrong outliners."
   ]
  },
  {
   "cell_type": "markdown",
   "id": "45fd64fa",
   "metadata": {
    "id": "45fd64fa"
   },
   "source": [
    "## Cleaning up our data"
   ]
  },
  {
   "cell_type": "markdown",
   "id": "426ab82d",
   "metadata": {
    "id": "426ab82d"
   },
   "source": [
    "### Examples of invalid data"
   ]
  },
  {
   "cell_type": "code",
   "execution_count": 7,
   "id": "a9425271",
   "metadata": {
    "id": "a9425271",
    "outputId": "3b98b302-c51e-49e7-ac1c-57e56df47cf0"
   },
   "outputs": [
    {
     "data": {
      "text/html": [
       "<div>\n",
       "<style scoped>\n",
       "    .dataframe tbody tr th:only-of-type {\n",
       "        vertical-align: middle;\n",
       "    }\n",
       "\n",
       "    .dataframe tbody tr th {\n",
       "        vertical-align: top;\n",
       "    }\n",
       "\n",
       "    .dataframe thead th {\n",
       "        text-align: right;\n",
       "    }\n",
       "</style>\n",
       "<table border=\"1\" class=\"dataframe\">\n",
       "  <thead>\n",
       "    <tr style=\"text-align: right;\">\n",
       "      <th></th>\n",
       "      <th>start_time</th>\n",
       "      <th>end_time</th>\n",
       "      <th>start_station_id</th>\n",
       "      <th>end_station_id</th>\n",
       "      <th>start_station_name</th>\n",
       "      <th>end_station_name</th>\n",
       "      <th>bike_id</th>\n",
       "      <th>user_type</th>\n",
       "      <th>duration</th>\n",
       "    </tr>\n",
       "  </thead>\n",
       "  <tbody>\n",
       "    <tr>\n",
       "      <th>1404051</th>\n",
       "      <td>2019-06-27 08:22:05</td>\n",
       "      <td>2019-06-28 15:41:31</td>\n",
       "      <td>590</td>\n",
       "      <td>499</td>\n",
       "      <td>Kilbourn Ave &amp; Irving Park Rd</td>\n",
       "      <td>Kosciuszko Park</td>\n",
       "      <td>6190</td>\n",
       "      <td>Subscriber</td>\n",
       "      <td>1 days 07:19:26</td>\n",
       "    </tr>\n",
       "    <tr>\n",
       "      <th>2296130</th>\n",
       "      <td>2019-08-14 08:36:31</td>\n",
       "      <td>2019-08-16 11:36:58</td>\n",
       "      <td>32</td>\n",
       "      <td>71</td>\n",
       "      <td>Racine Ave &amp; Congress Pkwy</td>\n",
       "      <td>Morgan St &amp; Lake St</td>\n",
       "      <td>3962</td>\n",
       "      <td>Customer</td>\n",
       "      <td>2 days 03:00:27</td>\n",
       "    </tr>\n",
       "    <tr>\n",
       "      <th>3793402</th>\n",
       "      <td>2019-12-24 19:06:46</td>\n",
       "      <td>2019-12-30 08:21:19</td>\n",
       "      <td>306</td>\n",
       "      <td>13</td>\n",
       "      <td>Sheridan Rd &amp; Buena Ave</td>\n",
       "      <td>Wilton Ave &amp; Diversey Pkwy</td>\n",
       "      <td>2435</td>\n",
       "      <td>Customer</td>\n",
       "      <td>5 days 13:14:33</td>\n",
       "    </tr>\n",
       "    <tr>\n",
       "      <th>361097</th>\n",
       "      <td>2019-03-30 16:07:53</td>\n",
       "      <td>2019-03-31 17:50:01</td>\n",
       "      <td>638</td>\n",
       "      <td>134</td>\n",
       "      <td>Clinton St &amp; Jackson Blvd (*)</td>\n",
       "      <td>Peoria St &amp; Jackson Blvd</td>\n",
       "      <td>3636</td>\n",
       "      <td>Subscriber</td>\n",
       "      <td>1 days 01:42:08</td>\n",
       "    </tr>\n",
       "    <tr>\n",
       "      <th>2539810</th>\n",
       "      <td>2019-08-27 17:41:13</td>\n",
       "      <td>2019-09-06 10:11:01</td>\n",
       "      <td>197</td>\n",
       "      <td>571</td>\n",
       "      <td>Michigan Ave &amp; Madison St</td>\n",
       "      <td>Vernon Ave &amp; 75th St</td>\n",
       "      <td>497</td>\n",
       "      <td>Customer</td>\n",
       "      <td>9 days 16:29:48</td>\n",
       "    </tr>\n",
       "  </tbody>\n",
       "</table>\n",
       "</div>"
      ],
      "text/plain": [
       "                 start_time            end_time  start_station_id  \\\n",
       "1404051 2019-06-27 08:22:05 2019-06-28 15:41:31               590   \n",
       "2296130 2019-08-14 08:36:31 2019-08-16 11:36:58                32   \n",
       "3793402 2019-12-24 19:06:46 2019-12-30 08:21:19               306   \n",
       "361097  2019-03-30 16:07:53 2019-03-31 17:50:01               638   \n",
       "2539810 2019-08-27 17:41:13 2019-09-06 10:11:01               197   \n",
       "\n",
       "         end_station_id             start_station_name  \\\n",
       "1404051             499  Kilbourn Ave & Irving Park Rd   \n",
       "2296130              71     Racine Ave & Congress Pkwy   \n",
       "3793402              13        Sheridan Rd & Buena Ave   \n",
       "361097              134  Clinton St & Jackson Blvd (*)   \n",
       "2539810             571      Michigan Ave & Madison St   \n",
       "\n",
       "                   end_station_name  bike_id   user_type        duration  \n",
       "1404051             Kosciuszko Park     6190  Subscriber 1 days 07:19:26  \n",
       "2296130         Morgan St & Lake St     3962    Customer 2 days 03:00:27  \n",
       "3793402  Wilton Ave & Diversey Pkwy     2435    Customer 5 days 13:14:33  \n",
       "361097     Peoria St & Jackson Blvd     3636  Subscriber 1 days 01:42:08  \n",
       "2539810        Vernon Ave & 75th St      497    Customer 9 days 16:29:48  "
      ]
     },
     "execution_count": 7,
     "metadata": {},
     "output_type": "execute_result"
    }
   ],
   "source": [
    "import datetime\n",
    "chicago_set[chicago_set['duration'] >= datetime.timedelta(days=1)].sample(n=5)"
   ]
  },
  {
   "cell_type": "code",
   "execution_count": 8,
   "id": "0f185caf",
   "metadata": {
    "id": "0f185caf",
    "outputId": "f2ef49c1-033f-421a-c781-9177aa9c4507"
   },
   "outputs": [
    {
     "data": {
      "text/html": [
       "<div>\n",
       "<style scoped>\n",
       "    .dataframe tbody tr th:only-of-type {\n",
       "        vertical-align: middle;\n",
       "    }\n",
       "\n",
       "    .dataframe tbody tr th {\n",
       "        vertical-align: top;\n",
       "    }\n",
       "\n",
       "    .dataframe thead th {\n",
       "        text-align: right;\n",
       "    }\n",
       "</style>\n",
       "<table border=\"1\" class=\"dataframe\">\n",
       "  <thead>\n",
       "    <tr style=\"text-align: right;\">\n",
       "      <th></th>\n",
       "      <th>start_time</th>\n",
       "      <th>end_time</th>\n",
       "      <th>start_station_id</th>\n",
       "      <th>end_station_id</th>\n",
       "      <th>start_station_name</th>\n",
       "      <th>end_station_name</th>\n",
       "      <th>bike_id</th>\n",
       "      <th>user_type</th>\n",
       "      <th>duration</th>\n",
       "    </tr>\n",
       "  </thead>\n",
       "  <tbody>\n",
       "    <tr>\n",
       "      <th>3498439</th>\n",
       "      <td>2019-11-03 01:51:59</td>\n",
       "      <td>2019-11-03 01:03:02</td>\n",
       "      <td>460</td>\n",
       "      <td>238</td>\n",
       "      <td>Clark St &amp; Bryn Mawr Ave</td>\n",
       "      <td>Wolcott (Ravenswood) Ave &amp; Montrose Ave</td>\n",
       "      <td>2920</td>\n",
       "      <td>Subscriber</td>\n",
       "      <td>-1 days +23:11:03</td>\n",
       "    </tr>\n",
       "    <tr>\n",
       "      <th>3498437</th>\n",
       "      <td>2019-11-03 01:50:31</td>\n",
       "      <td>2019-11-03 01:04:25</td>\n",
       "      <td>298</td>\n",
       "      <td>258</td>\n",
       "      <td>Lincoln Ave &amp; Belle Plaine Ave</td>\n",
       "      <td>Logan Blvd &amp; Elston Ave</td>\n",
       "      <td>4179</td>\n",
       "      <td>Subscriber</td>\n",
       "      <td>-1 days +23:13:54</td>\n",
       "    </tr>\n",
       "    <tr>\n",
       "      <th>3498443</th>\n",
       "      <td>2019-11-03 01:53:24</td>\n",
       "      <td>2019-11-03 01:06:08</td>\n",
       "      <td>484</td>\n",
       "      <td>484</td>\n",
       "      <td>Monticello Ave &amp; Irving Park Rd</td>\n",
       "      <td>Monticello Ave &amp; Irving Park Rd</td>\n",
       "      <td>3984</td>\n",
       "      <td>Customer</td>\n",
       "      <td>-1 days +23:12:44</td>\n",
       "    </tr>\n",
       "    <tr>\n",
       "      <th>3498441</th>\n",
       "      <td>2019-11-03 01:53:08</td>\n",
       "      <td>2019-11-03 01:04:53</td>\n",
       "      <td>177</td>\n",
       "      <td>327</td>\n",
       "      <td>Theater on the Lake</td>\n",
       "      <td>Sheffield Ave &amp; Webster Ave</td>\n",
       "      <td>2142</td>\n",
       "      <td>Customer</td>\n",
       "      <td>-1 days +23:11:45</td>\n",
       "    </tr>\n",
       "    <tr>\n",
       "      <th>3498433</th>\n",
       "      <td>2019-11-03 01:46:01</td>\n",
       "      <td>2019-11-03 01:10:44</td>\n",
       "      <td>373</td>\n",
       "      <td>498</td>\n",
       "      <td>Kedzie Ave &amp; Chicago Ave</td>\n",
       "      <td>California Ave &amp; Fletcher St</td>\n",
       "      <td>6329</td>\n",
       "      <td>Customer</td>\n",
       "      <td>-1 days +23:24:43</td>\n",
       "    </tr>\n",
       "  </tbody>\n",
       "</table>\n",
       "</div>"
      ],
      "text/plain": [
       "                 start_time            end_time  start_station_id  \\\n",
       "3498439 2019-11-03 01:51:59 2019-11-03 01:03:02               460   \n",
       "3498437 2019-11-03 01:50:31 2019-11-03 01:04:25               298   \n",
       "3498443 2019-11-03 01:53:24 2019-11-03 01:06:08               484   \n",
       "3498441 2019-11-03 01:53:08 2019-11-03 01:04:53               177   \n",
       "3498433 2019-11-03 01:46:01 2019-11-03 01:10:44               373   \n",
       "\n",
       "         end_station_id               start_station_name  \\\n",
       "3498439             238         Clark St & Bryn Mawr Ave   \n",
       "3498437             258   Lincoln Ave & Belle Plaine Ave   \n",
       "3498443             484  Monticello Ave & Irving Park Rd   \n",
       "3498441             327              Theater on the Lake   \n",
       "3498433             498         Kedzie Ave & Chicago Ave   \n",
       "\n",
       "                                end_station_name  bike_id   user_type  \\\n",
       "3498439  Wolcott (Ravenswood) Ave & Montrose Ave     2920  Subscriber   \n",
       "3498437                  Logan Blvd & Elston Ave     4179  Subscriber   \n",
       "3498443          Monticello Ave & Irving Park Rd     3984    Customer   \n",
       "3498441              Sheffield Ave & Webster Ave     2142    Customer   \n",
       "3498433             California Ave & Fletcher St     6329    Customer   \n",
       "\n",
       "                 duration  \n",
       "3498439 -1 days +23:11:03  \n",
       "3498437 -1 days +23:13:54  \n",
       "3498443 -1 days +23:12:44  \n",
       "3498441 -1 days +23:11:45  \n",
       "3498433 -1 days +23:24:43  "
      ]
     },
     "execution_count": 8,
     "metadata": {},
     "output_type": "execute_result"
    }
   ],
   "source": [
    "chicago_set[chicago_set['duration'] <= datetime.timedelta(days=0)].sample(n=5)"
   ]
  },
  {
   "cell_type": "markdown",
   "id": "18a6f42b",
   "metadata": {
    "id": "18a6f42b"
   },
   "source": [
    "### Visualization of different quantile deletion of outlierts & invalid data from our data set"
   ]
  },
  {
   "cell_type": "code",
   "execution_count": 9,
   "id": "cffc04b6",
   "metadata": {
    "id": "cffc04b6",
    "outputId": "90573934-3b34-47fe-a067-0cba38f80e4f"
   },
   "outputs": [
    {
     "name": "stdout",
     "output_type": "stream",
     "text": [
      "(0.125% Quantile) All trips with a duration outside of 0 days 00:01:19 to 0 days 09:01:02.970000002 will be removed!\n",
      "That is 9263 out of 3818004 entries!\n"
     ]
    },
    {
     "data": {
      "image/png": "[encoded data removed]",
      "text/plain": [
       "<Figure size 432x288 with 1 Axes>"
      ]
     },
     "metadata": {
      "needs_background": "light"
     },
     "output_type": "display_data"
    },
    {
     "name": "stdout",
     "output_type": "stream",
     "text": [
      "count                      3808741\n",
      "mean     0 days 00:18:22.340564506\n",
      "std      0 days 00:23:21.735330331\n",
      "min                0 days 00:01:19\n",
      "25%                0 days 00:06:52\n",
      "50%                0 days 00:11:49\n",
      "75%                0 days 00:21:21\n",
      "max                0 days 09:00:59\n",
      "Name: duration, dtype: object\n",
      "\n",
      "(0.25% Quantile) All trips with a duration outside of 0 days 00:01:33 to 0 days 03:48:11.992500 will be removed!\n",
      "That is 19025 out of 3818004 entries!\n"
     ]
    },
    {
     "data": {
      "image/png": "[encoded data removed]",
      "text/plain": [
       "<Figure size 432x288 with 1 Axes>"
      ]
     },
     "metadata": {
      "needs_background": "light"
     },
     "output_type": "display_data"
    },
    {
     "name": "stdout",
     "output_type": "stream",
     "text": [
      "count                      3798979\n",
      "mean     0 days 00:18:00.690816927\n",
      "std      0 days 00:20:31.001258644\n",
      "min                0 days 00:01:33\n",
      "25%                0 days 00:06:53\n",
      "50%                0 days 00:11:49\n",
      "75%                0 days 00:21:19\n",
      "max                0 days 03:48:11\n",
      "Name: duration, dtype: object\n",
      "\n",
      "(0.5% Quantile) All trips with a duration outside of 0 days 00:01:49 to 0 days 02:42:28 will be removed!\n",
      "That is 37931 out of 3818004 entries!\n"
     ]
    },
    {
     "data": {
      "image/png": "[encoded data removed]",
      "text/plain": [
       "<Figure size 432x288 with 1 Axes>"
      ]
     },
     "metadata": {
      "needs_background": "light"
     },
     "output_type": "display_data"
    },
    {
     "name": "stdout",
     "output_type": "stream",
     "text": [
      "count                      3780073\n",
      "mean     0 days 00:17:37.940601940\n",
      "std      0 days 00:18:45.168339717\n",
      "min                0 days 00:01:49\n",
      "25%                0 days 00:06:54\n",
      "50%                0 days 00:11:49\n",
      "75%                0 days 00:21:15\n",
      "max                0 days 02:42:28\n",
      "Name: duration, dtype: object\n",
      "\n"
     ]
    }
   ],
   "source": [
    "%matplotlib inline\n",
    "# Data to remove from top and bottom\n",
    "def get_outside_time_frame_data(df, dt_column, lower_bound, upper_bound):\n",
    "    return df[(df[dt_column] < lower_bound) | (df[dt_column] > upper_bound)]\n",
    "\n",
    "quantiles = [0.00125, 0.0025, 0.005] # (0.125%; 0.25%; 0.5%) * 2\n",
    "for quantile in quantiles:\n",
    "    # amount = len(chicago_set[(chicago_set['duration'] < chicago_set.duration.quantile(quantile)) | (chicago_set['duration'] > chicago_set.duration.quantile(1 - quantile))])\n",
    "    lower_bound = chicago_set.duration.quantile(quantile)\n",
    "    upper_bound = chicago_set.duration.quantile(1 - quantile)\n",
    "    amount = get_outside_time_frame_data(chicago_set, 'duration', lower_bound, upper_bound)\n",
    "    print('(' + str(quantile*100) + '% Quantile) All trips with a duration outside of ' + str(lower_bound) + ' to ' + str(upper_bound) + ' will be removed!')\n",
    "    print('That is ' + str(len(amount)) + ' out of ' + str(len(chicago_set)) + ' entries!')\n",
    "    chicago_set_clean = chicago_set.drop(amount.index)\n",
    "    plt.hist(chicago_set_clean['duration']/pd.Timedelta(minutes=1), bins=100)\n",
    "    plt.show()\n",
    "    print(str(chicago_set_clean['duration'].describe()) + '\\n')"
   ]
  },
  {
   "cell_type": "markdown",
   "id": "256b79d3",
   "metadata": {
    "id": "256b79d3"
   },
   "source": [
    "# Analysis of the adjusted dataset"
   ]
  },
  {
   "cell_type": "markdown",
   "id": "387eaba1",
   "metadata": {},
   "source": [
    "In the next steps we want to visualize the following parts amount_of_rides_per_weekday, amoun_of_rides_per_month, rides_per_hour (here we could add the average duration per month/weekday/hour), amount_of_rides_from_station, amount_of_rides_to_station (later more clearly visualized with a heatmap). Further possible visualizations could be average_duration_per_start_station. We could add an inverse curve which is the available fleetsize per unit which is the result of the substraction of the rides/hour and the overall fleetsize."
   ]
  },
  {
   "cell_type": "markdown",
   "id": "853bb668",
   "metadata": {},
   "source": [
    "## Analysis of the time components"
   ]
  },
  {
   "cell_type": "markdown",
   "id": "1b01f985",
   "metadata": {
    "id": "1b01f985"
   },
   "source": [
    "### Extract week day as String and numeral from start time"
   ]
  },
  {
   "cell_type": "code",
   "execution_count": 10,
   "id": "fef626da",
   "metadata": {
    "id": "fef626da",
    "outputId": "891de080-2706-47ba-dc82-03d7d0714f28"
   },
   "outputs": [
    {
     "data": {
      "text/html": [
       "<div>\n",
       "<style scoped>\n",
       "    .dataframe tbody tr th:only-of-type {\n",
       "        vertical-align: middle;\n",
       "    }\n",
       "\n",
       "    .dataframe tbody tr th {\n",
       "        vertical-align: top;\n",
       "    }\n",
       "\n",
       "    .dataframe thead th {\n",
       "        text-align: right;\n",
       "    }\n",
       "</style>\n",
       "<table border=\"1\" class=\"dataframe\">\n",
       "  <thead>\n",
       "    <tr style=\"text-align: right;\">\n",
       "      <th></th>\n",
       "      <th>start_time</th>\n",
       "      <th>end_time</th>\n",
       "      <th>start_station_id</th>\n",
       "      <th>end_station_id</th>\n",
       "      <th>start_station_name</th>\n",
       "      <th>end_station_name</th>\n",
       "      <th>bike_id</th>\n",
       "      <th>user_type</th>\n",
       "      <th>duration</th>\n",
       "      <th>day_of_week_name</th>\n",
       "      <th>day_of_week</th>\n",
       "    </tr>\n",
       "  </thead>\n",
       "  <tbody>\n",
       "    <tr>\n",
       "      <th>0</th>\n",
       "      <td>2019-01-01 00:04:37</td>\n",
       "      <td>2019-01-01 00:11:07</td>\n",
       "      <td>199</td>\n",
       "      <td>84</td>\n",
       "      <td>Wabash Ave &amp; Grand Ave</td>\n",
       "      <td>Milwaukee Ave &amp; Grand Ave</td>\n",
       "      <td>2167</td>\n",
       "      <td>Subscriber</td>\n",
       "      <td>0 days 00:06:30</td>\n",
       "      <td>Tuesday</td>\n",
       "      <td>1</td>\n",
       "    </tr>\n",
       "    <tr>\n",
       "      <th>1</th>\n",
       "      <td>2019-01-01 00:08:13</td>\n",
       "      <td>2019-01-01 00:15:34</td>\n",
       "      <td>44</td>\n",
       "      <td>624</td>\n",
       "      <td>State St &amp; Randolph St</td>\n",
       "      <td>Dearborn St &amp; Van Buren St (*)</td>\n",
       "      <td>4386</td>\n",
       "      <td>Subscriber</td>\n",
       "      <td>0 days 00:07:21</td>\n",
       "      <td>Tuesday</td>\n",
       "      <td>1</td>\n",
       "    </tr>\n",
       "    <tr>\n",
       "      <th>2</th>\n",
       "      <td>2019-01-01 00:13:23</td>\n",
       "      <td>2019-01-01 00:27:12</td>\n",
       "      <td>15</td>\n",
       "      <td>644</td>\n",
       "      <td>Racine Ave &amp; 18th St</td>\n",
       "      <td>Western Ave &amp; Fillmore St (*)</td>\n",
       "      <td>1524</td>\n",
       "      <td>Subscriber</td>\n",
       "      <td>0 days 00:13:49</td>\n",
       "      <td>Tuesday</td>\n",
       "      <td>1</td>\n",
       "    </tr>\n",
       "    <tr>\n",
       "      <th>3</th>\n",
       "      <td>2019-01-01 00:13:45</td>\n",
       "      <td>2019-01-01 00:43:28</td>\n",
       "      <td>123</td>\n",
       "      <td>176</td>\n",
       "      <td>California Ave &amp; Milwaukee Ave</td>\n",
       "      <td>Clark St &amp; Elm St</td>\n",
       "      <td>252</td>\n",
       "      <td>Subscriber</td>\n",
       "      <td>0 days 00:29:43</td>\n",
       "      <td>Tuesday</td>\n",
       "      <td>1</td>\n",
       "    </tr>\n",
       "    <tr>\n",
       "      <th>4</th>\n",
       "      <td>2019-01-01 00:14:52</td>\n",
       "      <td>2019-01-01 00:20:56</td>\n",
       "      <td>173</td>\n",
       "      <td>35</td>\n",
       "      <td>Mies van der Rohe Way &amp; Chicago Ave</td>\n",
       "      <td>Streeter Dr &amp; Grand Ave</td>\n",
       "      <td>1170</td>\n",
       "      <td>Subscriber</td>\n",
       "      <td>0 days 00:06:04</td>\n",
       "      <td>Tuesday</td>\n",
       "      <td>1</td>\n",
       "    </tr>\n",
       "  </tbody>\n",
       "</table>\n",
       "</div>"
      ],
      "text/plain": [
       "           start_time            end_time  start_station_id  end_station_id  \\\n",
       "0 2019-01-01 00:04:37 2019-01-01 00:11:07               199              84   \n",
       "1 2019-01-01 00:08:13 2019-01-01 00:15:34                44             624   \n",
       "2 2019-01-01 00:13:23 2019-01-01 00:27:12                15             644   \n",
       "3 2019-01-01 00:13:45 2019-01-01 00:43:28               123             176   \n",
       "4 2019-01-01 00:14:52 2019-01-01 00:20:56               173              35   \n",
       "\n",
       "                    start_station_name                end_station_name  \\\n",
       "0               Wabash Ave & Grand Ave       Milwaukee Ave & Grand Ave   \n",
       "1               State St & Randolph St  Dearborn St & Van Buren St (*)   \n",
       "2                 Racine Ave & 18th St   Western Ave & Fillmore St (*)   \n",
       "3       California Ave & Milwaukee Ave               Clark St & Elm St   \n",
       "4  Mies van der Rohe Way & Chicago Ave         Streeter Dr & Grand Ave   \n",
       "\n",
       "   bike_id   user_type        duration day_of_week_name  day_of_week  \n",
       "0     2167  Subscriber 0 days 00:06:30          Tuesday            1  \n",
       "1     4386  Subscriber 0 days 00:07:21          Tuesday            1  \n",
       "2     1524  Subscriber 0 days 00:13:49          Tuesday            1  \n",
       "3      252  Subscriber 0 days 00:29:43          Tuesday            1  \n",
       "4     1170  Subscriber 0 days 00:06:04          Tuesday            1  "
      ]
     },
     "execution_count": 10,
     "metadata": {},
     "output_type": "execute_result"
    }
   ],
   "source": [
    "chicago_set['day_of_week_name'] = chicago_set['start_time'].dt.day_name()\n",
    "chicago_set['day_of_week'] = chicago_set['start_time'].dt.dayofweek\n",
    "chicago_set.head()"
   ]
  },
  {
   "cell_type": "markdown",
   "id": "a6ff817c",
   "metadata": {
    "id": "a6ff817c"
   },
   "source": [
    "### Hot-encode weekday: turn number for day into boolean"
   ]
  },
  {
   "cell_type": "code",
   "execution_count": 11,
   "id": "40986e02",
   "metadata": {
    "id": "40986e02",
    "outputId": "7c4edd3b-5a46-4c3e-e808-f7f011d463a5"
   },
   "outputs": [
    {
     "data": {
      "text/html": [
       "<div>\n",
       "<style scoped>\n",
       "    .dataframe tbody tr th:only-of-type {\n",
       "        vertical-align: middle;\n",
       "    }\n",
       "\n",
       "    .dataframe tbody tr th {\n",
       "        vertical-align: top;\n",
       "    }\n",
       "\n",
       "    .dataframe thead th {\n",
       "        text-align: right;\n",
       "    }\n",
       "</style>\n",
       "<table border=\"1\" class=\"dataframe\">\n",
       "  <thead>\n",
       "    <tr style=\"text-align: right;\">\n",
       "      <th></th>\n",
       "      <th>start_time</th>\n",
       "      <th>end_time</th>\n",
       "      <th>start_station_id</th>\n",
       "      <th>end_station_id</th>\n",
       "      <th>start_station_name</th>\n",
       "      <th>end_station_name</th>\n",
       "      <th>bike_id</th>\n",
       "      <th>user_type</th>\n",
       "      <th>duration</th>\n",
       "      <th>day_of_week_name</th>\n",
       "      <th>day_of_week</th>\n",
       "      <th>monday</th>\n",
       "      <th>tuesday</th>\n",
       "      <th>wednesday</th>\n",
       "      <th>thursday</th>\n",
       "      <th>friday</th>\n",
       "      <th>saturday</th>\n",
       "    </tr>\n",
       "  </thead>\n",
       "  <tbody>\n",
       "    <tr>\n",
       "      <th>3230729</th>\n",
       "      <td>2019-10-08 21:57:47</td>\n",
       "      <td>2019-10-08 22:05:05</td>\n",
       "      <td>56</td>\n",
       "      <td>186</td>\n",
       "      <td>Desplaines St &amp; Kinzie St</td>\n",
       "      <td>Ogden Ave &amp; Race Ave</td>\n",
       "      <td>2605</td>\n",
       "      <td>Subscriber</td>\n",
       "      <td>0 days 00:07:18</td>\n",
       "      <td>Tuesday</td>\n",
       "      <td>1</td>\n",
       "      <td>0</td>\n",
       "      <td>1</td>\n",
       "      <td>0</td>\n",
       "      <td>0</td>\n",
       "      <td>0</td>\n",
       "      <td>0</td>\n",
       "    </tr>\n",
       "    <tr>\n",
       "      <th>3473266</th>\n",
       "      <td>2019-10-29 16:19:51</td>\n",
       "      <td>2019-10-29 16:40:38</td>\n",
       "      <td>199</td>\n",
       "      <td>67</td>\n",
       "      <td>Wabash Ave &amp; Grand Ave</td>\n",
       "      <td>Sheffield Ave &amp; Fullerton Ave</td>\n",
       "      <td>6344</td>\n",
       "      <td>Subscriber</td>\n",
       "      <td>0 days 00:20:47</td>\n",
       "      <td>Tuesday</td>\n",
       "      <td>1</td>\n",
       "      <td>0</td>\n",
       "      <td>1</td>\n",
       "      <td>0</td>\n",
       "      <td>0</td>\n",
       "      <td>0</td>\n",
       "      <td>0</td>\n",
       "    </tr>\n",
       "    <tr>\n",
       "      <th>1179168</th>\n",
       "      <td>2019-06-12 11:48:35</td>\n",
       "      <td>2019-06-12 11:56:33</td>\n",
       "      <td>414</td>\n",
       "      <td>192</td>\n",
       "      <td>Canal St &amp; Taylor St</td>\n",
       "      <td>Canal St &amp; Adams St</td>\n",
       "      <td>3497</td>\n",
       "      <td>Subscriber</td>\n",
       "      <td>0 days 00:07:58</td>\n",
       "      <td>Wednesday</td>\n",
       "      <td>2</td>\n",
       "      <td>0</td>\n",
       "      <td>0</td>\n",
       "      <td>1</td>\n",
       "      <td>0</td>\n",
       "      <td>0</td>\n",
       "      <td>0</td>\n",
       "    </tr>\n",
       "    <tr>\n",
       "      <th>1645560</th>\n",
       "      <td>2019-07-11 07:32:51</td>\n",
       "      <td>2019-07-11 07:42:52</td>\n",
       "      <td>174</td>\n",
       "      <td>111</td>\n",
       "      <td>Canal St &amp; Madison St</td>\n",
       "      <td>Sedgwick St &amp; Huron St</td>\n",
       "      <td>4092</td>\n",
       "      <td>Subscriber</td>\n",
       "      <td>0 days 00:10:01</td>\n",
       "      <td>Thursday</td>\n",
       "      <td>3</td>\n",
       "      <td>0</td>\n",
       "      <td>0</td>\n",
       "      <td>0</td>\n",
       "      <td>1</td>\n",
       "      <td>0</td>\n",
       "      <td>0</td>\n",
       "    </tr>\n",
       "    <tr>\n",
       "      <th>623991</th>\n",
       "      <td>2019-04-29 18:17:49</td>\n",
       "      <td>2019-04-29 18:21:14</td>\n",
       "      <td>74</td>\n",
       "      <td>364</td>\n",
       "      <td>Kingsbury St &amp; Erie St</td>\n",
       "      <td>Larrabee St &amp; Oak St</td>\n",
       "      <td>1852</td>\n",
       "      <td>Subscriber</td>\n",
       "      <td>0 days 00:03:25</td>\n",
       "      <td>Monday</td>\n",
       "      <td>0</td>\n",
       "      <td>1</td>\n",
       "      <td>0</td>\n",
       "      <td>0</td>\n",
       "      <td>0</td>\n",
       "      <td>0</td>\n",
       "      <td>0</td>\n",
       "    </tr>\n",
       "  </tbody>\n",
       "</table>\n",
       "</div>"
      ],
      "text/plain": [
       "                 start_time            end_time  start_station_id  \\\n",
       "3230729 2019-10-08 21:57:47 2019-10-08 22:05:05                56   \n",
       "3473266 2019-10-29 16:19:51 2019-10-29 16:40:38               199   \n",
       "1179168 2019-06-12 11:48:35 2019-06-12 11:56:33               414   \n",
       "1645560 2019-07-11 07:32:51 2019-07-11 07:42:52               174   \n",
       "623991  2019-04-29 18:17:49 2019-04-29 18:21:14                74   \n",
       "\n",
       "         end_station_id         start_station_name  \\\n",
       "3230729             186  Desplaines St & Kinzie St   \n",
       "3473266              67     Wabash Ave & Grand Ave   \n",
       "1179168             192       Canal St & Taylor St   \n",
       "1645560             111      Canal St & Madison St   \n",
       "623991              364     Kingsbury St & Erie St   \n",
       "\n",
       "                      end_station_name  bike_id   user_type        duration  \\\n",
       "3230729           Ogden Ave & Race Ave     2605  Subscriber 0 days 00:07:18   \n",
       "3473266  Sheffield Ave & Fullerton Ave     6344  Subscriber 0 days 00:20:47   \n",
       "1179168            Canal St & Adams St     3497  Subscriber 0 days 00:07:58   \n",
       "1645560         Sedgwick St & Huron St     4092  Subscriber 0 days 00:10:01   \n",
       "623991            Larrabee St & Oak St     1852  Subscriber 0 days 00:03:25   \n",
       "\n",
       "        day_of_week_name  day_of_week  monday  tuesday  wednesday  thursday  \\\n",
       "3230729          Tuesday            1       0        1          0         0   \n",
       "3473266          Tuesday            1       0        1          0         0   \n",
       "1179168        Wednesday            2       0        0          1         0   \n",
       "1645560         Thursday            3       0        0          0         1   \n",
       "623991            Monday            0       1        0          0         0   \n",
       "\n",
       "         friday  saturday  \n",
       "3230729       0         0  \n",
       "3473266       0         0  \n",
       "1179168       0         0  \n",
       "1645560       0         0  \n",
       "623991        0         0  "
      ]
     },
     "execution_count": 11,
     "metadata": {},
     "output_type": "execute_result"
    }
   ],
   "source": [
    "chicago_set['monday'] = np.where(chicago_set['day_of_week'] == 0, 1, 0) #[chicago_set['day_of_week'] == 1]\n",
    "day = ['monday', 'tuesday', 'wednesday', 'thursday', 'friday', 'saturday']\n",
    "for i in range(0,6):\n",
    "    chicago_set[day[i]] = np.where(chicago_set['day_of_week'] == i, 1, 0)\n",
    "    \n",
    "chicago_set.sample(n=5)"
   ]
  },
  {
   "cell_type": "markdown",
   "id": "0dea119e",
   "metadata": {},
   "source": [
    "## Connections between days of the week and user behavior"
   ]
  },
  {
   "cell_type": "code",
   "execution_count": 12,
   "id": "255965ac",
   "metadata": {},
   "outputs": [
    {
     "name": "stdout",
     "output_type": "stream",
     "text": [
      "start_time\n",
      "Friday       11117.442308\n",
      "Monday       10774.403846\n",
      "Saturday      9523.442308\n",
      "Sunday        8200.384615\n",
      "Thursday     11313.211538\n",
      "Tuesday      11263.076923\n",
      "Wednesday    11231.192308\n",
      "Name: start_time, dtype: float64\n"
     ]
    },
    {
     "data": {
      "text/plain": [
       "[<matplotlib.lines.Line2D at 0x7fa0761d8f10>]"
      ]
     },
     "execution_count": 12,
     "metadata": {},
     "output_type": "execute_result"
    },
    {
     "data": {
      "image/png": "[encoded data removed]",
      "text/plain": [
       "<Figure size 432x288 with 1 Axes>"
      ]
     },
     "metadata": {
      "needs_background": "light"
     },
     "output_type": "display_data"
    }
   ],
   "source": [
    "rides_started_per_weekday = chicago_set['start_time'].groupby(chicago_set['start_time'].dt.day_name()).agg('count')\n",
    "rides_started_per_weekday = rides_started_per_weekday / 52\n",
    "print(rides_started_per_weekday)\n",
    "plt.plot(rides_started_per_weekday)\n"
   ]
  },
  {
   "cell_type": "markdown",
   "id": "54bd5779",
   "metadata": {},
   "source": [
    "Wee see that during the week we have nearly constantly around 11k rides per weekday, during the weekend this number drops to around 9k rides per day with a low on Sundays."
   ]
  },
  {
   "cell_type": "code",
   "execution_count": 37,
   "id": "9a833f64",
   "metadata": {},
   "outputs": [
    {
     "name": "stdout",
     "output_type": "stream",
     "text": [
      "start_time\n",
      "Friday      0 days 00:23:35.697274034\n",
      "Monday      0 days 00:21:32.424787021\n",
      "Saturday    0 days 00:32:09.966994400\n",
      "Sunday      0 days 00:31:40.571141128\n",
      "Thursday    0 days 00:21:44.154524917\n",
      "Tuesday     0 days 00:20:42.060515981\n",
      "Wednesday   0 days 00:20:57.545375002\n",
      "Name: duration, dtype: timedelta64[ns]\n"
     ]
    },
    {
     "data": {
      "text/plain": [
       "[<matplotlib.lines.Line2D at 0x7fa05ccc0340>]"
      ]
     },
     "execution_count": 37,
     "metadata": {},
     "output_type": "execute_result"
    },
    {
     "data": {
      "image/png": "[encoded data removed]",
      "text/plain": [
       "<Figure size 432x288 with 1 Axes>"
      ]
     },
     "metadata": {
      "needs_background": "light"
     },
     "output_type": "display_data"
    }
   ],
   "source": [
    "avg_duration_per_weekday = chicago_set.groupby(chicago_set['start_time'].dt.day_name())['duration'].mean()\n",
    "print(avg_duration_per_weekday)\n",
    "plt.plot(avg_duration_per_weekday)"
   ]
  },
  {
   "cell_type": "markdown",
   "id": "8acb4a89",
   "metadata": {},
   "source": [
    "Although we see that there are less rides on the weekend, the average duration is ca. 50% higher than during the week."
   ]
  },
  {
   "cell_type": "markdown",
   "id": "2d1c60e0",
   "metadata": {
    "id": "2d1c60e0"
   },
   "source": [
    "## Amount of rides per month"
   ]
  },
  {
   "cell_type": "code",
   "execution_count": 14,
   "id": "2ff2766b",
   "metadata": {
    "id": "2ff2766b",
    "outputId": "0cdc01f3-e6a4-45a3-93af-09429b47cad8"
   },
   "outputs": [
    {
     "name": "stdout",
     "output_type": "stream",
     "text": [
      "date_time\n",
      "1.0     5.131579\n",
      "2.0     4.638158\n",
      "3.0     5.098684\n",
      "4.0     4.927357\n",
      "5.0     5.089090\n",
      "6.0     4.908169\n",
      "7.0     5.095943\n",
      "8.0     5.079496\n",
      "9.0     4.934211\n",
      "10.0    5.091831\n",
      "11.0    4.925987\n",
      "12.0    5.095943\n",
      "Name: max_temp, dtype: float64\n",
      "date_time\n",
      "1.0     5.131579\n",
      "2.0     4.638158\n",
      "3.0     5.098684\n",
      "4.0     4.927357\n",
      "5.0     5.089090\n",
      "6.0     4.908169\n",
      "7.0     5.095943\n",
      "8.0     5.079496\n",
      "9.0     4.934211\n",
      "10.0    5.091831\n",
      "11.0    4.925987\n",
      "12.0    5.095943\n",
      "Name: min_temp, dtype: float64\n"
     ]
    },
    {
     "data": {
      "image/png": "[encoded data removed]",
      "text/plain": [
       "<Figure size 432x288 with 1 Axes>"
      ]
     },
     "metadata": {
      "needs_background": "light"
     },
     "output_type": "display_data"
    }
   ],
   "source": [
    "rides_per_month = chicago_set['start_time'].groupby(chicago_set['start_time'].dt.dayname).agg('count')\n",
    "\n",
    "# adding the weather data into the visulisation\n",
    "weather_set['date_time'] = pd.to_datetime(weather_set['date_time'])\n",
    "\n",
    "# calculating the average max temp per month\n",
    "avg_max_temp = weather_set['max_temp'].groupby(weather_set['date_time'].dt.month).agg('count')\n",
    "avg_max_temp = avg_max_temp/(30.4*24)\n",
    "print(avg_max_temp)\n",
    "# calculate the average min temp per month\n",
    "avg_min_temp = weather_set['min_temp'].groupby(weather_set['date_time'].dt.month).agg('count')\n",
    "avg_min_temp = avg_min_temp/(30.4*24)\n",
    "print(avg_min_temp)\n",
    "\n",
    "# results of the avg temp seem to be wrong...\n",
    "\n",
    "plt.plot(rides_per_month, label = \"Rides per month\")\n",
    "\n",
    "\n",
    "# adding the different series into a dataframe with the rows months (1-12) and the columns ride_per_month,avg_min_temp and avg_max_temp\n",
    "months = {'January', 'February', 'March', 'April', 'May', 'June', 'July', 'August', 'September', 'October', 'November', 'December'}\n",
    "df_month = pd.DataFrame()\n",
    "# df_month.append(months)\n"
   ]
  },
  {
   "cell_type": "markdown",
   "id": "312a05f1",
   "metadata": {
    "id": "312a05f1"
   },
   "source": [
    "We see that in the first part of the year our service is the least percieved but demand is increasing till midth of September. In the summer months people are renting our bikes more regulary but the demand declines when the fall begins and temperatures are declining. We can add our temperature data in this picture and see a strong correlation between the average temperature and the demand of our bikesharing service."
   ]
  },
  {
   "cell_type": "markdown",
   "id": "3096c44c",
   "metadata": {},
   "source": [
    "### Average duration per month"
   ]
  },
  {
   "cell_type": "code",
   "execution_count": 30,
   "id": "2468b159",
   "metadata": {},
   "outputs": [
    {
     "name": "stdout",
     "output_type": "stream",
     "text": [
      "start_time\n",
      "1    0 days 00:17:03.691687969\n",
      "2    0 days 00:17:01.762616181\n",
      "3    0 days 00:16:48.936833905\n",
      "4    0 days 00:20:14.907975575\n",
      "5    0 days 00:22:09.303193834\n",
      "6    0 days 00:23:08.452705644\n",
      "7    0 days 00:30:05.687261243\n",
      "8    0 days 00:32:16.736651620\n",
      "9    0 days 00:23:57.675653208\n",
      "10   0 days 00:21:48.746405190\n",
      "11   0 days 00:18:11.863638416\n",
      "12   0 days 00:16:54.909221623\n",
      "Name: duration, dtype: timedelta64[ns]\n"
     ]
    },
    {
     "data": {
      "text/plain": [
       "[<matplotlib.lines.Line2D at 0x7fa0a8539580>]"
      ]
     },
     "execution_count": 30,
     "metadata": {},
     "output_type": "execute_result"
    },
    {
     "data": {
      "image/png": "[encoded data removed]",
      "text/plain": [
       "<Figure size 432x288 with 1 Axes>"
      ]
     },
     "metadata": {
      "needs_background": "light"
     },
     "output_type": "display_data"
    }
   ],
   "source": [
    "# timedelta to minutes/seconds\n",
    "# chicago_set['duration'] = chicago_set['duration'].Timedelta.total_seconds()\n",
    "avg_duration_per_month = chicago_set.groupby(chicago_set['start_time'].dt.month)['duration'].mean()\n",
    "print(avg_duration_per_month)\n",
    "plt.plot(avg_duration_per_month)\n",
    "\n"
   ]
  },
  {
   "cell_type": "markdown",
   "id": "a724c3f7",
   "metadata": {},
   "source": [
    "The duration is strongly correlated with the amount of rides (and therefore the temperature). We see longer rides between June and October, the same months where the amount of rides were the highest."
   ]
  },
  {
   "cell_type": "markdown",
   "id": "0dbea3ba",
   "metadata": {
    "id": "0dbea3ba"
   },
   "source": [
    "## Amount of rides per hour"
   ]
  },
  {
   "cell_type": "code",
   "execution_count": 15,
   "id": "4960ef77",
   "metadata": {
    "id": "4960ef77",
    "outputId": "c5111f3c-f995-4b48-f647-9540e5bf631e"
   },
   "outputs": [
    {
     "data": {
      "text/plain": [
       "[<matplotlib.lines.Line2D at 0x7fa09adf5970>]"
      ]
     },
     "execution_count": 15,
     "metadata": {},
     "output_type": "execute_result"
    },
    {
     "data": {
      "image/png": "[encoded data removed]",
      "text/plain": [
       "<Figure size 432x288 with 1 Axes>"
      ]
     },
     "metadata": {
      "needs_background": "light"
     },
     "output_type": "display_data"
    }
   ],
   "source": [
    "rides_per_hour = chicago_set['start_time'].groupby(chicago_set['start_time'].dt.hour).agg('count')\n",
    "plt.plot(rides_per_hour)"
   ]
  },
  {
   "cell_type": "markdown",
   "id": "ab74e668",
   "metadata": {
    "id": "ab74e668"
   },
   "source": [
    "We see two spikes of usage during the day: our services is getting used the most between 5am and 10 am and between 3pm and 7pm. We can assume that our users rent our bikes to get to the university/school/workplace or home. "
   ]
  },
  {
   "cell_type": "code",
   "execution_count": 31,
   "id": "e26c96ac",
   "metadata": {},
   "outputs": [
    {
     "name": "stdout",
     "output_type": "stream",
     "text": [
      "start_time\n",
      "0    0 days 00:46:32.190921172\n",
      "1    0 days 00:48:54.549282097\n",
      "2    0 days 00:55:05.767313019\n",
      "3    0 days 01:22:35.281055070\n",
      "4    0 days 00:19:48.150982154\n",
      "5    0 days 00:17:41.024685490\n",
      "6    0 days 00:15:18.695866287\n",
      "7    0 days 00:13:42.489213657\n",
      "8    0 days 00:15:38.328491072\n",
      "9    0 days 00:22:06.640939249\n",
      "10   0 days 00:28:43.969229500\n",
      "11   0 days 00:27:21.999816632\n",
      "12   0 days 00:28:16.352877580\n",
      "13   0 days 00:29:22.437977066\n",
      "14   0 days 00:31:30.517154831\n",
      "15   0 days 00:28:06.300907821\n",
      "16   0 days 00:22:56.777961988\n",
      "17   0 days 00:22:03.752579163\n",
      "18   0 days 00:23:31.383108170\n",
      "19   0 days 00:24:25.018011113\n",
      "20   0 days 00:26:55.958892367\n",
      "21   0 days 00:27:25.531649912\n",
      "22   0 days 00:28:22.518313940\n",
      "23   0 days 00:28:29.882498352\n",
      "Name: duration, dtype: timedelta64[ns]\n"
     ]
    },
    {
     "data": {
      "text/plain": [
       "[<matplotlib.lines.Line2D at 0x7fa0a855cee0>]"
      ]
     },
     "execution_count": 31,
     "metadata": {},
     "output_type": "execute_result"
    },
    {
     "data": {
      "image/png": "[encoded data removed]",
      "text/plain": [
       "<Figure size 432x288 with 1 Axes>"
      ]
     },
     "metadata": {
      "needs_background": "light"
     },
     "output_type": "display_data"
    }
   ],
   "source": [
    "avg_duration_per_hour = chicago_set.groupby(chicago_set['start_time'].dt.hour)['duration'].mean()\n",
    "print(avg_duration_per_hour)\n",
    "plt.plot(avg_duration_per_hour)"
   ]
  },
  {
   "cell_type": "markdown",
   "id": "62febdb0",
   "metadata": {},
   "source": [
    "We see a peak between 3 and 4am, so maybe drunk people need to get home and rely on our service."
   ]
  },
  {
   "cell_type": "markdown",
   "id": "5ea07850",
   "metadata": {},
   "source": [
    "### Average duration per start_station"
   ]
  },
  {
   "cell_type": "code",
   "execution_count": 33,
   "id": "98f7a5c7",
   "metadata": {},
   "outputs": [
    {
     "data": {
      "text/plain": [
       "[<matplotlib.lines.Line2D at 0x7fa0a8618910>]"
      ]
     },
     "execution_count": 33,
     "metadata": {},
     "output_type": "execute_result"
    },
    {
     "data": {
      "image/png": "[encoded data removed]",
      "text/plain": [
       "<Figure size 432x288 with 1 Axes>"
      ]
     },
     "metadata": {
      "needs_background": "light"
     },
     "output_type": "display_data"
    }
   ],
   "source": [
    "avg_duration_per_start_station = chicago_set.groupby(chicago_set['start_station_id'])['duration'].mean()\n",
    "\n",
    "plt.plot(avg_duration_per_start_station)"
   ]
  },
  {
   "cell_type": "code",
   "execution_count": 34,
   "id": "e1a6a2d0",
   "metadata": {},
   "outputs": [
    {
     "data": {
      "text/plain": [
       "[<matplotlib.lines.Line2D at 0x7fa0b36eb0d0>]"
      ]
     },
     "execution_count": 34,
     "metadata": {},
     "output_type": "execute_result"
    },
    {
     "data": {
      "image/png": "[encoded data removed]",
      "text/plain": [
       "<Figure size 432x288 with 1 Axes>"
      ]
     },
     "metadata": {
      "needs_background": "light"
     },
     "output_type": "display_data"
    }
   ],
   "source": [
    "avg_duration_per_end_station = chicago_set.groupby(chicago_set['end_station_id'])['duration'].mean()\n",
    "\n",
    "plt.plot(avg_duration_per_end_station)"
   ]
  },
  {
   "cell_type": "markdown",
   "id": "f7239e76",
   "metadata": {},
   "source": [
    "## Analysis of the geographical data"
   ]
  },
  {
   "cell_type": "markdown",
   "id": "c3b74e1f",
   "metadata": {
    "id": "c3b74e1f"
   },
   "source": [
    "### Visualizing the amount of trips started/ended per station"
   ]
  },
  {
   "cell_type": "markdown",
   "id": "20841227",
   "metadata": {
    "id": "20841227"
   },
   "source": [
    "This should help us to improve the understanding of the location data before we'll visualize this in a heatmap in the further steps."
   ]
  },
  {
   "cell_type": "code",
   "execution_count": 16,
   "id": "4a902ce7",
   "metadata": {
    "id": "4a902ce7"
   },
   "outputs": [
    {
     "name": "stdout",
     "output_type": "stream",
     "text": [
      "616\n",
      "617\n"
     ]
    }
   ],
   "source": [
    "amount_of_start_stations = len(chicago_set['start_station_id'].unique())\n",
    "print(amount_of_start_stations)\n",
    "\n",
    "amount_of_end_stations = len(chicago_set['end_station_id'].unique())\n",
    "print(amount_of_end_stations)\n",
    "\n"
   ]
  },
  {
   "cell_type": "code",
   "execution_count": 17,
   "id": "9cbadec9",
   "metadata": {},
   "outputs": [
    {
     "name": "stdout",
     "output_type": "stream",
     "text": [
      "start_station_id\n",
      "1          1\n",
      "2      11030\n",
      "3      26432\n",
      "4      10658\n",
      "5       7765\n",
      "       ...  \n",
      "666      543\n",
      "669        1\n",
      "671       15\n",
      "672     3821\n",
      "673     3390\n",
      "Name: start_station_id, Length: 616, dtype: int64\n"
     ]
    },
    {
     "data": {
      "text/plain": [
       "[<matplotlib.lines.Line2D at 0x7fa05a7d7f40>]"
      ]
     },
     "execution_count": 17,
     "metadata": {},
     "output_type": "execute_result"
    },
    {
     "data": {
      "image/png": "[encoded data removed]",
      "text/plain": [
       "<Figure size 432x288 with 1 Axes>"
      ]
     },
     "metadata": {
      "needs_background": "light"
     },
     "output_type": "display_data"
    }
   ],
   "source": [
    "rides_started_per_station = chicago_set['start_station_id'].groupby(chicago_set['start_station_id']).agg('count')\n",
    "print(rides_started_per_station)\n",
    "\n",
    "plt.plot(rides_started_per_station)"
   ]
  },
  {
   "cell_type": "code",
   "execution_count": 18,
   "id": "30b83181",
   "metadata": {},
   "outputs": [
    {
     "data": {
      "text/plain": [
       "[<matplotlib.lines.Line2D at 0x7fa09ae45df0>]"
      ]
     },
     "execution_count": 18,
     "metadata": {},
     "output_type": "execute_result"
    },
    {
     "data": {
      "image/png": "[encoded data removed]",
      "text/plain": [
       "<Figure size 432x288 with 1 Axes>"
      ]
     },
     "metadata": {
      "needs_background": "light"
     },
     "output_type": "display_data"
    }
   ],
   "source": [
    "rides_ended_per_station = rides_ended_per_station = chicago_set['end_station_id'].groupby(chicago_set['end_station_id']).agg('count')\n",
    "plt.plot(rides_ended_per_station)\n"
   ]
  },
  {
   "cell_type": "markdown",
   "id": "16f7c88a",
   "metadata": {
    "id": "14bc9a0e"
   },
   "source": [
    "There are 616 unique start_station_ids and 617 end_station_ids. We visualized the amount of rides started/ended per stations and see that some stations are more popular than others. We will analyze this investigation in the further steps and visualize it with a heatmap."
   ]
  },
  {
   "cell_type": "markdown",
   "id": "46d713a8",
   "metadata": {
    "id": "46d713a8"
   },
   "source": [
    "## Analyzing the location data"
   ]
  },
  {
   "cell_type": "markdown",
   "id": "b4bf27bc",
   "metadata": {
    "id": "b4bf27bc"
   },
   "source": [
    "In the following part we try to visualize our data set. We want to make clear which time factory like months, time or weekday has influence on the demand. Furthermore, we try to find patterns of the duration and the time the service is getting used."
   ]
  },
  {
   "cell_type": "markdown",
   "id": "55356ae3",
   "metadata": {
    "id": "55356ae3"
   },
   "source": [
    "## Importing a dataset to findout the latitude and longitude of the stations"
   ]
  },
  {
   "cell_type": "code",
   "execution_count": 19,
   "id": "4fe352b2",
   "metadata": {
    "id": "4fe352b2",
    "outputId": "f3c1bb6e-56f8-4e9d-b6a0-c00a50192dcc"
   },
   "outputs": [
    {
     "ename": "FileNotFoundError",
     "evalue": "[Errno 2] No such file or directory: '202005-divvy-tripdata.csv'",
     "output_type": "error",
     "traceback": [
      "\u001b[0;31m---------------------------------------------------------------------------\u001b[0m",
      "\u001b[0;31mFileNotFoundError\u001b[0m                         Traceback (most recent call last)",
      "Input \u001b[0;32mIn [19]\u001b[0m, in \u001b[0;36m<cell line: 2>\u001b[0;34m()\u001b[0m\n\u001b[1;32m      1\u001b[0m coordinates_sets \u001b[38;5;241m=\u001b[39m [pd\u001b[38;5;241m.\u001b[39mread_csv(\u001b[38;5;124m'\u001b[39m\u001b[38;5;124m202004-divvy-tripdata.csv\u001b[39m\u001b[38;5;124m'\u001b[39m)]\n\u001b[0;32m----> 2\u001b[0m coordinates_sets\u001b[38;5;241m.\u001b[39mappend(\u001b[43mpd\u001b[49m\u001b[38;5;241;43m.\u001b[39;49m\u001b[43mread_csv\u001b[49m\u001b[43m(\u001b[49m\u001b[38;5;124;43m'\u001b[39;49m\u001b[38;5;124;43m202005-divvy-tripdata.csv\u001b[39;49m\u001b[38;5;124;43m'\u001b[39;49m\u001b[43m)\u001b[49m)\n\u001b[1;32m      3\u001b[0m coordinates_sets\u001b[38;5;241m.\u001b[39mappend(pd\u001b[38;5;241m.\u001b[39mread_csv(\u001b[38;5;124m'\u001b[39m\u001b[38;5;124m202006-divvy-tripdata.csv\u001b[39m\u001b[38;5;124m'\u001b[39m))\n\u001b[1;32m      4\u001b[0m coordinates_sets\u001b[38;5;241m.\u001b[39mappend(pd\u001b[38;5;241m.\u001b[39mread_csv(\u001b[38;5;124m'\u001b[39m\u001b[38;5;124m202007-divvy-tripdata.csv\u001b[39m\u001b[38;5;124m'\u001b[39m))\n",
      "File \u001b[0;32m~/opt/anaconda3/lib/python3.9/site-packages/pandas/util/_decorators.py:311\u001b[0m, in \u001b[0;36mdeprecate_nonkeyword_arguments.<locals>.decorate.<locals>.wrapper\u001b[0;34m(*args, **kwargs)\u001b[0m\n\u001b[1;32m    305\u001b[0m \u001b[38;5;28;01mif\u001b[39;00m \u001b[38;5;28mlen\u001b[39m(args) \u001b[38;5;241m>\u001b[39m num_allow_args:\n\u001b[1;32m    306\u001b[0m     warnings\u001b[38;5;241m.\u001b[39mwarn(\n\u001b[1;32m    307\u001b[0m         msg\u001b[38;5;241m.\u001b[39mformat(arguments\u001b[38;5;241m=\u001b[39marguments),\n\u001b[1;32m    308\u001b[0m         \u001b[38;5;167;01mFutureWarning\u001b[39;00m,\n\u001b[1;32m    309\u001b[0m         stacklevel\u001b[38;5;241m=\u001b[39mstacklevel,\n\u001b[1;32m    310\u001b[0m     )\n\u001b[0;32m--> 311\u001b[0m \u001b[38;5;28;01mreturn\u001b[39;00m \u001b[43mfunc\u001b[49m\u001b[43m(\u001b[49m\u001b[38;5;241;43m*\u001b[39;49m\u001b[43margs\u001b[49m\u001b[43m,\u001b[49m\u001b[43m \u001b[49m\u001b[38;5;241;43m*\u001b[39;49m\u001b[38;5;241;43m*\u001b[39;49m\u001b[43mkwargs\u001b[49m\u001b[43m)\u001b[49m\n",
      "File \u001b[0;32m~/opt/anaconda3/lib/python3.9/site-packages/pandas/io/parsers/readers.py:680\u001b[0m, in \u001b[0;36mread_csv\u001b[0;34m(filepath_or_buffer, sep, delimiter, header, names, index_col, usecols, squeeze, prefix, mangle_dupe_cols, dtype, engine, converters, true_values, false_values, skipinitialspace, skiprows, skipfooter, nrows, na_values, keep_default_na, na_filter, verbose, skip_blank_lines, parse_dates, infer_datetime_format, keep_date_col, date_parser, dayfirst, cache_dates, iterator, chunksize, compression, thousands, decimal, lineterminator, quotechar, quoting, doublequote, escapechar, comment, encoding, encoding_errors, dialect, error_bad_lines, warn_bad_lines, on_bad_lines, delim_whitespace, low_memory, memory_map, float_precision, storage_options)\u001b[0m\n\u001b[1;32m    665\u001b[0m kwds_defaults \u001b[38;5;241m=\u001b[39m _refine_defaults_read(\n\u001b[1;32m    666\u001b[0m     dialect,\n\u001b[1;32m    667\u001b[0m     delimiter,\n\u001b[0;32m   (...)\u001b[0m\n\u001b[1;32m    676\u001b[0m     defaults\u001b[38;5;241m=\u001b[39m{\u001b[38;5;124m\"\u001b[39m\u001b[38;5;124mdelimiter\u001b[39m\u001b[38;5;124m\"\u001b[39m: \u001b[38;5;124m\"\u001b[39m\u001b[38;5;124m,\u001b[39m\u001b[38;5;124m\"\u001b[39m},\n\u001b[1;32m    677\u001b[0m )\n\u001b[1;32m    678\u001b[0m kwds\u001b[38;5;241m.\u001b[39mupdate(kwds_defaults)\n\u001b[0;32m--> 680\u001b[0m \u001b[38;5;28;01mreturn\u001b[39;00m \u001b[43m_read\u001b[49m\u001b[43m(\u001b[49m\u001b[43mfilepath_or_buffer\u001b[49m\u001b[43m,\u001b[49m\u001b[43m \u001b[49m\u001b[43mkwds\u001b[49m\u001b[43m)\u001b[49m\n",
      "File \u001b[0;32m~/opt/anaconda3/lib/python3.9/site-packages/pandas/io/parsers/readers.py:575\u001b[0m, in \u001b[0;36m_read\u001b[0;34m(filepath_or_buffer, kwds)\u001b[0m\n\u001b[1;32m    572\u001b[0m _validate_names(kwds\u001b[38;5;241m.\u001b[39mget(\u001b[38;5;124m\"\u001b[39m\u001b[38;5;124mnames\u001b[39m\u001b[38;5;124m\"\u001b[39m, \u001b[38;5;28;01mNone\u001b[39;00m))\n\u001b[1;32m    574\u001b[0m \u001b[38;5;66;03m# Create the parser.\u001b[39;00m\n\u001b[0;32m--> 575\u001b[0m parser \u001b[38;5;241m=\u001b[39m \u001b[43mTextFileReader\u001b[49m\u001b[43m(\u001b[49m\u001b[43mfilepath_or_buffer\u001b[49m\u001b[43m,\u001b[49m\u001b[43m \u001b[49m\u001b[38;5;241;43m*\u001b[39;49m\u001b[38;5;241;43m*\u001b[39;49m\u001b[43mkwds\u001b[49m\u001b[43m)\u001b[49m\n\u001b[1;32m    577\u001b[0m \u001b[38;5;28;01mif\u001b[39;00m chunksize \u001b[38;5;129;01mor\u001b[39;00m iterator:\n\u001b[1;32m    578\u001b[0m     \u001b[38;5;28;01mreturn\u001b[39;00m parser\n",
      "File \u001b[0;32m~/opt/anaconda3/lib/python3.9/site-packages/pandas/io/parsers/readers.py:933\u001b[0m, in \u001b[0;36mTextFileReader.__init__\u001b[0;34m(self, f, engine, **kwds)\u001b[0m\n\u001b[1;32m    930\u001b[0m     \u001b[38;5;28mself\u001b[39m\u001b[38;5;241m.\u001b[39moptions[\u001b[38;5;124m\"\u001b[39m\u001b[38;5;124mhas_index_names\u001b[39m\u001b[38;5;124m\"\u001b[39m] \u001b[38;5;241m=\u001b[39m kwds[\u001b[38;5;124m\"\u001b[39m\u001b[38;5;124mhas_index_names\u001b[39m\u001b[38;5;124m\"\u001b[39m]\n\u001b[1;32m    932\u001b[0m \u001b[38;5;28mself\u001b[39m\u001b[38;5;241m.\u001b[39mhandles: IOHandles \u001b[38;5;241m|\u001b[39m \u001b[38;5;28;01mNone\u001b[39;00m \u001b[38;5;241m=\u001b[39m \u001b[38;5;28;01mNone\u001b[39;00m\n\u001b[0;32m--> 933\u001b[0m \u001b[38;5;28mself\u001b[39m\u001b[38;5;241m.\u001b[39m_engine \u001b[38;5;241m=\u001b[39m \u001b[38;5;28;43mself\u001b[39;49m\u001b[38;5;241;43m.\u001b[39;49m\u001b[43m_make_engine\u001b[49m\u001b[43m(\u001b[49m\u001b[43mf\u001b[49m\u001b[43m,\u001b[49m\u001b[43m \u001b[49m\u001b[38;5;28;43mself\u001b[39;49m\u001b[38;5;241;43m.\u001b[39;49m\u001b[43mengine\u001b[49m\u001b[43m)\u001b[49m\n",
      "File \u001b[0;32m~/opt/anaconda3/lib/python3.9/site-packages/pandas/io/parsers/readers.py:1217\u001b[0m, in \u001b[0;36mTextFileReader._make_engine\u001b[0;34m(self, f, engine)\u001b[0m\n\u001b[1;32m   1213\u001b[0m     mode \u001b[38;5;241m=\u001b[39m \u001b[38;5;124m\"\u001b[39m\u001b[38;5;124mrb\u001b[39m\u001b[38;5;124m\"\u001b[39m\n\u001b[1;32m   1214\u001b[0m \u001b[38;5;66;03m# error: No overload variant of \"get_handle\" matches argument types\u001b[39;00m\n\u001b[1;32m   1215\u001b[0m \u001b[38;5;66;03m# \"Union[str, PathLike[str], ReadCsvBuffer[bytes], ReadCsvBuffer[str]]\"\u001b[39;00m\n\u001b[1;32m   1216\u001b[0m \u001b[38;5;66;03m# , \"str\", \"bool\", \"Any\", \"Any\", \"Any\", \"Any\", \"Any\"\u001b[39;00m\n\u001b[0;32m-> 1217\u001b[0m \u001b[38;5;28mself\u001b[39m\u001b[38;5;241m.\u001b[39mhandles \u001b[38;5;241m=\u001b[39m \u001b[43mget_handle\u001b[49m\u001b[43m(\u001b[49m\u001b[43m  \u001b[49m\u001b[38;5;66;43;03m# type: ignore[call-overload]\u001b[39;49;00m\n\u001b[1;32m   1218\u001b[0m \u001b[43m    \u001b[49m\u001b[43mf\u001b[49m\u001b[43m,\u001b[49m\n\u001b[1;32m   1219\u001b[0m \u001b[43m    \u001b[49m\u001b[43mmode\u001b[49m\u001b[43m,\u001b[49m\n\u001b[1;32m   1220\u001b[0m \u001b[43m    \u001b[49m\u001b[43mencoding\u001b[49m\u001b[38;5;241;43m=\u001b[39;49m\u001b[38;5;28;43mself\u001b[39;49m\u001b[38;5;241;43m.\u001b[39;49m\u001b[43moptions\u001b[49m\u001b[38;5;241;43m.\u001b[39;49m\u001b[43mget\u001b[49m\u001b[43m(\u001b[49m\u001b[38;5;124;43m\"\u001b[39;49m\u001b[38;5;124;43mencoding\u001b[39;49m\u001b[38;5;124;43m\"\u001b[39;49m\u001b[43m,\u001b[49m\u001b[43m \u001b[49m\u001b[38;5;28;43;01mNone\u001b[39;49;00m\u001b[43m)\u001b[49m\u001b[43m,\u001b[49m\n\u001b[1;32m   1221\u001b[0m \u001b[43m    \u001b[49m\u001b[43mcompression\u001b[49m\u001b[38;5;241;43m=\u001b[39;49m\u001b[38;5;28;43mself\u001b[39;49m\u001b[38;5;241;43m.\u001b[39;49m\u001b[43moptions\u001b[49m\u001b[38;5;241;43m.\u001b[39;49m\u001b[43mget\u001b[49m\u001b[43m(\u001b[49m\u001b[38;5;124;43m\"\u001b[39;49m\u001b[38;5;124;43mcompression\u001b[39;49m\u001b[38;5;124;43m\"\u001b[39;49m\u001b[43m,\u001b[49m\u001b[43m \u001b[49m\u001b[38;5;28;43;01mNone\u001b[39;49;00m\u001b[43m)\u001b[49m\u001b[43m,\u001b[49m\n\u001b[1;32m   1222\u001b[0m \u001b[43m    \u001b[49m\u001b[43mmemory_map\u001b[49m\u001b[38;5;241;43m=\u001b[39;49m\u001b[38;5;28;43mself\u001b[39;49m\u001b[38;5;241;43m.\u001b[39;49m\u001b[43moptions\u001b[49m\u001b[38;5;241;43m.\u001b[39;49m\u001b[43mget\u001b[49m\u001b[43m(\u001b[49m\u001b[38;5;124;43m\"\u001b[39;49m\u001b[38;5;124;43mmemory_map\u001b[39;49m\u001b[38;5;124;43m\"\u001b[39;49m\u001b[43m,\u001b[49m\u001b[43m \u001b[49m\u001b[38;5;28;43;01mFalse\u001b[39;49;00m\u001b[43m)\u001b[49m\u001b[43m,\u001b[49m\n\u001b[1;32m   1223\u001b[0m \u001b[43m    \u001b[49m\u001b[43mis_text\u001b[49m\u001b[38;5;241;43m=\u001b[39;49m\u001b[43mis_text\u001b[49m\u001b[43m,\u001b[49m\n\u001b[1;32m   1224\u001b[0m \u001b[43m    \u001b[49m\u001b[43merrors\u001b[49m\u001b[38;5;241;43m=\u001b[39;49m\u001b[38;5;28;43mself\u001b[39;49m\u001b[38;5;241;43m.\u001b[39;49m\u001b[43moptions\u001b[49m\u001b[38;5;241;43m.\u001b[39;49m\u001b[43mget\u001b[49m\u001b[43m(\u001b[49m\u001b[38;5;124;43m\"\u001b[39;49m\u001b[38;5;124;43mencoding_errors\u001b[39;49m\u001b[38;5;124;43m\"\u001b[39;49m\u001b[43m,\u001b[49m\u001b[43m \u001b[49m\u001b[38;5;124;43m\"\u001b[39;49m\u001b[38;5;124;43mstrict\u001b[39;49m\u001b[38;5;124;43m\"\u001b[39;49m\u001b[43m)\u001b[49m\u001b[43m,\u001b[49m\n\u001b[1;32m   1225\u001b[0m \u001b[43m    \u001b[49m\u001b[43mstorage_options\u001b[49m\u001b[38;5;241;43m=\u001b[39;49m\u001b[38;5;28;43mself\u001b[39;49m\u001b[38;5;241;43m.\u001b[39;49m\u001b[43moptions\u001b[49m\u001b[38;5;241;43m.\u001b[39;49m\u001b[43mget\u001b[49m\u001b[43m(\u001b[49m\u001b[38;5;124;43m\"\u001b[39;49m\u001b[38;5;124;43mstorage_options\u001b[39;49m\u001b[38;5;124;43m\"\u001b[39;49m\u001b[43m,\u001b[49m\u001b[43m \u001b[49m\u001b[38;5;28;43;01mNone\u001b[39;49;00m\u001b[43m)\u001b[49m\u001b[43m,\u001b[49m\n\u001b[1;32m   1226\u001b[0m \u001b[43m\u001b[49m\u001b[43m)\u001b[49m\n\u001b[1;32m   1227\u001b[0m \u001b[38;5;28;01massert\u001b[39;00m \u001b[38;5;28mself\u001b[39m\u001b[38;5;241m.\u001b[39mhandles \u001b[38;5;129;01mis\u001b[39;00m \u001b[38;5;129;01mnot\u001b[39;00m \u001b[38;5;28;01mNone\u001b[39;00m\n\u001b[1;32m   1228\u001b[0m f \u001b[38;5;241m=\u001b[39m \u001b[38;5;28mself\u001b[39m\u001b[38;5;241m.\u001b[39mhandles\u001b[38;5;241m.\u001b[39mhandle\n",
      "File \u001b[0;32m~/opt/anaconda3/lib/python3.9/site-packages/pandas/io/common.py:789\u001b[0m, in \u001b[0;36mget_handle\u001b[0;34m(path_or_buf, mode, encoding, compression, memory_map, is_text, errors, storage_options)\u001b[0m\n\u001b[1;32m    784\u001b[0m \u001b[38;5;28;01melif\u001b[39;00m \u001b[38;5;28misinstance\u001b[39m(handle, \u001b[38;5;28mstr\u001b[39m):\n\u001b[1;32m    785\u001b[0m     \u001b[38;5;66;03m# Check whether the filename is to be opened in binary mode.\u001b[39;00m\n\u001b[1;32m    786\u001b[0m     \u001b[38;5;66;03m# Binary mode does not support 'encoding' and 'newline'.\u001b[39;00m\n\u001b[1;32m    787\u001b[0m     \u001b[38;5;28;01mif\u001b[39;00m ioargs\u001b[38;5;241m.\u001b[39mencoding \u001b[38;5;129;01mand\u001b[39;00m \u001b[38;5;124m\"\u001b[39m\u001b[38;5;124mb\u001b[39m\u001b[38;5;124m\"\u001b[39m \u001b[38;5;129;01mnot\u001b[39;00m \u001b[38;5;129;01min\u001b[39;00m ioargs\u001b[38;5;241m.\u001b[39mmode:\n\u001b[1;32m    788\u001b[0m         \u001b[38;5;66;03m# Encoding\u001b[39;00m\n\u001b[0;32m--> 789\u001b[0m         handle \u001b[38;5;241m=\u001b[39m \u001b[38;5;28;43mopen\u001b[39;49m\u001b[43m(\u001b[49m\n\u001b[1;32m    790\u001b[0m \u001b[43m            \u001b[49m\u001b[43mhandle\u001b[49m\u001b[43m,\u001b[49m\n\u001b[1;32m    791\u001b[0m \u001b[43m            \u001b[49m\u001b[43mioargs\u001b[49m\u001b[38;5;241;43m.\u001b[39;49m\u001b[43mmode\u001b[49m\u001b[43m,\u001b[49m\n\u001b[1;32m    792\u001b[0m \u001b[43m            \u001b[49m\u001b[43mencoding\u001b[49m\u001b[38;5;241;43m=\u001b[39;49m\u001b[43mioargs\u001b[49m\u001b[38;5;241;43m.\u001b[39;49m\u001b[43mencoding\u001b[49m\u001b[43m,\u001b[49m\n\u001b[1;32m    793\u001b[0m \u001b[43m            \u001b[49m\u001b[43merrors\u001b[49m\u001b[38;5;241;43m=\u001b[39;49m\u001b[43merrors\u001b[49m\u001b[43m,\u001b[49m\n\u001b[1;32m    794\u001b[0m \u001b[43m            \u001b[49m\u001b[43mnewline\u001b[49m\u001b[38;5;241;43m=\u001b[39;49m\u001b[38;5;124;43m\"\u001b[39;49m\u001b[38;5;124;43m\"\u001b[39;49m\u001b[43m,\u001b[49m\n\u001b[1;32m    795\u001b[0m \u001b[43m        \u001b[49m\u001b[43m)\u001b[49m\n\u001b[1;32m    796\u001b[0m     \u001b[38;5;28;01melse\u001b[39;00m:\n\u001b[1;32m    797\u001b[0m         \u001b[38;5;66;03m# Binary mode\u001b[39;00m\n\u001b[1;32m    798\u001b[0m         handle \u001b[38;5;241m=\u001b[39m \u001b[38;5;28mopen\u001b[39m(handle, ioargs\u001b[38;5;241m.\u001b[39mmode)\n",
      "\u001b[0;31mFileNotFoundError\u001b[0m: [Errno 2] No such file or directory: '202005-divvy-tripdata.csv'"
     ]
    }
   ],
   "source": [
    "coordinates_sets = [pd.read_csv('202004-divvy-tripdata.csv')]\n",
    "coordinates_sets.append(pd.read_csv('202005-divvy-tripdata.csv'))\n",
    "coordinates_sets.append(pd.read_csv('202006-divvy-tripdata.csv'))\n",
    "coordinates_sets.append(pd.read_csv('202007-divvy-tripdata.csv'))\n",
    "coordinates_sets.append(pd.read_csv('202008-divvy-tripdata.csv'))\n",
    "coordinates_sets[0].info()"
   ]
  },
  {
   "cell_type": "markdown",
   "id": "b0cc7a84",
   "metadata": {
    "id": "b0cc7a84"
   },
   "source": [
    "## Get the relevant data, i.e. station_name, station_id, latitude & longitude"
   ]
  },
  {
   "cell_type": "code",
   "execution_count": null,
   "id": "a951be61",
   "metadata": {
    "id": "a951be61",
    "outputId": "6a8d7e0d-8535-43e2-c4c5-9e126f50ab28"
   },
   "outputs": [],
   "source": [
    "global coordinates\n",
    "for coordinates_set in coordinates_sets:\n",
    "    coordinates1 = coordinates_set[['start_station_name', 'start_station_id', 'start_lat', 'start_lng']]\n",
    "    coordinates2 = coordinates_set[['end_station_name', 'end_station_id', 'end_lat', 'end_lng']]\n",
    "\n",
    "    coordinates1 = coordinates1.rename(columns={'start_station_name': 'station_name', 'start_station_id': 'station_id', 'start_lat': 'latitude', 'start_lng':'longitude'})\n",
    "    coordinates2 = coordinates2.rename(columns={'end_station_name': 'station_name', 'end_station_id': 'station_id', 'end_lat': 'latitude', 'end_lng':'longitude'})\n",
    "\n",
    "    coordinates_new = pd.concat([coordinates1, coordinates2], ignore_index = True)\n",
    "    coordinates = pd.concat([coordinates, coordinates_new], ignore_index = True)\n",
    "    print(coordinates_new['station_name'].nunique())\n",
    "print(coordinates['station_name'].nunique())"
   ]
  },
  {
   "cell_type": "code",
   "execution_count": null,
   "id": "c38172a9",
   "metadata": {
    "id": "c38172a9",
    "outputId": "53bbec62-d0ce-475f-a74f-5c822a44c285"
   },
   "outputs": [],
   "source": [
    "coordinates['station_id'] = coordinates['station_id'].replace([np.inf, -np.inf], np.nan)\n",
    "coordinates_dropped = coordinates.dropna()\n",
    "coordinates_dropped.info()"
   ]
  },
  {
   "cell_type": "markdown",
   "id": "74d7dc34",
   "metadata": {
    "id": "74d7dc34"
   },
   "source": [
    "#### Get all unique rows based on station_id"
   ]
  },
  {
   "cell_type": "code",
   "execution_count": null,
   "id": "3e3c3755",
   "metadata": {
    "id": "3e3c3755",
    "outputId": "fa199a55-1e1c-40ec-951d-a8fb8055b2ad"
   },
   "outputs": [],
   "source": [
    "coordinates_unique = coordinates_dropped.drop_duplicates(subset = ['station_id'], keep = 'last')\n",
    "#coordinates_unique['station_id'] = coordinates_unique['station_id'].replace([np.inf, -np.inf], np.nan)\n",
    "coordinates_unique = coordinates_unique.dropna()\n",
    "coordinates_unique.info()"
   ]
  },
  {
   "cell_type": "code",
   "execution_count": null,
   "id": "fcb925bb",
   "metadata": {
    "id": "fcb925bb",
    "outputId": "9b37a1c9-9b68-4e0a-cebe-acc8445a9e60"
   },
   "outputs": [],
   "source": [
    "coordinates_unique = coordinates_unique[np.isfinite(coordinates_unique['station_id'])]\n",
    "coordinates_unique['station_id'] = coordinates_unique['station_id'].astype('int64')\n",
    "coordinates_unique.info()"
   ]
  },
  {
   "cell_type": "code",
   "execution_count": null,
   "id": "8864026d",
   "metadata": {
    "id": "8864026d",
    "outputId": "c5dfeb22-1ba0-470d-bf6d-0325c3bed259"
   },
   "outputs": [],
   "source": [
    "print(chicago_set_clean['start_station_id'].nunique())\n",
    "print(chicago_set_clean['end_station_id'].nunique())\n",
    "chicago_set_clean.info()"
   ]
  },
  {
   "cell_type": "code",
   "execution_count": null,
   "id": "3c594332",
   "metadata": {
    "id": "3c594332",
    "outputId": "1b90f5aa-fbb5-45ba-9684-79170cfd9ea5"
   },
   "outputs": [],
   "source": [
    "chicago_set_merge = chicago_set_clean.merge(coordinates_unique, how='left', left_on='start_station_id', right_on='station_id')\n",
    "chicago_set_merge = chicago_set_merge.rename(columns={'latitude': 'start_latitude', 'longitude': 'start_longitude'})\n",
    "chicago_set_merge = chicago_set_merge.merge(coordinates_unique, how='left', left_on='end_station_id', right_on='station_id')\n",
    "chicago_set_merge = chicago_set_merge.rename(columns={'latitude': 'end_latitude', 'longitude': 'end_longitude'})\n",
    "chicago_set_merge = chicago_set_merge.drop(['station_name_x', 'station_id_x', 'station_name_y', 'station_id_y'],axis = 1)\n",
    "chicago_set_merge.head()"
   ]
  },
  {
   "cell_type": "code",
   "execution_count": null,
   "id": "81ba7a15",
   "metadata": {
    "id": "81ba7a15",
    "outputId": "0192a6dd-bd44-4d05-ad14-fae5fc238e6c"
   },
   "outputs": [],
   "source": [
    "chicago_set_merge.info()"
   ]
  },
  {
   "cell_type": "markdown",
   "id": "0952d43f",
   "metadata": {
    "id": "0952d43f"
   },
   "source": [
    "### We have multiple Stations not included in the data set we get the location from:\n",
    "##### DIVVY Map Frame B/C Station, DIVVY CASSETTE REPAIR MOBILE STATION, Ellis Ave & 60th St, TS ~ DIVVY PARTS TESTING, Sedgwick St & Huron St, Special Events, LBS - BBB La Magie\n",
    "Since many of these Station names don't seem like actual stations we could simply delete them from the data set since they only total 83 entries.\n",
    "Otherwise the entries could be manually added with the command\n",
    "extra = {'station_name': 'DIVVY Map Frame B/C Station', 'station_id': 360, 'latitude': -1, 'longitude': -1}\n",
    "coordinates_unique = coordinates_unique.append(extra, ignore_index = True)"
   ]
  },
  {
   "cell_type": "code",
   "execution_count": null,
   "id": "9fe7bad3",
   "metadata": {
    "id": "9fe7bad3",
    "outputId": "df6a454a-8ce9-487d-98a2-df0cea74d5c6"
   },
   "outputs": [],
   "source": [
    "chicago_set_merge.loc[chicago_set_merge.isnull().any(axis=1)]"
   ]
  },
  {
   "cell_type": "markdown",
   "id": "c615d0aa",
   "metadata": {
    "id": "c615d0aa"
   },
   "source": [
    "### Drop rows with null values"
   ]
  },
  {
   "cell_type": "code",
   "execution_count": null,
   "id": "2e3fbc2a",
   "metadata": {
    "id": "2e3fbc2a"
   },
   "outputs": [],
   "source": [
    "chicago_set_merge = chicago_set_merge.dropna()"
   ]
  },
  {
   "cell_type": "markdown",
   "id": "fa0ec538",
   "metadata": {
    "id": "fa0ec538"
   },
   "source": [
    "#### Haversine method from https://stackoverflow.com/questions/4913349/haversine-formula-in-python-bearing-and-distance-between-two-gps-points"
   ]
  },
  {
   "cell_type": "code",
   "execution_count": null,
   "id": "50c1a453",
   "metadata": {
    "id": "50c1a453"
   },
   "outputs": [],
   "source": [
    "from math import radians, cos, sin, asin, sqrt\n",
    "\n",
    "def haversine(lon1, lat1, lon2, lat2):\n",
    "    \"\"\"\n",
    "    Calculate the great circle distance in kilometers between two points \n",
    "    on the earth (specified in decimal degrees)\n",
    "    \"\"\"\n",
    "    # convert decimal degrees to radians \n",
    "    lon1, lat1, lon2, lat2 = map(radians, [lon1, lat1, lon2, lat2])\n",
    "\n",
    "    # haversine formula \n",
    "    dlon = lon2 - lon1 \n",
    "    dlat = lat2 - lat1 \n",
    "    a = sin(dlat/2)**2 + cos(lat1) * cos(lat2) * sin(dlon/2)**2\n",
    "    c = 2 * asin(sqrt(a)) \n",
    "    r = 6371 # Radius of earth in kilometers. Use 3956 for miles. Determines return value units.\n",
    "    return c * r"
   ]
  },
  {
   "cell_type": "markdown",
   "id": "d90c61b4",
   "metadata": {
    "id": "d90c61b4"
   },
   "source": [
    "### Calculate Haversine distance for unique start and stop combinations and merge it back into chicago set"
   ]
  },
  {
   "cell_type": "code",
   "execution_count": null,
   "id": "037fa38a",
   "metadata": {
    "id": "037fa38a",
    "outputId": "63d96127-9ba3-496e-967e-41033b964872"
   },
   "outputs": [],
   "source": [
    "chicago_set_distance = chicago_set_merge[['start_latitude', 'start_longitude', 'end_latitude', 'end_longitude']]\n",
    "chicago_set_distance = chicago_set_distance.drop_duplicates(subset = ['start_latitude', 'start_longitude', 'end_latitude', 'end_longitude'], keep = 'last')\n",
    "chicago_set_distance['distance'] = chicago_set_distance.apply(lambda x : haversine(x['start_latitude'], x['start_longitude'], x['end_latitude'], x['end_longitude'],) , axis=1)\n",
    "chicago_set_merge = chicago_set_merge.merge(chicago_set_distance, how='left', on=['start_latitude', 'start_longitude', 'end_latitude', 'end_longitude'])\n",
    "chicago_set_merge.head()"
   ]
  },
  {
   "cell_type": "markdown",
   "id": "4e91554d",
   "metadata": {
    "id": "4e91554d"
   },
   "source": [
    "### Average speed in meters per second"
   ]
  },
  {
   "cell_type": "code",
   "execution_count": null,
   "id": "ebb89f32",
   "metadata": {
    "id": "ebb89f32",
    "outputId": "b30b3861-bce4-43b0-e514-305cb3246492"
   },
   "outputs": [],
   "source": [
    "chicago_set_merge['speed'] = chicago_set_merge['distance'] * 1000 / chicago_set_merge['duration'].dt.total_seconds()\n",
    "chicago_set_merge.head()"
   ]
  },
  {
   "cell_type": "code",
   "execution_count": null,
   "id": "0d62a4f0",
   "metadata": {
    "id": "0d62a4f0"
   },
   "outputs": [],
   "source": []
  }
 ],
 "metadata": {
  "colab": {
   "name": "Data Analysis Chicago-V2.ipynb",
   "provenance": []
  },
  "kernelspec": {
   "display_name": "Python 3 (ipykernel)",
   "language": "python",
   "name": "python3"
  },
  "language_info": {
   "codemirror_mode": {
    "name": "ipython",
    "version": 3
   },
   "file_extension": ".py",
   "mimetype": "text/x-python",
   "name": "python",
   "nbconvert_exporter": "python",
   "pygments_lexer": "ipython3",
   "version": "3.9.12"
  }
 },
 "nbformat": 4,
 "nbformat_minor": 5
}
