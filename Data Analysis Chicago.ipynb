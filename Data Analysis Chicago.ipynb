{
 "cells": [
  {
   "cell_type": "markdown",
   "id": "96a68f83",
   "metadata": {},
   "source": [
    "# Data Analysis of the Chicago Dataset\n",
    "\n",
    "In this Jupyter Notebook we will analyze a bike sharing dataset of the city Chicago of the year 2019. We will also include the hourly weather data of the city during the same time. In the first part we will visualize the data and try to develop a deep understanding of the user types and recurring bahavioral patterns. In the second part we use this knowledge to develop a predicition model which forecasts future demand."
   ]
  },
  {
   "cell_type": "markdown",
   "id": "38b51333",
   "metadata": {},
   "source": [
    "## Getting started: importing the data and getting it in the right format"
   ]
  },
  {
   "cell_type": "markdown",
   "id": "9d1cfc09",
   "metadata": {},
   "source": [
    "At first we import all of the required libraries in this notebook. In this case we import *NumPy, Pandas, Matplotlib and Seaborn*. \n"
   ]
  },
  {
   "cell_type": "code",
   "execution_count": 26,
   "id": "1b763a1d",
   "metadata": {},
   "outputs": [],
   "source": [
    "import numpy as np\n",
    "import pandas as pd\n",
    "import matplotlib as mpl\n",
    "import matplotlib.pyplot as plt\n",
    "import seaborn as sns"
   ]
  },
  {
   "cell_type": "markdown",
   "id": "c287f648",
   "metadata": {},
   "source": [
    "Next we import the datasets. This is in perticular the dataset of the city Chicago of the year 2019 and the associated weather data. We do this with the library Pandas, therefore both datasets have now the datatype \"Pandas Dataframe\" ([documentation](https://pandas.pydata.org/docs/reference/frame.html))."
   ]
  },
  {
   "cell_type": "code",
   "execution_count": 2,
   "id": "0bcfd986",
   "metadata": {},
   "outputs": [],
   "source": [
    "chicago_set = pd.read_csv('chicago_2019.csv')\n",
    "weather_set = pd.read_csv('weather_hourly_chicago.csv')"
   ]
  },
  {
   "cell_type": "markdown",
   "id": "83ddc03b",
   "metadata": {},
   "source": [
    "We use the commands head() and info() to get a feeling for the data"
   ]
  },
  {
   "cell_type": "code",
   "execution_count": 3,
   "id": "e6024bfd",
   "metadata": {
    "scrolled": true
   },
   "outputs": [
    {
     "data": {
      "text/html": [
       "<div>\n",
       "<style scoped>\n",
       "    .dataframe tbody tr th:only-of-type {\n",
       "        vertical-align: middle;\n",
       "    }\n",
       "\n",
       "    .dataframe tbody tr th {\n",
       "        vertical-align: top;\n",
       "    }\n",
       "\n",
       "    .dataframe thead th {\n",
       "        text-align: right;\n",
       "    }\n",
       "</style>\n",
       "<table border=\"1\" class=\"dataframe\">\n",
       "  <thead>\n",
       "    <tr style=\"text-align: right;\">\n",
       "      <th></th>\n",
       "      <th>start_time</th>\n",
       "      <th>end_time</th>\n",
       "      <th>start_station_id</th>\n",
       "      <th>end_station_id</th>\n",
       "      <th>start_station_name</th>\n",
       "      <th>end_station_name</th>\n",
       "      <th>bike_id</th>\n",
       "      <th>user_type</th>\n",
       "    </tr>\n",
       "  </thead>\n",
       "  <tbody>\n",
       "    <tr>\n",
       "      <th>0</th>\n",
       "      <td>2019-01-01 00:04:37</td>\n",
       "      <td>2019-01-01 00:11:07</td>\n",
       "      <td>199</td>\n",
       "      <td>84</td>\n",
       "      <td>Wabash Ave &amp; Grand Ave</td>\n",
       "      <td>Milwaukee Ave &amp; Grand Ave</td>\n",
       "      <td>2167</td>\n",
       "      <td>Subscriber</td>\n",
       "    </tr>\n",
       "    <tr>\n",
       "      <th>1</th>\n",
       "      <td>2019-01-01 00:08:13</td>\n",
       "      <td>2019-01-01 00:15:34</td>\n",
       "      <td>44</td>\n",
       "      <td>624</td>\n",
       "      <td>State St &amp; Randolph St</td>\n",
       "      <td>Dearborn St &amp; Van Buren St (*)</td>\n",
       "      <td>4386</td>\n",
       "      <td>Subscriber</td>\n",
       "    </tr>\n",
       "    <tr>\n",
       "      <th>2</th>\n",
       "      <td>2019-01-01 00:13:23</td>\n",
       "      <td>2019-01-01 00:27:12</td>\n",
       "      <td>15</td>\n",
       "      <td>644</td>\n",
       "      <td>Racine Ave &amp; 18th St</td>\n",
       "      <td>Western Ave &amp; Fillmore St (*)</td>\n",
       "      <td>1524</td>\n",
       "      <td>Subscriber</td>\n",
       "    </tr>\n",
       "    <tr>\n",
       "      <th>3</th>\n",
       "      <td>2019-01-01 00:13:45</td>\n",
       "      <td>2019-01-01 00:43:28</td>\n",
       "      <td>123</td>\n",
       "      <td>176</td>\n",
       "      <td>California Ave &amp; Milwaukee Ave</td>\n",
       "      <td>Clark St &amp; Elm St</td>\n",
       "      <td>252</td>\n",
       "      <td>Subscriber</td>\n",
       "    </tr>\n",
       "    <tr>\n",
       "      <th>4</th>\n",
       "      <td>2019-01-01 00:14:52</td>\n",
       "      <td>2019-01-01 00:20:56</td>\n",
       "      <td>173</td>\n",
       "      <td>35</td>\n",
       "      <td>Mies van der Rohe Way &amp; Chicago Ave</td>\n",
       "      <td>Streeter Dr &amp; Grand Ave</td>\n",
       "      <td>1170</td>\n",
       "      <td>Subscriber</td>\n",
       "    </tr>\n",
       "  </tbody>\n",
       "</table>\n",
       "</div>"
      ],
      "text/plain": [
       "            start_time             end_time  start_station_id  end_station_id  \\\n",
       "0  2019-01-01 00:04:37  2019-01-01 00:11:07               199              84   \n",
       "1  2019-01-01 00:08:13  2019-01-01 00:15:34                44             624   \n",
       "2  2019-01-01 00:13:23  2019-01-01 00:27:12                15             644   \n",
       "3  2019-01-01 00:13:45  2019-01-01 00:43:28               123             176   \n",
       "4  2019-01-01 00:14:52  2019-01-01 00:20:56               173              35   \n",
       "\n",
       "                    start_station_name                end_station_name  \\\n",
       "0               Wabash Ave & Grand Ave       Milwaukee Ave & Grand Ave   \n",
       "1               State St & Randolph St  Dearborn St & Van Buren St (*)   \n",
       "2                 Racine Ave & 18th St   Western Ave & Fillmore St (*)   \n",
       "3       California Ave & Milwaukee Ave               Clark St & Elm St   \n",
       "4  Mies van der Rohe Way & Chicago Ave         Streeter Dr & Grand Ave   \n",
       "\n",
       "   bike_id   user_type  \n",
       "0     2167  Subscriber  \n",
       "1     4386  Subscriber  \n",
       "2     1524  Subscriber  \n",
       "3      252  Subscriber  \n",
       "4     1170  Subscriber  "
      ]
     },
     "execution_count": 3,
     "metadata": {},
     "output_type": "execute_result"
    }
   ],
   "source": [
    "chicago_set.head()"
   ]
  },
  {
   "cell_type": "code",
   "execution_count": 11,
   "id": "49d74cf8",
   "metadata": {
    "scrolled": true
   },
   "outputs": [
    {
     "name": "stdout",
     "output_type": "stream",
     "text": [
      "<class 'pandas.core.frame.DataFrame'>\n",
      "RangeIndex: 3818004 entries, 0 to 3818003\n",
      "Data columns (total 9 columns):\n",
      " #   Column              Dtype          \n",
      "---  ------              -----          \n",
      " 0   start_time          datetime64[ns] \n",
      " 1   end_time            datetime64[ns] \n",
      " 2   start_station_id    int64          \n",
      " 3   end_station_id      int64          \n",
      " 4   start_station_name  object         \n",
      " 5   end_station_name    object         \n",
      " 6   bike_id             int64          \n",
      " 7   user_type           object         \n",
      " 8   duration            timedelta64[ns]\n",
      "dtypes: datetime64[ns](2), int64(3), object(3), timedelta64[ns](1)\n",
      "memory usage: 262.2+ MB\n"
     ]
    }
   ],
   "source": [
    "chicago_set.info()"
   ]
  },
  {
   "cell_type": "markdown",
   "id": "a080324c",
   "metadata": {},
   "source": [
    "So we know that we have a dataset with 3.8 million entries and we have multiple columns, two columns for the time (*start_time and end_time*), four columns for the location (*start_station_id, end_station_id and the respective names*) and the *bike_id* and *user_type*. "
   ]
  },
  {
   "cell_type": "code",
   "execution_count": 12,
   "id": "dd0ad6ad",
   "metadata": {},
   "outputs": [
    {
     "name": "stdout",
     "output_type": "stream",
     "text": [
      "<class 'pandas.core.frame.DataFrame'>\n",
      "RangeIndex: 43848 entries, 0 to 43847\n",
      "Data columns (total 4 columns):\n",
      " #   Column     Non-Null Count  Dtype  \n",
      "---  ------     --------------  -----  \n",
      " 0   date_time  43788 non-null  object \n",
      " 1   max_temp   43788 non-null  float64\n",
      " 2   min_temp   43788 non-null  float64\n",
      " 3   precip     43790 non-null  float64\n",
      "dtypes: float64(3), object(1)\n",
      "memory usage: 1.3+ MB\n"
     ]
    }
   ],
   "source": [
    "weather_set.info()"
   ]
  },
  {
   "cell_type": "markdown",
   "id": "00c0f31c",
   "metadata": {},
   "source": [
    "We first investigate the time data we got. Therefore, we need to transform the data type of the columns \"*start_time*\" and \"*end_time*\" from String to Panda Datetime. This allows us in the following code snippet to add another column to our dataframe which we call *duration*. This is the difference between the end_time and the start_time. "
   ]
  },
  {
   "cell_type": "code",
   "execution_count": 27,
   "id": "ab2ca06e",
   "metadata": {},
   "outputs": [
    {
     "data": {
      "text/html": [
       "<div>\n",
       "<style scoped>\n",
       "    .dataframe tbody tr th:only-of-type {\n",
       "        vertical-align: middle;\n",
       "    }\n",
       "\n",
       "    .dataframe tbody tr th {\n",
       "        vertical-align: top;\n",
       "    }\n",
       "\n",
       "    .dataframe thead th {\n",
       "        text-align: right;\n",
       "    }\n",
       "</style>\n",
       "<table border=\"1\" class=\"dataframe\">\n",
       "  <thead>\n",
       "    <tr style=\"text-align: right;\">\n",
       "      <th></th>\n",
       "      <th>start_station_id</th>\n",
       "      <th>end_station_id</th>\n",
       "      <th>bike_id</th>\n",
       "      <th>duration</th>\n",
       "    </tr>\n",
       "  </thead>\n",
       "  <tbody>\n",
       "    <tr>\n",
       "      <th>count</th>\n",
       "      <td>3.818004e+06</td>\n",
       "      <td>3.818004e+06</td>\n",
       "      <td>3.818004e+06</td>\n",
       "      <td>3818004</td>\n",
       "    </tr>\n",
       "    <tr>\n",
       "      <th>mean</th>\n",
       "      <td>2.016659e+02</td>\n",
       "      <td>2.026363e+02</td>\n",
       "      <td>3.380252e+03</td>\n",
       "      <td>0 days 00:24:10.451397903</td>\n",
       "    </tr>\n",
       "    <tr>\n",
       "      <th>std</th>\n",
       "      <td>1.560798e+02</td>\n",
       "      <td>1.562388e+02</td>\n",
       "      <td>1.902511e+03</td>\n",
       "      <td>0 days 08:17:32.263421746</td>\n",
       "    </tr>\n",
       "    <tr>\n",
       "      <th>min</th>\n",
       "      <td>1.000000e+00</td>\n",
       "      <td>1.000000e+00</td>\n",
       "      <td>1.000000e+00</td>\n",
       "      <td>-1 days +23:03:38</td>\n",
       "    </tr>\n",
       "    <tr>\n",
       "      <th>25%</th>\n",
       "      <td>7.700000e+01</td>\n",
       "      <td>7.700000e+01</td>\n",
       "      <td>1.727000e+03</td>\n",
       "      <td>0 days 00:06:51</td>\n",
       "    </tr>\n",
       "    <tr>\n",
       "      <th>50%</th>\n",
       "      <td>1.740000e+02</td>\n",
       "      <td>1.740000e+02</td>\n",
       "      <td>3.451000e+03</td>\n",
       "      <td>0 days 00:11:49</td>\n",
       "    </tr>\n",
       "    <tr>\n",
       "      <th>75%</th>\n",
       "      <td>2.890000e+02</td>\n",
       "      <td>2.910000e+02</td>\n",
       "      <td>5.046000e+03</td>\n",
       "      <td>0 days 00:21:24</td>\n",
       "    </tr>\n",
       "    <tr>\n",
       "      <th>max</th>\n",
       "      <td>6.730000e+02</td>\n",
       "      <td>6.730000e+02</td>\n",
       "      <td>6.946000e+03</td>\n",
       "      <td>123 days 01:20:22</td>\n",
       "    </tr>\n",
       "  </tbody>\n",
       "</table>\n",
       "</div>"
      ],
      "text/plain": [
       "       start_station_id  end_station_id       bike_id  \\\n",
       "count      3.818004e+06    3.818004e+06  3.818004e+06   \n",
       "mean       2.016659e+02    2.026363e+02  3.380252e+03   \n",
       "std        1.560798e+02    1.562388e+02  1.902511e+03   \n",
       "min        1.000000e+00    1.000000e+00  1.000000e+00   \n",
       "25%        7.700000e+01    7.700000e+01  1.727000e+03   \n",
       "50%        1.740000e+02    1.740000e+02  3.451000e+03   \n",
       "75%        2.890000e+02    2.910000e+02  5.046000e+03   \n",
       "max        6.730000e+02    6.730000e+02  6.946000e+03   \n",
       "\n",
       "                        duration  \n",
       "count                    3818004  \n",
       "mean   0 days 00:24:10.451397903  \n",
       "std    0 days 08:17:32.263421746  \n",
       "min            -1 days +23:03:38  \n",
       "25%              0 days 00:06:51  \n",
       "50%              0 days 00:11:49  \n",
       "75%              0 days 00:21:24  \n",
       "max            123 days 01:20:22  "
      ]
     },
     "execution_count": 27,
     "metadata": {},
     "output_type": "execute_result"
    }
   ],
   "source": [
    "chicago_set['start_time'] = pd.to_datetime(chicago_set['start_time'])\n",
    "chicago_set['end_time'] = pd.to_datetime(chicago_set['end_time'])\n",
    "\n",
    "chicago_set['duration'] = chicago_set['end_time'] - chicago_set['start_time']\n",
    "chicago_set.describe()"
   ]
  },
  {
   "cell_type": "markdown",
   "id": "adc1449b",
   "metadata": {},
   "source": [
    "We calculated the duration of the rides and see that the maximum duration of a ride was over 123 days. We can assume that there a other cases where the data is inconclusive, therefore we will clean our dataset and delete those wrong outliners."
   ]
  },
  {
   "cell_type": "markdown",
   "id": "45fd64fa",
   "metadata": {},
   "source": [
    "## Cleaning up our data"
   ]
  },
  {
   "cell_type": "markdown",
   "id": "9bed6330",
   "metadata": {},
   "source": [
    "In the next step we count the rides between specific dates (first and last of a month) to get an overview how many rides take place per month. Furthermore, we'll use the same tactic between the times to find out during what times our services is getting used the most."
   ]
  },
  {
   "cell_type": "code",
   "execution_count": 29,
   "id": "a9425271",
   "metadata": {},
   "outputs": [
    {
     "data": {
      "text/html": [
       "<div>\n",
       "<style scoped>\n",
       "    .dataframe tbody tr th:only-of-type {\n",
       "        vertical-align: middle;\n",
       "    }\n",
       "\n",
       "    .dataframe tbody tr th {\n",
       "        vertical-align: top;\n",
       "    }\n",
       "\n",
       "    .dataframe thead th {\n",
       "        text-align: right;\n",
       "    }\n",
       "</style>\n",
       "<table border=\"1\" class=\"dataframe\">\n",
       "  <thead>\n",
       "    <tr style=\"text-align: right;\">\n",
       "      <th></th>\n",
       "      <th>start_time</th>\n",
       "      <th>end_time</th>\n",
       "      <th>start_station_id</th>\n",
       "      <th>end_station_id</th>\n",
       "      <th>start_station_name</th>\n",
       "      <th>end_station_name</th>\n",
       "      <th>bike_id</th>\n",
       "      <th>user_type</th>\n",
       "      <th>duration</th>\n",
       "    </tr>\n",
       "  </thead>\n",
       "  <tbody>\n",
       "    <tr>\n",
       "      <th>3369931</th>\n",
       "      <td>2019-10-19 17:28:24</td>\n",
       "      <td>2019-10-26 09:50:34</td>\n",
       "      <td>255</td>\n",
       "      <td>97</td>\n",
       "      <td>Indiana Ave &amp; Roosevelt Rd</td>\n",
       "      <td>Field Museum</td>\n",
       "      <td>1277</td>\n",
       "      <td>Customer</td>\n",
       "      <td>6 days 16:22:10</td>\n",
       "    </tr>\n",
       "    <tr>\n",
       "      <th>1838306</th>\n",
       "      <td>2019-07-22 10:03:26</td>\n",
       "      <td>2019-07-24 05:32:56</td>\n",
       "      <td>110</td>\n",
       "      <td>118</td>\n",
       "      <td>Dearborn St &amp; Erie St</td>\n",
       "      <td>Sedgwick St &amp; North Ave</td>\n",
       "      <td>1644</td>\n",
       "      <td>Customer</td>\n",
       "      <td>1 days 19:29:30</td>\n",
       "    </tr>\n",
       "    <tr>\n",
       "      <th>881276</th>\n",
       "      <td>2019-05-23 16:56:48</td>\n",
       "      <td>2019-05-29 11:02:48</td>\n",
       "      <td>435</td>\n",
       "      <td>373</td>\n",
       "      <td>Kedzie Ave &amp; Roosevelt Rd</td>\n",
       "      <td>Kedzie Ave &amp; Chicago Ave</td>\n",
       "      <td>449</td>\n",
       "      <td>Subscriber</td>\n",
       "      <td>5 days 18:06:00</td>\n",
       "    </tr>\n",
       "    <tr>\n",
       "      <th>361216</th>\n",
       "      <td>2019-03-30 16:34:32</td>\n",
       "      <td>2019-04-01 13:43:48</td>\n",
       "      <td>90</td>\n",
       "      <td>35</td>\n",
       "      <td>Millennium Park</td>\n",
       "      <td>Streeter Dr &amp; Grand Ave</td>\n",
       "      <td>4120</td>\n",
       "      <td>Customer</td>\n",
       "      <td>1 days 21:09:16</td>\n",
       "    </tr>\n",
       "    <tr>\n",
       "      <th>1459869</th>\n",
       "      <td>2019-06-30 02:16:48</td>\n",
       "      <td>2019-07-01 07:44:29</td>\n",
       "      <td>118</td>\n",
       "      <td>455</td>\n",
       "      <td>Sedgwick St &amp; North Ave</td>\n",
       "      <td>Maplewood Ave &amp; Peterson Ave</td>\n",
       "      <td>2678</td>\n",
       "      <td>Customer</td>\n",
       "      <td>1 days 05:27:41</td>\n",
       "    </tr>\n",
       "  </tbody>\n",
       "</table>\n",
       "</div>"
      ],
      "text/plain": [
       "                 start_time            end_time  start_station_id  \\\n",
       "3369931 2019-10-19 17:28:24 2019-10-26 09:50:34               255   \n",
       "1838306 2019-07-22 10:03:26 2019-07-24 05:32:56               110   \n",
       "881276  2019-05-23 16:56:48 2019-05-29 11:02:48               435   \n",
       "361216  2019-03-30 16:34:32 2019-04-01 13:43:48                90   \n",
       "1459869 2019-06-30 02:16:48 2019-07-01 07:44:29               118   \n",
       "\n",
       "         end_station_id          start_station_name  \\\n",
       "3369931              97  Indiana Ave & Roosevelt Rd   \n",
       "1838306             118       Dearborn St & Erie St   \n",
       "881276              373   Kedzie Ave & Roosevelt Rd   \n",
       "361216               35             Millennium Park   \n",
       "1459869             455     Sedgwick St & North Ave   \n",
       "\n",
       "                     end_station_name  bike_id   user_type        duration  \n",
       "3369931                  Field Museum     1277    Customer 6 days 16:22:10  \n",
       "1838306       Sedgwick St & North Ave     1644    Customer 1 days 19:29:30  \n",
       "881276       Kedzie Ave & Chicago Ave      449  Subscriber 5 days 18:06:00  \n",
       "361216        Streeter Dr & Grand Ave     4120    Customer 1 days 21:09:16  \n",
       "1459869  Maplewood Ave & Peterson Ave     2678    Customer 1 days 05:27:41  "
      ]
     },
     "execution_count": 29,
     "metadata": {},
     "output_type": "execute_result"
    }
   ],
   "source": [
    "import datetime\n",
    "chicago_set[chicago_set['duration'] >= datetime.timedelta(days=1)].sample(n=5)"
   ]
  },
  {
   "cell_type": "code",
   "execution_count": 31,
   "id": "0f185caf",
   "metadata": {},
   "outputs": [
    {
     "data": {
      "text/html": [
       "<div>\n",
       "<style scoped>\n",
       "    .dataframe tbody tr th:only-of-type {\n",
       "        vertical-align: middle;\n",
       "    }\n",
       "\n",
       "    .dataframe tbody tr th {\n",
       "        vertical-align: top;\n",
       "    }\n",
       "\n",
       "    .dataframe thead th {\n",
       "        text-align: right;\n",
       "    }\n",
       "</style>\n",
       "<table border=\"1\" class=\"dataframe\">\n",
       "  <thead>\n",
       "    <tr style=\"text-align: right;\">\n",
       "      <th></th>\n",
       "      <th>start_time</th>\n",
       "      <th>end_time</th>\n",
       "      <th>start_station_id</th>\n",
       "      <th>end_station_id</th>\n",
       "      <th>start_station_name</th>\n",
       "      <th>end_station_name</th>\n",
       "      <th>bike_id</th>\n",
       "      <th>user_type</th>\n",
       "      <th>duration</th>\n",
       "    </tr>\n",
       "  </thead>\n",
       "  <tbody>\n",
       "    <tr>\n",
       "      <th>3498428</th>\n",
       "      <td>2019-11-03 01:43:21</td>\n",
       "      <td>2019-11-03 01:09:56</td>\n",
       "      <td>632</td>\n",
       "      <td>133</td>\n",
       "      <td>Clark St &amp; Newport St</td>\n",
       "      <td>Kingsbury St &amp; Kinzie St</td>\n",
       "      <td>4141</td>\n",
       "      <td>Customer</td>\n",
       "      <td>-1 days +23:26:35</td>\n",
       "    </tr>\n",
       "    <tr>\n",
       "      <th>3498439</th>\n",
       "      <td>2019-11-03 01:51:59</td>\n",
       "      <td>2019-11-03 01:03:02</td>\n",
       "      <td>460</td>\n",
       "      <td>238</td>\n",
       "      <td>Clark St &amp; Bryn Mawr Ave</td>\n",
       "      <td>Wolcott (Ravenswood) Ave &amp; Montrose Ave</td>\n",
       "      <td>2920</td>\n",
       "      <td>Subscriber</td>\n",
       "      <td>-1 days +23:11:03</td>\n",
       "    </tr>\n",
       "    <tr>\n",
       "      <th>3498447</th>\n",
       "      <td>2019-11-03 01:58:17</td>\n",
       "      <td>2019-11-03 01:08:27</td>\n",
       "      <td>301</td>\n",
       "      <td>52</td>\n",
       "      <td>Clark St &amp; Schiller St</td>\n",
       "      <td>Michigan Ave &amp; Lake St</td>\n",
       "      <td>6133</td>\n",
       "      <td>Subscriber</td>\n",
       "      <td>-1 days +23:10:10</td>\n",
       "    </tr>\n",
       "    <tr>\n",
       "      <th>3498445</th>\n",
       "      <td>2019-11-03 01:55:33</td>\n",
       "      <td>2019-11-03 01:01:52</td>\n",
       "      <td>109</td>\n",
       "      <td>320</td>\n",
       "      <td>900 W Harrison St</td>\n",
       "      <td>Loomis St &amp; Lexington St</td>\n",
       "      <td>5059</td>\n",
       "      <td>Subscriber</td>\n",
       "      <td>-1 days +23:06:19</td>\n",
       "    </tr>\n",
       "    <tr>\n",
       "      <th>3498433</th>\n",
       "      <td>2019-11-03 01:46:01</td>\n",
       "      <td>2019-11-03 01:10:44</td>\n",
       "      <td>373</td>\n",
       "      <td>498</td>\n",
       "      <td>Kedzie Ave &amp; Chicago Ave</td>\n",
       "      <td>California Ave &amp; Fletcher St</td>\n",
       "      <td>6329</td>\n",
       "      <td>Customer</td>\n",
       "      <td>-1 days +23:24:43</td>\n",
       "    </tr>\n",
       "  </tbody>\n",
       "</table>\n",
       "</div>"
      ],
      "text/plain": [
       "                 start_time            end_time  start_station_id  \\\n",
       "3498428 2019-11-03 01:43:21 2019-11-03 01:09:56               632   \n",
       "3498439 2019-11-03 01:51:59 2019-11-03 01:03:02               460   \n",
       "3498447 2019-11-03 01:58:17 2019-11-03 01:08:27               301   \n",
       "3498445 2019-11-03 01:55:33 2019-11-03 01:01:52               109   \n",
       "3498433 2019-11-03 01:46:01 2019-11-03 01:10:44               373   \n",
       "\n",
       "         end_station_id        start_station_name  \\\n",
       "3498428             133     Clark St & Newport St   \n",
       "3498439             238  Clark St & Bryn Mawr Ave   \n",
       "3498447              52    Clark St & Schiller St   \n",
       "3498445             320         900 W Harrison St   \n",
       "3498433             498  Kedzie Ave & Chicago Ave   \n",
       "\n",
       "                                end_station_name  bike_id   user_type  \\\n",
       "3498428                 Kingsbury St & Kinzie St     4141    Customer   \n",
       "3498439  Wolcott (Ravenswood) Ave & Montrose Ave     2920  Subscriber   \n",
       "3498447                   Michigan Ave & Lake St     6133  Subscriber   \n",
       "3498445                 Loomis St & Lexington St     5059  Subscriber   \n",
       "3498433             California Ave & Fletcher St     6329    Customer   \n",
       "\n",
       "                 duration  \n",
       "3498428 -1 days +23:26:35  \n",
       "3498439 -1 days +23:11:03  \n",
       "3498447 -1 days +23:10:10  \n",
       "3498445 -1 days +23:06:19  \n",
       "3498433 -1 days +23:24:43  "
      ]
     },
     "execution_count": 31,
     "metadata": {},
     "output_type": "execute_result"
    }
   ],
   "source": [
    "chicago_set[chicago_set['duration'] <= datetime.timedelta(days=0)].sample(n=5)"
   ]
  },
  {
   "cell_type": "code",
   "execution_count": 30,
   "id": "53e13713",
   "metadata": {},
   "outputs": [
    {
     "ename": "KeyError",
     "evalue": "'dt.month'",
     "output_type": "error",
     "traceback": [
      "\u001b[0;31m---------------------------------------------------------------------------\u001b[0m",
      "\u001b[0;31mKeyError\u001b[0m                                  Traceback (most recent call last)",
      "Input \u001b[0;32mIn [30]\u001b[0m, in \u001b[0;36m<cell line: 2>\u001b[0;34m()\u001b[0m\n\u001b[1;32m      1\u001b[0m \u001b[38;5;66;03m#rides_per_month = pd.DataFrame({'end_dates':pd.date_range(start=end_dates.datetime(2019,1,1),end=dt.datetime(2019,31,12))})\u001b[39;00m\n\u001b[0;32m----> 2\u001b[0m \u001b[43mchicago_set\u001b[49m\u001b[43m[\u001b[49m\u001b[38;5;124;43m'\u001b[39;49m\u001b[38;5;124;43mend_time\u001b[39;49m\u001b[38;5;124;43m'\u001b[39;49m\u001b[43m]\u001b[49m\u001b[38;5;241;43m.\u001b[39;49m\u001b[43mgroupby\u001b[49m\u001b[43m(\u001b[49m\u001b[43m[\u001b[49m\u001b[38;5;124;43m'\u001b[39;49m\u001b[38;5;124;43mdt.month\u001b[39;49m\u001b[38;5;124;43m'\u001b[39;49m\u001b[43m]\u001b[49m\u001b[43m)\u001b[49m\u001b[38;5;241m.\u001b[39magg({\u001b[38;5;124m'\u001b[39m\u001b[38;5;124mcount\u001b[39m\u001b[38;5;124m'\u001b[39m})\n",
      "File \u001b[0;32m~/opt/anaconda3/lib/python3.9/site-packages/pandas/core/series.py:1922\u001b[0m, in \u001b[0;36mSeries.groupby\u001b[0;34m(self, by, axis, level, as_index, sort, group_keys, squeeze, observed, dropna)\u001b[0m\n\u001b[1;32m   1918\u001b[0m axis \u001b[38;5;241m=\u001b[39m \u001b[38;5;28mself\u001b[39m\u001b[38;5;241m.\u001b[39m_get_axis_number(axis)\n\u001b[1;32m   1920\u001b[0m \u001b[38;5;66;03m# error: Argument \"squeeze\" to \"SeriesGroupBy\" has incompatible type\u001b[39;00m\n\u001b[1;32m   1921\u001b[0m \u001b[38;5;66;03m# \"Union[bool, NoDefault]\"; expected \"bool\"\u001b[39;00m\n\u001b[0;32m-> 1922\u001b[0m \u001b[38;5;28;01mreturn\u001b[39;00m \u001b[43mSeriesGroupBy\u001b[49m\u001b[43m(\u001b[49m\n\u001b[1;32m   1923\u001b[0m \u001b[43m    \u001b[49m\u001b[43mobj\u001b[49m\u001b[38;5;241;43m=\u001b[39;49m\u001b[38;5;28;43mself\u001b[39;49m\u001b[43m,\u001b[49m\n\u001b[1;32m   1924\u001b[0m \u001b[43m    \u001b[49m\u001b[43mkeys\u001b[49m\u001b[38;5;241;43m=\u001b[39;49m\u001b[43mby\u001b[49m\u001b[43m,\u001b[49m\n\u001b[1;32m   1925\u001b[0m \u001b[43m    \u001b[49m\u001b[43maxis\u001b[49m\u001b[38;5;241;43m=\u001b[39;49m\u001b[43maxis\u001b[49m\u001b[43m,\u001b[49m\n\u001b[1;32m   1926\u001b[0m \u001b[43m    \u001b[49m\u001b[43mlevel\u001b[49m\u001b[38;5;241;43m=\u001b[39;49m\u001b[43mlevel\u001b[49m\u001b[43m,\u001b[49m\n\u001b[1;32m   1927\u001b[0m \u001b[43m    \u001b[49m\u001b[43mas_index\u001b[49m\u001b[38;5;241;43m=\u001b[39;49m\u001b[43mas_index\u001b[49m\u001b[43m,\u001b[49m\n\u001b[1;32m   1928\u001b[0m \u001b[43m    \u001b[49m\u001b[43msort\u001b[49m\u001b[38;5;241;43m=\u001b[39;49m\u001b[43msort\u001b[49m\u001b[43m,\u001b[49m\n\u001b[1;32m   1929\u001b[0m \u001b[43m    \u001b[49m\u001b[43mgroup_keys\u001b[49m\u001b[38;5;241;43m=\u001b[39;49m\u001b[43mgroup_keys\u001b[49m\u001b[43m,\u001b[49m\n\u001b[1;32m   1930\u001b[0m \u001b[43m    \u001b[49m\u001b[43msqueeze\u001b[49m\u001b[38;5;241;43m=\u001b[39;49m\u001b[43msqueeze\u001b[49m\u001b[43m,\u001b[49m\u001b[43m  \u001b[49m\u001b[38;5;66;43;03m# type: ignore[arg-type]\u001b[39;49;00m\n\u001b[1;32m   1931\u001b[0m \u001b[43m    \u001b[49m\u001b[43mobserved\u001b[49m\u001b[38;5;241;43m=\u001b[39;49m\u001b[43mobserved\u001b[49m\u001b[43m,\u001b[49m\n\u001b[1;32m   1932\u001b[0m \u001b[43m    \u001b[49m\u001b[43mdropna\u001b[49m\u001b[38;5;241;43m=\u001b[39;49m\u001b[43mdropna\u001b[49m\u001b[43m,\u001b[49m\n\u001b[1;32m   1933\u001b[0m \u001b[43m\u001b[49m\u001b[43m)\u001b[49m\n",
      "File \u001b[0;32m~/opt/anaconda3/lib/python3.9/site-packages/pandas/core/groupby/groupby.py:882\u001b[0m, in \u001b[0;36mGroupBy.__init__\u001b[0;34m(self, obj, keys, axis, level, grouper, exclusions, selection, as_index, sort, group_keys, squeeze, observed, mutated, dropna)\u001b[0m\n\u001b[1;32m    879\u001b[0m \u001b[38;5;28;01mif\u001b[39;00m grouper \u001b[38;5;129;01mis\u001b[39;00m \u001b[38;5;28;01mNone\u001b[39;00m:\n\u001b[1;32m    880\u001b[0m     \u001b[38;5;28;01mfrom\u001b[39;00m \u001b[38;5;21;01mpandas\u001b[39;00m\u001b[38;5;21;01m.\u001b[39;00m\u001b[38;5;21;01mcore\u001b[39;00m\u001b[38;5;21;01m.\u001b[39;00m\u001b[38;5;21;01mgroupby\u001b[39;00m\u001b[38;5;21;01m.\u001b[39;00m\u001b[38;5;21;01mgrouper\u001b[39;00m \u001b[38;5;28;01mimport\u001b[39;00m get_grouper\n\u001b[0;32m--> 882\u001b[0m     grouper, exclusions, obj \u001b[38;5;241m=\u001b[39m \u001b[43mget_grouper\u001b[49m\u001b[43m(\u001b[49m\n\u001b[1;32m    883\u001b[0m \u001b[43m        \u001b[49m\u001b[43mobj\u001b[49m\u001b[43m,\u001b[49m\n\u001b[1;32m    884\u001b[0m \u001b[43m        \u001b[49m\u001b[43mkeys\u001b[49m\u001b[43m,\u001b[49m\n\u001b[1;32m    885\u001b[0m \u001b[43m        \u001b[49m\u001b[43maxis\u001b[49m\u001b[38;5;241;43m=\u001b[39;49m\u001b[43maxis\u001b[49m\u001b[43m,\u001b[49m\n\u001b[1;32m    886\u001b[0m \u001b[43m        \u001b[49m\u001b[43mlevel\u001b[49m\u001b[38;5;241;43m=\u001b[39;49m\u001b[43mlevel\u001b[49m\u001b[43m,\u001b[49m\n\u001b[1;32m    887\u001b[0m \u001b[43m        \u001b[49m\u001b[43msort\u001b[49m\u001b[38;5;241;43m=\u001b[39;49m\u001b[43msort\u001b[49m\u001b[43m,\u001b[49m\n\u001b[1;32m    888\u001b[0m \u001b[43m        \u001b[49m\u001b[43mobserved\u001b[49m\u001b[38;5;241;43m=\u001b[39;49m\u001b[43mobserved\u001b[49m\u001b[43m,\u001b[49m\n\u001b[1;32m    889\u001b[0m \u001b[43m        \u001b[49m\u001b[43mmutated\u001b[49m\u001b[38;5;241;43m=\u001b[39;49m\u001b[38;5;28;43mself\u001b[39;49m\u001b[38;5;241;43m.\u001b[39;49m\u001b[43mmutated\u001b[49m\u001b[43m,\u001b[49m\n\u001b[1;32m    890\u001b[0m \u001b[43m        \u001b[49m\u001b[43mdropna\u001b[49m\u001b[38;5;241;43m=\u001b[39;49m\u001b[38;5;28;43mself\u001b[39;49m\u001b[38;5;241;43m.\u001b[39;49m\u001b[43mdropna\u001b[49m\u001b[43m,\u001b[49m\n\u001b[1;32m    891\u001b[0m \u001b[43m    \u001b[49m\u001b[43m)\u001b[49m\n\u001b[1;32m    893\u001b[0m \u001b[38;5;28mself\u001b[39m\u001b[38;5;241m.\u001b[39mobj \u001b[38;5;241m=\u001b[39m obj\n\u001b[1;32m    894\u001b[0m \u001b[38;5;28mself\u001b[39m\u001b[38;5;241m.\u001b[39maxis \u001b[38;5;241m=\u001b[39m obj\u001b[38;5;241m.\u001b[39m_get_axis_number(axis)\n",
      "File \u001b[0;32m~/opt/anaconda3/lib/python3.9/site-packages/pandas/core/groupby/grouper.py:882\u001b[0m, in \u001b[0;36mget_grouper\u001b[0;34m(obj, key, axis, level, sort, observed, mutated, validate, dropna)\u001b[0m\n\u001b[1;32m    880\u001b[0m         in_axis, level, gpr \u001b[38;5;241m=\u001b[39m \u001b[38;5;28;01mFalse\u001b[39;00m, gpr, \u001b[38;5;28;01mNone\u001b[39;00m\n\u001b[1;32m    881\u001b[0m     \u001b[38;5;28;01melse\u001b[39;00m:\n\u001b[0;32m--> 882\u001b[0m         \u001b[38;5;28;01mraise\u001b[39;00m \u001b[38;5;167;01mKeyError\u001b[39;00m(gpr)\n\u001b[1;32m    883\u001b[0m \u001b[38;5;28;01melif\u001b[39;00m \u001b[38;5;28misinstance\u001b[39m(gpr, Grouper) \u001b[38;5;129;01mand\u001b[39;00m gpr\u001b[38;5;241m.\u001b[39mkey \u001b[38;5;129;01mis\u001b[39;00m \u001b[38;5;129;01mnot\u001b[39;00m \u001b[38;5;28;01mNone\u001b[39;00m:\n\u001b[1;32m    884\u001b[0m     \u001b[38;5;66;03m# Add key to exclusions\u001b[39;00m\n\u001b[1;32m    885\u001b[0m     exclusions\u001b[38;5;241m.\u001b[39madd(gpr\u001b[38;5;241m.\u001b[39mkey)\n",
      "\u001b[0;31mKeyError\u001b[0m: 'dt.month'"
     ]
    }
   ],
   "source": [
    "#rides_per_month = pd.DataFrame({'end_dates':pd.date_range(start=end_dates.datetime(2019,1,1),end=dt.datetime(2019,31,12))})\n",
    "#chicago_set['end_time'].groupby(['dt.month']).agg({'count'})\n",
    "# <=pd.Timestamp(2019,1,31)\n",
    "\n",
    "\n"
   ]
  },
  {
   "cell_type": "code",
   "execution_count": 33,
   "id": "69be628a",
   "metadata": {},
   "outputs": [
    {
     "name": "stdout",
     "output_type": "stream",
     "text": [
      "6017\n"
     ]
    }
   ],
   "source": [
    "fleet_size = len(chicago_set['bike_id'].unique())\n",
    "\n",
    "\n",
    "#capacity_per_hour -> connect the fleet_size with the time to predict at what times in which areas we need to do something\n"
   ]
  },
  {
   "cell_type": "markdown",
   "id": "6a0f43cd",
   "metadata": {},
   "source": [
    "In the following part we try to visualize our data set. We want to make clear which time factory like months, time or weekday has influence on the demand. Furthermore, we try to find patterns of the duration and the time the service is getting used."
   ]
  },
  {
   "cell_type": "code",
   "execution_count": null,
   "id": "3da5f5fb",
   "metadata": {},
   "outputs": [],
   "source": [
    "rides_per_month = {'January',\n",
    "'February', 'March', 'April','May','June','July', 'August','September', 'October','November','December'}\n",
    "\n"
   ]
  }
 ],
 "metadata": {
  "kernelspec": {
   "display_name": "Python 3 (ipykernel)",
   "language": "python",
   "name": "python3"
  },
  "language_info": {
   "codemirror_mode": {
    "name": "ipython",
    "version": 3
   },
   "file_extension": ".py",
   "mimetype": "text/x-python",
   "name": "python",
   "nbconvert_exporter": "python",
   "pygments_lexer": "ipython3",
   "version": "3.9.12"
  }
 },
 "nbformat": 4,
 "nbformat_minor": 5
}
