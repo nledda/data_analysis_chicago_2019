{
 "cells": [
  {
   "cell_type": "markdown",
   "id": "96a68f83",
   "metadata": {},
   "source": [
    "# Data Analysis of the Chicago Dataset\n",
    "\n",
    "In this Jupyter Notebook we will analyze a bike sharing dataset of the city Chicago of the year 2019. We will also include the hourly weather data of the city during the same time. In the first part we will visualize the data and try to develop a deep understanding of the user types and recurring bahavioral patterns. In the second part we use this knowledge to develop a predicition model which forecasts future demand."
   ]
  },
  {
   "cell_type": "markdown",
   "id": "38b51333",
   "metadata": {},
   "source": [
    "## Getting started: importing the data and getting it in the right format"
   ]
  },
  {
   "cell_type": "markdown",
   "id": "9d1cfc09",
   "metadata": {},
   "source": [
    "At first we import all of the required libraries in this notebook. In this case we import *NumPy, Pandas, Matplotlib and Seaborn*. \n"
   ]
  },
  {
   "cell_type": "code",
   "execution_count": 1,
   "id": "1b763a1d",
   "metadata": {},
   "outputs": [],
   "source": [
    "import numpy as np\n",
    "import pandas as pd\n",
    "import matplotlib as mpl\n",
    "import matplotlib.pyplot as plt\n",
    "import seaborn as sns"
   ]
  },
  {
   "cell_type": "markdown",
   "id": "c287f648",
   "metadata": {},
   "source": [
    "Next we import the datasets. This is in perticular the dataset of the city Chicago of the year 2019 and the associated weather data. We do this with the library Pandas, therefore both datasets have now the datatype \"Pandas Dataframe\" ([documentation](https://pandas.pydata.org/docs/reference/frame.html))."
   ]
  },
  {
   "cell_type": "code",
   "execution_count": 2,
   "id": "0bcfd986",
   "metadata": {},
   "outputs": [],
   "source": [
    "chicago_set = pd.read_csv('chicago_2019.csv')\n",
    "weather_set = pd.read_csv('weather_hourly_chicago.csv')"
   ]
  },
  {
   "cell_type": "markdown",
   "id": "83ddc03b",
   "metadata": {},
   "source": [
    "We use the commands head() and info() to get a feeling for the data"
   ]
  },
  {
   "cell_type": "code",
   "execution_count": 3,
   "id": "e6024bfd",
   "metadata": {
    "scrolled": true
   },
   "outputs": [
    {
     "data": {
      "text/html": [
       "<div>\n",
       "<style scoped>\n",
       "    .dataframe tbody tr th:only-of-type {\n",
       "        vertical-align: middle;\n",
       "    }\n",
       "\n",
       "    .dataframe tbody tr th {\n",
       "        vertical-align: top;\n",
       "    }\n",
       "\n",
       "    .dataframe thead th {\n",
       "        text-align: right;\n",
       "    }\n",
       "</style>\n",
       "<table border=\"1\" class=\"dataframe\">\n",
       "  <thead>\n",
       "    <tr style=\"text-align: right;\">\n",
       "      <th></th>\n",
       "      <th>start_time</th>\n",
       "      <th>end_time</th>\n",
       "      <th>start_station_id</th>\n",
       "      <th>end_station_id</th>\n",
       "      <th>start_station_name</th>\n",
       "      <th>end_station_name</th>\n",
       "      <th>bike_id</th>\n",
       "      <th>user_type</th>\n",
       "    </tr>\n",
       "  </thead>\n",
       "  <tbody>\n",
       "    <tr>\n",
       "      <th>0</th>\n",
       "      <td>2019-01-01 00:04:37</td>\n",
       "      <td>2019-01-01 00:11:07</td>\n",
       "      <td>199</td>\n",
       "      <td>84</td>\n",
       "      <td>Wabash Ave &amp; Grand Ave</td>\n",
       "      <td>Milwaukee Ave &amp; Grand Ave</td>\n",
       "      <td>2167</td>\n",
       "      <td>Subscriber</td>\n",
       "    </tr>\n",
       "    <tr>\n",
       "      <th>1</th>\n",
       "      <td>2019-01-01 00:08:13</td>\n",
       "      <td>2019-01-01 00:15:34</td>\n",
       "      <td>44</td>\n",
       "      <td>624</td>\n",
       "      <td>State St &amp; Randolph St</td>\n",
       "      <td>Dearborn St &amp; Van Buren St (*)</td>\n",
       "      <td>4386</td>\n",
       "      <td>Subscriber</td>\n",
       "    </tr>\n",
       "    <tr>\n",
       "      <th>2</th>\n",
       "      <td>2019-01-01 00:13:23</td>\n",
       "      <td>2019-01-01 00:27:12</td>\n",
       "      <td>15</td>\n",
       "      <td>644</td>\n",
       "      <td>Racine Ave &amp; 18th St</td>\n",
       "      <td>Western Ave &amp; Fillmore St (*)</td>\n",
       "      <td>1524</td>\n",
       "      <td>Subscriber</td>\n",
       "    </tr>\n",
       "    <tr>\n",
       "      <th>3</th>\n",
       "      <td>2019-01-01 00:13:45</td>\n",
       "      <td>2019-01-01 00:43:28</td>\n",
       "      <td>123</td>\n",
       "      <td>176</td>\n",
       "      <td>California Ave &amp; Milwaukee Ave</td>\n",
       "      <td>Clark St &amp; Elm St</td>\n",
       "      <td>252</td>\n",
       "      <td>Subscriber</td>\n",
       "    </tr>\n",
       "    <tr>\n",
       "      <th>4</th>\n",
       "      <td>2019-01-01 00:14:52</td>\n",
       "      <td>2019-01-01 00:20:56</td>\n",
       "      <td>173</td>\n",
       "      <td>35</td>\n",
       "      <td>Mies van der Rohe Way &amp; Chicago Ave</td>\n",
       "      <td>Streeter Dr &amp; Grand Ave</td>\n",
       "      <td>1170</td>\n",
       "      <td>Subscriber</td>\n",
       "    </tr>\n",
       "  </tbody>\n",
       "</table>\n",
       "</div>"
      ],
      "text/plain": [
       "            start_time             end_time  start_station_id  end_station_id  \\\n",
       "0  2019-01-01 00:04:37  2019-01-01 00:11:07               199              84   \n",
       "1  2019-01-01 00:08:13  2019-01-01 00:15:34                44             624   \n",
       "2  2019-01-01 00:13:23  2019-01-01 00:27:12                15             644   \n",
       "3  2019-01-01 00:13:45  2019-01-01 00:43:28               123             176   \n",
       "4  2019-01-01 00:14:52  2019-01-01 00:20:56               173              35   \n",
       "\n",
       "                    start_station_name                end_station_name  \\\n",
       "0               Wabash Ave & Grand Ave       Milwaukee Ave & Grand Ave   \n",
       "1               State St & Randolph St  Dearborn St & Van Buren St (*)   \n",
       "2                 Racine Ave & 18th St   Western Ave & Fillmore St (*)   \n",
       "3       California Ave & Milwaukee Ave               Clark St & Elm St   \n",
       "4  Mies van der Rohe Way & Chicago Ave         Streeter Dr & Grand Ave   \n",
       "\n",
       "   bike_id   user_type  \n",
       "0     2167  Subscriber  \n",
       "1     4386  Subscriber  \n",
       "2     1524  Subscriber  \n",
       "3      252  Subscriber  \n",
       "4     1170  Subscriber  "
      ]
     },
     "execution_count": 3,
     "metadata": {},
     "output_type": "execute_result"
    }
   ],
   "source": [
    "chicago_set.head()"
   ]
  },
  {
   "cell_type": "code",
   "execution_count": 4,
   "id": "49d74cf8",
   "metadata": {
    "scrolled": true
   },
   "outputs": [
    {
     "name": "stdout",
     "output_type": "stream",
     "text": [
      "<class 'pandas.core.frame.DataFrame'>\n",
      "RangeIndex: 3818004 entries, 0 to 3818003\n",
      "Data columns (total 8 columns):\n",
      " #   Column              Dtype \n",
      "---  ------              ----- \n",
      " 0   start_time          object\n",
      " 1   end_time            object\n",
      " 2   start_station_id    int64 \n",
      " 3   end_station_id      int64 \n",
      " 4   start_station_name  object\n",
      " 5   end_station_name    object\n",
      " 6   bike_id             int64 \n",
      " 7   user_type           object\n",
      "dtypes: int64(3), object(5)\n",
      "memory usage: 233.0+ MB\n"
     ]
    }
   ],
   "source": [
    "chicago_set.info()"
   ]
  },
  {
   "cell_type": "markdown",
   "id": "a080324c",
   "metadata": {},
   "source": [
    "So we know that we have a dataset with 3.8 million entries and we have multiple columns, two columns for the time (*start_time and end_time*), four columns for the location (*start_station_id, end_station_id and the respective names*) and the *bike_id* and *user_type*. "
   ]
  },
  {
   "cell_type": "code",
   "execution_count": 5,
   "id": "dd0ad6ad",
   "metadata": {},
   "outputs": [
    {
     "name": "stdout",
     "output_type": "stream",
     "text": [
      "<class 'pandas.core.frame.DataFrame'>\n",
      "RangeIndex: 43848 entries, 0 to 43847\n",
      "Data columns (total 4 columns):\n",
      " #   Column     Non-Null Count  Dtype  \n",
      "---  ------     --------------  -----  \n",
      " 0   date_time  43788 non-null  object \n",
      " 1   max_temp   43788 non-null  float64\n",
      " 2   min_temp   43788 non-null  float64\n",
      " 3   precip     43790 non-null  float64\n",
      "dtypes: float64(3), object(1)\n",
      "memory usage: 1.3+ MB\n"
     ]
    }
   ],
   "source": [
    "weather_set.info()"
   ]
  },
  {
   "cell_type": "markdown",
   "id": "00c0f31c",
   "metadata": {},
   "source": [
    "We first investigate the time data we got. Therefore, we need to transform the data type of the columns \"*start_time*\" and \"*end_time*\" from String to Panda Datetime. This allows us in the following code snippet to add another column to our dataframe which we call *duration*. This is the difference between the end_time and the start_time. "
   ]
  },
  {
   "cell_type": "code",
   "execution_count": 6,
   "id": "ab2ca06e",
   "metadata": {},
   "outputs": [
    {
     "data": {
      "text/html": [
       "<div>\n",
       "<style scoped>\n",
       "    .dataframe tbody tr th:only-of-type {\n",
       "        vertical-align: middle;\n",
       "    }\n",
       "\n",
       "    .dataframe tbody tr th {\n",
       "        vertical-align: top;\n",
       "    }\n",
       "\n",
       "    .dataframe thead th {\n",
       "        text-align: right;\n",
       "    }\n",
       "</style>\n",
       "<table border=\"1\" class=\"dataframe\">\n",
       "  <thead>\n",
       "    <tr style=\"text-align: right;\">\n",
       "      <th></th>\n",
       "      <th>start_station_id</th>\n",
       "      <th>end_station_id</th>\n",
       "      <th>bike_id</th>\n",
       "      <th>duration</th>\n",
       "    </tr>\n",
       "  </thead>\n",
       "  <tbody>\n",
       "    <tr>\n",
       "      <th>count</th>\n",
       "      <td>3.818004e+06</td>\n",
       "      <td>3.818004e+06</td>\n",
       "      <td>3.818004e+06</td>\n",
       "      <td>3818004</td>\n",
       "    </tr>\n",
       "    <tr>\n",
       "      <th>mean</th>\n",
       "      <td>2.016659e+02</td>\n",
       "      <td>2.026363e+02</td>\n",
       "      <td>3.380252e+03</td>\n",
       "      <td>0 days 00:24:10.451397903</td>\n",
       "    </tr>\n",
       "    <tr>\n",
       "      <th>std</th>\n",
       "      <td>1.560798e+02</td>\n",
       "      <td>1.562388e+02</td>\n",
       "      <td>1.902511e+03</td>\n",
       "      <td>0 days 08:17:32.263421746</td>\n",
       "    </tr>\n",
       "    <tr>\n",
       "      <th>min</th>\n",
       "      <td>1.000000e+00</td>\n",
       "      <td>1.000000e+00</td>\n",
       "      <td>1.000000e+00</td>\n",
       "      <td>-1 days +23:03:38</td>\n",
       "    </tr>\n",
       "    <tr>\n",
       "      <th>25%</th>\n",
       "      <td>7.700000e+01</td>\n",
       "      <td>7.700000e+01</td>\n",
       "      <td>1.727000e+03</td>\n",
       "      <td>0 days 00:06:51</td>\n",
       "    </tr>\n",
       "    <tr>\n",
       "      <th>50%</th>\n",
       "      <td>1.740000e+02</td>\n",
       "      <td>1.740000e+02</td>\n",
       "      <td>3.451000e+03</td>\n",
       "      <td>0 days 00:11:49</td>\n",
       "    </tr>\n",
       "    <tr>\n",
       "      <th>75%</th>\n",
       "      <td>2.890000e+02</td>\n",
       "      <td>2.910000e+02</td>\n",
       "      <td>5.046000e+03</td>\n",
       "      <td>0 days 00:21:24</td>\n",
       "    </tr>\n",
       "    <tr>\n",
       "      <th>max</th>\n",
       "      <td>6.730000e+02</td>\n",
       "      <td>6.730000e+02</td>\n",
       "      <td>6.946000e+03</td>\n",
       "      <td>123 days 01:20:22</td>\n",
       "    </tr>\n",
       "  </tbody>\n",
       "</table>\n",
       "</div>"
      ],
      "text/plain": [
       "       start_station_id  end_station_id       bike_id  \\\n",
       "count      3.818004e+06    3.818004e+06  3.818004e+06   \n",
       "mean       2.016659e+02    2.026363e+02  3.380252e+03   \n",
       "std        1.560798e+02    1.562388e+02  1.902511e+03   \n",
       "min        1.000000e+00    1.000000e+00  1.000000e+00   \n",
       "25%        7.700000e+01    7.700000e+01  1.727000e+03   \n",
       "50%        1.740000e+02    1.740000e+02  3.451000e+03   \n",
       "75%        2.890000e+02    2.910000e+02  5.046000e+03   \n",
       "max        6.730000e+02    6.730000e+02  6.946000e+03   \n",
       "\n",
       "                        duration  \n",
       "count                    3818004  \n",
       "mean   0 days 00:24:10.451397903  \n",
       "std    0 days 08:17:32.263421746  \n",
       "min            -1 days +23:03:38  \n",
       "25%              0 days 00:06:51  \n",
       "50%              0 days 00:11:49  \n",
       "75%              0 days 00:21:24  \n",
       "max            123 days 01:20:22  "
      ]
     },
     "execution_count": 6,
     "metadata": {},
     "output_type": "execute_result"
    }
   ],
   "source": [
    "chicago_set['start_time'] = pd.to_datetime(chicago_set['start_time'])\n",
    "chicago_set['end_time'] = pd.to_datetime(chicago_set['end_time'])\n",
    "\n",
    "chicago_set['duration'] = chicago_set['end_time'] - chicago_set['start_time']\n",
    "chicago_set.describe()"
   ]
  },
  {
   "cell_type": "markdown",
   "id": "adc1449b",
   "metadata": {},
   "source": [
    "We calculated the duration of the rides and see that the maximum duration of a ride was over 123 days. We can assume that there a other cases where the data is inconclusive, therefore we will clean our dataset and delete those wrong outliners."
   ]
  },
  {
   "cell_type": "markdown",
   "id": "45fd64fa",
   "metadata": {},
   "source": [
    "## Cleaning up our data"
   ]
  },
  {
   "cell_type": "markdown",
   "id": "426ab82d",
   "metadata": {},
   "source": [
    "### Examples of invalid data"
   ]
  },
  {
   "cell_type": "code",
   "execution_count": 7,
   "id": "a9425271",
   "metadata": {},
   "outputs": [
    {
     "data": {
      "text/html": [
       "<div>\n",
       "<style scoped>\n",
       "    .dataframe tbody tr th:only-of-type {\n",
       "        vertical-align: middle;\n",
       "    }\n",
       "\n",
       "    .dataframe tbody tr th {\n",
       "        vertical-align: top;\n",
       "    }\n",
       "\n",
       "    .dataframe thead th {\n",
       "        text-align: right;\n",
       "    }\n",
       "</style>\n",
       "<table border=\"1\" class=\"dataframe\">\n",
       "  <thead>\n",
       "    <tr style=\"text-align: right;\">\n",
       "      <th></th>\n",
       "      <th>start_time</th>\n",
       "      <th>end_time</th>\n",
       "      <th>start_station_id</th>\n",
       "      <th>end_station_id</th>\n",
       "      <th>start_station_name</th>\n",
       "      <th>end_station_name</th>\n",
       "      <th>bike_id</th>\n",
       "      <th>user_type</th>\n",
       "      <th>duration</th>\n",
       "    </tr>\n",
       "  </thead>\n",
       "  <tbody>\n",
       "    <tr>\n",
       "      <th>446228</th>\n",
       "      <td>2019-04-09 19:02:42</td>\n",
       "      <td>2019-05-06 10:49:35</td>\n",
       "      <td>329</td>\n",
       "      <td>360</td>\n",
       "      <td>Lake Shore Dr &amp; Diversey Pkwy</td>\n",
       "      <td>DIVVY Map Frame B/C Station</td>\n",
       "      <td>3290</td>\n",
       "      <td>Customer</td>\n",
       "      <td>26 days 15:46:53</td>\n",
       "    </tr>\n",
       "    <tr>\n",
       "      <th>1697056</th>\n",
       "      <td>2019-07-13 16:50:32</td>\n",
       "      <td>2019-07-16 19:00:16</td>\n",
       "      <td>85</td>\n",
       "      <td>320</td>\n",
       "      <td>Michigan Ave &amp; Oak St</td>\n",
       "      <td>Loomis St &amp; Lexington St</td>\n",
       "      <td>283</td>\n",
       "      <td>Customer</td>\n",
       "      <td>3 days 02:09:44</td>\n",
       "    </tr>\n",
       "    <tr>\n",
       "      <th>361097</th>\n",
       "      <td>2019-03-30 16:07:53</td>\n",
       "      <td>2019-03-31 17:50:01</td>\n",
       "      <td>638</td>\n",
       "      <td>134</td>\n",
       "      <td>Clinton St &amp; Jackson Blvd (*)</td>\n",
       "      <td>Peoria St &amp; Jackson Blvd</td>\n",
       "      <td>3636</td>\n",
       "      <td>Subscriber</td>\n",
       "      <td>1 days 01:42:08</td>\n",
       "    </tr>\n",
       "    <tr>\n",
       "      <th>2630015</th>\n",
       "      <td>2019-09-01 15:32:49</td>\n",
       "      <td>2019-09-13 15:23:55</td>\n",
       "      <td>499</td>\n",
       "      <td>305</td>\n",
       "      <td>Kosciuszko Park</td>\n",
       "      <td>Western Ave &amp; Division St</td>\n",
       "      <td>2972</td>\n",
       "      <td>Customer</td>\n",
       "      <td>11 days 23:51:06</td>\n",
       "    </tr>\n",
       "    <tr>\n",
       "      <th>2617996</th>\n",
       "      <td>2019-08-31 18:08:06</td>\n",
       "      <td>2019-09-25 06:38:41</td>\n",
       "      <td>642</td>\n",
       "      <td>91</td>\n",
       "      <td>Latrobe Ave &amp; Chicago Ave</td>\n",
       "      <td>Clinton St &amp; Washington Blvd</td>\n",
       "      <td>1276</td>\n",
       "      <td>Customer</td>\n",
       "      <td>24 days 12:30:35</td>\n",
       "    </tr>\n",
       "  </tbody>\n",
       "</table>\n",
       "</div>"
      ],
      "text/plain": [
       "                 start_time            end_time  start_station_id  \\\n",
       "446228  2019-04-09 19:02:42 2019-05-06 10:49:35               329   \n",
       "1697056 2019-07-13 16:50:32 2019-07-16 19:00:16                85   \n",
       "361097  2019-03-30 16:07:53 2019-03-31 17:50:01               638   \n",
       "2630015 2019-09-01 15:32:49 2019-09-13 15:23:55               499   \n",
       "2617996 2019-08-31 18:08:06 2019-09-25 06:38:41               642   \n",
       "\n",
       "         end_station_id             start_station_name  \\\n",
       "446228              360  Lake Shore Dr & Diversey Pkwy   \n",
       "1697056             320          Michigan Ave & Oak St   \n",
       "361097              134  Clinton St & Jackson Blvd (*)   \n",
       "2630015             305                Kosciuszko Park   \n",
       "2617996              91      Latrobe Ave & Chicago Ave   \n",
       "\n",
       "                     end_station_name  bike_id   user_type         duration  \n",
       "446228    DIVVY Map Frame B/C Station     3290    Customer 26 days 15:46:53  \n",
       "1697056      Loomis St & Lexington St      283    Customer  3 days 02:09:44  \n",
       "361097       Peoria St & Jackson Blvd     3636  Subscriber  1 days 01:42:08  \n",
       "2630015     Western Ave & Division St     2972    Customer 11 days 23:51:06  \n",
       "2617996  Clinton St & Washington Blvd     1276    Customer 24 days 12:30:35  "
      ]
     },
     "execution_count": 7,
     "metadata": {},
     "output_type": "execute_result"
    }
   ],
   "source": [
    "import datetime\n",
    "chicago_set[chicago_set['duration'] >= datetime.timedelta(days=1)].sample(n=5)"
   ]
  },
  {
   "cell_type": "code",
   "execution_count": 8,
   "id": "0f185caf",
   "metadata": {},
   "outputs": [
    {
     "data": {
      "text/html": [
       "<div>\n",
       "<style scoped>\n",
       "    .dataframe tbody tr th:only-of-type {\n",
       "        vertical-align: middle;\n",
       "    }\n",
       "\n",
       "    .dataframe tbody tr th {\n",
       "        vertical-align: top;\n",
       "    }\n",
       "\n",
       "    .dataframe thead th {\n",
       "        text-align: right;\n",
       "    }\n",
       "</style>\n",
       "<table border=\"1\" class=\"dataframe\">\n",
       "  <thead>\n",
       "    <tr style=\"text-align: right;\">\n",
       "      <th></th>\n",
       "      <th>start_time</th>\n",
       "      <th>end_time</th>\n",
       "      <th>start_station_id</th>\n",
       "      <th>end_station_id</th>\n",
       "      <th>start_station_name</th>\n",
       "      <th>end_station_name</th>\n",
       "      <th>bike_id</th>\n",
       "      <th>user_type</th>\n",
       "      <th>duration</th>\n",
       "    </tr>\n",
       "  </thead>\n",
       "  <tbody>\n",
       "    <tr>\n",
       "      <th>3498441</th>\n",
       "      <td>2019-11-03 01:53:08</td>\n",
       "      <td>2019-11-03 01:04:53</td>\n",
       "      <td>177</td>\n",
       "      <td>327</td>\n",
       "      <td>Theater on the Lake</td>\n",
       "      <td>Sheffield Ave &amp; Webster Ave</td>\n",
       "      <td>2142</td>\n",
       "      <td>Customer</td>\n",
       "      <td>-1 days +23:11:45</td>\n",
       "    </tr>\n",
       "    <tr>\n",
       "      <th>3498440</th>\n",
       "      <td>2019-11-03 01:51:55</td>\n",
       "      <td>2019-11-03 01:04:33</td>\n",
       "      <td>177</td>\n",
       "      <td>327</td>\n",
       "      <td>Theater on the Lake</td>\n",
       "      <td>Sheffield Ave &amp; Webster Ave</td>\n",
       "      <td>3338</td>\n",
       "      <td>Customer</td>\n",
       "      <td>-1 days +23:12:38</td>\n",
       "    </tr>\n",
       "    <tr>\n",
       "      <th>3498447</th>\n",
       "      <td>2019-11-03 01:58:17</td>\n",
       "      <td>2019-11-03 01:08:27</td>\n",
       "      <td>301</td>\n",
       "      <td>52</td>\n",
       "      <td>Clark St &amp; Schiller St</td>\n",
       "      <td>Michigan Ave &amp; Lake St</td>\n",
       "      <td>6133</td>\n",
       "      <td>Subscriber</td>\n",
       "      <td>-1 days +23:10:10</td>\n",
       "    </tr>\n",
       "    <tr>\n",
       "      <th>3498428</th>\n",
       "      <td>2019-11-03 01:43:21</td>\n",
       "      <td>2019-11-03 01:09:56</td>\n",
       "      <td>632</td>\n",
       "      <td>133</td>\n",
       "      <td>Clark St &amp; Newport St</td>\n",
       "      <td>Kingsbury St &amp; Kinzie St</td>\n",
       "      <td>4141</td>\n",
       "      <td>Customer</td>\n",
       "      <td>-1 days +23:26:35</td>\n",
       "    </tr>\n",
       "    <tr>\n",
       "      <th>3498436</th>\n",
       "      <td>2019-11-03 01:48:04</td>\n",
       "      <td>2019-11-03 01:16:48</td>\n",
       "      <td>131</td>\n",
       "      <td>131</td>\n",
       "      <td>Lincoln Ave &amp; Belmont Ave</td>\n",
       "      <td>Lincoln Ave &amp; Belmont Ave</td>\n",
       "      <td>2214</td>\n",
       "      <td>Subscriber</td>\n",
       "      <td>-1 days +23:28:44</td>\n",
       "    </tr>\n",
       "  </tbody>\n",
       "</table>\n",
       "</div>"
      ],
      "text/plain": [
       "                 start_time            end_time  start_station_id  \\\n",
       "3498441 2019-11-03 01:53:08 2019-11-03 01:04:53               177   \n",
       "3498440 2019-11-03 01:51:55 2019-11-03 01:04:33               177   \n",
       "3498447 2019-11-03 01:58:17 2019-11-03 01:08:27               301   \n",
       "3498428 2019-11-03 01:43:21 2019-11-03 01:09:56               632   \n",
       "3498436 2019-11-03 01:48:04 2019-11-03 01:16:48               131   \n",
       "\n",
       "         end_station_id         start_station_name  \\\n",
       "3498441             327        Theater on the Lake   \n",
       "3498440             327        Theater on the Lake   \n",
       "3498447              52     Clark St & Schiller St   \n",
       "3498428             133      Clark St & Newport St   \n",
       "3498436             131  Lincoln Ave & Belmont Ave   \n",
       "\n",
       "                    end_station_name  bike_id   user_type          duration  \n",
       "3498441  Sheffield Ave & Webster Ave     2142    Customer -1 days +23:11:45  \n",
       "3498440  Sheffield Ave & Webster Ave     3338    Customer -1 days +23:12:38  \n",
       "3498447       Michigan Ave & Lake St     6133  Subscriber -1 days +23:10:10  \n",
       "3498428     Kingsbury St & Kinzie St     4141    Customer -1 days +23:26:35  \n",
       "3498436    Lincoln Ave & Belmont Ave     2214  Subscriber -1 days +23:28:44  "
      ]
     },
     "execution_count": 8,
     "metadata": {},
     "output_type": "execute_result"
    }
   ],
   "source": [
    "chicago_set[chicago_set['duration'] <= datetime.timedelta(days=0)].sample(n=5)"
   ]
  },
  {
   "cell_type": "markdown",
   "id": "18a6f42b",
   "metadata": {},
   "source": [
    "### Visualization of different quantile deletion of outlierts & invalid data from our data set"
   ]
  },
  {
   "cell_type": "code",
   "execution_count": 9,
   "id": "cffc04b6",
   "metadata": {},
   "outputs": [
    {
     "name": "stdout",
     "output_type": "stream",
     "text": [
      "(0.125% Quantile) All trips with a duration outside of 0 days 00:01:19 to 0 days 09:01:02.970000002 will be removed!\n",
      "That is 9263 out of 3818004 entries!\n"
     ]
    },
    {
     "data": {
      "image/png": "[encoded data removed]",
      "text/plain": [
       "<Figure size 432x288 with 1 Axes>"
      ]
     },
     "metadata": {
      "needs_background": "light"
     },
     "output_type": "display_data"
    },
    {
     "name": "stdout",
     "output_type": "stream",
     "text": [
      "count                      3808741\n",
      "mean     0 days 00:18:22.340564506\n",
      "std      0 days 00:23:21.735330331\n",
      "min                0 days 00:01:19\n",
      "25%                0 days 00:06:52\n",
      "50%                0 days 00:11:49\n",
      "75%                0 days 00:21:21\n",
      "max                0 days 09:00:59\n",
      "Name: duration, dtype: object\n",
      "\n",
      "(0.25% Quantile) All trips with a duration outside of 0 days 00:01:33 to 0 days 03:48:11.992500 will be removed!\n",
      "That is 19025 out of 3818004 entries!\n"
     ]
    },
    {
     "data": {
      "image/png": "[encoded data removed]",
      "text/plain": [
       "<Figure size 432x288 with 1 Axes>"
      ]
     },
     "metadata": {
      "needs_background": "light"
     },
     "output_type": "display_data"
    },
    {
     "name": "stdout",
     "output_type": "stream",
     "text": [
      "count                      3798979\n",
      "mean     0 days 00:18:00.690816927\n",
      "std      0 days 00:20:31.001258644\n",
      "min                0 days 00:01:33\n",
      "25%                0 days 00:06:53\n",
      "50%                0 days 00:11:49\n",
      "75%                0 days 00:21:19\n",
      "max                0 days 03:48:11\n",
      "Name: duration, dtype: object\n",
      "\n",
      "(0.5% Quantile) All trips with a duration outside of 0 days 00:01:49 to 0 days 02:42:28 will be removed!\n",
      "That is 37931 out of 3818004 entries!\n"
     ]
    },
    {
     "data": {
      "image/png": "[encoded data removed]",
      "text/plain": [
       "<Figure size 432x288 with 1 Axes>"
      ]
     },
     "metadata": {
      "needs_background": "light"
     },
     "output_type": "display_data"
    },
    {
     "name": "stdout",
     "output_type": "stream",
     "text": [
      "count                      3780073\n",
      "mean     0 days 00:17:37.940601940\n",
      "std      0 days 00:18:45.168339717\n",
      "min                0 days 00:01:49\n",
      "25%                0 days 00:06:54\n",
      "50%                0 days 00:11:49\n",
      "75%                0 days 00:21:15\n",
      "max                0 days 02:42:28\n",
      "Name: duration, dtype: object\n",
      "\n"
     ]
    }
   ],
   "source": [
    "%matplotlib inline\n",
    "# Data to remove from top and bottom\n",
    "def get_outside_time_frame_data(df, dt_column, lower_bound, upper_bound):\n",
    "    return df[(df[dt_column] < lower_bound) | (df[dt_column] > upper_bound)]\n",
    "\n",
    "quantiles = [0.00125, 0.0025, 0.005] # (0.125%; 0.25%; 0.5%) * 2\n",
    "for quantile in quantiles:\n",
    "    # amount = len(chicago_set[(chicago_set['duration'] < chicago_set.duration.quantile(quantile)) | (chicago_set['duration'] > chicago_set.duration.quantile(1 - quantile))])\n",
    "    lower_bound = chicago_set.duration.quantile(quantile)\n",
    "    upper_bound = chicago_set.duration.quantile(1 - quantile)\n",
    "    amount = get_outside_time_frame_data(chicago_set, 'duration', lower_bound, upper_bound)\n",
    "    print('(' + str(quantile*100) + '% Quantile) All trips with a duration outside of ' + str(lower_bound) + ' to ' + str(upper_bound) + ' will be removed!')\n",
    "    print('That is ' + str(len(amount)) + ' out of ' + str(len(chicago_set)) + ' entries!')\n",
    "    chicago_set_clean = chicago_set.drop(amount.index)\n",
    "    plt.hist(chicago_set_clean['duration']/pd.Timedelta(minutes=1), bins=100)\n",
    "    plt.show()\n",
    "    print(str(chicago_set_clean['duration'].describe()) + '\\n')"
   ]
  },
  {
   "cell_type": "markdown",
   "id": "256b79d3",
   "metadata": {},
   "source": [
    "## Analysis of the adjusted dataset"
   ]
  },
  {
   "cell_type": "markdown",
   "id": "1b01f985",
   "metadata": {},
   "source": [
    "### Extract week day as String and numeral from start time"
   ]
  },
  {
   "cell_type": "code",
   "execution_count": 55,
   "id": "fef626da",
   "metadata": {},
   "outputs": [
    {
     "data": {
      "text/html": [
       "<div>\n",
       "<style scoped>\n",
       "    .dataframe tbody tr th:only-of-type {\n",
       "        vertical-align: middle;\n",
       "    }\n",
       "\n",
       "    .dataframe tbody tr th {\n",
       "        vertical-align: top;\n",
       "    }\n",
       "\n",
       "    .dataframe thead th {\n",
       "        text-align: right;\n",
       "    }\n",
       "</style>\n",
       "<table border=\"1\" class=\"dataframe\">\n",
       "  <thead>\n",
       "    <tr style=\"text-align: right;\">\n",
       "      <th></th>\n",
       "      <th>start_time</th>\n",
       "      <th>end_time</th>\n",
       "      <th>start_station_id</th>\n",
       "      <th>end_station_id</th>\n",
       "      <th>start_station_name</th>\n",
       "      <th>end_station_name</th>\n",
       "      <th>bike_id</th>\n",
       "      <th>user_type</th>\n",
       "      <th>duration</th>\n",
       "      <th>day_of_week_name</th>\n",
       "      <th>day_of_week</th>\n",
       "      <th>monday</th>\n",
       "      <th>tuesday</th>\n",
       "      <th>wednesday</th>\n",
       "      <th>thursday</th>\n",
       "      <th>friday</th>\n",
       "      <th>saturday</th>\n",
       "    </tr>\n",
       "  </thead>\n",
       "  <tbody>\n",
       "    <tr>\n",
       "      <th>0</th>\n",
       "      <td>2019-01-01 00:04:37</td>\n",
       "      <td>2019-01-01 00:11:07</td>\n",
       "      <td>199</td>\n",
       "      <td>84</td>\n",
       "      <td>Wabash Ave &amp; Grand Ave</td>\n",
       "      <td>Milwaukee Ave &amp; Grand Ave</td>\n",
       "      <td>2167</td>\n",
       "      <td>Subscriber</td>\n",
       "      <td>0 days 00:06:30</td>\n",
       "      <td>Tuesday</td>\n",
       "      <td>1</td>\n",
       "      <td>0</td>\n",
       "      <td>1</td>\n",
       "      <td>0</td>\n",
       "      <td>0</td>\n",
       "      <td>0</td>\n",
       "      <td>0</td>\n",
       "    </tr>\n",
       "    <tr>\n",
       "      <th>1</th>\n",
       "      <td>2019-01-01 00:08:13</td>\n",
       "      <td>2019-01-01 00:15:34</td>\n",
       "      <td>44</td>\n",
       "      <td>624</td>\n",
       "      <td>State St &amp; Randolph St</td>\n",
       "      <td>Dearborn St &amp; Van Buren St (*)</td>\n",
       "      <td>4386</td>\n",
       "      <td>Subscriber</td>\n",
       "      <td>0 days 00:07:21</td>\n",
       "      <td>Tuesday</td>\n",
       "      <td>1</td>\n",
       "      <td>0</td>\n",
       "      <td>1</td>\n",
       "      <td>0</td>\n",
       "      <td>0</td>\n",
       "      <td>0</td>\n",
       "      <td>0</td>\n",
       "    </tr>\n",
       "    <tr>\n",
       "      <th>2</th>\n",
       "      <td>2019-01-01 00:13:23</td>\n",
       "      <td>2019-01-01 00:27:12</td>\n",
       "      <td>15</td>\n",
       "      <td>644</td>\n",
       "      <td>Racine Ave &amp; 18th St</td>\n",
       "      <td>Western Ave &amp; Fillmore St (*)</td>\n",
       "      <td>1524</td>\n",
       "      <td>Subscriber</td>\n",
       "      <td>0 days 00:13:49</td>\n",
       "      <td>Tuesday</td>\n",
       "      <td>1</td>\n",
       "      <td>0</td>\n",
       "      <td>1</td>\n",
       "      <td>0</td>\n",
       "      <td>0</td>\n",
       "      <td>0</td>\n",
       "      <td>0</td>\n",
       "    </tr>\n",
       "    <tr>\n",
       "      <th>3</th>\n",
       "      <td>2019-01-01 00:13:45</td>\n",
       "      <td>2019-01-01 00:43:28</td>\n",
       "      <td>123</td>\n",
       "      <td>176</td>\n",
       "      <td>California Ave &amp; Milwaukee Ave</td>\n",
       "      <td>Clark St &amp; Elm St</td>\n",
       "      <td>252</td>\n",
       "      <td>Subscriber</td>\n",
       "      <td>0 days 00:29:43</td>\n",
       "      <td>Tuesday</td>\n",
       "      <td>1</td>\n",
       "      <td>0</td>\n",
       "      <td>1</td>\n",
       "      <td>0</td>\n",
       "      <td>0</td>\n",
       "      <td>0</td>\n",
       "      <td>0</td>\n",
       "    </tr>\n",
       "    <tr>\n",
       "      <th>4</th>\n",
       "      <td>2019-01-01 00:14:52</td>\n",
       "      <td>2019-01-01 00:20:56</td>\n",
       "      <td>173</td>\n",
       "      <td>35</td>\n",
       "      <td>Mies van der Rohe Way &amp; Chicago Ave</td>\n",
       "      <td>Streeter Dr &amp; Grand Ave</td>\n",
       "      <td>1170</td>\n",
       "      <td>Subscriber</td>\n",
       "      <td>0 days 00:06:04</td>\n",
       "      <td>Tuesday</td>\n",
       "      <td>1</td>\n",
       "      <td>0</td>\n",
       "      <td>1</td>\n",
       "      <td>0</td>\n",
       "      <td>0</td>\n",
       "      <td>0</td>\n",
       "      <td>0</td>\n",
       "    </tr>\n",
       "  </tbody>\n",
       "</table>\n",
       "</div>"
      ],
      "text/plain": [
       "           start_time            end_time  start_station_id  end_station_id  \\\n",
       "0 2019-01-01 00:04:37 2019-01-01 00:11:07               199              84   \n",
       "1 2019-01-01 00:08:13 2019-01-01 00:15:34                44             624   \n",
       "2 2019-01-01 00:13:23 2019-01-01 00:27:12                15             644   \n",
       "3 2019-01-01 00:13:45 2019-01-01 00:43:28               123             176   \n",
       "4 2019-01-01 00:14:52 2019-01-01 00:20:56               173              35   \n",
       "\n",
       "                    start_station_name                end_station_name  \\\n",
       "0               Wabash Ave & Grand Ave       Milwaukee Ave & Grand Ave   \n",
       "1               State St & Randolph St  Dearborn St & Van Buren St (*)   \n",
       "2                 Racine Ave & 18th St   Western Ave & Fillmore St (*)   \n",
       "3       California Ave & Milwaukee Ave               Clark St & Elm St   \n",
       "4  Mies van der Rohe Way & Chicago Ave         Streeter Dr & Grand Ave   \n",
       "\n",
       "   bike_id   user_type        duration day_of_week_name  day_of_week  monday  \\\n",
       "0     2167  Subscriber 0 days 00:06:30          Tuesday            1       0   \n",
       "1     4386  Subscriber 0 days 00:07:21          Tuesday            1       0   \n",
       "2     1524  Subscriber 0 days 00:13:49          Tuesday            1       0   \n",
       "3      252  Subscriber 0 days 00:29:43          Tuesday            1       0   \n",
       "4     1170  Subscriber 0 days 00:06:04          Tuesday            1       0   \n",
       "\n",
       "   tuesday  wednesday  thursday  friday  saturday  \n",
       "0        1          0         0       0         0  \n",
       "1        1          0         0       0         0  \n",
       "2        1          0         0       0         0  \n",
       "3        1          0         0       0         0  \n",
       "4        1          0         0       0         0  "
      ]
     },
     "execution_count": 55,
     "metadata": {},
     "output_type": "execute_result"
    }
   ],
   "source": [
    "chicago_set['day_of_week_name'] = chicago_set['start_time'].dt.day_name()\n",
    "chicago_set['day_of_week'] = chicago_set['start_time'].dt.dayofweek\n",
    "chicago_set.head()"
   ]
  },
  {
   "cell_type": "markdown",
   "id": "a6ff817c",
   "metadata": {},
   "source": [
    "### Hot-encode weekday: turn number for day into boolean"
   ]
  },
  {
   "cell_type": "code",
   "execution_count": 11,
   "id": "40986e02",
   "metadata": {},
   "outputs": [
    {
     "data": {
      "text/html": [
       "<div>\n",
       "<style scoped>\n",
       "    .dataframe tbody tr th:only-of-type {\n",
       "        vertical-align: middle;\n",
       "    }\n",
       "\n",
       "    .dataframe tbody tr th {\n",
       "        vertical-align: top;\n",
       "    }\n",
       "\n",
       "    .dataframe thead th {\n",
       "        text-align: right;\n",
       "    }\n",
       "</style>\n",
       "<table border=\"1\" class=\"dataframe\">\n",
       "  <thead>\n",
       "    <tr style=\"text-align: right;\">\n",
       "      <th></th>\n",
       "      <th>start_time</th>\n",
       "      <th>end_time</th>\n",
       "      <th>start_station_id</th>\n",
       "      <th>end_station_id</th>\n",
       "      <th>start_station_name</th>\n",
       "      <th>end_station_name</th>\n",
       "      <th>bike_id</th>\n",
       "      <th>user_type</th>\n",
       "      <th>duration</th>\n",
       "      <th>day_of_week_name</th>\n",
       "      <th>day_of_week</th>\n",
       "      <th>monday</th>\n",
       "      <th>tuesday</th>\n",
       "      <th>wednesday</th>\n",
       "      <th>thursday</th>\n",
       "      <th>friday</th>\n",
       "      <th>saturday</th>\n",
       "    </tr>\n",
       "  </thead>\n",
       "  <tbody>\n",
       "    <tr>\n",
       "      <th>2884806</th>\n",
       "      <td>2019-09-16 15:48:31</td>\n",
       "      <td>2019-09-16 16:23:41</td>\n",
       "      <td>172</td>\n",
       "      <td>493</td>\n",
       "      <td>Rush St &amp; Cedar St</td>\n",
       "      <td>Western Ave &amp; Roscoe St</td>\n",
       "      <td>5716</td>\n",
       "      <td>Subscriber</td>\n",
       "      <td>0 days 00:35:10</td>\n",
       "      <td>Monday</td>\n",
       "      <td>0</td>\n",
       "      <td>1</td>\n",
       "      <td>0</td>\n",
       "      <td>0</td>\n",
       "      <td>0</td>\n",
       "      <td>0</td>\n",
       "      <td>0</td>\n",
       "    </tr>\n",
       "    <tr>\n",
       "      <th>2828412</th>\n",
       "      <td>2019-09-13 08:54:50</td>\n",
       "      <td>2019-09-13 08:57:29</td>\n",
       "      <td>68</td>\n",
       "      <td>638</td>\n",
       "      <td>Clinton St &amp; Tilden St</td>\n",
       "      <td>Clinton St &amp; Jackson Blvd</td>\n",
       "      <td>4446</td>\n",
       "      <td>Subscriber</td>\n",
       "      <td>0 days 00:02:39</td>\n",
       "      <td>Friday</td>\n",
       "      <td>4</td>\n",
       "      <td>0</td>\n",
       "      <td>0</td>\n",
       "      <td>0</td>\n",
       "      <td>0</td>\n",
       "      <td>1</td>\n",
       "      <td>0</td>\n",
       "    </tr>\n",
       "    <tr>\n",
       "      <th>1284575</th>\n",
       "      <td>2019-06-20 09:01:51</td>\n",
       "      <td>2019-06-20 09:09:45</td>\n",
       "      <td>304</td>\n",
       "      <td>306</td>\n",
       "      <td>Broadway &amp; Waveland Ave</td>\n",
       "      <td>Sheridan Rd &amp; Buena Ave</td>\n",
       "      <td>812</td>\n",
       "      <td>Subscriber</td>\n",
       "      <td>0 days 00:07:54</td>\n",
       "      <td>Thursday</td>\n",
       "      <td>3</td>\n",
       "      <td>0</td>\n",
       "      <td>0</td>\n",
       "      <td>0</td>\n",
       "      <td>1</td>\n",
       "      <td>0</td>\n",
       "      <td>0</td>\n",
       "    </tr>\n",
       "    <tr>\n",
       "      <th>401354</th>\n",
       "      <td>2019-04-05 17:17:26</td>\n",
       "      <td>2019-04-05 17:24:39</td>\n",
       "      <td>197</td>\n",
       "      <td>125</td>\n",
       "      <td>Michigan Ave &amp; Madison St</td>\n",
       "      <td>Rush St &amp; Hubbard St</td>\n",
       "      <td>503</td>\n",
       "      <td>Subscriber</td>\n",
       "      <td>0 days 00:07:13</td>\n",
       "      <td>Friday</td>\n",
       "      <td>4</td>\n",
       "      <td>0</td>\n",
       "      <td>0</td>\n",
       "      <td>0</td>\n",
       "      <td>0</td>\n",
       "      <td>1</td>\n",
       "      <td>0</td>\n",
       "    </tr>\n",
       "    <tr>\n",
       "      <th>2916855</th>\n",
       "      <td>2019-09-18 08:37:16</td>\n",
       "      <td>2019-09-18 08:55:44</td>\n",
       "      <td>183</td>\n",
       "      <td>261</td>\n",
       "      <td>Damen Ave &amp; Thomas St (Augusta Blvd)</td>\n",
       "      <td>Hermitage Ave &amp; Polk St</td>\n",
       "      <td>360</td>\n",
       "      <td>Subscriber</td>\n",
       "      <td>0 days 00:18:28</td>\n",
       "      <td>Wednesday</td>\n",
       "      <td>2</td>\n",
       "      <td>0</td>\n",
       "      <td>0</td>\n",
       "      <td>1</td>\n",
       "      <td>0</td>\n",
       "      <td>0</td>\n",
       "      <td>0</td>\n",
       "    </tr>\n",
       "  </tbody>\n",
       "</table>\n",
       "</div>"
      ],
      "text/plain": [
       "                 start_time            end_time  start_station_id  \\\n",
       "2884806 2019-09-16 15:48:31 2019-09-16 16:23:41               172   \n",
       "2828412 2019-09-13 08:54:50 2019-09-13 08:57:29                68   \n",
       "1284575 2019-06-20 09:01:51 2019-06-20 09:09:45               304   \n",
       "401354  2019-04-05 17:17:26 2019-04-05 17:24:39               197   \n",
       "2916855 2019-09-18 08:37:16 2019-09-18 08:55:44               183   \n",
       "\n",
       "         end_station_id                    start_station_name  \\\n",
       "2884806             493                    Rush St & Cedar St   \n",
       "2828412             638                Clinton St & Tilden St   \n",
       "1284575             306               Broadway & Waveland Ave   \n",
       "401354              125             Michigan Ave & Madison St   \n",
       "2916855             261  Damen Ave & Thomas St (Augusta Blvd)   \n",
       "\n",
       "                  end_station_name  bike_id   user_type        duration  \\\n",
       "2884806    Western Ave & Roscoe St     5716  Subscriber 0 days 00:35:10   \n",
       "2828412  Clinton St & Jackson Blvd     4446  Subscriber 0 days 00:02:39   \n",
       "1284575    Sheridan Rd & Buena Ave      812  Subscriber 0 days 00:07:54   \n",
       "401354        Rush St & Hubbard St      503  Subscriber 0 days 00:07:13   \n",
       "2916855    Hermitage Ave & Polk St      360  Subscriber 0 days 00:18:28   \n",
       "\n",
       "        day_of_week_name  day_of_week  monday  tuesday  wednesday  thursday  \\\n",
       "2884806           Monday            0       1        0          0         0   \n",
       "2828412           Friday            4       0        0          0         0   \n",
       "1284575         Thursday            3       0        0          0         1   \n",
       "401354            Friday            4       0        0          0         0   \n",
       "2916855        Wednesday            2       0        0          1         0   \n",
       "\n",
       "         friday  saturday  \n",
       "2884806       0         0  \n",
       "2828412       1         0  \n",
       "1284575       0         0  \n",
       "401354        1         0  \n",
       "2916855       0         0  "
      ]
     },
     "execution_count": 11,
     "metadata": {},
     "output_type": "execute_result"
    }
   ],
   "source": [
    "chicago_set['monday'] = np.where(chicago_set['day_of_week'] == 0, 1, 0) #[chicago_set['day_of_week'] == 1]\n",
    "day = ['monday', 'tuesday', 'wednesday', 'thursday', 'friday', 'saturday']\n",
    "for i in range(0,6):\n",
    "    chicago_set[day[i]] = np.where(chicago_set['day_of_week'] == i, 1, 0)\n",
    "    \n",
    "chicago_set.sample(n=5)"
   ]
  },
  {
   "cell_type": "markdown",
   "id": "673d0d27",
   "metadata": {},
   "source": [
    "In the following part we will create a variable *fleet_size* which we will use later to determine the availability of bikes for specific times. "
   ]
  },
  {
   "cell_type": "code",
   "execution_count": 12,
   "id": "69be628a",
   "metadata": {
    "scrolled": true
   },
   "outputs": [],
   "source": [
    "fleet_size = len(chicago_set['bike_id'].unique())\n",
    "\n",
    "# capacity_per_hour -> connect the fleet_size with the time to predict at what times \n",
    "# in which areas we need to provide more bikes\n",
    "\n",
    "# generally it would be great to see \"full_utilization\" to see how many bikes are rented during\n",
    "# a specific time\n",
    "# bikes_rented_simultanously "
   ]
  },
  {
   "cell_type": "markdown",
   "id": "9f9b9ccc",
   "metadata": {},
   "source": [
    "In the next steps we want to visualize the following parts *amount_of_rides_per_weekday, amoun_of_rides_per_month, rides_per_hour* (here we could add the average duration per month/weekday/hour), *amount_of_rides_from_station, amount_of_rides_to_station* (later more clearly visualized with a heatmap). Further possible visualizations could be *average_duration_per_start_station*. We could add an inverse curve which is the available fleetsize per unit which is the result of the substraction of the rides/hour and the overall fleetsize."
   ]
  },
  {
   "cell_type": "markdown",
   "id": "2d1c60e0",
   "metadata": {},
   "source": [
    "## Amount of rides per month"
   ]
  },
  {
   "cell_type": "code",
   "execution_count": 92,
   "id": "2ff2766b",
   "metadata": {},
   "outputs": [
    {
     "name": "stdout",
     "output_type": "stream",
     "text": [
      "date_time\n",
      "1.0     5.131579\n",
      "2.0     4.638158\n",
      "3.0     5.098684\n",
      "4.0     4.927357\n",
      "5.0     5.089090\n",
      "6.0     4.908169\n",
      "7.0     5.095943\n",
      "8.0     5.079496\n",
      "9.0     4.934211\n",
      "10.0    5.091831\n",
      "11.0    4.925987\n",
      "12.0    5.095943\n",
      "Name: max_temp, dtype: float64\n",
      "date_time\n",
      "1.0     5.131579\n",
      "2.0     4.638158\n",
      "3.0     5.098684\n",
      "4.0     4.927357\n",
      "5.0     5.089090\n",
      "6.0     4.908169\n",
      "7.0     5.095943\n",
      "8.0     5.079496\n",
      "9.0     4.934211\n",
      "10.0    5.091831\n",
      "11.0    4.925987\n",
      "12.0    5.095943\n",
      "Name: min_temp, dtype: float64\n"
     ]
    },
    {
     "data": {
      "image/png": "[encoded data removed]",
      "text/plain": [
       "<Figure size 432x288 with 1 Axes>"
      ]
     },
     "metadata": {
      "needs_background": "light"
     },
     "output_type": "display_data"
    }
   ],
   "source": [
    "rides_per_month = chicago_set['start_time'].groupby(chicago_set['start_time'].dt.month).agg('count')\n",
    "\n",
    "# adding the weather data into the visulisation\n",
    "weather_set['date_time'] = pd.to_datetime(weather_set['date_time'])\n",
    "\n",
    "# calculating the average max temp per month\n",
    "avg_max_temp = weather_set['max_temp'].groupby(weather_set['date_time'].dt.month).agg('count')\n",
    "avg_max_temp = avg_max_temp/(30.4*24)\n",
    "print(avg_max_temp)\n",
    "# calculate the average min temp per month\n",
    "avg_min_temp = weather_set['min_temp'].groupby(weather_set['date_time'].dt.month).agg('count')\n",
    "avg_min_temp = avg_min_temp/(30.4*24)\n",
    "print(avg_min_temp)\n",
    "\n",
    "# results of the avg temp seem to be wrong...\n",
    "\n",
    "plt.plot(rides_per_month)\n",
    "\n",
    "\n",
    "# adding the different series into a dataframe with the rows months (1-12) and the columns ride_per_month,avg_min_temp and avg_max_temp\n",
    "months = {'January', 'February', 'March', 'April', 'May', 'June', 'July', 'August', 'September', 'October', 'November', 'December'}\n",
    "df_month = pd.DataFrame()\n",
    "# df_month.append(months)\n"
   ]
  },
  {
   "cell_type": "markdown",
   "id": "312a05f1",
   "metadata": {},
   "source": [
    "We see that in the first part of the year our service is the least percieved but demand is increasing till midth of September. In the summer months people are renting our bikes more regulary but the demand declines when the fall begins and temperatures are declining. We can add our temperature data in this picture and see a strong correlation between the average temperature and the demand of our bikesharing service."
   ]
  },
  {
   "cell_type": "markdown",
   "id": "0dbea3ba",
   "metadata": {},
   "source": [
    "## Amount of rides per hour"
   ]
  },
  {
   "cell_type": "code",
   "execution_count": 59,
   "id": "4960ef77",
   "metadata": {},
   "outputs": [
    {
     "data": {
      "text/plain": [
       "[<matplotlib.lines.Line2D at 0x7fb6e6305d90>]"
      ]
     },
     "execution_count": 59,
     "metadata": {},
     "output_type": "execute_result"
    },
    {
     "data": {
      "image/png": "[encoded data removed]",
      "text/plain": [
       "<Figure size 432x288 with 1 Axes>"
      ]
     },
     "metadata": {
      "needs_background": "light"
     },
     "output_type": "display_data"
    }
   ],
   "source": [
    "rides_per_hour = chicago_set['start_time'].groupby(chicago_set['start_time'].dt.hour).agg('count')\n",
    "plt.plot(rides_per_hour)"
   ]
  },
  {
   "cell_type": "markdown",
   "id": "ab74e668",
   "metadata": {},
   "source": [
    "We see two spikes of usage during the day: our services is getting used the most between 5am and 10 am and between 3pm and 7pm. We can assume that our users rent our bikes to get to the university/school/workplace or home. "
   ]
  },
  {
   "cell_type": "markdown",
   "id": "79982ebf",
   "metadata": {},
   "source": [
    "## Visualizing the amount of trips started/ended per station"
   ]
  },
  {
   "cell_type": "markdown",
   "id": "38df9c95",
   "metadata": {},
   "source": [
    "This should help us to improve the understanding of the location data before we'll visualize this in a heatmap in the further steps."
   ]
  },
  {
   "cell_type": "code",
   "execution_count": 95,
   "id": "4a902ce7",
   "metadata": {},
   "outputs": [
    {
     "data": {
      "text/plain": [
       "3818004"
      ]
     },
     "execution_count": 95,
     "metadata": {},
     "output_type": "execute_result"
    }
   ],
   "source": [
    "amount_of_stations = len(chicago_set['start_station_id'].unique())\n",
    "\n",
    "rides_started_per_station = chicago_set['start_station_id'].agg('count')\n",
    "\n",
    "# rides_ended_per_station = \n",
    "\n"
   ]
  },
  {
   "cell_type": "code",
   "execution_count": null,
   "id": "14bc9a0e",
   "metadata": {},
   "outputs": [],
   "source": []
  },
  {
   "cell_type": "markdown",
   "id": "46d713a8",
   "metadata": {},
   "source": [
    "## Analyzing the location data"
   ]
  },
  {
   "cell_type": "markdown",
   "id": "b4bf27bc",
   "metadata": {},
   "source": [
    "In the following part we try to visualize our data set. We want to make clear which time factory like months, time or weekday has influence on the demand. Furthermore, we try to find patterns of the duration and the time the service is getting used."
   ]
  },
  {
   "cell_type": "markdown",
   "id": "55356ae3",
   "metadata": {},
   "source": [
    "## Importing a dataset to findout the latitude and longitude of the stations"
   ]
  },
  {
   "cell_type": "code",
   "execution_count": 13,
   "id": "4fe352b2",
   "metadata": {},
   "outputs": [
    {
     "name": "stdout",
     "output_type": "stream",
     "text": [
      "<class 'pandas.core.frame.DataFrame'>\n",
      "RangeIndex: 84776 entries, 0 to 84775\n",
      "Data columns (total 13 columns):\n",
      " #   Column              Non-Null Count  Dtype  \n",
      "---  ------              --------------  -----  \n",
      " 0   ride_id             84776 non-null  object \n",
      " 1   rideable_type       84776 non-null  object \n",
      " 2   started_at          84776 non-null  object \n",
      " 3   ended_at            84776 non-null  object \n",
      " 4   start_station_name  84776 non-null  object \n",
      " 5   start_station_id    84776 non-null  int64  \n",
      " 6   end_station_name    84677 non-null  object \n",
      " 7   end_station_id      84677 non-null  float64\n",
      " 8   start_lat           84776 non-null  float64\n",
      " 9   start_lng           84776 non-null  float64\n",
      " 10  end_lat             84677 non-null  float64\n",
      " 11  end_lng             84677 non-null  float64\n",
      " 12  member_casual       84776 non-null  object \n",
      "dtypes: float64(5), int64(1), object(7)\n",
      "memory usage: 8.4+ MB\n"
     ]
    }
   ],
   "source": [
    "coordinates_set = pd.read_csv('202004-divvy-tripdata.csv')\n",
    "coordinates_set.info()"
   ]
  },
  {
   "cell_type": "markdown",
   "id": "b0cc7a84",
   "metadata": {},
   "source": [
    "## Get the relevant data, i.e. station_name, station_id, latitude & longitude"
   ]
  },
  {
   "cell_type": "code",
   "execution_count": 14,
   "id": "a951be61",
   "metadata": {},
   "outputs": [
    {
     "name": "stdout",
     "output_type": "stream",
     "text": [
      "<class 'pandas.core.frame.DataFrame'>\n",
      "RangeIndex: 169552 entries, 0 to 169551\n",
      "Data columns (total 4 columns):\n",
      " #   Column        Non-Null Count   Dtype  \n",
      "---  ------        --------------   -----  \n",
      " 0   station_name  169453 non-null  object \n",
      " 1   station_id    169453 non-null  float64\n",
      " 2   latitude      169453 non-null  float64\n",
      " 3   longitude     169453 non-null  float64\n",
      "dtypes: float64(3), object(1)\n",
      "memory usage: 5.2+ MB\n"
     ]
    },
    {
     "name": "stderr",
     "output_type": "stream",
     "text": [
      "/var/folders/yy/bmr_jdz14h9_bmnx6zdfw_qw0000gn/T/ipykernel_1257/1861436622.py:4: SettingWithCopyWarning: \n",
      "A value is trying to be set on a copy of a slice from a DataFrame\n",
      "\n",
      "See the caveats in the documentation: https://pandas.pydata.org/pandas-docs/stable/user_guide/indexing.html#returning-a-view-versus-a-copy\n",
      "  coordinates1.rename(columns={'start_station_name': 'station_name', 'start_station_id': 'station_id', 'start_lat': 'latitude', 'start_lng':'longitude'}, inplace=True)\n",
      "/var/folders/yy/bmr_jdz14h9_bmnx6zdfw_qw0000gn/T/ipykernel_1257/1861436622.py:5: SettingWithCopyWarning: \n",
      "A value is trying to be set on a copy of a slice from a DataFrame\n",
      "\n",
      "See the caveats in the documentation: https://pandas.pydata.org/pandas-docs/stable/user_guide/indexing.html#returning-a-view-versus-a-copy\n",
      "  coordinates2.rename(columns={'end_station_name': 'station_name', 'end_station_id': 'station_id', 'end_lat': 'latitude', 'end_lng':'longitude'}, inplace=True)\n"
     ]
    }
   ],
   "source": [
    "coordinates1 = coordinates_set[['start_station_name', 'start_station_id', 'start_lat', 'start_lng']]\n",
    "coordinates2 = coordinates_set[['end_station_name', 'end_station_id', 'end_lat', 'end_lng']]\n",
    "\n",
    "coordinates1.rename(columns={'start_station_name': 'station_name', 'start_station_id': 'station_id', 'start_lat': 'latitude', 'start_lng':'longitude'}, inplace=True)\n",
    "coordinates2.rename(columns={'end_station_name': 'station_name', 'end_station_id': 'station_id', 'end_lat': 'latitude', 'end_lng':'longitude'}, inplace=True)\n",
    "\n",
    "coordinates = pd.concat([coordinates1, coordinates2], ignore_index = True)\n",
    "coordinates.info()"
   ]
  },
  {
   "cell_type": "code",
   "execution_count": 15,
   "id": "c38172a9",
   "metadata": {},
   "outputs": [
    {
     "name": "stdout",
     "output_type": "stream",
     "text": [
      "<class 'pandas.core.frame.DataFrame'>\n",
      "Int64Index: 169453 entries, 0 to 169551\n",
      "Data columns (total 4 columns):\n",
      " #   Column        Non-Null Count   Dtype  \n",
      "---  ------        --------------   -----  \n",
      " 0   station_name  169453 non-null  object \n",
      " 1   station_id    169453 non-null  float64\n",
      " 2   latitude      169453 non-null  float64\n",
      " 3   longitude     169453 non-null  float64\n",
      "dtypes: float64(3), object(1)\n",
      "memory usage: 6.5+ MB\n"
     ]
    }
   ],
   "source": [
    "coordinates['station_id'] = coordinates['station_id'].replace([np.inf, -np.inf], np.nan)\n",
    "coordinates_dropped = coordinates.dropna()\n",
    "coordinates_dropped.info()"
   ]
  },
  {
   "cell_type": "markdown",
   "id": "74d7dc34",
   "metadata": {},
   "source": [
    "#### Get all unique rows based on station_id"
   ]
  },
  {
   "cell_type": "code",
   "execution_count": 16,
   "id": "3e3c3755",
   "metadata": {},
   "outputs": [
    {
     "ename": "NameError",
     "evalue": "name 'coordinates_unqiue' is not defined",
     "output_type": "error",
     "traceback": [
      "\u001b[0;31m---------------------------------------------------------------------------\u001b[0m",
      "\u001b[0;31mNameError\u001b[0m                                 Traceback (most recent call last)",
      "Input \u001b[0;32mIn [16]\u001b[0m, in \u001b[0;36m<cell line: 4>\u001b[0;34m()\u001b[0m\n\u001b[1;32m      2\u001b[0m \u001b[38;5;66;03m#coordinates_unique['station_id'] = coordinates_unique['station_id'].replace([np.inf, -np.inf], np.nan)\u001b[39;00m\n\u001b[1;32m      3\u001b[0m coordinates_unique \u001b[38;5;241m=\u001b[39m coordinates_unique\u001b[38;5;241m.\u001b[39mdropna()\n\u001b[0;32m----> 4\u001b[0m \u001b[43mcoordinates_unqiue\u001b[49m\u001b[38;5;241m.\u001b[39minfo()\n",
      "\u001b[0;31mNameError\u001b[0m: name 'coordinates_unqiue' is not defined"
     ]
    }
   ],
   "source": [
    "coordinates_unique = coordinates_dropped.drop_duplicates(subset = ['station_id'], keep = 'last')\n",
    "#coordinates_unique['station_id'] = coordinates_unique['station_id'].replace([np.inf, -np.inf], np.nan)\n",
    "coordinates_unique = coordinates_unique.dropna()\n",
    "coordinates_unqiue.info()"
   ]
  },
  {
   "cell_type": "code",
   "execution_count": null,
   "id": "fcb925bb",
   "metadata": {},
   "outputs": [],
   "source": [
    "coordinates_unique = coordinates_unique[np.isfinite(coordinates_unique['station_id'])]\n",
    "coordinates_unique.head()"
   ]
  },
  {
   "cell_type": "code",
   "execution_count": null,
   "id": "8864026d",
   "metadata": {},
   "outputs": [],
   "source": [
    "coordinates_unique['station_id'] = coordinates_unique['station_id'].astype('int64')\n",
    "coordinates_unique.info()"
   ]
  },
  {
   "cell_type": "code",
   "execution_count": null,
   "id": "eedef0b2",
   "metadata": {},
   "outputs": [],
   "source": [
    "coordinates_unique.head()"
   ]
  },
  {
   "cell_type": "code",
   "execution_count": null,
   "id": "3c594332",
   "metadata": {},
   "outputs": [],
   "source": [
    "chicago_set_merge = chicago_set_clean.merge(coordinates_unique, how='left', left_on='start_station_id', right_on='station_id')\n",
    "chicago_set_merge.head()"
   ]
  },
  {
   "cell_type": "code",
   "execution_count": null,
   "id": "81ba7a15",
   "metadata": {},
   "outputs": [],
   "source": [
    "chicago_set_merge.info()"
   ]
  },
  {
   "cell_type": "code",
   "execution_count": null,
   "id": "9fe7bad3",
   "metadata": {},
   "outputs": [],
   "source": []
  }
 ],
 "metadata": {
  "kernelspec": {
   "display_name": "Python 3 (ipykernel)",
   "language": "python",
   "name": "python3"
  },
  "language_info": {
   "codemirror_mode": {
    "name": "ipython",
    "version": 3
   },
   "file_extension": ".py",
   "mimetype": "text/x-python",
   "name": "python",
   "nbconvert_exporter": "python",
   "pygments_lexer": "ipython3",
   "version": "3.9.12"
  }
 },
 "nbformat": 4,
 "nbformat_minor": 5
}
