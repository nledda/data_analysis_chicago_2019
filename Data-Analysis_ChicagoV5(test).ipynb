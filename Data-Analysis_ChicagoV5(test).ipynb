{
 "cells": [
  {
   "cell_type": "markdown",
   "id": "96a68f83",
   "metadata": {
    "id": "96a68f83"
   },
   "source": [
    "# Data Analysis of the Chicago Dataset\n",
    "\n",
    "In this Jupyter Notebook we will analyze a bike sharing dataset of the city Chicago of the year 2019. We will also include the hourly weather data of the city during the same time. In the first part we will visualize the data and try to develop a deep understanding of the user types and recurring bahavioral patterns. In the second part we use this knowledge to develop a predicition model which forecasts future demand."
   ]
  },
  {
   "cell_type": "markdown",
   "id": "38b51333",
   "metadata": {
    "id": "38b51333"
   },
   "source": [
    "## Getting started: importing the data and getting it in the right format"
   ]
  },
  {
   "cell_type": "markdown",
   "id": "9d1cfc09",
   "metadata": {
    "id": "9d1cfc09"
   },
   "source": [
    "At first we import all of the required libraries in this notebook. In this case we import *NumPy, Pandas, Matplotlib and Seaborn*. \n"
   ]
  },
  {
   "cell_type": "code",
   "execution_count": 1,
   "id": "1b763a1d",
   "metadata": {
    "id": "1b763a1d"
   },
   "outputs": [],
   "source": [
    "import numpy as np\n",
    "import pandas as pd\n",
    "import matplotlib as mpl\n",
    "import matplotlib.pyplot as plt\n",
    "import seaborn as sns"
   ]
  },
  {
   "cell_type": "markdown",
   "id": "c287f648",
   "metadata": {
    "id": "c287f648"
   },
   "source": [
    "Next we import the datasets. This is in perticular the dataset of the city Chicago of the year 2019 and the associated weather data. We do this with the library Pandas, therefore both datasets have now the datatype \"Pandas Dataframe\" ([documentation](https://pandas.pydata.org/docs/reference/frame.html))."
   ]
  },
  {
   "cell_type": "code",
   "execution_count": 6,
   "id": "0bcfd986",
   "metadata": {
    "id": "0bcfd986",
    "scrolled": true
   },
   "outputs": [],
   "source": [
    "chicago_set = pd.read_csv(\"C:\\\\Users\\\\sebas\\\\Desktop\\\\DSML\\\\Projektordner\\\\chicago_2019.csv\")\n",
    "weather_set = pd.read_csv(\"C:\\\\Users\\\\sebas\\\\Desktop\\\\DSML\\\\Projektordner\\\\weather_hourly_chicago.csv\")"
   ]
  },
  {
   "cell_type": "markdown",
   "id": "83ddc03b",
   "metadata": {
    "id": "83ddc03b"
   },
   "source": [
    "We use the commands head() and info() to get a feeling for the data"
   ]
  },
  {
   "cell_type": "code",
   "execution_count": 7,
   "id": "e6024bfd",
   "metadata": {
    "colab": {
     "base_uri": "https://localhost:8080/",
     "height": 169
    },
    "id": "e6024bfd",
    "outputId": "f3c6f2d1-1cde-4f84-a179-512811f86d5a",
    "scrolled": true
   },
   "outputs": [
    {
     "data": {
      "text/html": [
       "<div>\n",
       "<style scoped>\n",
       "    .dataframe tbody tr th:only-of-type {\n",
       "        vertical-align: middle;\n",
       "    }\n",
       "\n",
       "    .dataframe tbody tr th {\n",
       "        vertical-align: top;\n",
       "    }\n",
       "\n",
       "    .dataframe thead th {\n",
       "        text-align: right;\n",
       "    }\n",
       "</style>\n",
       "<table border=\"1\" class=\"dataframe\">\n",
       "  <thead>\n",
       "    <tr style=\"text-align: right;\">\n",
       "      <th></th>\n",
       "      <th>start_time</th>\n",
       "      <th>end_time</th>\n",
       "      <th>start_station_id</th>\n",
       "      <th>end_station_id</th>\n",
       "      <th>start_station_name</th>\n",
       "      <th>end_station_name</th>\n",
       "      <th>bike_id</th>\n",
       "      <th>user_type</th>\n",
       "    </tr>\n",
       "  </thead>\n",
       "  <tbody>\n",
       "    <tr>\n",
       "      <th>0</th>\n",
       "      <td>2019-01-01 00:04:37</td>\n",
       "      <td>2019-01-01 00:11:07</td>\n",
       "      <td>199</td>\n",
       "      <td>84</td>\n",
       "      <td>Wabash Ave &amp; Grand Ave</td>\n",
       "      <td>Milwaukee Ave &amp; Grand Ave</td>\n",
       "      <td>2167</td>\n",
       "      <td>Subscriber</td>\n",
       "    </tr>\n",
       "    <tr>\n",
       "      <th>1</th>\n",
       "      <td>2019-01-01 00:08:13</td>\n",
       "      <td>2019-01-01 00:15:34</td>\n",
       "      <td>44</td>\n",
       "      <td>624</td>\n",
       "      <td>State St &amp; Randolph St</td>\n",
       "      <td>Dearborn St &amp; Van Buren St (*)</td>\n",
       "      <td>4386</td>\n",
       "      <td>Subscriber</td>\n",
       "    </tr>\n",
       "    <tr>\n",
       "      <th>2</th>\n",
       "      <td>2019-01-01 00:13:23</td>\n",
       "      <td>2019-01-01 00:27:12</td>\n",
       "      <td>15</td>\n",
       "      <td>644</td>\n",
       "      <td>Racine Ave &amp; 18th St</td>\n",
       "      <td>Western Ave &amp; Fillmore St (*)</td>\n",
       "      <td>1524</td>\n",
       "      <td>Subscriber</td>\n",
       "    </tr>\n",
       "    <tr>\n",
       "      <th>3</th>\n",
       "      <td>2019-01-01 00:13:45</td>\n",
       "      <td>2019-01-01 00:43:28</td>\n",
       "      <td>123</td>\n",
       "      <td>176</td>\n",
       "      <td>California Ave &amp; Milwaukee Ave</td>\n",
       "      <td>Clark St &amp; Elm St</td>\n",
       "      <td>252</td>\n",
       "      <td>Subscriber</td>\n",
       "    </tr>\n",
       "    <tr>\n",
       "      <th>4</th>\n",
       "      <td>2019-01-01 00:14:52</td>\n",
       "      <td>2019-01-01 00:20:56</td>\n",
       "      <td>173</td>\n",
       "      <td>35</td>\n",
       "      <td>Mies van der Rohe Way &amp; Chicago Ave</td>\n",
       "      <td>Streeter Dr &amp; Grand Ave</td>\n",
       "      <td>1170</td>\n",
       "      <td>Subscriber</td>\n",
       "    </tr>\n",
       "  </tbody>\n",
       "</table>\n",
       "</div>"
      ],
      "text/plain": [
       "            start_time             end_time  start_station_id  end_station_id  \\\n",
       "0  2019-01-01 00:04:37  2019-01-01 00:11:07               199              84   \n",
       "1  2019-01-01 00:08:13  2019-01-01 00:15:34                44             624   \n",
       "2  2019-01-01 00:13:23  2019-01-01 00:27:12                15             644   \n",
       "3  2019-01-01 00:13:45  2019-01-01 00:43:28               123             176   \n",
       "4  2019-01-01 00:14:52  2019-01-01 00:20:56               173              35   \n",
       "\n",
       "                    start_station_name                end_station_name  \\\n",
       "0               Wabash Ave & Grand Ave       Milwaukee Ave & Grand Ave   \n",
       "1               State St & Randolph St  Dearborn St & Van Buren St (*)   \n",
       "2                 Racine Ave & 18th St   Western Ave & Fillmore St (*)   \n",
       "3       California Ave & Milwaukee Ave               Clark St & Elm St   \n",
       "4  Mies van der Rohe Way & Chicago Ave         Streeter Dr & Grand Ave   \n",
       "\n",
       "   bike_id   user_type  \n",
       "0     2167  Subscriber  \n",
       "1     4386  Subscriber  \n",
       "2     1524  Subscriber  \n",
       "3      252  Subscriber  \n",
       "4     1170  Subscriber  "
      ]
     },
     "execution_count": 7,
     "metadata": {},
     "output_type": "execute_result"
    }
   ],
   "source": [
    "chicago_set.head()\n"
   ]
  },
  {
   "cell_type": "code",
   "execution_count": 8,
   "id": "49d74cf8",
   "metadata": {
    "colab": {
     "base_uri": "https://localhost:8080/",
     "height": 169
    },
    "id": "49d74cf8",
    "outputId": "693474f6-3127-4228-864b-55fd01ea2690",
    "scrolled": true
   },
   "outputs": [
    {
     "name": "stdout",
     "output_type": "stream",
     "text": [
      "<class 'pandas.core.frame.DataFrame'>\n",
      "RangeIndex: 3818004 entries, 0 to 3818003\n",
      "Data columns (total 8 columns):\n",
      " #   Column              Dtype \n",
      "---  ------              ----- \n",
      " 0   start_time          object\n",
      " 1   end_time            object\n",
      " 2   start_station_id    int64 \n",
      " 3   end_station_id      int64 \n",
      " 4   start_station_name  object\n",
      " 5   end_station_name    object\n",
      " 6   bike_id             int64 \n",
      " 7   user_type           object\n",
      "dtypes: int64(3), object(5)\n",
      "memory usage: 233.0+ MB\n"
     ]
    }
   ],
   "source": [
    "chicago_set.info()"
   ]
  },
  {
   "cell_type": "markdown",
   "id": "a080324c",
   "metadata": {
    "id": "a080324c"
   },
   "source": [
    "So we know that we have a dataset with 3.8 million entries and we have multiple columns, two columns for the time (*start_time and end_time*), four columns for the location (*start_station_id, end_station_id and the respective names*) and the *bike_id* and *user_type*. "
   ]
  },
  {
   "cell_type": "code",
   "execution_count": 9,
   "id": "dd0ad6ad",
   "metadata": {
    "id": "dd0ad6ad",
    "outputId": "875e5069-1812-459b-b599-19caa77452f7",
    "scrolled": true
   },
   "outputs": [
    {
     "name": "stdout",
     "output_type": "stream",
     "text": [
      "<class 'pandas.core.frame.DataFrame'>\n",
      "RangeIndex: 43848 entries, 0 to 43847\n",
      "Data columns (total 4 columns):\n",
      " #   Column     Non-Null Count  Dtype  \n",
      "---  ------     --------------  -----  \n",
      " 0   date_time  43788 non-null  object \n",
      " 1   max_temp   43788 non-null  float64\n",
      " 2   min_temp   43788 non-null  float64\n",
      " 3   precip     43790 non-null  float64\n",
      "dtypes: float64(3), object(1)\n",
      "memory usage: 1.3+ MB\n"
     ]
    }
   ],
   "source": [
    "weather_set.info()"
   ]
  },
  {
   "cell_type": "markdown",
   "id": "00c0f31c",
   "metadata": {
    "id": "00c0f31c"
   },
   "source": [
    "We first investigate the time data we got. Therefore, we need to transform the data type of the columns \"*start_time*\" and \"*end_time*\" from String to Panda Datetime. This allows us in the following code snippet to add another column to our dataframe which we call *duration*. This is the difference between the end_time and the start_time. "
   ]
  },
  {
   "cell_type": "code",
   "execution_count": 10,
   "id": "ab2ca06e",
   "metadata": {
    "id": "ab2ca06e",
    "outputId": "1dbe2fdc-38bf-4460-b9fa-48c22a74dfd7"
   },
   "outputs": [
    {
     "data": {
      "text/html": [
       "<div>\n",
       "<style scoped>\n",
       "    .dataframe tbody tr th:only-of-type {\n",
       "        vertical-align: middle;\n",
       "    }\n",
       "\n",
       "    .dataframe tbody tr th {\n",
       "        vertical-align: top;\n",
       "    }\n",
       "\n",
       "    .dataframe thead th {\n",
       "        text-align: right;\n",
       "    }\n",
       "</style>\n",
       "<table border=\"1\" class=\"dataframe\">\n",
       "  <thead>\n",
       "    <tr style=\"text-align: right;\">\n",
       "      <th></th>\n",
       "      <th>start_station_id</th>\n",
       "      <th>end_station_id</th>\n",
       "      <th>bike_id</th>\n",
       "      <th>duration</th>\n",
       "    </tr>\n",
       "  </thead>\n",
       "  <tbody>\n",
       "    <tr>\n",
       "      <th>count</th>\n",
       "      <td>3.818004e+06</td>\n",
       "      <td>3.818004e+06</td>\n",
       "      <td>3.818004e+06</td>\n",
       "      <td>3818004</td>\n",
       "    </tr>\n",
       "    <tr>\n",
       "      <th>mean</th>\n",
       "      <td>2.016659e+02</td>\n",
       "      <td>2.026363e+02</td>\n",
       "      <td>3.380252e+03</td>\n",
       "      <td>0 days 00:24:10.451397903</td>\n",
       "    </tr>\n",
       "    <tr>\n",
       "      <th>std</th>\n",
       "      <td>1.560798e+02</td>\n",
       "      <td>1.562388e+02</td>\n",
       "      <td>1.902511e+03</td>\n",
       "      <td>0 days 08:17:32.263421746</td>\n",
       "    </tr>\n",
       "    <tr>\n",
       "      <th>min</th>\n",
       "      <td>1.000000e+00</td>\n",
       "      <td>1.000000e+00</td>\n",
       "      <td>1.000000e+00</td>\n",
       "      <td>-1 days +23:03:38</td>\n",
       "    </tr>\n",
       "    <tr>\n",
       "      <th>25%</th>\n",
       "      <td>7.700000e+01</td>\n",
       "      <td>7.700000e+01</td>\n",
       "      <td>1.727000e+03</td>\n",
       "      <td>0 days 00:06:51</td>\n",
       "    </tr>\n",
       "    <tr>\n",
       "      <th>50%</th>\n",
       "      <td>1.740000e+02</td>\n",
       "      <td>1.740000e+02</td>\n",
       "      <td>3.451000e+03</td>\n",
       "      <td>0 days 00:11:49</td>\n",
       "    </tr>\n",
       "    <tr>\n",
       "      <th>75%</th>\n",
       "      <td>2.890000e+02</td>\n",
       "      <td>2.910000e+02</td>\n",
       "      <td>5.046000e+03</td>\n",
       "      <td>0 days 00:21:24</td>\n",
       "    </tr>\n",
       "    <tr>\n",
       "      <th>max</th>\n",
       "      <td>6.730000e+02</td>\n",
       "      <td>6.730000e+02</td>\n",
       "      <td>6.946000e+03</td>\n",
       "      <td>123 days 01:20:22</td>\n",
       "    </tr>\n",
       "  </tbody>\n",
       "</table>\n",
       "</div>"
      ],
      "text/plain": [
       "       start_station_id  end_station_id       bike_id  \\\n",
       "count      3.818004e+06    3.818004e+06  3.818004e+06   \n",
       "mean       2.016659e+02    2.026363e+02  3.380252e+03   \n",
       "std        1.560798e+02    1.562388e+02  1.902511e+03   \n",
       "min        1.000000e+00    1.000000e+00  1.000000e+00   \n",
       "25%        7.700000e+01    7.700000e+01  1.727000e+03   \n",
       "50%        1.740000e+02    1.740000e+02  3.451000e+03   \n",
       "75%        2.890000e+02    2.910000e+02  5.046000e+03   \n",
       "max        6.730000e+02    6.730000e+02  6.946000e+03   \n",
       "\n",
       "                        duration  \n",
       "count                    3818004  \n",
       "mean   0 days 00:24:10.451397903  \n",
       "std    0 days 08:17:32.263421746  \n",
       "min            -1 days +23:03:38  \n",
       "25%              0 days 00:06:51  \n",
       "50%              0 days 00:11:49  \n",
       "75%              0 days 00:21:24  \n",
       "max            123 days 01:20:22  "
      ]
     },
     "execution_count": 10,
     "metadata": {},
     "output_type": "execute_result"
    }
   ],
   "source": [
    "chicago_set['start_time'] = pd.to_datetime(chicago_set['start_time'])\n",
    "chicago_set['end_time'] = pd.to_datetime(chicago_set['end_time'])\n",
    "\n",
    "chicago_set['duration'] = chicago_set['end_time'] - chicago_set['start_time']\n",
    "chicago_set.describe()"
   ]
  },
  {
   "cell_type": "markdown",
   "id": "adc1449b",
   "metadata": {
    "id": "adc1449b"
   },
   "source": [
    "We calculated the duration of the rides and see that the maximum duration of a ride was over 123 days. We can assume that there a other cases where the data is inconclusive, therefore we will clean our dataset and delete those wrong outliners."
   ]
  },
  {
   "cell_type": "markdown",
   "id": "45fd64fa",
   "metadata": {
    "id": "45fd64fa"
   },
   "source": [
    "## Cleaning up our data"
   ]
  },
  {
   "cell_type": "markdown",
   "id": "426ab82d",
   "metadata": {
    "id": "426ab82d"
   },
   "source": [
    "### Examples of invalid data"
   ]
  },
  {
   "cell_type": "code",
   "execution_count": 11,
   "id": "a9425271",
   "metadata": {
    "id": "a9425271",
    "outputId": "01516f4c-1f56-409a-bd70-12bb1db7e2e9"
   },
   "outputs": [
    {
     "data": {
      "text/html": [
       "<div>\n",
       "<style scoped>\n",
       "    .dataframe tbody tr th:only-of-type {\n",
       "        vertical-align: middle;\n",
       "    }\n",
       "\n",
       "    .dataframe tbody tr th {\n",
       "        vertical-align: top;\n",
       "    }\n",
       "\n",
       "    .dataframe thead th {\n",
       "        text-align: right;\n",
       "    }\n",
       "</style>\n",
       "<table border=\"1\" class=\"dataframe\">\n",
       "  <thead>\n",
       "    <tr style=\"text-align: right;\">\n",
       "      <th></th>\n",
       "      <th>start_time</th>\n",
       "      <th>end_time</th>\n",
       "      <th>start_station_id</th>\n",
       "      <th>end_station_id</th>\n",
       "      <th>start_station_name</th>\n",
       "      <th>end_station_name</th>\n",
       "      <th>bike_id</th>\n",
       "      <th>user_type</th>\n",
       "      <th>duration</th>\n",
       "    </tr>\n",
       "  </thead>\n",
       "  <tbody>\n",
       "    <tr>\n",
       "      <th>2445776</th>\n",
       "      <td>2019-08-22 16:14:59</td>\n",
       "      <td>2019-10-01 09:45:14</td>\n",
       "      <td>529</td>\n",
       "      <td>62</td>\n",
       "      <td>Cicero Ave &amp; Lake St</td>\n",
       "      <td>McCormick Place</td>\n",
       "      <td>2764</td>\n",
       "      <td>Customer</td>\n",
       "      <td>39 days 17:30:15</td>\n",
       "    </tr>\n",
       "    <tr>\n",
       "      <th>3794342</th>\n",
       "      <td>2019-12-25 12:55:41</td>\n",
       "      <td>2019-12-30 09:58:53</td>\n",
       "      <td>76</td>\n",
       "      <td>671</td>\n",
       "      <td>Lake Shore Dr &amp; Monroe St</td>\n",
       "      <td>HUBBARD ST BIKE CHECKING (LBS-WH-TEST)</td>\n",
       "      <td>2582</td>\n",
       "      <td>Customer</td>\n",
       "      <td>4 days 21:03:12</td>\n",
       "    </tr>\n",
       "    <tr>\n",
       "      <th>3295028</th>\n",
       "      <td>2019-10-14 10:27:10</td>\n",
       "      <td>2019-11-02 10:00:34</td>\n",
       "      <td>145</td>\n",
       "      <td>337</td>\n",
       "      <td>Mies van der Rohe Way &amp; Chestnut St</td>\n",
       "      <td>Clark St &amp; Chicago Ave</td>\n",
       "      <td>3566</td>\n",
       "      <td>Customer</td>\n",
       "      <td>18 days 23:33:24</td>\n",
       "    </tr>\n",
       "    <tr>\n",
       "      <th>197291</th>\n",
       "      <td>2019-02-28 15:18:07</td>\n",
       "      <td>2019-03-05 15:16:01</td>\n",
       "      <td>312</td>\n",
       "      <td>220</td>\n",
       "      <td>Clarendon Ave &amp; Gordon Ter</td>\n",
       "      <td>Clark St &amp; Drummond Pl</td>\n",
       "      <td>1654</td>\n",
       "      <td>Customer</td>\n",
       "      <td>4 days 23:57:54</td>\n",
       "    </tr>\n",
       "    <tr>\n",
       "      <th>3284776</th>\n",
       "      <td>2019-10-13 11:33:20</td>\n",
       "      <td>2019-10-14 14:44:25</td>\n",
       "      <td>137</td>\n",
       "      <td>120</td>\n",
       "      <td>Morgan Ave &amp; 14th Pl</td>\n",
       "      <td>Wentworth Ave &amp; Cermak Rd (Temp)</td>\n",
       "      <td>68</td>\n",
       "      <td>Customer</td>\n",
       "      <td>1 days 03:11:05</td>\n",
       "    </tr>\n",
       "  </tbody>\n",
       "</table>\n",
       "</div>"
      ],
      "text/plain": [
       "                 start_time            end_time  start_station_id  \\\n",
       "2445776 2019-08-22 16:14:59 2019-10-01 09:45:14               529   \n",
       "3794342 2019-12-25 12:55:41 2019-12-30 09:58:53                76   \n",
       "3295028 2019-10-14 10:27:10 2019-11-02 10:00:34               145   \n",
       "197291  2019-02-28 15:18:07 2019-03-05 15:16:01               312   \n",
       "3284776 2019-10-13 11:33:20 2019-10-14 14:44:25               137   \n",
       "\n",
       "         end_station_id                   start_station_name  \\\n",
       "2445776              62                 Cicero Ave & Lake St   \n",
       "3794342             671            Lake Shore Dr & Monroe St   \n",
       "3295028             337  Mies van der Rohe Way & Chestnut St   \n",
       "197291              220           Clarendon Ave & Gordon Ter   \n",
       "3284776             120                 Morgan Ave & 14th Pl   \n",
       "\n",
       "                               end_station_name  bike_id user_type  \\\n",
       "2445776                         McCormick Place     2764  Customer   \n",
       "3794342  HUBBARD ST BIKE CHECKING (LBS-WH-TEST)     2582  Customer   \n",
       "3295028                  Clark St & Chicago Ave     3566  Customer   \n",
       "197291                   Clark St & Drummond Pl     1654  Customer   \n",
       "3284776        Wentworth Ave & Cermak Rd (Temp)       68  Customer   \n",
       "\n",
       "                duration  \n",
       "2445776 39 days 17:30:15  \n",
       "3794342  4 days 21:03:12  \n",
       "3295028 18 days 23:33:24  \n",
       "197291   4 days 23:57:54  \n",
       "3284776  1 days 03:11:05  "
      ]
     },
     "execution_count": 11,
     "metadata": {},
     "output_type": "execute_result"
    }
   ],
   "source": [
    "import datetime\n",
    "chicago_set[chicago_set['duration'] >= datetime.timedelta(days=1)].sample(n=5)"
   ]
  },
  {
   "cell_type": "code",
   "execution_count": 12,
   "id": "0f185caf",
   "metadata": {
    "id": "0f185caf",
    "outputId": "d861a97f-50ae-4bb9-8421-67ea89886372"
   },
   "outputs": [
    {
     "data": {
      "text/html": [
       "<div>\n",
       "<style scoped>\n",
       "    .dataframe tbody tr th:only-of-type {\n",
       "        vertical-align: middle;\n",
       "    }\n",
       "\n",
       "    .dataframe tbody tr th {\n",
       "        vertical-align: top;\n",
       "    }\n",
       "\n",
       "    .dataframe thead th {\n",
       "        text-align: right;\n",
       "    }\n",
       "</style>\n",
       "<table border=\"1\" class=\"dataframe\">\n",
       "  <thead>\n",
       "    <tr style=\"text-align: right;\">\n",
       "      <th></th>\n",
       "      <th>start_time</th>\n",
       "      <th>end_time</th>\n",
       "      <th>start_station_id</th>\n",
       "      <th>end_station_id</th>\n",
       "      <th>start_station_name</th>\n",
       "      <th>end_station_name</th>\n",
       "      <th>bike_id</th>\n",
       "      <th>user_type</th>\n",
       "      <th>duration</th>\n",
       "    </tr>\n",
       "  </thead>\n",
       "  <tbody>\n",
       "    <tr>\n",
       "      <th>3498435</th>\n",
       "      <td>2019-11-03 01:47:49</td>\n",
       "      <td>2019-11-03 01:02:40</td>\n",
       "      <td>229</td>\n",
       "      <td>87</td>\n",
       "      <td>Southport Ave &amp; Roscoe St</td>\n",
       "      <td>Racine Ave &amp; Fullerton Ave</td>\n",
       "      <td>964</td>\n",
       "      <td>Subscriber</td>\n",
       "      <td>-1 days +23:14:51</td>\n",
       "    </tr>\n",
       "    <tr>\n",
       "      <th>3498442</th>\n",
       "      <td>2019-11-03 01:53:10</td>\n",
       "      <td>2019-11-03 01:04:53</td>\n",
       "      <td>177</td>\n",
       "      <td>327</td>\n",
       "      <td>Theater on the Lake</td>\n",
       "      <td>Sheffield Ave &amp; Webster Ave</td>\n",
       "      <td>5877</td>\n",
       "      <td>Customer</td>\n",
       "      <td>-1 days +23:11:43</td>\n",
       "    </tr>\n",
       "    <tr>\n",
       "      <th>3498443</th>\n",
       "      <td>2019-11-03 01:53:24</td>\n",
       "      <td>2019-11-03 01:06:08</td>\n",
       "      <td>484</td>\n",
       "      <td>484</td>\n",
       "      <td>Monticello Ave &amp; Irving Park Rd</td>\n",
       "      <td>Monticello Ave &amp; Irving Park Rd</td>\n",
       "      <td>3984</td>\n",
       "      <td>Customer</td>\n",
       "      <td>-1 days +23:12:44</td>\n",
       "    </tr>\n",
       "    <tr>\n",
       "      <th>3498441</th>\n",
       "      <td>2019-11-03 01:53:08</td>\n",
       "      <td>2019-11-03 01:04:53</td>\n",
       "      <td>177</td>\n",
       "      <td>327</td>\n",
       "      <td>Theater on the Lake</td>\n",
       "      <td>Sheffield Ave &amp; Webster Ave</td>\n",
       "      <td>2142</td>\n",
       "      <td>Customer</td>\n",
       "      <td>-1 days +23:11:45</td>\n",
       "    </tr>\n",
       "    <tr>\n",
       "      <th>3498440</th>\n",
       "      <td>2019-11-03 01:51:55</td>\n",
       "      <td>2019-11-03 01:04:33</td>\n",
       "      <td>177</td>\n",
       "      <td>327</td>\n",
       "      <td>Theater on the Lake</td>\n",
       "      <td>Sheffield Ave &amp; Webster Ave</td>\n",
       "      <td>3338</td>\n",
       "      <td>Customer</td>\n",
       "      <td>-1 days +23:12:38</td>\n",
       "    </tr>\n",
       "  </tbody>\n",
       "</table>\n",
       "</div>"
      ],
      "text/plain": [
       "                 start_time            end_time  start_station_id  \\\n",
       "3498435 2019-11-03 01:47:49 2019-11-03 01:02:40               229   \n",
       "3498442 2019-11-03 01:53:10 2019-11-03 01:04:53               177   \n",
       "3498443 2019-11-03 01:53:24 2019-11-03 01:06:08               484   \n",
       "3498441 2019-11-03 01:53:08 2019-11-03 01:04:53               177   \n",
       "3498440 2019-11-03 01:51:55 2019-11-03 01:04:33               177   \n",
       "\n",
       "         end_station_id               start_station_name  \\\n",
       "3498435              87        Southport Ave & Roscoe St   \n",
       "3498442             327              Theater on the Lake   \n",
       "3498443             484  Monticello Ave & Irving Park Rd   \n",
       "3498441             327              Theater on the Lake   \n",
       "3498440             327              Theater on the Lake   \n",
       "\n",
       "                        end_station_name  bike_id   user_type  \\\n",
       "3498435       Racine Ave & Fullerton Ave      964  Subscriber   \n",
       "3498442      Sheffield Ave & Webster Ave     5877    Customer   \n",
       "3498443  Monticello Ave & Irving Park Rd     3984    Customer   \n",
       "3498441      Sheffield Ave & Webster Ave     2142    Customer   \n",
       "3498440      Sheffield Ave & Webster Ave     3338    Customer   \n",
       "\n",
       "                 duration  \n",
       "3498435 -1 days +23:14:51  \n",
       "3498442 -1 days +23:11:43  \n",
       "3498443 -1 days +23:12:44  \n",
       "3498441 -1 days +23:11:45  \n",
       "3498440 -1 days +23:12:38  "
      ]
     },
     "execution_count": 12,
     "metadata": {},
     "output_type": "execute_result"
    }
   ],
   "source": [
    "chicago_set[chicago_set['duration'] <= datetime.timedelta(days=0)].sample(n=5)"
   ]
  },
  {
   "cell_type": "markdown",
   "id": "18a6f42b",
   "metadata": {
    "id": "18a6f42b"
   },
   "source": [
    "### Visualization of different quantile deletion of outlierts & invalid data from our data set"
   ]
  },
  {
   "cell_type": "code",
   "execution_count": 13,
   "id": "cffc04b6",
   "metadata": {
    "id": "cffc04b6",
    "outputId": "aaf979d6-af64-4de9-ba29-8c845bc56c7c"
   },
   "outputs": [
    {
     "name": "stdout",
     "output_type": "stream",
     "text": [
      "(0.125% Quantile) All trips with a duration outside of 0 days 00:01:19 to 0 days 09:01:02.970000002 will be removed!\n",
      "That is 9263 out of 3818004 entries!\n"
     ]
    },
    {
     "data": {
      "image/png": "[encoded data removed]",
      "text/plain": [
       "<Figure size 432x288 with 1 Axes>"
      ]
     },
     "metadata": {
      "needs_background": "light"
     },
     "output_type": "display_data"
    },
    {
     "name": "stdout",
     "output_type": "stream",
     "text": [
      "count                      3808741\n",
      "mean     0 days 00:18:22.340564506\n",
      "std      0 days 00:23:21.735330331\n",
      "min                0 days 00:01:19\n",
      "25%                0 days 00:06:52\n",
      "50%                0 days 00:11:49\n",
      "75%                0 days 00:21:21\n",
      "max                0 days 09:00:59\n",
      "Name: duration, dtype: object\n",
      "\n",
      "(0.25% Quantile) All trips with a duration outside of 0 days 00:01:33 to 0 days 03:48:11.992500 will be removed!\n",
      "That is 19025 out of 3818004 entries!\n"
     ]
    },
    {
     "data": {
      "image/png": "[encoded data removed]",
      "text/plain": [
       "<Figure size 432x288 with 1 Axes>"
      ]
     },
     "metadata": {
      "needs_background": "light"
     },
     "output_type": "display_data"
    },
    {
     "name": "stdout",
     "output_type": "stream",
     "text": [
      "count                      3798979\n",
      "mean     0 days 00:18:00.690816927\n",
      "std      0 days 00:20:31.001258644\n",
      "min                0 days 00:01:33\n",
      "25%                0 days 00:06:53\n",
      "50%                0 days 00:11:49\n",
      "75%                0 days 00:21:19\n",
      "max                0 days 03:48:11\n",
      "Name: duration, dtype: object\n",
      "\n",
      "(0.5% Quantile) All trips with a duration outside of 0 days 00:01:49 to 0 days 02:42:28 will be removed!\n",
      "That is 37931 out of 3818004 entries!\n"
     ]
    },
    {
     "data": {
      "image/png": "[encoded data removed]",
      "text/plain": [
       "<Figure size 432x288 with 1 Axes>"
      ]
     },
     "metadata": {
      "needs_background": "light"
     },
     "output_type": "display_data"
    },
    {
     "name": "stdout",
     "output_type": "stream",
     "text": [
      "count                      3780073\n",
      "mean     0 days 00:17:37.940601940\n",
      "std      0 days 00:18:45.168339717\n",
      "min                0 days 00:01:49\n",
      "25%                0 days 00:06:54\n",
      "50%                0 days 00:11:49\n",
      "75%                0 days 00:21:15\n",
      "max                0 days 02:42:28\n",
      "Name: duration, dtype: object\n",
      "\n"
     ]
    }
   ],
   "source": [
    "%matplotlib inline\n",
    "# Data to remove from top and bottom\n",
    "def get_outside_time_frame_data(df, dt_column, lower_bound, upper_bound):\n",
    "    return df[(df[dt_column] < lower_bound) | (df[dt_column] > upper_bound)]\n",
    "\n",
    "quantiles = [0.00125, 0.0025, 0.005] # (0.125%; 0.25%; 0.5%) * 2\n",
    "for quantile in quantiles:\n",
    "    # amount = len(chicago_set[(chicago_set['duration'] < chicago_set.duration.quantile(quantile)) | (chicago_set['duration'] > chicago_set.duration.quantile(1 - quantile))])\n",
    "    lower_bound = chicago_set.duration.quantile(quantile)\n",
    "    upper_bound = chicago_set.duration.quantile(1 - quantile)\n",
    "    amount = get_outside_time_frame_data(chicago_set, 'duration', lower_bound, upper_bound)\n",
    "    print('(' + str(quantile*100) + '% Quantile) All trips with a duration outside of ' + str(lower_bound) + ' to ' + str(upper_bound) + ' will be removed!')\n",
    "    print('That is ' + str(len(amount)) + ' out of ' + str(len(chicago_set)) + ' entries!')\n",
    "    chicago_set_clean = chicago_set.drop(amount.index)\n",
    "    plt.hist(chicago_set_clean['duration']/pd.Timedelta(minutes=1), bins=100)\n",
    "    plt.show()\n",
    "    print(str(chicago_set_clean['duration'].describe()) + '\\n')"
   ]
  },
  {
   "cell_type": "markdown",
   "id": "256b79d3",
   "metadata": {
    "id": "256b79d3"
   },
   "source": [
    "## Analysis of the adjusted dataset"
   ]
  },
  {
   "cell_type": "markdown",
   "id": "1b01f985",
   "metadata": {
    "id": "1b01f985"
   },
   "source": [
    "### Extract week day as String and numeral from start time"
   ]
  },
  {
   "cell_type": "code",
   "execution_count": 14,
   "id": "fef626da",
   "metadata": {
    "id": "fef626da",
    "outputId": "535294e2-195c-402a-ca97-b332b79aee46"
   },
   "outputs": [
    {
     "data": {
      "text/html": [
       "<div>\n",
       "<style scoped>\n",
       "    .dataframe tbody tr th:only-of-type {\n",
       "        vertical-align: middle;\n",
       "    }\n",
       "\n",
       "    .dataframe tbody tr th {\n",
       "        vertical-align: top;\n",
       "    }\n",
       "\n",
       "    .dataframe thead th {\n",
       "        text-align: right;\n",
       "    }\n",
       "</style>\n",
       "<table border=\"1\" class=\"dataframe\">\n",
       "  <thead>\n",
       "    <tr style=\"text-align: right;\">\n",
       "      <th></th>\n",
       "      <th>start_time</th>\n",
       "      <th>end_time</th>\n",
       "      <th>start_station_id</th>\n",
       "      <th>end_station_id</th>\n",
       "      <th>start_station_name</th>\n",
       "      <th>end_station_name</th>\n",
       "      <th>bike_id</th>\n",
       "      <th>user_type</th>\n",
       "      <th>duration</th>\n",
       "      <th>day_of_week_name</th>\n",
       "      <th>day_of_week</th>\n",
       "    </tr>\n",
       "  </thead>\n",
       "  <tbody>\n",
       "    <tr>\n",
       "      <th>0</th>\n",
       "      <td>2019-01-01 00:04:37</td>\n",
       "      <td>2019-01-01 00:11:07</td>\n",
       "      <td>199</td>\n",
       "      <td>84</td>\n",
       "      <td>Wabash Ave &amp; Grand Ave</td>\n",
       "      <td>Milwaukee Ave &amp; Grand Ave</td>\n",
       "      <td>2167</td>\n",
       "      <td>Subscriber</td>\n",
       "      <td>0 days 00:06:30</td>\n",
       "      <td>Tuesday</td>\n",
       "      <td>1</td>\n",
       "    </tr>\n",
       "    <tr>\n",
       "      <th>1</th>\n",
       "      <td>2019-01-01 00:08:13</td>\n",
       "      <td>2019-01-01 00:15:34</td>\n",
       "      <td>44</td>\n",
       "      <td>624</td>\n",
       "      <td>State St &amp; Randolph St</td>\n",
       "      <td>Dearborn St &amp; Van Buren St (*)</td>\n",
       "      <td>4386</td>\n",
       "      <td>Subscriber</td>\n",
       "      <td>0 days 00:07:21</td>\n",
       "      <td>Tuesday</td>\n",
       "      <td>1</td>\n",
       "    </tr>\n",
       "    <tr>\n",
       "      <th>2</th>\n",
       "      <td>2019-01-01 00:13:23</td>\n",
       "      <td>2019-01-01 00:27:12</td>\n",
       "      <td>15</td>\n",
       "      <td>644</td>\n",
       "      <td>Racine Ave &amp; 18th St</td>\n",
       "      <td>Western Ave &amp; Fillmore St (*)</td>\n",
       "      <td>1524</td>\n",
       "      <td>Subscriber</td>\n",
       "      <td>0 days 00:13:49</td>\n",
       "      <td>Tuesday</td>\n",
       "      <td>1</td>\n",
       "    </tr>\n",
       "    <tr>\n",
       "      <th>3</th>\n",
       "      <td>2019-01-01 00:13:45</td>\n",
       "      <td>2019-01-01 00:43:28</td>\n",
       "      <td>123</td>\n",
       "      <td>176</td>\n",
       "      <td>California Ave &amp; Milwaukee Ave</td>\n",
       "      <td>Clark St &amp; Elm St</td>\n",
       "      <td>252</td>\n",
       "      <td>Subscriber</td>\n",
       "      <td>0 days 00:29:43</td>\n",
       "      <td>Tuesday</td>\n",
       "      <td>1</td>\n",
       "    </tr>\n",
       "    <tr>\n",
       "      <th>4</th>\n",
       "      <td>2019-01-01 00:14:52</td>\n",
       "      <td>2019-01-01 00:20:56</td>\n",
       "      <td>173</td>\n",
       "      <td>35</td>\n",
       "      <td>Mies van der Rohe Way &amp; Chicago Ave</td>\n",
       "      <td>Streeter Dr &amp; Grand Ave</td>\n",
       "      <td>1170</td>\n",
       "      <td>Subscriber</td>\n",
       "      <td>0 days 00:06:04</td>\n",
       "      <td>Tuesday</td>\n",
       "      <td>1</td>\n",
       "    </tr>\n",
       "  </tbody>\n",
       "</table>\n",
       "</div>"
      ],
      "text/plain": [
       "           start_time            end_time  start_station_id  end_station_id  \\\n",
       "0 2019-01-01 00:04:37 2019-01-01 00:11:07               199              84   \n",
       "1 2019-01-01 00:08:13 2019-01-01 00:15:34                44             624   \n",
       "2 2019-01-01 00:13:23 2019-01-01 00:27:12                15             644   \n",
       "3 2019-01-01 00:13:45 2019-01-01 00:43:28               123             176   \n",
       "4 2019-01-01 00:14:52 2019-01-01 00:20:56               173              35   \n",
       "\n",
       "                    start_station_name                end_station_name  \\\n",
       "0               Wabash Ave & Grand Ave       Milwaukee Ave & Grand Ave   \n",
       "1               State St & Randolph St  Dearborn St & Van Buren St (*)   \n",
       "2                 Racine Ave & 18th St   Western Ave & Fillmore St (*)   \n",
       "3       California Ave & Milwaukee Ave               Clark St & Elm St   \n",
       "4  Mies van der Rohe Way & Chicago Ave         Streeter Dr & Grand Ave   \n",
       "\n",
       "   bike_id   user_type        duration day_of_week_name  day_of_week  \n",
       "0     2167  Subscriber 0 days 00:06:30          Tuesday            1  \n",
       "1     4386  Subscriber 0 days 00:07:21          Tuesday            1  \n",
       "2     1524  Subscriber 0 days 00:13:49          Tuesday            1  \n",
       "3      252  Subscriber 0 days 00:29:43          Tuesday            1  \n",
       "4     1170  Subscriber 0 days 00:06:04          Tuesday            1  "
      ]
     },
     "execution_count": 14,
     "metadata": {},
     "output_type": "execute_result"
    }
   ],
   "source": [
    "chicago_set['day_of_week_name'] = chicago_set['start_time'].dt.day_name()\n",
    "chicago_set['day_of_week'] = chicago_set['start_time'].dt.dayofweek\n",
    "chicago_set.head()"
   ]
  },
  {
   "cell_type": "markdown",
   "id": "a6ff817c",
   "metadata": {
    "id": "a6ff817c"
   },
   "source": [
    "### Hot-encode weekday: turn number for day into boolean"
   ]
  },
  {
   "cell_type": "code",
   "execution_count": 15,
   "id": "40986e02",
   "metadata": {
    "id": "40986e02",
    "outputId": "90522902-1bae-432e-f3e6-7a32d0cfcc7c"
   },
   "outputs": [
    {
     "data": {
      "text/html": [
       "<div>\n",
       "<style scoped>\n",
       "    .dataframe tbody tr th:only-of-type {\n",
       "        vertical-align: middle;\n",
       "    }\n",
       "\n",
       "    .dataframe tbody tr th {\n",
       "        vertical-align: top;\n",
       "    }\n",
       "\n",
       "    .dataframe thead th {\n",
       "        text-align: right;\n",
       "    }\n",
       "</style>\n",
       "<table border=\"1\" class=\"dataframe\">\n",
       "  <thead>\n",
       "    <tr style=\"text-align: right;\">\n",
       "      <th></th>\n",
       "      <th>start_time</th>\n",
       "      <th>end_time</th>\n",
       "      <th>start_station_id</th>\n",
       "      <th>end_station_id</th>\n",
       "      <th>start_station_name</th>\n",
       "      <th>end_station_name</th>\n",
       "      <th>bike_id</th>\n",
       "      <th>user_type</th>\n",
       "      <th>duration</th>\n",
       "      <th>day_of_week_name</th>\n",
       "      <th>day_of_week</th>\n",
       "      <th>monday</th>\n",
       "      <th>tuesday</th>\n",
       "      <th>wednesday</th>\n",
       "      <th>thursday</th>\n",
       "      <th>friday</th>\n",
       "      <th>saturday</th>\n",
       "    </tr>\n",
       "  </thead>\n",
       "  <tbody>\n",
       "    <tr>\n",
       "      <th>1249680</th>\n",
       "      <td>2019-06-17 19:20:55</td>\n",
       "      <td>2019-06-17 19:23:26</td>\n",
       "      <td>303</td>\n",
       "      <td>232</td>\n",
       "      <td>Broadway &amp; Cornelia Ave</td>\n",
       "      <td>Pine Grove Ave &amp; Waveland Ave</td>\n",
       "      <td>1618</td>\n",
       "      <td>Subscriber</td>\n",
       "      <td>0 days 00:02:31</td>\n",
       "      <td>Monday</td>\n",
       "      <td>0</td>\n",
       "      <td>1</td>\n",
       "      <td>0</td>\n",
       "      <td>0</td>\n",
       "      <td>0</td>\n",
       "      <td>0</td>\n",
       "      <td>0</td>\n",
       "    </tr>\n",
       "    <tr>\n",
       "      <th>3253044</th>\n",
       "      <td>2019-10-10 09:26:04</td>\n",
       "      <td>2019-10-10 09:38:18</td>\n",
       "      <td>268</td>\n",
       "      <td>331</td>\n",
       "      <td>Lake Shore Dr &amp; North Blvd</td>\n",
       "      <td>Halsted St &amp; Clybourn Ave</td>\n",
       "      <td>1651</td>\n",
       "      <td>Subscriber</td>\n",
       "      <td>0 days 00:12:14</td>\n",
       "      <td>Thursday</td>\n",
       "      <td>3</td>\n",
       "      <td>0</td>\n",
       "      <td>0</td>\n",
       "      <td>0</td>\n",
       "      <td>1</td>\n",
       "      <td>0</td>\n",
       "      <td>0</td>\n",
       "    </tr>\n",
       "    <tr>\n",
       "      <th>430495</th>\n",
       "      <td>2019-04-08 17:44:52</td>\n",
       "      <td>2019-04-08 17:49:24</td>\n",
       "      <td>33</td>\n",
       "      <td>623</td>\n",
       "      <td>State St &amp; Van Buren St</td>\n",
       "      <td>Michigan Ave &amp; 8th St</td>\n",
       "      <td>2700</td>\n",
       "      <td>Subscriber</td>\n",
       "      <td>0 days 00:04:32</td>\n",
       "      <td>Monday</td>\n",
       "      <td>0</td>\n",
       "      <td>1</td>\n",
       "      <td>0</td>\n",
       "      <td>0</td>\n",
       "      <td>0</td>\n",
       "      <td>0</td>\n",
       "      <td>0</td>\n",
       "    </tr>\n",
       "    <tr>\n",
       "      <th>3500367</th>\n",
       "      <td>2019-11-03 12:21:09</td>\n",
       "      <td>2019-11-03 13:40:07</td>\n",
       "      <td>43</td>\n",
       "      <td>673</td>\n",
       "      <td>Michigan Ave &amp; Washington St</td>\n",
       "      <td>Lincoln Park Conservatory</td>\n",
       "      <td>5203</td>\n",
       "      <td>Customer</td>\n",
       "      <td>0 days 01:18:58</td>\n",
       "      <td>Sunday</td>\n",
       "      <td>6</td>\n",
       "      <td>0</td>\n",
       "      <td>0</td>\n",
       "      <td>0</td>\n",
       "      <td>0</td>\n",
       "      <td>0</td>\n",
       "      <td>0</td>\n",
       "    </tr>\n",
       "    <tr>\n",
       "      <th>1417082</th>\n",
       "      <td>2019-06-27 18:44:43</td>\n",
       "      <td>2019-06-27 19:10:00</td>\n",
       "      <td>486</td>\n",
       "      <td>156</td>\n",
       "      <td>Oakley Ave &amp; Irving Park Rd</td>\n",
       "      <td>Clark St &amp; Wellington Ave</td>\n",
       "      <td>2869</td>\n",
       "      <td>Subscriber</td>\n",
       "      <td>0 days 00:25:17</td>\n",
       "      <td>Thursday</td>\n",
       "      <td>3</td>\n",
       "      <td>0</td>\n",
       "      <td>0</td>\n",
       "      <td>0</td>\n",
       "      <td>1</td>\n",
       "      <td>0</td>\n",
       "      <td>0</td>\n",
       "    </tr>\n",
       "  </tbody>\n",
       "</table>\n",
       "</div>"
      ],
      "text/plain": [
       "                 start_time            end_time  start_station_id  \\\n",
       "1249680 2019-06-17 19:20:55 2019-06-17 19:23:26               303   \n",
       "3253044 2019-10-10 09:26:04 2019-10-10 09:38:18               268   \n",
       "430495  2019-04-08 17:44:52 2019-04-08 17:49:24                33   \n",
       "3500367 2019-11-03 12:21:09 2019-11-03 13:40:07                43   \n",
       "1417082 2019-06-27 18:44:43 2019-06-27 19:10:00               486   \n",
       "\n",
       "         end_station_id            start_station_name  \\\n",
       "1249680             232       Broadway & Cornelia Ave   \n",
       "3253044             331    Lake Shore Dr & North Blvd   \n",
       "430495              623       State St & Van Buren St   \n",
       "3500367             673  Michigan Ave & Washington St   \n",
       "1417082             156   Oakley Ave & Irving Park Rd   \n",
       "\n",
       "                      end_station_name  bike_id   user_type        duration  \\\n",
       "1249680  Pine Grove Ave & Waveland Ave     1618  Subscriber 0 days 00:02:31   \n",
       "3253044      Halsted St & Clybourn Ave     1651  Subscriber 0 days 00:12:14   \n",
       "430495           Michigan Ave & 8th St     2700  Subscriber 0 days 00:04:32   \n",
       "3500367      Lincoln Park Conservatory     5203    Customer 0 days 01:18:58   \n",
       "1417082      Clark St & Wellington Ave     2869  Subscriber 0 days 00:25:17   \n",
       "\n",
       "        day_of_week_name  day_of_week  monday  tuesday  wednesday  thursday  \\\n",
       "1249680           Monday            0       1        0          0         0   \n",
       "3253044         Thursday            3       0        0          0         1   \n",
       "430495            Monday            0       1        0          0         0   \n",
       "3500367           Sunday            6       0        0          0         0   \n",
       "1417082         Thursday            3       0        0          0         1   \n",
       "\n",
       "         friday  saturday  \n",
       "1249680       0         0  \n",
       "3253044       0         0  \n",
       "430495        0         0  \n",
       "3500367       0         0  \n",
       "1417082       0         0  "
      ]
     },
     "execution_count": 15,
     "metadata": {},
     "output_type": "execute_result"
    }
   ],
   "source": [
    "chicago_set['monday'] = np.where(chicago_set['day_of_week'] == 0, 1, 0) #[chicago_set['day_of_week'] == 1]\n",
    "day = ['monday', 'tuesday', 'wednesday', 'thursday', 'friday', 'saturday']\n",
    "for i in range(0,6):\n",
    "    chicago_set[day[i]] = np.where(chicago_set['day_of_week'] == i, 1, 0)\n",
    "    \n",
    "chicago_set.sample(n=5)"
   ]
  },
  {
   "cell_type": "markdown",
   "id": "673d0d27",
   "metadata": {
    "id": "673d0d27"
   },
   "source": [
    "In the following part we will create a variable *fleet_size* which we will use later to determine the availability of bikes for specific times. "
   ]
  },
  {
   "cell_type": "code",
   "execution_count": 16,
   "id": "69be628a",
   "metadata": {
    "id": "69be628a",
    "scrolled": true
   },
   "outputs": [],
   "source": [
    "fleet_size = len(chicago_set['bike_id'].unique())\n",
    "\n",
    "#capacity_per_hour -> connect the fleet_size with the time to predict at what times in which areas we need to do something\n"
   ]
  },
  {
   "cell_type": "markdown",
   "id": "46d713a8",
   "metadata": {
    "id": "46d713a8"
   },
   "source": [
    "## Analyzing the location data"
   ]
  },
  {
   "cell_type": "markdown",
   "id": "b4bf27bc",
   "metadata": {
    "id": "b4bf27bc"
   },
   "source": [
    "In the following part we try to visualize our data set. We want to make clear which time factory like months, time or weekday has influence on the demand. Furthermore, we try to find patterns of the duration and the time the service is getting used."
   ]
  },
  {
   "cell_type": "markdown",
   "id": "55356ae3",
   "metadata": {
    "id": "55356ae3"
   },
   "source": [
    "## Importing a dataset to findout the latitude and longitude of the stations"
   ]
  },
  {
   "cell_type": "code",
   "execution_count": 17,
   "id": "4fe352b2",
   "metadata": {
    "id": "4fe352b2",
    "outputId": "582292f5-20ee-404e-e36b-d74c5d566e8a",
    "scrolled": true
   },
   "outputs": [
    {
     "name": "stdout",
     "output_type": "stream",
     "text": [
      "<class 'pandas.core.frame.DataFrame'>\n",
      "RangeIndex: 84776 entries, 0 to 84775\n",
      "Data columns (total 13 columns):\n",
      " #   Column              Non-Null Count  Dtype  \n",
      "---  ------              --------------  -----  \n",
      " 0   ride_id             84776 non-null  object \n",
      " 1   rideable_type       84776 non-null  object \n",
      " 2   started_at          84776 non-null  object \n",
      " 3   ended_at            84776 non-null  object \n",
      " 4   start_station_name  84776 non-null  object \n",
      " 5   start_station_id    84776 non-null  int64  \n",
      " 6   end_station_name    84677 non-null  object \n",
      " 7   end_station_id      84677 non-null  float64\n",
      " 8   start_lat           84776 non-null  float64\n",
      " 9   start_lng           84776 non-null  float64\n",
      " 10  end_lat             84677 non-null  float64\n",
      " 11  end_lng             84677 non-null  float64\n",
      " 12  member_casual       84776 non-null  object \n",
      "dtypes: float64(5), int64(1), object(7)\n",
      "memory usage: 8.4+ MB\n"
     ]
    }
   ],
   "source": [
    "coordinates_set = pd.read_csv(\"C:\\\\Users\\\\sebas\\\\Desktop\\\\DSML\\\\Projektordner\\\\202004-divvy-tripdata.csv\")\n",
    "coordinates_set.info()"
   ]
  },
  {
   "cell_type": "markdown",
   "id": "b0cc7a84",
   "metadata": {
    "id": "b0cc7a84"
   },
   "source": [
    "## Get the relevant data, i.e. station_name, station_id, latitude & longitude"
   ]
  },
  {
   "cell_type": "code",
   "execution_count": 21,
   "id": "d6db948f",
   "metadata": {
    "id": "a951be61",
    "outputId": "446a3d18-7a7e-4133-ef9e-c84395312495"
   },
   "outputs": [
    {
     "name": "stdout",
     "output_type": "stream",
     "text": [
      "<class 'pandas.core.frame.DataFrame'>\n",
      "RangeIndex: 169552 entries, 0 to 169551\n",
      "Data columns (total 4 columns):\n",
      " #   Column        Non-Null Count   Dtype  \n",
      "---  ------        --------------   -----  \n",
      " 0   station_name  169453 non-null  object \n",
      " 1   station_id    169453 non-null  float64\n",
      " 2   latitude      169453 non-null  float64\n",
      " 3   longitude     169453 non-null  float64\n",
      "dtypes: float64(3), object(1)\n",
      "memory usage: 5.2+ MB\n"
     ]
    }
   ],
   "source": [
    "coordinates1 = coordinates_set[['start_station_name', 'start_station_id', 'start_lat', 'start_lng']]\n",
    "coordinates2 = coordinates_set[['end_station_name', 'end_station_id', 'end_lat', 'end_lng']]\n",
    "\n",
    "coordinates1.rename(columns={'start_station_name': 'station_name', 'start_station_id': 'station_id', 'start_lat': 'latitude', 'start_lng':'longitude'}, inplace=True)\n",
    "coordinates2.rename(columns={'end_station_name': 'station_name', 'end_station_id': 'station_id', 'end_lat': 'latitude', 'end_lng':'longitude'}, inplace=True)\n",
    "\n",
    "coordinates = pd.concat([coordinates1, coordinates2], ignore_index = True)\n",
    "coordinates.info()"
   ]
  },
  {
   "cell_type": "code",
   "execution_count": 22,
   "id": "c38172a9",
   "metadata": {
    "id": "c38172a9",
    "outputId": "46b9f82d-31d5-4140-f169-08b7ad9af505",
    "scrolled": false
   },
   "outputs": [
    {
     "name": "stdout",
     "output_type": "stream",
     "text": [
      "<class 'pandas.core.frame.DataFrame'>\n",
      "Int64Index: 169453 entries, 0 to 169551\n",
      "Data columns (total 4 columns):\n",
      " #   Column        Non-Null Count   Dtype  \n",
      "---  ------        --------------   -----  \n",
      " 0   station_name  169453 non-null  object \n",
      " 1   station_id    169453 non-null  float64\n",
      " 2   latitude      169453 non-null  float64\n",
      " 3   longitude     169453 non-null  float64\n",
      "dtypes: float64(3), object(1)\n",
      "memory usage: 6.5+ MB\n"
     ]
    }
   ],
   "source": [
    "coordinates['station_id'] = coordinates['station_id'].replace([np.inf, -np.inf], np.nan)\n",
    "coordinates_dropped = coordinates.dropna()\n",
    "coordinates_dropped.info()"
   ]
  },
  {
   "cell_type": "markdown",
   "id": "fc54d296",
   "metadata": {},
   "source": [
    "## Calculate the net distances between the stations"
   ]
  },
  {
   "cell_type": "code",
   "execution_count": null,
   "id": "36f5bb6e",
   "metadata": {},
   "outputs": [],
   "source": []
  },
  {
   "cell_type": "markdown",
   "id": "NLab05v_XWTo",
   "metadata": {
    "id": "NLab05v_XWTo"
   },
   "source": [
    "# In our next step, we want to create a heat map of the bike trips used in our data sets. In order to be able to visualize this, we need to install the \"ipyleaflet\" extension using the following two commands (installment and enabling of the extension):"
   ]
  },
  {
   "cell_type": "code",
   "execution_count": null,
   "id": "0a437707",
   "metadata": {},
   "outputs": [],
   "source": [
    "import ipyleaflet"
   ]
  },
  {
   "cell_type": "code",
   "execution_count": null,
   "id": "-RUgsRzWWIH1",
   "metadata": {
    "colab": {
     "base_uri": "https://localhost:8080/",
     "height": 421,
     "referenced_widgets": [
      "15ad7784e7ac44c5992b93fe44eb5150",
      "7cfa1300d05a4eb493849bb01ca9150e",
      "33594c70a16e4d2d8b9ef0cf0af0da71",
      "b44888ed75704a82a61cf1067d2cbb79",
      "f9eabc4ed6e641059329a0ca3407970a",
      "89c2271f57ae4e9d8f1369480f46193a",
      "b8de7960fb94468a881ef4b8db0f89e1",
      "e78df590dbca4379aba31f1453d1deb8",
      "4a6e9c35799644619cb1e29a028a5d84"
     ]
    },
    "id": "-RUgsRzWWIH1",
    "outputId": "f201dbd6-7955-4458-8a2e-3458dea143c0",
    "scrolled": true
   },
   "outputs": [],
   "source": [
    "from ipyleaflet import (Map,DrawControl)\n",
    "myMap=Map(center=[41.8758,-87.7553], zoom=20)\n",
    "ChicagoCity=DrawControl(circle={'shapeOptions':{'color':'#8B0000'}})\n",
    "myMap.add_control(ChicagoCity)\n",
    "myMap"
   ]
  },
  {
   "cell_type": "markdown",
   "id": "74d7dc34",
   "metadata": {
    "id": "74d7dc34"
   },
   "source": [
    "#### Get all unique rows based on station_id"
   ]
  },
  {
   "cell_type": "code",
   "execution_count": null,
   "id": "3e3c3755",
   "metadata": {
    "id": "3e3c3755",
    "outputId": "40ced4b0-5173-4189-d474-90ea207cae11"
   },
   "outputs": [],
   "source": [
    "coordinates_unique = coordinates_dropped.drop_duplicates(subset = ['station_id'], keep = 'last')\n",
    "#coordinates_unique['station_id'] = coordinates_unique['station_id'].replace([np.inf, -np.inf], np.nan)\n",
    "coordinates_unique = coordinates_unique.dropna()\n",
    "coordinates_unqiue.info()"
   ]
  },
  {
   "cell_type": "code",
   "execution_count": null,
   "id": "fcb925bb",
   "metadata": {
    "id": "fcb925bb",
    "outputId": "84fc7b70-b6f6-430c-db98-2dd2f16a69f7"
   },
   "outputs": [],
   "source": [
    "coordinates_unique = coordinates_unique[np.isfinite(coordinates_unique['station_id'])]\n",
    "coordinates_unique.head()"
   ]
  },
  {
   "cell_type": "code",
   "execution_count": null,
   "id": "8864026d",
   "metadata": {
    "id": "8864026d",
    "outputId": "dd54e31f-2335-461d-838f-71e6ed33c773"
   },
   "outputs": [],
   "source": [
    "coordinates_unique['station_id'] = coordinates_unique['station_id'].astype('int64')\n",
    "coordinates_unique.info()"
   ]
  },
  {
   "cell_type": "code",
   "execution_count": null,
   "id": "eedef0b2",
   "metadata": {
    "id": "eedef0b2",
    "outputId": "228ad1f1-c0fd-4f19-cd60-1bb5298cc035"
   },
   "outputs": [],
   "source": [
    "coordinates_unique.head()"
   ]
  },
  {
   "cell_type": "code",
   "execution_count": null,
   "id": "3c594332",
   "metadata": {
    "id": "3c594332",
    "outputId": "671d6e48-b388-4db2-c573-521cf8fced5d"
   },
   "outputs": [],
   "source": [
    "chicago_set_merge = chicago_set_clean.merge(coordinates_unique, how='left', left_on='start_station_id', right_on='station_id')\n",
    "chicago_set_merge.head()"
   ]
  },
  {
   "cell_type": "code",
   "execution_count": null,
   "id": "81ba7a15",
   "metadata": {
    "id": "81ba7a15",
    "outputId": "12888118-0f54-46e5-cb70-38a9e408e21c"
   },
   "outputs": [],
   "source": [
    "chicago_set_merge.info()"
   ]
  },
  {
   "cell_type": "code",
   "execution_count": null,
   "id": "9fe7bad3",
   "metadata": {
    "id": "9fe7bad3"
   },
   "outputs": [],
   "source": []
  }
 ],
 "metadata": {
  "colab": {
   "name": "Kopie von Data Analysis Chicago.ipynb",
   "provenance": []
  },
  "kernelspec": {
   "display_name": "Python 3 (ipykernel)",
   "language": "python",
   "name": "python3"
  },
  "language_info": {
   "codemirror_mode": {
    "name": "ipython",
    "version": 3
   },
   "file_extension": ".py",
   "mimetype": "text/x-python",
   "name": "python",
   "nbconvert_exporter": "python",
   "pygments_lexer": "ipython3",
   "version": "3.9.7"
  },
  "widgets": {
   "application/vnd.jupyter.widget-state+json": {
    "15ad7784e7ac44c5992b93fe44eb5150": {
     "model_module": "jupyter-leaflet",
     "model_module_version": "^0.16.0",
     "model_name": "LeafletMapModel",
     "state": {
      "_dom_classes": [],
      "_dragging": false,
      "_model_module": "jupyter-leaflet",
      "_model_module_version": "^0.16.0",
      "_model_name": "LeafletMapModel",
      "_view_count": null,
      "_view_module": "jupyter-leaflet",
      "_view_module_version": "^0.16.0",
      "_view_name": "LeafletMapView",
      "bottom": 390234,
      "bounce_at_zoom_limits": true,
      "box_zoom": true,
      "center": [
       41.79947137214944,
       -87.57854461669922
      ],
      "close_popup_on_click": true,
      "controls": [
       "IPY_MODEL_7cfa1300d05a4eb493849bb01ca9150e",
       "IPY_MODEL_33594c70a16e4d2d8b9ef0cf0af0da71",
       "IPY_MODEL_b44888ed75704a82a61cf1067d2cbb79"
      ],
      "crs": {
       "custom": false,
       "name": "EPSG3857"
      },
      "default_style": "IPY_MODEL_f9eabc4ed6e641059329a0ca3407970a",
      "double_click_zoom": true,
      "dragging": true,
      "dragging_style": "IPY_MODEL_89c2271f57ae4e9d8f1369480f46193a",
      "east": -87.32311248779298,
      "fullscreen": false,
      "inertia": true,
      "inertia_deceleration": 3000,
      "inertia_max_speed": 1500,
      "interpolation": "bilinear",
      "keyboard": true,
      "keyboard_pan_offset": 80,
      "keyboard_zoom_offset": 1,
      "layers": [
       "IPY_MODEL_b8de7960fb94468a881ef4b8db0f89e1"
      ],
      "layout": "IPY_MODEL_e78df590dbca4379aba31f1453d1deb8",
      "left": 268453,
      "max_zoom": 18,
      "min_zoom": 1,
      "modisdate": "2022-06-01",
      "north": 41.850639123649636,
      "options": [
       "bounce_at_zoom_limits",
       "box_zoom",
       "center",
       "close_popup_on_click",
       "double_click_zoom",
       "dragging",
       "fullscreen",
       "inertia",
       "inertia_deceleration",
       "inertia_max_speed",
       "interpolation",
       "keyboard",
       "keyboard_pan_offset",
       "keyboard_zoom_offset",
       "max_zoom",
       "min_zoom",
       "prefer_canvas",
       "scroll_wheel_zoom",
       "tap",
       "tap_tolerance",
       "touch_zoom",
       "world_copy_jump",
       "zoom",
       "zoom_animation_threshold",
       "zoom_delta",
       "zoom_snap",
       "zoom_start"
      ],
      "prefer_canvas": false,
      "right": 269941,
      "scroll_wheel_zoom": false,
      "south": 41.74826273259059,
      "style": "IPY_MODEL_f9eabc4ed6e641059329a0ca3407970a",
      "tap": true,
      "tap_tolerance": 15,
      "top": 389834,
      "touch_zoom": true,
      "west": -87.83397674560547,
      "window_url": "https://ny9hvh6u7s-496ff2e9c6d22116-0-colab.googleusercontent.com/outputframe.html?vrz=colab-20220601-060046-RC00_452259785",
      "world_copy_jump": false,
      "zoom": 12,
      "zoom_animation_threshold": 4,
      "zoom_delta": 1,
      "zoom_snap": 1,
      "zoom_start": 12
     }
    },
    "33594c70a16e4d2d8b9ef0cf0af0da71": {
     "model_module": "jupyter-leaflet",
     "model_module_version": "^0.16.0",
     "model_name": "LeafletAttributionControlModel",
     "state": {
      "_model_module": "jupyter-leaflet",
      "_model_module_version": "^0.16.0",
      "_model_name": "LeafletAttributionControlModel",
      "_view_count": null,
      "_view_module": "jupyter-leaflet",
      "_view_module_version": "^0.16.0",
      "_view_name": "LeafletAttributionControlView",
      "options": [
       "position",
       "prefix"
      ],
      "position": "bottomright",
      "prefix": "ipyleaflet"
     }
    },
    "4a6e9c35799644619cb1e29a028a5d84": {
     "model_module": "jupyter-leaflet",
     "model_module_version": "^0.16.0",
     "model_name": "LeafletMapStyleModel",
     "state": {
      "_model_module": "jupyter-leaflet",
      "_model_module_version": "^0.16.0",
      "_model_name": "LeafletMapStyleModel",
      "_view_count": null,
      "_view_module": "@jupyter-widgets/base",
      "_view_module_version": "1.2.0",
      "_view_name": "StyleView",
      "cursor": "grab"
     }
    },
    "7cfa1300d05a4eb493849bb01ca9150e": {
     "model_module": "jupyter-leaflet",
     "model_module_version": "^0.16.0",
     "model_name": "LeafletZoomControlModel",
     "state": {
      "_model_module": "jupyter-leaflet",
      "_model_module_version": "^0.16.0",
      "_model_name": "LeafletZoomControlModel",
      "_view_count": null,
      "_view_module": "jupyter-leaflet",
      "_view_module_version": "^0.16.0",
      "_view_name": "LeafletZoomControlView",
      "options": [
       "position",
       "zoom_in_text",
       "zoom_in_title",
       "zoom_out_text",
       "zoom_out_title"
      ],
      "position": "topleft",
      "zoom_in_text": "+",
      "zoom_in_title": "Zoom in",
      "zoom_out_text": "-",
      "zoom_out_title": "Zoom out"
     }
    },
    "89c2271f57ae4e9d8f1369480f46193a": {
     "model_module": "jupyter-leaflet",
     "model_module_version": "^0.16.0",
     "model_name": "LeafletMapStyleModel",
     "state": {
      "_model_module": "jupyter-leaflet",
      "_model_module_version": "^0.16.0",
      "_model_name": "LeafletMapStyleModel",
      "_view_count": null,
      "_view_module": "@jupyter-widgets/base",
      "_view_module_version": "1.2.0",
      "_view_name": "StyleView",
      "cursor": "move"
     }
    },
    "b44888ed75704a82a61cf1067d2cbb79": {
     "model_module": "jupyter-leaflet",
     "model_module_version": "^0.16.0",
     "model_name": "LeafletDrawControlModel",
     "state": {
      "_model_module": "jupyter-leaflet",
      "_model_module_version": "^0.16.0",
      "_model_name": "LeafletDrawControlModel",
      "_view_count": null,
      "_view_module": "jupyter-leaflet",
      "_view_module_version": "^0.16.0",
      "_view_name": "LeafletDrawControlView",
      "circle": {
       "shapeOptions": {
        "color": "#8B0000"
       }
      },
      "circlemarker": {
       "shapeOptions": {}
      },
      "data": [],
      "edit": true,
      "marker": {},
      "options": [
       "position"
      ],
      "polygon": {
       "shapeOptions": {}
      },
      "polyline": {
       "shapeOptions": {}
      },
      "position": "topleft",
      "rectangle": {},
      "remove": true
     }
    },
    "b8de7960fb94468a881ef4b8db0f89e1": {
     "model_module": "jupyter-leaflet",
     "model_module_version": "^0.16.0",
     "model_name": "LeafletTileLayerModel",
     "state": {
      "_model_module": "jupyter-leaflet",
      "_model_module_version": "^0.16.0",
      "_model_name": "LeafletTileLayerModel",
      "_view_count": null,
      "_view_module": "jupyter-leaflet",
      "_view_module_version": "^0.16.0",
      "_view_name": "LeafletTileLayerView",
      "attribution": "&copy; <a href=\"https://www.openstreetmap.org/copyright\">OpenStreetMap</a> contributors",
      "base": true,
      "bottom": true,
      "bounds": null,
      "detect_retina": false,
      "loading": false,
      "max_native_zoom": 18,
      "max_zoom": 19,
      "min_native_zoom": 0,
      "min_zoom": 1,
      "name": "OpenStreetMap.Mapnik",
      "no_wrap": false,
      "opacity": 1,
      "options": [
       "attribution",
       "bounds",
       "detect_retina",
       "max_native_zoom",
       "max_zoom",
       "min_native_zoom",
       "min_zoom",
       "no_wrap",
       "tile_size",
       "tms"
      ],
      "popup": null,
      "popup_max_height": null,
      "popup_max_width": 300,
      "popup_min_width": 50,
      "show_loading": false,
      "tile_size": 256,
      "tms": false,
      "url": "https://a.tile.openstreetmap.org/{z}/{x}/{y}.png",
      "visible": true
     }
    },
    "e78df590dbca4379aba31f1453d1deb8": {
     "model_module": "@jupyter-widgets/base",
     "model_module_version": "1.2.0",
     "model_name": "LayoutModel",
     "state": {
      "_model_module": "@jupyter-widgets/base",
      "_model_module_version": "1.2.0",
      "_model_name": "LayoutModel",
      "_view_count": null,
      "_view_module": "@jupyter-widgets/base",
      "_view_module_version": "1.2.0",
      "_view_name": "LayoutView",
      "align_content": null,
      "align_items": null,
      "align_self": null,
      "border": null,
      "bottom": null,
      "display": null,
      "flex": null,
      "flex_flow": null,
      "grid_area": null,
      "grid_auto_columns": null,
      "grid_auto_flow": null,
      "grid_auto_rows": null,
      "grid_column": null,
      "grid_gap": null,
      "grid_row": null,
      "grid_template_areas": null,
      "grid_template_columns": null,
      "grid_template_rows": null,
      "height": null,
      "justify_content": null,
      "justify_items": null,
      "left": null,
      "margin": null,
      "max_height": null,
      "max_width": null,
      "min_height": null,
      "min_width": null,
      "object_fit": null,
      "object_position": null,
      "order": null,
      "overflow": null,
      "overflow_x": null,
      "overflow_y": null,
      "padding": null,
      "right": null,
      "top": null,
      "visibility": null,
      "width": null
     }
    },
    "f9eabc4ed6e641059329a0ca3407970a": {
     "model_module": "jupyter-leaflet",
     "model_module_version": "^0.16.0",
     "model_name": "LeafletMapStyleModel",
     "state": {
      "_model_module": "jupyter-leaflet",
      "_model_module_version": "^0.16.0",
      "_model_name": "LeafletMapStyleModel",
      "_view_count": null,
      "_view_module": "@jupyter-widgets/base",
      "_view_module_version": "1.2.0",
      "_view_name": "StyleView",
      "cursor": "grab"
     }
    }
   }
  }
 },
 "nbformat": 4,
 "nbformat_minor": 5
}
