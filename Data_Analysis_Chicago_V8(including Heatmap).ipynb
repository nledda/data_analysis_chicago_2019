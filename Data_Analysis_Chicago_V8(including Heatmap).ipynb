{
 "cells": [
  {
   "cell_type": "markdown",
   "id": "96a68f83",
   "metadata": {
    "id": "96a68f83"
   },
   "source": [
    "# Data Analysis of the Chicago Dataset\n",
    "\n",
    "In this Jupyter Notebook we will analyze a bike sharing dataset of the city Chicago of the year 2019. We will also include the hourly weather data of the city during the same time. In the first part we will visualize the data and try to develop a deep understanding of the user types and recurring bahavioral patterns. In the second part we use this knowledge to develop a predicition model which forecasts future demand."
   ]
  },
  {
   "cell_type": "markdown",
   "id": "38b51333",
   "metadata": {
    "id": "38b51333"
   },
   "source": [
    "## Getting started: importing the data and getting it in the right format"
   ]
  },
  {
   "cell_type": "markdown",
   "id": "9d1cfc09",
   "metadata": {
    "id": "9d1cfc09"
   },
   "source": [
    "At first we import all of the required libraries in this notebook. In this case we import *NumPy, Pandas, Matplotlib and Seaborn*. \n"
   ]
  },
  {
   "cell_type": "code",
   "execution_count": 1,
   "id": "1b763a1d",
   "metadata": {
    "id": "1b763a1d"
   },
   "outputs": [],
   "source": [
    "import numpy as np\n",
    "import pandas as pd\n",
    "import matplotlib as mpl\n",
    "import matplotlib.pyplot as plt\n",
    "import seaborn as sns"
   ]
  },
  {
   "cell_type": "markdown",
   "id": "c287f648",
   "metadata": {
    "id": "c287f648"
   },
   "source": [
    "Next we import the datasets. This is in perticular the dataset of the city Chicago of the year 2019 and the associated weather data. We do this with the library Pandas, therefore both datasets have now the datatype \"Pandas Dataframe\" ([documentation](https://pandas.pydata.org/docs/reference/frame.html)). \n",
    "\n",
    "The first cell is fore importing the files from the Google Drive when working with Google Colab, the second one is for importing the cells when working with a local Jupyter Notebook with    the files in the same folder as the Jupyter Notebook."
   ]
  },
  {
   "cell_type": "code",
   "execution_count": 2,
   "id": "0bcfd986",
   "metadata": {
    "colab": {
     "base_uri": "https://localhost:8080/"
    },
    "id": "0bcfd986",
    "outputId": "eb27e151-5599-45fe-82f5-8f0b0c8d8b25"
   },
   "outputs": [
    {
     "ename": "ModuleNotFoundError",
     "evalue": "No module named 'google'",
     "output_type": "error",
     "traceback": [
      "\u001b[1;31m---------------------------------------------------------------------------\u001b[0m",
      "\u001b[1;31mModuleNotFoundError\u001b[0m                       Traceback (most recent call last)",
      "\u001b[1;32m~\\AppData\\Local\\Temp/ipykernel_8136/2704388902.py\u001b[0m in \u001b[0;36m<module>\u001b[1;34m\u001b[0m\n\u001b[0;32m      1\u001b[0m \u001b[1;31m# für Google Colab\u001b[0m\u001b[1;33m\u001b[0m\u001b[1;33m\u001b[0m\u001b[0m\n\u001b[1;32m----> 2\u001b[1;33m \u001b[1;32mfrom\u001b[0m \u001b[0mgoogle\u001b[0m\u001b[1;33m.\u001b[0m\u001b[0mcolab\u001b[0m \u001b[1;32mimport\u001b[0m \u001b[0mdrive\u001b[0m\u001b[1;33m\u001b[0m\u001b[1;33m\u001b[0m\u001b[0m\n\u001b[0m\u001b[0;32m      3\u001b[0m \u001b[0mdrive\u001b[0m\u001b[1;33m.\u001b[0m\u001b[0mmount\u001b[0m\u001b[1;33m(\u001b[0m\u001b[1;34m'/content/drive'\u001b[0m\u001b[1;33m)\u001b[0m\u001b[1;33m\u001b[0m\u001b[1;33m\u001b[0m\u001b[0m\n\u001b[0;32m      4\u001b[0m \u001b[0mchicago_set\u001b[0m \u001b[1;33m=\u001b[0m \u001b[0mpd\u001b[0m\u001b[1;33m.\u001b[0m\u001b[0mread_csv\u001b[0m\u001b[1;33m(\u001b[0m\u001b[1;34m'/content/drive/MyDrive/DSML: Google Gurus/Data Sources/chicago_2019.csv'\u001b[0m\u001b[1;33m)\u001b[0m\u001b[1;33m\u001b[0m\u001b[1;33m\u001b[0m\u001b[0m\n\u001b[0;32m      5\u001b[0m \u001b[0mweather_set\u001b[0m \u001b[1;33m=\u001b[0m \u001b[0mpd\u001b[0m\u001b[1;33m.\u001b[0m\u001b[0mread_csv\u001b[0m\u001b[1;33m(\u001b[0m\u001b[1;34m'/content/drive/MyDrive/DSML: Google Gurus/Data Sources/weather_hourly_chicago.csv'\u001b[0m\u001b[1;33m)\u001b[0m\u001b[1;33m\u001b[0m\u001b[1;33m\u001b[0m\u001b[0m\n",
      "\u001b[1;31mModuleNotFoundError\u001b[0m: No module named 'google'"
     ]
    }
   ],
   "source": [
    "# für Google Colab\n",
    "from google.colab import drive\n",
    "drive.mount('/content/drive')\n",
    "chicago_set = pd.read_csv('/content/drive/MyDrive/DSML: Google Gurus/Data Sources/chicago_2019.csv')\n",
    "weather_set = pd.read_csv('/content/drive/MyDrive/DSML: Google Gurus/Data Sources/weather_hourly_chicago.csv')\n",
    "coordinates_sets = [pd.read_csv('/content/drive/MyDrive/DSML: Google Gurus/Data Sources/202004-divvy-tripdata.csv')]\n",
    "coordinates_sets.append(pd.read_csv('/content/drive/MyDrive/DSML: Google Gurus/Data Sources/202005-divvy-tripdata.csv'))\n",
    "coordinates_sets.append(pd.read_csv('/content/drive/MyDrive/DSML: Google Gurus/Data Sources/202006-divvy-tripdata.csv'))\n",
    "coordinates_sets.append(pd.read_csv('/content/drive/MyDrive/DSML: Google Gurus/Data Sources/202007-divvy-tripdata.csv'))\n",
    "coordinates_sets.append(pd.read_csv('/content/drive/MyDrive/DSML: Google Gurus/Data Sources/202008-divvy-tripdata.csv'))"
   ]
  },
  {
   "cell_type": "code",
   "execution_count": 3,
   "id": "sUBNmZWpl60e",
   "metadata": {
    "colab": {
     "base_uri": "https://localhost:8080/",
     "height": 392
    },
    "id": "sUBNmZWpl60e",
    "outputId": "59c3555c-ea3e-423d-f2a6-456b725e3232"
   },
   "outputs": [],
   "source": [
    "# für lokale Jupyter Notebooks\n",
    "chicago_set = pd.read_csv('chicago_2019.csv')\n",
    "weather_set = pd.read_csv('weather_hourly_chicago.csv')\n",
    "coordinates_sets = [pd.read_csv('202004-divvy-tripdata.csv')]\n",
    "coordinates_sets.append(pd.read_csv('202005-divvy-tripdata.csv'))\n",
    "coordinates_sets.append(pd.read_csv('202006-divvy-tripdata.csv'))\n",
    "coordinates_sets.append(pd.read_csv('202007-divvy-tripdata.csv'))\n",
    "coordinates_sets.append(pd.read_csv('202008-divvy-tripdata.csv'))"
   ]
  },
  {
   "cell_type": "markdown",
   "id": "83ddc03b",
   "metadata": {
    "id": "83ddc03b"
   },
   "source": [
    "We use the commands head() and info() to get a feeling for the data"
   ]
  },
  {
   "cell_type": "code",
   "execution_count": 4,
   "id": "e6024bfd",
   "metadata": {
    "colab": {
     "base_uri": "https://localhost:8080/",
     "height": 333
    },
    "id": "e6024bfd",
    "outputId": "f98afb6c-37f7-44c6-a473-56ccd1835fc1",
    "scrolled": true
   },
   "outputs": [
    {
     "data": {
      "text/html": [
       "<div>\n",
       "<style scoped>\n",
       "    .dataframe tbody tr th:only-of-type {\n",
       "        vertical-align: middle;\n",
       "    }\n",
       "\n",
       "    .dataframe tbody tr th {\n",
       "        vertical-align: top;\n",
       "    }\n",
       "\n",
       "    .dataframe thead th {\n",
       "        text-align: right;\n",
       "    }\n",
       "</style>\n",
       "<table border=\"1\" class=\"dataframe\">\n",
       "  <thead>\n",
       "    <tr style=\"text-align: right;\">\n",
       "      <th></th>\n",
       "      <th>start_time</th>\n",
       "      <th>end_time</th>\n",
       "      <th>start_station_id</th>\n",
       "      <th>end_station_id</th>\n",
       "      <th>start_station_name</th>\n",
       "      <th>end_station_name</th>\n",
       "      <th>bike_id</th>\n",
       "      <th>user_type</th>\n",
       "    </tr>\n",
       "  </thead>\n",
       "  <tbody>\n",
       "    <tr>\n",
       "      <th>0</th>\n",
       "      <td>2019-01-01 00:04:37</td>\n",
       "      <td>2019-01-01 00:11:07</td>\n",
       "      <td>199</td>\n",
       "      <td>84</td>\n",
       "      <td>Wabash Ave &amp; Grand Ave</td>\n",
       "      <td>Milwaukee Ave &amp; Grand Ave</td>\n",
       "      <td>2167</td>\n",
       "      <td>Subscriber</td>\n",
       "    </tr>\n",
       "    <tr>\n",
       "      <th>1</th>\n",
       "      <td>2019-01-01 00:08:13</td>\n",
       "      <td>2019-01-01 00:15:34</td>\n",
       "      <td>44</td>\n",
       "      <td>624</td>\n",
       "      <td>State St &amp; Randolph St</td>\n",
       "      <td>Dearborn St &amp; Van Buren St (*)</td>\n",
       "      <td>4386</td>\n",
       "      <td>Subscriber</td>\n",
       "    </tr>\n",
       "    <tr>\n",
       "      <th>2</th>\n",
       "      <td>2019-01-01 00:13:23</td>\n",
       "      <td>2019-01-01 00:27:12</td>\n",
       "      <td>15</td>\n",
       "      <td>644</td>\n",
       "      <td>Racine Ave &amp; 18th St</td>\n",
       "      <td>Western Ave &amp; Fillmore St (*)</td>\n",
       "      <td>1524</td>\n",
       "      <td>Subscriber</td>\n",
       "    </tr>\n",
       "    <tr>\n",
       "      <th>3</th>\n",
       "      <td>2019-01-01 00:13:45</td>\n",
       "      <td>2019-01-01 00:43:28</td>\n",
       "      <td>123</td>\n",
       "      <td>176</td>\n",
       "      <td>California Ave &amp; Milwaukee Ave</td>\n",
       "      <td>Clark St &amp; Elm St</td>\n",
       "      <td>252</td>\n",
       "      <td>Subscriber</td>\n",
       "    </tr>\n",
       "    <tr>\n",
       "      <th>4</th>\n",
       "      <td>2019-01-01 00:14:52</td>\n",
       "      <td>2019-01-01 00:20:56</td>\n",
       "      <td>173</td>\n",
       "      <td>35</td>\n",
       "      <td>Mies van der Rohe Way &amp; Chicago Ave</td>\n",
       "      <td>Streeter Dr &amp; Grand Ave</td>\n",
       "      <td>1170</td>\n",
       "      <td>Subscriber</td>\n",
       "    </tr>\n",
       "  </tbody>\n",
       "</table>\n",
       "</div>"
      ],
      "text/plain": [
       "            start_time             end_time  start_station_id  end_station_id  \\\n",
       "0  2019-01-01 00:04:37  2019-01-01 00:11:07               199              84   \n",
       "1  2019-01-01 00:08:13  2019-01-01 00:15:34                44             624   \n",
       "2  2019-01-01 00:13:23  2019-01-01 00:27:12                15             644   \n",
       "3  2019-01-01 00:13:45  2019-01-01 00:43:28               123             176   \n",
       "4  2019-01-01 00:14:52  2019-01-01 00:20:56               173              35   \n",
       "\n",
       "                    start_station_name                end_station_name  \\\n",
       "0               Wabash Ave & Grand Ave       Milwaukee Ave & Grand Ave   \n",
       "1               State St & Randolph St  Dearborn St & Van Buren St (*)   \n",
       "2                 Racine Ave & 18th St   Western Ave & Fillmore St (*)   \n",
       "3       California Ave & Milwaukee Ave               Clark St & Elm St   \n",
       "4  Mies van der Rohe Way & Chicago Ave         Streeter Dr & Grand Ave   \n",
       "\n",
       "   bike_id   user_type  \n",
       "0     2167  Subscriber  \n",
       "1     4386  Subscriber  \n",
       "2     1524  Subscriber  \n",
       "3      252  Subscriber  \n",
       "4     1170  Subscriber  "
      ]
     },
     "execution_count": 4,
     "metadata": {},
     "output_type": "execute_result"
    }
   ],
   "source": [
    "chicago_set.head()"
   ]
  },
  {
   "cell_type": "code",
   "execution_count": 5,
   "id": "49d74cf8",
   "metadata": {
    "colab": {
     "base_uri": "https://localhost:8080/"
    },
    "id": "49d74cf8",
    "outputId": "96cf71c5-3119-4d2b-feb0-2bd34d360c88",
    "scrolled": true
   },
   "outputs": [
    {
     "name": "stdout",
     "output_type": "stream",
     "text": [
      "<class 'pandas.core.frame.DataFrame'>\n",
      "RangeIndex: 3818004 entries, 0 to 3818003\n",
      "Data columns (total 8 columns):\n",
      " #   Column              Dtype \n",
      "---  ------              ----- \n",
      " 0   start_time          object\n",
      " 1   end_time            object\n",
      " 2   start_station_id    int64 \n",
      " 3   end_station_id      int64 \n",
      " 4   start_station_name  object\n",
      " 5   end_station_name    object\n",
      " 6   bike_id             int64 \n",
      " 7   user_type           object\n",
      "dtypes: int64(3), object(5)\n",
      "memory usage: 233.0+ MB\n"
     ]
    }
   ],
   "source": [
    "chicago_set.info()"
   ]
  },
  {
   "cell_type": "markdown",
   "id": "a080324c",
   "metadata": {
    "id": "a080324c"
   },
   "source": [
    "So we know that we have a dataset with 3.8 million entries and we have multiple columns, two columns for the time (*start_time and end_time*), four columns for the location (*start_station_id, end_station_id and the respective names*) and the *bike_id* and *user_type*. "
   ]
  },
  {
   "cell_type": "code",
   "execution_count": 6,
   "id": "dd0ad6ad",
   "metadata": {
    "colab": {
     "base_uri": "https://localhost:8080/"
    },
    "id": "dd0ad6ad",
    "outputId": "eb7a83bd-409a-4657-d88f-4c569b71a9ae"
   },
   "outputs": [
    {
     "name": "stdout",
     "output_type": "stream",
     "text": [
      "<class 'pandas.core.frame.DataFrame'>\n",
      "RangeIndex: 43848 entries, 0 to 43847\n",
      "Data columns (total 4 columns):\n",
      " #   Column     Non-Null Count  Dtype  \n",
      "---  ------     --------------  -----  \n",
      " 0   date_time  43788 non-null  object \n",
      " 1   max_temp   43788 non-null  float64\n",
      " 2   min_temp   43788 non-null  float64\n",
      " 3   precip     43790 non-null  float64\n",
      "dtypes: float64(3), object(1)\n",
      "memory usage: 1.3+ MB\n"
     ]
    }
   ],
   "source": [
    "weather_set.info()"
   ]
  },
  {
   "cell_type": "markdown",
   "id": "00c0f31c",
   "metadata": {
    "id": "00c0f31c"
   },
   "source": [
    "We first investigate the time data we got. Therefore, we need to transform the data type of the columns \"*start_time*\" and \"*end_time*\" from String to Panda Datetime. This allows us in the following code snippet to add another column to our dataframe which we call *duration*. This is the difference between the end_time and the start_time. "
   ]
  },
  {
   "cell_type": "code",
   "execution_count": 7,
   "id": "ab2ca06e",
   "metadata": {
    "colab": {
     "base_uri": "https://localhost:8080/",
     "height": 297
    },
    "id": "ab2ca06e",
    "outputId": "ad448c2d-1ad7-41e5-b383-0ebf81fc0292"
   },
   "outputs": [
    {
     "data": {
      "text/html": [
       "<div>\n",
       "<style scoped>\n",
       "    .dataframe tbody tr th:only-of-type {\n",
       "        vertical-align: middle;\n",
       "    }\n",
       "\n",
       "    .dataframe tbody tr th {\n",
       "        vertical-align: top;\n",
       "    }\n",
       "\n",
       "    .dataframe thead th {\n",
       "        text-align: right;\n",
       "    }\n",
       "</style>\n",
       "<table border=\"1\" class=\"dataframe\">\n",
       "  <thead>\n",
       "    <tr style=\"text-align: right;\">\n",
       "      <th></th>\n",
       "      <th>start_station_id</th>\n",
       "      <th>end_station_id</th>\n",
       "      <th>bike_id</th>\n",
       "      <th>duration</th>\n",
       "    </tr>\n",
       "  </thead>\n",
       "  <tbody>\n",
       "    <tr>\n",
       "      <th>count</th>\n",
       "      <td>3.818004e+06</td>\n",
       "      <td>3.818004e+06</td>\n",
       "      <td>3.818004e+06</td>\n",
       "      <td>3818004</td>\n",
       "    </tr>\n",
       "    <tr>\n",
       "      <th>mean</th>\n",
       "      <td>2.016659e+02</td>\n",
       "      <td>2.026363e+02</td>\n",
       "      <td>3.380252e+03</td>\n",
       "      <td>0 days 00:24:10.451397903</td>\n",
       "    </tr>\n",
       "    <tr>\n",
       "      <th>std</th>\n",
       "      <td>1.560798e+02</td>\n",
       "      <td>1.562388e+02</td>\n",
       "      <td>1.902511e+03</td>\n",
       "      <td>0 days 08:17:32.263421746</td>\n",
       "    </tr>\n",
       "    <tr>\n",
       "      <th>min</th>\n",
       "      <td>1.000000e+00</td>\n",
       "      <td>1.000000e+00</td>\n",
       "      <td>1.000000e+00</td>\n",
       "      <td>-1 days +23:03:38</td>\n",
       "    </tr>\n",
       "    <tr>\n",
       "      <th>25%</th>\n",
       "      <td>7.700000e+01</td>\n",
       "      <td>7.700000e+01</td>\n",
       "      <td>1.727000e+03</td>\n",
       "      <td>0 days 00:06:51</td>\n",
       "    </tr>\n",
       "    <tr>\n",
       "      <th>50%</th>\n",
       "      <td>1.740000e+02</td>\n",
       "      <td>1.740000e+02</td>\n",
       "      <td>3.451000e+03</td>\n",
       "      <td>0 days 00:11:49</td>\n",
       "    </tr>\n",
       "    <tr>\n",
       "      <th>75%</th>\n",
       "      <td>2.890000e+02</td>\n",
       "      <td>2.910000e+02</td>\n",
       "      <td>5.046000e+03</td>\n",
       "      <td>0 days 00:21:24</td>\n",
       "    </tr>\n",
       "    <tr>\n",
       "      <th>max</th>\n",
       "      <td>6.730000e+02</td>\n",
       "      <td>6.730000e+02</td>\n",
       "      <td>6.946000e+03</td>\n",
       "      <td>123 days 01:20:22</td>\n",
       "    </tr>\n",
       "  </tbody>\n",
       "</table>\n",
       "</div>"
      ],
      "text/plain": [
       "       start_station_id  end_station_id       bike_id  \\\n",
       "count      3.818004e+06    3.818004e+06  3.818004e+06   \n",
       "mean       2.016659e+02    2.026363e+02  3.380252e+03   \n",
       "std        1.560798e+02    1.562388e+02  1.902511e+03   \n",
       "min        1.000000e+00    1.000000e+00  1.000000e+00   \n",
       "25%        7.700000e+01    7.700000e+01  1.727000e+03   \n",
       "50%        1.740000e+02    1.740000e+02  3.451000e+03   \n",
       "75%        2.890000e+02    2.910000e+02  5.046000e+03   \n",
       "max        6.730000e+02    6.730000e+02  6.946000e+03   \n",
       "\n",
       "                        duration  \n",
       "count                    3818004  \n",
       "mean   0 days 00:24:10.451397903  \n",
       "std    0 days 08:17:32.263421746  \n",
       "min            -1 days +23:03:38  \n",
       "25%              0 days 00:06:51  \n",
       "50%              0 days 00:11:49  \n",
       "75%              0 days 00:21:24  \n",
       "max            123 days 01:20:22  "
      ]
     },
     "execution_count": 7,
     "metadata": {},
     "output_type": "execute_result"
    }
   ],
   "source": [
    "chicago_set['start_time'] = pd.to_datetime(chicago_set['start_time'])\n",
    "chicago_set['end_time'] = pd.to_datetime(chicago_set['end_time'])\n",
    "\n",
    "chicago_set['duration'] = chicago_set['end_time'] - chicago_set['start_time']\n",
    "chicago_set.describe()"
   ]
  },
  {
   "cell_type": "markdown",
   "id": "adc1449b",
   "metadata": {
    "id": "adc1449b"
   },
   "source": [
    "We calculated the duration of the rides and see that the maximum duration of a ride was over 123 days. We can assume that there a other cases where the data is inconclusive, therefore we will clean our dataset and delete those wrong outliners."
   ]
  },
  {
   "cell_type": "markdown",
   "id": "45fd64fa",
   "metadata": {
    "id": "45fd64fa"
   },
   "source": [
    "### Cleaning up our data"
   ]
  },
  {
   "cell_type": "markdown",
   "id": "426ab82d",
   "metadata": {
    "id": "426ab82d"
   },
   "source": [
    "### Examples of invalid data"
   ]
  },
  {
   "cell_type": "code",
   "execution_count": 8,
   "id": "a9425271",
   "metadata": {
    "colab": {
     "base_uri": "https://localhost:8080/",
     "height": 438
    },
    "id": "a9425271",
    "outputId": "5b90e9dc-7eb0-4810-9ca3-0857aa7cf971"
   },
   "outputs": [
    {
     "data": {
      "text/html": [
       "<div>\n",
       "<style scoped>\n",
       "    .dataframe tbody tr th:only-of-type {\n",
       "        vertical-align: middle;\n",
       "    }\n",
       "\n",
       "    .dataframe tbody tr th {\n",
       "        vertical-align: top;\n",
       "    }\n",
       "\n",
       "    .dataframe thead th {\n",
       "        text-align: right;\n",
       "    }\n",
       "</style>\n",
       "<table border=\"1\" class=\"dataframe\">\n",
       "  <thead>\n",
       "    <tr style=\"text-align: right;\">\n",
       "      <th></th>\n",
       "      <th>start_time</th>\n",
       "      <th>end_time</th>\n",
       "      <th>start_station_id</th>\n",
       "      <th>end_station_id</th>\n",
       "      <th>start_station_name</th>\n",
       "      <th>end_station_name</th>\n",
       "      <th>bike_id</th>\n",
       "      <th>user_type</th>\n",
       "      <th>duration</th>\n",
       "    </tr>\n",
       "  </thead>\n",
       "  <tbody>\n",
       "    <tr>\n",
       "      <th>673806</th>\n",
       "      <td>2019-05-05 14:00:05</td>\n",
       "      <td>2019-05-07 14:46:40</td>\n",
       "      <td>224</td>\n",
       "      <td>250</td>\n",
       "      <td>Halsted St &amp; Willow St</td>\n",
       "      <td>Ashland Ave &amp; Wellington Ave</td>\n",
       "      <td>5081</td>\n",
       "      <td>Customer</td>\n",
       "      <td>2 days 00:46:35</td>\n",
       "    </tr>\n",
       "    <tr>\n",
       "      <th>513674</th>\n",
       "      <td>2019-04-17 23:03:33</td>\n",
       "      <td>2019-04-19 19:07:05</td>\n",
       "      <td>46</td>\n",
       "      <td>23</td>\n",
       "      <td>Wells St &amp; Walton St</td>\n",
       "      <td>Orleans St &amp; Elm St (*)</td>\n",
       "      <td>2130</td>\n",
       "      <td>Customer</td>\n",
       "      <td>1 days 20:03:32</td>\n",
       "    </tr>\n",
       "    <tr>\n",
       "      <th>106593</th>\n",
       "      <td>2019-02-02 17:53:45</td>\n",
       "      <td>2019-02-04 06:22:59</td>\n",
       "      <td>182</td>\n",
       "      <td>112</td>\n",
       "      <td>Wells St &amp; Elm St</td>\n",
       "      <td>Green St &amp; Randolph St</td>\n",
       "      <td>5193</td>\n",
       "      <td>Subscriber</td>\n",
       "      <td>1 days 12:29:14</td>\n",
       "    </tr>\n",
       "    <tr>\n",
       "      <th>1972017</th>\n",
       "      <td>2019-07-28 20:01:55</td>\n",
       "      <td>2019-08-04 16:08:25</td>\n",
       "      <td>90</td>\n",
       "      <td>176</td>\n",
       "      <td>Millennium Park</td>\n",
       "      <td>Clark St &amp; Elm St</td>\n",
       "      <td>967</td>\n",
       "      <td>Customer</td>\n",
       "      <td>6 days 20:06:30</td>\n",
       "    </tr>\n",
       "    <tr>\n",
       "      <th>959816</th>\n",
       "      <td>2019-05-29 18:49:33</td>\n",
       "      <td>2019-05-31 17:06:06</td>\n",
       "      <td>183</td>\n",
       "      <td>183</td>\n",
       "      <td>Damen Ave &amp; Thomas St (Augusta Blvd)</td>\n",
       "      <td>Damen Ave &amp; Thomas St (Augusta Blvd)</td>\n",
       "      <td>4425</td>\n",
       "      <td>Customer</td>\n",
       "      <td>1 days 22:16:33</td>\n",
       "    </tr>\n",
       "  </tbody>\n",
       "</table>\n",
       "</div>"
      ],
      "text/plain": [
       "                 start_time            end_time  start_station_id  \\\n",
       "673806  2019-05-05 14:00:05 2019-05-07 14:46:40               224   \n",
       "513674  2019-04-17 23:03:33 2019-04-19 19:07:05                46   \n",
       "106593  2019-02-02 17:53:45 2019-02-04 06:22:59               182   \n",
       "1972017 2019-07-28 20:01:55 2019-08-04 16:08:25                90   \n",
       "959816  2019-05-29 18:49:33 2019-05-31 17:06:06               183   \n",
       "\n",
       "         end_station_id                    start_station_name  \\\n",
       "673806              250                Halsted St & Willow St   \n",
       "513674               23                  Wells St & Walton St   \n",
       "106593              112                     Wells St & Elm St   \n",
       "1972017             176                       Millennium Park   \n",
       "959816              183  Damen Ave & Thomas St (Augusta Blvd)   \n",
       "\n",
       "                             end_station_name  bike_id   user_type  \\\n",
       "673806           Ashland Ave & Wellington Ave     5081    Customer   \n",
       "513674                Orleans St & Elm St (*)     2130    Customer   \n",
       "106593                 Green St & Randolph St     5193  Subscriber   \n",
       "1972017                     Clark St & Elm St      967    Customer   \n",
       "959816   Damen Ave & Thomas St (Augusta Blvd)     4425    Customer   \n",
       "\n",
       "               duration  \n",
       "673806  2 days 00:46:35  \n",
       "513674  1 days 20:03:32  \n",
       "106593  1 days 12:29:14  \n",
       "1972017 6 days 20:06:30  \n",
       "959816  1 days 22:16:33  "
      ]
     },
     "execution_count": 8,
     "metadata": {},
     "output_type": "execute_result"
    }
   ],
   "source": [
    "import datetime\n",
    "chicago_set[chicago_set['duration'] >= datetime.timedelta(days=1)].sample(n=5)"
   ]
  },
  {
   "cell_type": "code",
   "execution_count": 9,
   "id": "0f185caf",
   "metadata": {
    "colab": {
     "base_uri": "https://localhost:8080/",
     "height": 438
    },
    "id": "0f185caf",
    "outputId": "140ac61b-64db-4bd6-e354-0fce209bcee8"
   },
   "outputs": [
    {
     "data": {
      "text/html": [
       "<div>\n",
       "<style scoped>\n",
       "    .dataframe tbody tr th:only-of-type {\n",
       "        vertical-align: middle;\n",
       "    }\n",
       "\n",
       "    .dataframe tbody tr th {\n",
       "        vertical-align: top;\n",
       "    }\n",
       "\n",
       "    .dataframe thead th {\n",
       "        text-align: right;\n",
       "    }\n",
       "</style>\n",
       "<table border=\"1\" class=\"dataframe\">\n",
       "  <thead>\n",
       "    <tr style=\"text-align: right;\">\n",
       "      <th></th>\n",
       "      <th>start_time</th>\n",
       "      <th>end_time</th>\n",
       "      <th>start_station_id</th>\n",
       "      <th>end_station_id</th>\n",
       "      <th>start_station_name</th>\n",
       "      <th>end_station_name</th>\n",
       "      <th>bike_id</th>\n",
       "      <th>user_type</th>\n",
       "      <th>duration</th>\n",
       "    </tr>\n",
       "  </thead>\n",
       "  <tbody>\n",
       "    <tr>\n",
       "      <th>3498428</th>\n",
       "      <td>2019-11-03 01:43:21</td>\n",
       "      <td>2019-11-03 01:09:56</td>\n",
       "      <td>632</td>\n",
       "      <td>133</td>\n",
       "      <td>Clark St &amp; Newport St</td>\n",
       "      <td>Kingsbury St &amp; Kinzie St</td>\n",
       "      <td>4141</td>\n",
       "      <td>Customer</td>\n",
       "      <td>-1 days +23:26:35</td>\n",
       "    </tr>\n",
       "    <tr>\n",
       "      <th>3498445</th>\n",
       "      <td>2019-11-03 01:55:33</td>\n",
       "      <td>2019-11-03 01:01:52</td>\n",
       "      <td>109</td>\n",
       "      <td>320</td>\n",
       "      <td>900 W Harrison St</td>\n",
       "      <td>Loomis St &amp; Lexington St</td>\n",
       "      <td>5059</td>\n",
       "      <td>Subscriber</td>\n",
       "      <td>-1 days +23:06:19</td>\n",
       "    </tr>\n",
       "    <tr>\n",
       "      <th>3498436</th>\n",
       "      <td>2019-11-03 01:48:04</td>\n",
       "      <td>2019-11-03 01:16:48</td>\n",
       "      <td>131</td>\n",
       "      <td>131</td>\n",
       "      <td>Lincoln Ave &amp; Belmont Ave</td>\n",
       "      <td>Lincoln Ave &amp; Belmont Ave</td>\n",
       "      <td>2214</td>\n",
       "      <td>Subscriber</td>\n",
       "      <td>-1 days +23:28:44</td>\n",
       "    </tr>\n",
       "    <tr>\n",
       "      <th>3498443</th>\n",
       "      <td>2019-11-03 01:53:24</td>\n",
       "      <td>2019-11-03 01:06:08</td>\n",
       "      <td>484</td>\n",
       "      <td>484</td>\n",
       "      <td>Monticello Ave &amp; Irving Park Rd</td>\n",
       "      <td>Monticello Ave &amp; Irving Park Rd</td>\n",
       "      <td>3984</td>\n",
       "      <td>Customer</td>\n",
       "      <td>-1 days +23:12:44</td>\n",
       "    </tr>\n",
       "    <tr>\n",
       "      <th>3498439</th>\n",
       "      <td>2019-11-03 01:51:59</td>\n",
       "      <td>2019-11-03 01:03:02</td>\n",
       "      <td>460</td>\n",
       "      <td>238</td>\n",
       "      <td>Clark St &amp; Bryn Mawr Ave</td>\n",
       "      <td>Wolcott (Ravenswood) Ave &amp; Montrose Ave</td>\n",
       "      <td>2920</td>\n",
       "      <td>Subscriber</td>\n",
       "      <td>-1 days +23:11:03</td>\n",
       "    </tr>\n",
       "  </tbody>\n",
       "</table>\n",
       "</div>"
      ],
      "text/plain": [
       "                 start_time            end_time  start_station_id  \\\n",
       "3498428 2019-11-03 01:43:21 2019-11-03 01:09:56               632   \n",
       "3498445 2019-11-03 01:55:33 2019-11-03 01:01:52               109   \n",
       "3498436 2019-11-03 01:48:04 2019-11-03 01:16:48               131   \n",
       "3498443 2019-11-03 01:53:24 2019-11-03 01:06:08               484   \n",
       "3498439 2019-11-03 01:51:59 2019-11-03 01:03:02               460   \n",
       "\n",
       "         end_station_id               start_station_name  \\\n",
       "3498428             133            Clark St & Newport St   \n",
       "3498445             320                900 W Harrison St   \n",
       "3498436             131        Lincoln Ave & Belmont Ave   \n",
       "3498443             484  Monticello Ave & Irving Park Rd   \n",
       "3498439             238         Clark St & Bryn Mawr Ave   \n",
       "\n",
       "                                end_station_name  bike_id   user_type  \\\n",
       "3498428                 Kingsbury St & Kinzie St     4141    Customer   \n",
       "3498445                 Loomis St & Lexington St     5059  Subscriber   \n",
       "3498436                Lincoln Ave & Belmont Ave     2214  Subscriber   \n",
       "3498443          Monticello Ave & Irving Park Rd     3984    Customer   \n",
       "3498439  Wolcott (Ravenswood) Ave & Montrose Ave     2920  Subscriber   \n",
       "\n",
       "                 duration  \n",
       "3498428 -1 days +23:26:35  \n",
       "3498445 -1 days +23:06:19  \n",
       "3498436 -1 days +23:28:44  \n",
       "3498443 -1 days +23:12:44  \n",
       "3498439 -1 days +23:11:03  "
      ]
     },
     "execution_count": 9,
     "metadata": {},
     "output_type": "execute_result"
    }
   ],
   "source": [
    "chicago_set[chicago_set['duration'] <= datetime.timedelta(days=0)].sample(n=5)"
   ]
  },
  {
   "cell_type": "markdown",
   "id": "18a6f42b",
   "metadata": {
    "id": "18a6f42b"
   },
   "source": [
    "### Visualization of different quantile deletion of outlierts & invalid data from our data set"
   ]
  },
  {
   "cell_type": "code",
   "execution_count": 10,
   "id": "cffc04b6",
   "metadata": {
    "colab": {
     "base_uri": "https://localhost:8080/",
     "height": 700
    },
    "id": "cffc04b6",
    "outputId": "02025ab1-e3f0-4c5c-b5e5-2dc60974a988"
   },
   "outputs": [
    {
     "name": "stdout",
     "output_type": "stream",
     "text": [
      "(0.125% Quantile) All trips with a duration outside of 0 days 00:01:19 to 0 days 09:01:02.970000002 will be removed!\n",
      "That is 9263 out of 3818004 entries!\n"
     ]
    },
    {
     "data": {
      "image/png": "[encoded data removed]",
      "text/plain": [
       "<Figure size 432x288 with 1 Axes>"
      ]
     },
     "metadata": {
      "needs_background": "light"
     },
     "output_type": "display_data"
    },
    {
     "name": "stdout",
     "output_type": "stream",
     "text": [
      "count                      3808741\n",
      "mean     0 days 00:18:22.340564506\n",
      "std      0 days 00:23:21.735330331\n",
      "min                0 days 00:01:19\n",
      "25%                0 days 00:06:52\n",
      "50%                0 days 00:11:49\n",
      "75%                0 days 00:21:21\n",
      "max                0 days 09:00:59\n",
      "Name: duration, dtype: object\n",
      "\n",
      "(0.25% Quantile) All trips with a duration outside of 0 days 00:01:33 to 0 days 03:48:11.992500 will be removed!\n",
      "That is 19025 out of 3818004 entries!\n"
     ]
    },
    {
     "data": {
      "image/png": "[encoded data removed]",
      "text/plain": [
       "<Figure size 432x288 with 1 Axes>"
      ]
     },
     "metadata": {
      "needs_background": "light"
     },
     "output_type": "display_data"
    },
    {
     "name": "stdout",
     "output_type": "stream",
     "text": [
      "count                      3798979\n",
      "mean     0 days 00:18:00.690816927\n",
      "std      0 days 00:20:31.001258644\n",
      "min                0 days 00:01:33\n",
      "25%                0 days 00:06:53\n",
      "50%                0 days 00:11:49\n",
      "75%                0 days 00:21:19\n",
      "max                0 days 03:48:11\n",
      "Name: duration, dtype: object\n",
      "\n",
      "(0.5% Quantile) All trips with a duration outside of 0 days 00:01:49 to 0 days 02:42:28 will be removed!\n",
      "That is 37931 out of 3818004 entries!\n"
     ]
    },
    {
     "data": {
      "image/png": "[encoded data removed]",
      "text/plain": [
       "<Figure size 432x288 with 1 Axes>"
      ]
     },
     "metadata": {
      "needs_background": "light"
     },
     "output_type": "display_data"
    },
    {
     "name": "stdout",
     "output_type": "stream",
     "text": [
      "count                      3780073\n",
      "mean     0 days 00:17:37.940601940\n",
      "std      0 days 00:18:45.168339717\n",
      "min                0 days 00:01:49\n",
      "25%                0 days 00:06:54\n",
      "50%                0 days 00:11:49\n",
      "75%                0 days 00:21:15\n",
      "max                0 days 02:42:28\n",
      "Name: duration, dtype: object\n",
      "\n"
     ]
    }
   ],
   "source": [
    "%matplotlib inline\n",
    "# Data to remove from top and bottom\n",
    "def get_outside_time_frame_data(df, dt_column, lower_bound, upper_bound):\n",
    "    return df[(df[dt_column] < lower_bound) | (df[dt_column] > upper_bound)]\n",
    "\n",
    "quantiles = [0.00125, 0.0025, 0.005] # (0.125%; 0.25%; 0.5%) * 2\n",
    "for quantile in quantiles:\n",
    "    # amount = len(chicago_set[(chicago_set['duration'] < chicago_set.duration.quantile(quantile)) | (chicago_set['duration'] > chicago_set.duration.quantile(1 - quantile))])\n",
    "    lower_bound = chicago_set.duration.quantile(quantile)\n",
    "    upper_bound = chicago_set.duration.quantile(1 - quantile)\n",
    "    amount = get_outside_time_frame_data(chicago_set, 'duration', lower_bound, upper_bound)\n",
    "    print('(' + str(quantile*100) + '% Quantile) All trips with a duration outside of ' + str(lower_bound) + ' to ' + str(upper_bound) + ' will be removed!')\n",
    "    print('That is ' + str(len(amount)) + ' out of ' + str(len(chicago_set)) + ' entries!')\n",
    "    chicago_set_clean = chicago_set.drop(amount.index)\n",
    "    plt.hist(chicago_set_clean['duration']/pd.Timedelta(minutes=1), bins=100)\n",
    "    plt.show()\n",
    "    print(str(chicago_set_clean['duration'].describe()) + '\\n')"
   ]
  },
  {
   "cell_type": "markdown",
   "id": "34aWKiEEcDZL",
   "metadata": {
    "id": "34aWKiEEcDZL"
   },
   "source": [
    "### Find out the latitude and longitude of the stations"
   ]
  },
  {
   "cell_type": "code",
   "execution_count": 11,
   "id": "d5s_9Kx3b8N8",
   "metadata": {
    "colab": {
     "base_uri": "https://localhost:8080/"
    },
    "id": "d5s_9Kx3b8N8",
    "outputId": "1f41700e-22f1-4929-d478-385465d25087"
   },
   "outputs": [
    {
     "name": "stdout",
     "output_type": "stream",
     "text": [
      "<class 'pandas.core.frame.DataFrame'>\n",
      "RangeIndex: 84776 entries, 0 to 84775\n",
      "Data columns (total 13 columns):\n",
      " #   Column              Non-Null Count  Dtype  \n",
      "---  ------              --------------  -----  \n",
      " 0   ride_id             84776 non-null  object \n",
      " 1   rideable_type       84776 non-null  object \n",
      " 2   started_at          84776 non-null  object \n",
      " 3   ended_at            84776 non-null  object \n",
      " 4   start_station_name  84776 non-null  object \n",
      " 5   start_station_id    84776 non-null  int64  \n",
      " 6   end_station_name    84677 non-null  object \n",
      " 7   end_station_id      84677 non-null  float64\n",
      " 8   start_lat           84776 non-null  float64\n",
      " 9   start_lng           84776 non-null  float64\n",
      " 10  end_lat             84677 non-null  float64\n",
      " 11  end_lng             84677 non-null  float64\n",
      " 12  member_casual       84776 non-null  object \n",
      "dtypes: float64(5), int64(1), object(7)\n",
      "memory usage: 8.4+ MB\n"
     ]
    }
   ],
   "source": [
    "coordinates_sets[0].info()"
   ]
  },
  {
   "cell_type": "markdown",
   "id": "KrXeeTwucR2s",
   "metadata": {
    "id": "KrXeeTwucR2s"
   },
   "source": [
    "### Get the relevant data, i.e. station_name, station_id, latitude & longitude"
   ]
  },
  {
   "cell_type": "code",
   "execution_count": 12,
   "id": "gW8770HBcM7Q",
   "metadata": {
    "colab": {
     "base_uri": "https://localhost:8080/"
    },
    "id": "gW8770HBcM7Q",
    "outputId": "7a485cfa-665a-4b0d-cdab-f1218d135fbd"
   },
   "outputs": [
    {
     "name": "stdout",
     "output_type": "stream",
     "text": [
      "607\n",
      "611\n",
      "619\n",
      "622\n",
      "636\n",
      "647\n"
     ]
    }
   ],
   "source": [
    "coordinates = pd.DataFrame()\n",
    "for coordinates_set in coordinates_sets:\n",
    "    coordinates1 = coordinates_set[['start_station_name', 'start_station_id', 'start_lat', 'start_lng']]\n",
    "    coordinates2 = coordinates_set[['end_station_name', 'end_station_id', 'end_lat', 'end_lng']]\n",
    "\n",
    "    coordinates1 = coordinates1.rename(columns={'start_station_name': 'station_name', 'start_station_id': 'station_id', 'start_lat': 'latitude', 'start_lng':'longitude'})\n",
    "    coordinates2 = coordinates2.rename(columns={'end_station_name': 'station_name', 'end_station_id': 'station_id', 'end_lat': 'latitude', 'end_lng':'longitude'})\n",
    "\n",
    "    coordinates_new = pd.concat([coordinates1, coordinates2], ignore_index = True)\n",
    "    coordinates = pd.concat([coordinates, coordinates_new], ignore_index = True)\n",
    "    print(coordinates_new['station_name'].nunique())\n",
    "print(coordinates['station_name'].nunique())"
   ]
  },
  {
   "cell_type": "code",
   "execution_count": 13,
   "id": "IbJ_bKRPcY-5",
   "metadata": {
    "colab": {
     "base_uri": "https://localhost:8080/"
    },
    "id": "IbJ_bKRPcY-5",
    "outputId": "e30bf28f-6f7c-464c-834e-4ffe30766795"
   },
   "outputs": [
    {
     "name": "stdout",
     "output_type": "stream",
     "text": [
      "<class 'pandas.core.frame.DataFrame'>\n",
      "Int64Index: 3583982 entries, 0 to 3603791\n",
      "Data columns (total 4 columns):\n",
      " #   Column        Dtype  \n",
      "---  ------        -----  \n",
      " 0   station_name  object \n",
      " 1   station_id    float64\n",
      " 2   latitude      float64\n",
      " 3   longitude     float64\n",
      "dtypes: float64(3), object(1)\n",
      "memory usage: 136.7+ MB\n"
     ]
    }
   ],
   "source": [
    "coordinates['station_id'] = coordinates['station_id'].replace([np.inf, -np.inf], np.nan)\n",
    "coordinates_dropped = coordinates.dropna()\n",
    "coordinates_dropped.info()"
   ]
  },
  {
   "cell_type": "markdown",
   "id": "8aPvOL4rcfZE",
   "metadata": {
    "id": "8aPvOL4rcfZE"
   },
   "source": [
    "#### Get all unique rows based on station_id"
   ]
  },
  {
   "cell_type": "code",
   "execution_count": 14,
   "id": "sM2gGEaucihT",
   "metadata": {
    "colab": {
     "base_uri": "https://localhost:8080/"
    },
    "id": "sM2gGEaucihT",
    "outputId": "d5a0e6fd-c5a3-4479-e5e9-3d8506cc29c8"
   },
   "outputs": [
    {
     "name": "stdout",
     "output_type": "stream",
     "text": [
      "<class 'pandas.core.frame.DataFrame'>\n",
      "Int64Index: 634 entries, 1211447 to 3603791\n",
      "Data columns (total 4 columns):\n",
      " #   Column        Non-Null Count  Dtype  \n",
      "---  ------        --------------  -----  \n",
      " 0   station_name  634 non-null    object \n",
      " 1   station_id    634 non-null    float64\n",
      " 2   latitude      634 non-null    float64\n",
      " 3   longitude     634 non-null    float64\n",
      "dtypes: float64(3), object(1)\n",
      "memory usage: 24.8+ KB\n"
     ]
    }
   ],
   "source": [
    "coordinates_unique = coordinates_dropped.drop_duplicates(subset = ['station_id'], keep = 'last')\n",
    "#coordinates_unique['station_id'] = coordinates_unique['station_id'].replace([np.inf, -np.inf], np.nan)\n",
    "coordinates_unique = coordinates_unique.dropna()\n",
    "coordinates_unique.info()"
   ]
  },
  {
   "cell_type": "code",
   "execution_count": 15,
   "id": "PCCx0ckrcnUV",
   "metadata": {
    "colab": {
     "base_uri": "https://localhost:8080/"
    },
    "id": "PCCx0ckrcnUV",
    "outputId": "9c4fad6a-5dce-4004-fa5e-7c23e9d6e7cf"
   },
   "outputs": [
    {
     "name": "stdout",
     "output_type": "stream",
     "text": [
      "<class 'pandas.core.frame.DataFrame'>\n",
      "Int64Index: 634 entries, 1211447 to 3603791\n",
      "Data columns (total 4 columns):\n",
      " #   Column        Non-Null Count  Dtype  \n",
      "---  ------        --------------  -----  \n",
      " 0   station_name  634 non-null    object \n",
      " 1   station_id    634 non-null    int64  \n",
      " 2   latitude      634 non-null    float64\n",
      " 3   longitude     634 non-null    float64\n",
      "dtypes: float64(2), int64(1), object(1)\n",
      "memory usage: 24.8+ KB\n"
     ]
    }
   ],
   "source": [
    "coordinates_unique = coordinates_unique[np.isfinite(coordinates_unique['station_id'])]\n",
    "coordinates_unique['station_id'] = coordinates_unique['station_id'].astype('int64')\n",
    "coordinates_unique.info()"
   ]
  },
  {
   "cell_type": "code",
   "execution_count": 16,
   "id": "wTIM-gh-csg4",
   "metadata": {
    "colab": {
     "base_uri": "https://localhost:8080/"
    },
    "id": "wTIM-gh-csg4",
    "outputId": "4b96e047-a6a8-4549-e384-9b3be57484e2"
   },
   "outputs": [
    {
     "name": "stdout",
     "output_type": "stream",
     "text": [
      "616\n",
      "617\n",
      "<class 'pandas.core.frame.DataFrame'>\n",
      "Int64Index: 3780073 entries, 0 to 3818003\n",
      "Data columns (total 9 columns):\n",
      " #   Column              Dtype          \n",
      "---  ------              -----          \n",
      " 0   start_time          datetime64[ns] \n",
      " 1   end_time            datetime64[ns] \n",
      " 2   start_station_id    int64          \n",
      " 3   end_station_id      int64          \n",
      " 4   start_station_name  object         \n",
      " 5   end_station_name    object         \n",
      " 6   bike_id             int64          \n",
      " 7   user_type           object         \n",
      " 8   duration            timedelta64[ns]\n",
      "dtypes: datetime64[ns](2), int64(3), object(3), timedelta64[ns](1)\n",
      "memory usage: 288.4+ MB\n"
     ]
    }
   ],
   "source": [
    "print(chicago_set_clean['start_station_id'].nunique())\n",
    "print(chicago_set_clean['end_station_id'].nunique())\n",
    "chicago_set_clean.info()"
   ]
  },
  {
   "cell_type": "code",
   "execution_count": 17,
   "id": "uDFoLpDFcvf_",
   "metadata": {
    "colab": {
     "base_uri": "https://localhost:8080/",
     "height": 438
    },
    "id": "uDFoLpDFcvf_",
    "outputId": "d3a2a349-ed9f-4506-8696-798e37b3d19d"
   },
   "outputs": [
    {
     "data": {
      "text/html": [
       "<div>\n",
       "<style scoped>\n",
       "    .dataframe tbody tr th:only-of-type {\n",
       "        vertical-align: middle;\n",
       "    }\n",
       "\n",
       "    .dataframe tbody tr th {\n",
       "        vertical-align: top;\n",
       "    }\n",
       "\n",
       "    .dataframe thead th {\n",
       "        text-align: right;\n",
       "    }\n",
       "</style>\n",
       "<table border=\"1\" class=\"dataframe\">\n",
       "  <thead>\n",
       "    <tr style=\"text-align: right;\">\n",
       "      <th></th>\n",
       "      <th>start_time</th>\n",
       "      <th>end_time</th>\n",
       "      <th>start_station_id</th>\n",
       "      <th>end_station_id</th>\n",
       "      <th>start_station_name</th>\n",
       "      <th>end_station_name</th>\n",
       "      <th>bike_id</th>\n",
       "      <th>user_type</th>\n",
       "      <th>duration</th>\n",
       "      <th>start_latitude</th>\n",
       "      <th>start_longitude</th>\n",
       "      <th>end_latitude</th>\n",
       "      <th>end_longitude</th>\n",
       "    </tr>\n",
       "  </thead>\n",
       "  <tbody>\n",
       "    <tr>\n",
       "      <th>0</th>\n",
       "      <td>2019-01-01 00:04:37</td>\n",
       "      <td>2019-01-01 00:11:07</td>\n",
       "      <td>199</td>\n",
       "      <td>84</td>\n",
       "      <td>Wabash Ave &amp; Grand Ave</td>\n",
       "      <td>Milwaukee Ave &amp; Grand Ave</td>\n",
       "      <td>2167</td>\n",
       "      <td>Subscriber</td>\n",
       "      <td>0 days 00:06:30</td>\n",
       "      <td>41.891466</td>\n",
       "      <td>-87.626761</td>\n",
       "      <td>41.891578</td>\n",
       "      <td>-87.648384</td>\n",
       "    </tr>\n",
       "    <tr>\n",
       "      <th>1</th>\n",
       "      <td>2019-01-01 00:08:13</td>\n",
       "      <td>2019-01-01 00:15:34</td>\n",
       "      <td>44</td>\n",
       "      <td>624</td>\n",
       "      <td>State St &amp; Randolph St</td>\n",
       "      <td>Dearborn St &amp; Van Buren St (*)</td>\n",
       "      <td>4386</td>\n",
       "      <td>Subscriber</td>\n",
       "      <td>0 days 00:07:21</td>\n",
       "      <td>41.884730</td>\n",
       "      <td>-87.627734</td>\n",
       "      <td>41.876268</td>\n",
       "      <td>-87.629155</td>\n",
       "    </tr>\n",
       "    <tr>\n",
       "      <th>2</th>\n",
       "      <td>2019-01-01 00:13:23</td>\n",
       "      <td>2019-01-01 00:27:12</td>\n",
       "      <td>15</td>\n",
       "      <td>644</td>\n",
       "      <td>Racine Ave &amp; 18th St</td>\n",
       "      <td>Western Ave &amp; Fillmore St (*)</td>\n",
       "      <td>1524</td>\n",
       "      <td>Subscriber</td>\n",
       "      <td>0 days 00:13:49</td>\n",
       "      <td>41.858166</td>\n",
       "      <td>-87.656495</td>\n",
       "      <td>41.868563</td>\n",
       "      <td>-87.686234</td>\n",
       "    </tr>\n",
       "    <tr>\n",
       "      <th>3</th>\n",
       "      <td>2019-01-01 00:13:45</td>\n",
       "      <td>2019-01-01 00:43:28</td>\n",
       "      <td>123</td>\n",
       "      <td>176</td>\n",
       "      <td>California Ave &amp; Milwaukee Ave</td>\n",
       "      <td>Clark St &amp; Elm St</td>\n",
       "      <td>252</td>\n",
       "      <td>Subscriber</td>\n",
       "      <td>0 days 00:29:43</td>\n",
       "      <td>41.922695</td>\n",
       "      <td>-87.697153</td>\n",
       "      <td>41.902973</td>\n",
       "      <td>-87.631280</td>\n",
       "    </tr>\n",
       "    <tr>\n",
       "      <th>4</th>\n",
       "      <td>2019-01-01 00:14:52</td>\n",
       "      <td>2019-01-01 00:20:56</td>\n",
       "      <td>173</td>\n",
       "      <td>35</td>\n",
       "      <td>Mies van der Rohe Way &amp; Chicago Ave</td>\n",
       "      <td>Streeter Dr &amp; Grand Ave</td>\n",
       "      <td>1170</td>\n",
       "      <td>Subscriber</td>\n",
       "      <td>0 days 00:06:04</td>\n",
       "      <td>41.896910</td>\n",
       "      <td>-87.621743</td>\n",
       "      <td>41.892278</td>\n",
       "      <td>-87.612043</td>\n",
       "    </tr>\n",
       "  </tbody>\n",
       "</table>\n",
       "</div>"
      ],
      "text/plain": [
       "           start_time            end_time  start_station_id  end_station_id  \\\n",
       "0 2019-01-01 00:04:37 2019-01-01 00:11:07               199              84   \n",
       "1 2019-01-01 00:08:13 2019-01-01 00:15:34                44             624   \n",
       "2 2019-01-01 00:13:23 2019-01-01 00:27:12                15             644   \n",
       "3 2019-01-01 00:13:45 2019-01-01 00:43:28               123             176   \n",
       "4 2019-01-01 00:14:52 2019-01-01 00:20:56               173              35   \n",
       "\n",
       "                    start_station_name                end_station_name  \\\n",
       "0               Wabash Ave & Grand Ave       Milwaukee Ave & Grand Ave   \n",
       "1               State St & Randolph St  Dearborn St & Van Buren St (*)   \n",
       "2                 Racine Ave & 18th St   Western Ave & Fillmore St (*)   \n",
       "3       California Ave & Milwaukee Ave               Clark St & Elm St   \n",
       "4  Mies van der Rohe Way & Chicago Ave         Streeter Dr & Grand Ave   \n",
       "\n",
       "   bike_id   user_type        duration  start_latitude  start_longitude  \\\n",
       "0     2167  Subscriber 0 days 00:06:30       41.891466       -87.626761   \n",
       "1     4386  Subscriber 0 days 00:07:21       41.884730       -87.627734   \n",
       "2     1524  Subscriber 0 days 00:13:49       41.858166       -87.656495   \n",
       "3      252  Subscriber 0 days 00:29:43       41.922695       -87.697153   \n",
       "4     1170  Subscriber 0 days 00:06:04       41.896910       -87.621743   \n",
       "\n",
       "   end_latitude  end_longitude  \n",
       "0     41.891578     -87.648384  \n",
       "1     41.876268     -87.629155  \n",
       "2     41.868563     -87.686234  \n",
       "3     41.902973     -87.631280  \n",
       "4     41.892278     -87.612043  "
      ]
     },
     "execution_count": 17,
     "metadata": {},
     "output_type": "execute_result"
    }
   ],
   "source": [
    "chicago_set_merge = chicago_set_clean.merge(coordinates_unique, how='left', left_on='start_station_id', right_on='station_id')\n",
    "chicago_set_merge = chicago_set_merge.rename(columns={'latitude': 'start_latitude', 'longitude': 'start_longitude'})\n",
    "chicago_set_merge = chicago_set_merge.merge(coordinates_unique, how='left', left_on='end_station_id', right_on='station_id')\n",
    "chicago_set_merge = chicago_set_merge.rename(columns={'latitude': 'end_latitude', 'longitude': 'end_longitude'})\n",
    "chicago_set_merge = chicago_set_merge.drop(['station_name_x', 'station_id_x', 'station_name_y', 'station_id_y'],axis = 1)\n",
    "chicago_set_merge.head()"
   ]
  },
  {
   "cell_type": "code",
   "execution_count": 18,
   "id": "50OaFafhcyNc",
   "metadata": {
    "colab": {
     "base_uri": "https://localhost:8080/"
    },
    "id": "50OaFafhcyNc",
    "outputId": "b8646566-7e35-4e0b-dfa2-6df153e76bde"
   },
   "outputs": [
    {
     "name": "stdout",
     "output_type": "stream",
     "text": [
      "<class 'pandas.core.frame.DataFrame'>\n",
      "Int64Index: 3780073 entries, 0 to 3780072\n",
      "Data columns (total 13 columns):\n",
      " #   Column              Dtype          \n",
      "---  ------              -----          \n",
      " 0   start_time          datetime64[ns] \n",
      " 1   end_time            datetime64[ns] \n",
      " 2   start_station_id    int64          \n",
      " 3   end_station_id      int64          \n",
      " 4   start_station_name  object         \n",
      " 5   end_station_name    object         \n",
      " 6   bike_id             int64          \n",
      " 7   user_type           object         \n",
      " 8   duration            timedelta64[ns]\n",
      " 9   start_latitude      float64        \n",
      " 10  start_longitude     float64        \n",
      " 11  end_latitude        float64        \n",
      " 12  end_longitude       float64        \n",
      "dtypes: datetime64[ns](2), float64(4), int64(3), object(3), timedelta64[ns](1)\n",
      "memory usage: 403.8+ MB\n"
     ]
    }
   ],
   "source": [
    "chicago_set_merge.info()"
   ]
  },
  {
   "cell_type": "markdown",
   "id": "2wSyR8hBc0Ho",
   "metadata": {
    "id": "2wSyR8hBc0Ho"
   },
   "source": [
    "### We have multiple Stations not included in the data set we get the location from:\n",
    "##### DIVVY Map Frame B/C Station, DIVVY CASSETTE REPAIR MOBILE STATION, Ellis Ave & 60th St, TS ~ DIVVY PARTS TESTING, Sedgwick St & Huron St, Special Events, LBS - BBB La Magie\n",
    "Since many of these Station names don't seem like actual stations we could simply delete them from the data set since they only total 83 entries.\n",
    "Otherwise the entries could be manually added with the command\n",
    "extra = {'station_name': 'DIVVY Map Frame B/C Station', 'station_id': 360, 'latitude': -1, 'longitude': -1}\n",
    "coordinates_unique = coordinates_unique.append(extra, ignore_index = True)"
   ]
  },
  {
   "cell_type": "code",
   "execution_count": 19,
   "id": "1ctfeOMyc43O",
   "metadata": {
    "colab": {
     "base_uri": "https://localhost:8080/",
     "height": 823
    },
    "id": "1ctfeOMyc43O",
    "outputId": "0386c502-6ca8-45f1-d02a-81d87cf77595"
   },
   "outputs": [
    {
     "data": {
      "text/html": [
       "<div>\n",
       "<style scoped>\n",
       "    .dataframe tbody tr th:only-of-type {\n",
       "        vertical-align: middle;\n",
       "    }\n",
       "\n",
       "    .dataframe tbody tr th {\n",
       "        vertical-align: top;\n",
       "    }\n",
       "\n",
       "    .dataframe thead th {\n",
       "        text-align: right;\n",
       "    }\n",
       "</style>\n",
       "<table border=\"1\" class=\"dataframe\">\n",
       "  <thead>\n",
       "    <tr style=\"text-align: right;\">\n",
       "      <th></th>\n",
       "      <th>start_time</th>\n",
       "      <th>end_time</th>\n",
       "      <th>start_station_id</th>\n",
       "      <th>end_station_id</th>\n",
       "      <th>start_station_name</th>\n",
       "      <th>end_station_name</th>\n",
       "      <th>bike_id</th>\n",
       "      <th>user_type</th>\n",
       "      <th>duration</th>\n",
       "      <th>start_latitude</th>\n",
       "      <th>start_longitude</th>\n",
       "      <th>end_latitude</th>\n",
       "      <th>end_longitude</th>\n",
       "    </tr>\n",
       "  </thead>\n",
       "  <tbody>\n",
       "    <tr>\n",
       "      <th>13107</th>\n",
       "      <td>2019-01-04 11:15:31</td>\n",
       "      <td>2019-01-04 11:26:25</td>\n",
       "      <td>119</td>\n",
       "      <td>360</td>\n",
       "      <td>Ashland Ave &amp; Lake St (Temp)</td>\n",
       "      <td>DIVVY Map Frame B/C Station</td>\n",
       "      <td>3360</td>\n",
       "      <td>Subscriber</td>\n",
       "      <td>0 days 00:10:54</td>\n",
       "      <td>41.885920</td>\n",
       "      <td>-87.667170</td>\n",
       "      <td>NaN</td>\n",
       "      <td>NaN</td>\n",
       "    </tr>\n",
       "    <tr>\n",
       "      <th>143446</th>\n",
       "      <td>2019-02-13 16:57:06</td>\n",
       "      <td>2019-02-13 17:26:24</td>\n",
       "      <td>360</td>\n",
       "      <td>170</td>\n",
       "      <td>DIVVY Map Frame B/C Station</td>\n",
       "      <td>Clinton St &amp; 18th St</td>\n",
       "      <td>4644</td>\n",
       "      <td>Subscriber</td>\n",
       "      <td>0 days 00:29:18</td>\n",
       "      <td>NaN</td>\n",
       "      <td>NaN</td>\n",
       "      <td>41.857950</td>\n",
       "      <td>-87.640826</td>\n",
       "    </tr>\n",
       "    <tr>\n",
       "      <th>152065</th>\n",
       "      <td>2019-02-15 13:17:37</td>\n",
       "      <td>2019-02-15 13:23:46</td>\n",
       "      <td>360</td>\n",
       "      <td>119</td>\n",
       "      <td>DIVVY Map Frame B/C Station</td>\n",
       "      <td>Ashland Ave &amp; Lake St (Temp)</td>\n",
       "      <td>143</td>\n",
       "      <td>Subscriber</td>\n",
       "      <td>0 days 00:06:09</td>\n",
       "      <td>NaN</td>\n",
       "      <td>NaN</td>\n",
       "      <td>41.885920</td>\n",
       "      <td>-87.667170</td>\n",
       "    </tr>\n",
       "    <tr>\n",
       "      <th>185160</th>\n",
       "      <td>2019-02-26 08:26:07</td>\n",
       "      <td>2019-02-26 08:52:38</td>\n",
       "      <td>348</td>\n",
       "      <td>360</td>\n",
       "      <td>California Ave &amp; 21st St</td>\n",
       "      <td>DIVVY Map Frame B/C Station</td>\n",
       "      <td>4564</td>\n",
       "      <td>Subscriber</td>\n",
       "      <td>0 days 00:26:31</td>\n",
       "      <td>41.853804</td>\n",
       "      <td>-87.695742</td>\n",
       "      <td>NaN</td>\n",
       "      <td>NaN</td>\n",
       "    </tr>\n",
       "    <tr>\n",
       "      <th>195239</th>\n",
       "      <td>2019-02-28 13:46:42</td>\n",
       "      <td>2019-02-28 15:29:33</td>\n",
       "      <td>199</td>\n",
       "      <td>360</td>\n",
       "      <td>Wabash Ave &amp; Grand Ave</td>\n",
       "      <td>DIVVY Map Frame B/C Station</td>\n",
       "      <td>6374</td>\n",
       "      <td>Subscriber</td>\n",
       "      <td>0 days 01:42:51</td>\n",
       "      <td>41.891466</td>\n",
       "      <td>-87.626761</td>\n",
       "      <td>NaN</td>\n",
       "      <td>NaN</td>\n",
       "    </tr>\n",
       "    <tr>\n",
       "      <th>...</th>\n",
       "      <td>...</td>\n",
       "      <td>...</td>\n",
       "      <td>...</td>\n",
       "      <td>...</td>\n",
       "      <td>...</td>\n",
       "      <td>...</td>\n",
       "      <td>...</td>\n",
       "      <td>...</td>\n",
       "      <td>...</td>\n",
       "      <td>...</td>\n",
       "      <td>...</td>\n",
       "      <td>...</td>\n",
       "      <td>...</td>\n",
       "    </tr>\n",
       "    <tr>\n",
       "      <th>1709240</th>\n",
       "      <td>2019-07-15 08:07:01</td>\n",
       "      <td>2019-07-15 08:13:02</td>\n",
       "      <td>128</td>\n",
       "      <td>360</td>\n",
       "      <td>Damen Ave &amp; Chicago Ave</td>\n",
       "      <td>DIVVY Map Frame B/C Station</td>\n",
       "      <td>4129</td>\n",
       "      <td>Subscriber</td>\n",
       "      <td>0 days 00:06:01</td>\n",
       "      <td>41.895769</td>\n",
       "      <td>-87.677220</td>\n",
       "      <td>NaN</td>\n",
       "      <td>NaN</td>\n",
       "    </tr>\n",
       "    <tr>\n",
       "      <th>1751342</th>\n",
       "      <td>2019-07-17 16:42:19</td>\n",
       "      <td>2019-07-17 16:49:45</td>\n",
       "      <td>350</td>\n",
       "      <td>360</td>\n",
       "      <td>Ashland Ave &amp; Chicago Ave</td>\n",
       "      <td>DIVVY Map Frame B/C Station</td>\n",
       "      <td>5604</td>\n",
       "      <td>Subscriber</td>\n",
       "      <td>0 days 00:07:26</td>\n",
       "      <td>41.895966</td>\n",
       "      <td>-87.667747</td>\n",
       "      <td>NaN</td>\n",
       "      <td>NaN</td>\n",
       "    </tr>\n",
       "    <tr>\n",
       "      <th>2122276</th>\n",
       "      <td>2019-08-06 13:28:35</td>\n",
       "      <td>2019-08-06 13:33:00</td>\n",
       "      <td>128</td>\n",
       "      <td>360</td>\n",
       "      <td>Damen Ave &amp; Chicago Ave</td>\n",
       "      <td>DIVVY Map Frame B/C Station</td>\n",
       "      <td>3153</td>\n",
       "      <td>Subscriber</td>\n",
       "      <td>0 days 00:04:25</td>\n",
       "      <td>41.895769</td>\n",
       "      <td>-87.677220</td>\n",
       "      <td>NaN</td>\n",
       "      <td>NaN</td>\n",
       "    </tr>\n",
       "    <tr>\n",
       "      <th>2516231</th>\n",
       "      <td>2019-08-27 18:31:46</td>\n",
       "      <td>2019-08-27 18:50:56</td>\n",
       "      <td>360</td>\n",
       "      <td>203</td>\n",
       "      <td>DIVVY Map Frame B/C Station</td>\n",
       "      <td>Western Ave &amp; 21st St</td>\n",
       "      <td>5610</td>\n",
       "      <td>Subscriber</td>\n",
       "      <td>0 days 00:19:10</td>\n",
       "      <td>NaN</td>\n",
       "      <td>NaN</td>\n",
       "      <td>41.854109</td>\n",
       "      <td>-87.685838</td>\n",
       "    </tr>\n",
       "    <tr>\n",
       "      <th>2554736</th>\n",
       "      <td>2019-08-29 18:32:11</td>\n",
       "      <td>2019-08-29 18:49:29</td>\n",
       "      <td>360</td>\n",
       "      <td>53</td>\n",
       "      <td>DIVVY Map Frame B/C Station</td>\n",
       "      <td>Wells St &amp; Huron St</td>\n",
       "      <td>244</td>\n",
       "      <td>Subscriber</td>\n",
       "      <td>0 days 00:17:18</td>\n",
       "      <td>NaN</td>\n",
       "      <td>NaN</td>\n",
       "      <td>41.894722</td>\n",
       "      <td>-87.634362</td>\n",
       "    </tr>\n",
       "  </tbody>\n",
       "</table>\n",
       "<p>83 rows × 13 columns</p>\n",
       "</div>"
      ],
      "text/plain": [
       "                 start_time            end_time  start_station_id  \\\n",
       "13107   2019-01-04 11:15:31 2019-01-04 11:26:25               119   \n",
       "143446  2019-02-13 16:57:06 2019-02-13 17:26:24               360   \n",
       "152065  2019-02-15 13:17:37 2019-02-15 13:23:46               360   \n",
       "185160  2019-02-26 08:26:07 2019-02-26 08:52:38               348   \n",
       "195239  2019-02-28 13:46:42 2019-02-28 15:29:33               199   \n",
       "...                     ...                 ...               ...   \n",
       "1709240 2019-07-15 08:07:01 2019-07-15 08:13:02               128   \n",
       "1751342 2019-07-17 16:42:19 2019-07-17 16:49:45               350   \n",
       "2122276 2019-08-06 13:28:35 2019-08-06 13:33:00               128   \n",
       "2516231 2019-08-27 18:31:46 2019-08-27 18:50:56               360   \n",
       "2554736 2019-08-29 18:32:11 2019-08-29 18:49:29               360   \n",
       "\n",
       "         end_station_id            start_station_name  \\\n",
       "13107               360  Ashland Ave & Lake St (Temp)   \n",
       "143446              170   DIVVY Map Frame B/C Station   \n",
       "152065              119   DIVVY Map Frame B/C Station   \n",
       "185160              360      California Ave & 21st St   \n",
       "195239              360        Wabash Ave & Grand Ave   \n",
       "...                 ...                           ...   \n",
       "1709240             360       Damen Ave & Chicago Ave   \n",
       "1751342             360     Ashland Ave & Chicago Ave   \n",
       "2122276             360       Damen Ave & Chicago Ave   \n",
       "2516231             203   DIVVY Map Frame B/C Station   \n",
       "2554736              53   DIVVY Map Frame B/C Station   \n",
       "\n",
       "                     end_station_name  bike_id   user_type        duration  \\\n",
       "13107     DIVVY Map Frame B/C Station     3360  Subscriber 0 days 00:10:54   \n",
       "143446           Clinton St & 18th St     4644  Subscriber 0 days 00:29:18   \n",
       "152065   Ashland Ave & Lake St (Temp)      143  Subscriber 0 days 00:06:09   \n",
       "185160    DIVVY Map Frame B/C Station     4564  Subscriber 0 days 00:26:31   \n",
       "195239    DIVVY Map Frame B/C Station     6374  Subscriber 0 days 01:42:51   \n",
       "...                               ...      ...         ...             ...   \n",
       "1709240   DIVVY Map Frame B/C Station     4129  Subscriber 0 days 00:06:01   \n",
       "1751342   DIVVY Map Frame B/C Station     5604  Subscriber 0 days 00:07:26   \n",
       "2122276   DIVVY Map Frame B/C Station     3153  Subscriber 0 days 00:04:25   \n",
       "2516231         Western Ave & 21st St     5610  Subscriber 0 days 00:19:10   \n",
       "2554736           Wells St & Huron St      244  Subscriber 0 days 00:17:18   \n",
       "\n",
       "         start_latitude  start_longitude  end_latitude  end_longitude  \n",
       "13107         41.885920       -87.667170           NaN            NaN  \n",
       "143446              NaN              NaN     41.857950     -87.640826  \n",
       "152065              NaN              NaN     41.885920     -87.667170  \n",
       "185160        41.853804       -87.695742           NaN            NaN  \n",
       "195239        41.891466       -87.626761           NaN            NaN  \n",
       "...                 ...              ...           ...            ...  \n",
       "1709240       41.895769       -87.677220           NaN            NaN  \n",
       "1751342       41.895966       -87.667747           NaN            NaN  \n",
       "2122276       41.895769       -87.677220           NaN            NaN  \n",
       "2516231             NaN              NaN     41.854109     -87.685838  \n",
       "2554736             NaN              NaN     41.894722     -87.634362  \n",
       "\n",
       "[83 rows x 13 columns]"
      ]
     },
     "execution_count": 19,
     "metadata": {},
     "output_type": "execute_result"
    }
   ],
   "source": [
    "chicago_set_merge.loc[chicago_set_merge.isnull().any(axis=1)]"
   ]
  },
  {
   "cell_type": "markdown",
   "id": "sRYXHJB3c8JZ",
   "metadata": {
    "id": "sRYXHJB3c8JZ"
   },
   "source": [
    "### Drop rows with null values"
   ]
  },
  {
   "cell_type": "code",
   "execution_count": 20,
   "id": "JjEaYxO1c8o1",
   "metadata": {
    "id": "JjEaYxO1c8o1"
   },
   "outputs": [],
   "source": [
    "chicago_set_merge = chicago_set_merge.dropna()"
   ]
  },
  {
   "cell_type": "markdown",
   "id": "uZXr8s0_dDr7",
   "metadata": {
    "id": "uZXr8s0_dDr7"
   },
   "source": [
    "Haversine method from https://stackoverflow.com/questions/4913349/haversine-formula-in-python-bearing-and-distance-between-two-gps-points"
   ]
  },
  {
   "cell_type": "code",
   "execution_count": 21,
   "id": "ZlMzVkSudUB8",
   "metadata": {
    "id": "ZlMzVkSudUB8"
   },
   "outputs": [],
   "source": [
    "from math import radians, cos, sin, asin, sqrt\n",
    "\n",
    "def haversine(lon1, lat1, lon2, lat2):\n",
    "    \"\"\"\n",
    "    Calculate the great circle distance in kilometers between two points \n",
    "    on the earth (specified in decimal degrees)\n",
    "    \"\"\"\n",
    "    # convert decimal degrees to radians \n",
    "    lon1, lat1, lon2, lat2 = map(radians, [lon1, lat1, lon2, lat2])\n",
    "\n",
    "    # haversine formula \n",
    "    dlon = lon2 - lon1 \n",
    "    dlat = lat2 - lat1 \n",
    "    a = sin(dlat/2)**2 + cos(lat1) * cos(lat2) * sin(dlon/2)**2\n",
    "    c = 2 * asin(sqrt(a)) \n",
    "    r = 6371 # Radius of earth in kilometers. Use 3956 for miles. Determines return value units.\n",
    "    return c * r"
   ]
  },
  {
   "cell_type": "markdown",
   "id": "I7AHJSyvdWfS",
   "metadata": {
    "id": "I7AHJSyvdWfS"
   },
   "source": [
    "### Calculate Haversine distance for unique start and stop combinations and merge it back into chicago set"
   ]
  },
  {
   "cell_type": "code",
   "execution_count": 22,
   "id": "Y7DPy9mMdT4E",
   "metadata": {
    "colab": {
     "base_uri": "https://localhost:8080/",
     "height": 438
    },
    "id": "Y7DPy9mMdT4E",
    "outputId": "b3312120-54cb-4da3-e398-0a2bdd827686"
   },
   "outputs": [
    {
     "data": {
      "text/html": [
       "<div>\n",
       "<style scoped>\n",
       "    .dataframe tbody tr th:only-of-type {\n",
       "        vertical-align: middle;\n",
       "    }\n",
       "\n",
       "    .dataframe tbody tr th {\n",
       "        vertical-align: top;\n",
       "    }\n",
       "\n",
       "    .dataframe thead th {\n",
       "        text-align: right;\n",
       "    }\n",
       "</style>\n",
       "<table border=\"1\" class=\"dataframe\">\n",
       "  <thead>\n",
       "    <tr style=\"text-align: right;\">\n",
       "      <th></th>\n",
       "      <th>start_time</th>\n",
       "      <th>end_time</th>\n",
       "      <th>start_station_id</th>\n",
       "      <th>end_station_id</th>\n",
       "      <th>start_station_name</th>\n",
       "      <th>end_station_name</th>\n",
       "      <th>bike_id</th>\n",
       "      <th>user_type</th>\n",
       "      <th>duration</th>\n",
       "      <th>start_latitude</th>\n",
       "      <th>start_longitude</th>\n",
       "      <th>end_latitude</th>\n",
       "      <th>end_longitude</th>\n",
       "      <th>distance</th>\n",
       "    </tr>\n",
       "  </thead>\n",
       "  <tbody>\n",
       "    <tr>\n",
       "      <th>0</th>\n",
       "      <td>2019-01-01 00:04:37</td>\n",
       "      <td>2019-01-01 00:11:07</td>\n",
       "      <td>199</td>\n",
       "      <td>84</td>\n",
       "      <td>Wabash Ave &amp; Grand Ave</td>\n",
       "      <td>Milwaukee Ave &amp; Grand Ave</td>\n",
       "      <td>2167</td>\n",
       "      <td>Subscriber</td>\n",
       "      <td>0 days 00:06:30</td>\n",
       "      <td>41.891466</td>\n",
       "      <td>-87.626761</td>\n",
       "      <td>41.891578</td>\n",
       "      <td>-87.648384</td>\n",
       "      <td>2.404368</td>\n",
       "    </tr>\n",
       "    <tr>\n",
       "      <th>1</th>\n",
       "      <td>2019-01-01 00:08:13</td>\n",
       "      <td>2019-01-01 00:15:34</td>\n",
       "      <td>44</td>\n",
       "      <td>624</td>\n",
       "      <td>State St &amp; Randolph St</td>\n",
       "      <td>Dearborn St &amp; Van Buren St (*)</td>\n",
       "      <td>4386</td>\n",
       "      <td>Subscriber</td>\n",
       "      <td>0 days 00:07:21</td>\n",
       "      <td>41.884730</td>\n",
       "      <td>-87.627734</td>\n",
       "      <td>41.876268</td>\n",
       "      <td>-87.629155</td>\n",
       "      <td>0.162734</td>\n",
       "    </tr>\n",
       "    <tr>\n",
       "      <th>2</th>\n",
       "      <td>2019-01-01 00:13:23</td>\n",
       "      <td>2019-01-01 00:27:12</td>\n",
       "      <td>15</td>\n",
       "      <td>644</td>\n",
       "      <td>Racine Ave &amp; 18th St</td>\n",
       "      <td>Western Ave &amp; Fillmore St (*)</td>\n",
       "      <td>1524</td>\n",
       "      <td>Subscriber</td>\n",
       "      <td>0 days 00:13:49</td>\n",
       "      <td>41.858166</td>\n",
       "      <td>-87.656495</td>\n",
       "      <td>41.868563</td>\n",
       "      <td>-87.686234</td>\n",
       "      <td>3.307160</td>\n",
       "    </tr>\n",
       "    <tr>\n",
       "      <th>3</th>\n",
       "      <td>2019-01-01 00:13:45</td>\n",
       "      <td>2019-01-01 00:43:28</td>\n",
       "      <td>123</td>\n",
       "      <td>176</td>\n",
       "      <td>California Ave &amp; Milwaukee Ave</td>\n",
       "      <td>Clark St &amp; Elm St</td>\n",
       "      <td>252</td>\n",
       "      <td>Subscriber</td>\n",
       "      <td>0 days 00:29:43</td>\n",
       "      <td>41.922695</td>\n",
       "      <td>-87.697153</td>\n",
       "      <td>41.902973</td>\n",
       "      <td>-87.631280</td>\n",
       "      <td>7.325289</td>\n",
       "    </tr>\n",
       "    <tr>\n",
       "      <th>4</th>\n",
       "      <td>2019-01-01 00:14:52</td>\n",
       "      <td>2019-01-01 00:20:56</td>\n",
       "      <td>173</td>\n",
       "      <td>35</td>\n",
       "      <td>Mies van der Rohe Way &amp; Chicago Ave</td>\n",
       "      <td>Streeter Dr &amp; Grand Ave</td>\n",
       "      <td>1170</td>\n",
       "      <td>Subscriber</td>\n",
       "      <td>0 days 00:06:04</td>\n",
       "      <td>41.896910</td>\n",
       "      <td>-87.621743</td>\n",
       "      <td>41.892278</td>\n",
       "      <td>-87.612043</td>\n",
       "      <td>1.078803</td>\n",
       "    </tr>\n",
       "  </tbody>\n",
       "</table>\n",
       "</div>"
      ],
      "text/plain": [
       "           start_time            end_time  start_station_id  end_station_id  \\\n",
       "0 2019-01-01 00:04:37 2019-01-01 00:11:07               199              84   \n",
       "1 2019-01-01 00:08:13 2019-01-01 00:15:34                44             624   \n",
       "2 2019-01-01 00:13:23 2019-01-01 00:27:12                15             644   \n",
       "3 2019-01-01 00:13:45 2019-01-01 00:43:28               123             176   \n",
       "4 2019-01-01 00:14:52 2019-01-01 00:20:56               173              35   \n",
       "\n",
       "                    start_station_name                end_station_name  \\\n",
       "0               Wabash Ave & Grand Ave       Milwaukee Ave & Grand Ave   \n",
       "1               State St & Randolph St  Dearborn St & Van Buren St (*)   \n",
       "2                 Racine Ave & 18th St   Western Ave & Fillmore St (*)   \n",
       "3       California Ave & Milwaukee Ave               Clark St & Elm St   \n",
       "4  Mies van der Rohe Way & Chicago Ave         Streeter Dr & Grand Ave   \n",
       "\n",
       "   bike_id   user_type        duration  start_latitude  start_longitude  \\\n",
       "0     2167  Subscriber 0 days 00:06:30       41.891466       -87.626761   \n",
       "1     4386  Subscriber 0 days 00:07:21       41.884730       -87.627734   \n",
       "2     1524  Subscriber 0 days 00:13:49       41.858166       -87.656495   \n",
       "3      252  Subscriber 0 days 00:29:43       41.922695       -87.697153   \n",
       "4     1170  Subscriber 0 days 00:06:04       41.896910       -87.621743   \n",
       "\n",
       "   end_latitude  end_longitude  distance  \n",
       "0     41.891578     -87.648384  2.404368  \n",
       "1     41.876268     -87.629155  0.162734  \n",
       "2     41.868563     -87.686234  3.307160  \n",
       "3     41.902973     -87.631280  7.325289  \n",
       "4     41.892278     -87.612043  1.078803  "
      ]
     },
     "execution_count": 22,
     "metadata": {},
     "output_type": "execute_result"
    }
   ],
   "source": [
    "chicago_set_distance = chicago_set_merge[['start_latitude', 'start_longitude', 'end_latitude', 'end_longitude']]\n",
    "chicago_set_distance = chicago_set_distance.drop_duplicates(subset = ['start_latitude', 'start_longitude', 'end_latitude', 'end_longitude'], keep = 'last')\n",
    "chicago_set_distance['distance'] = chicago_set_distance.apply(lambda x : haversine(x['start_latitude'], x['start_longitude'], x['end_latitude'], x['end_longitude'],) , axis=1)\n",
    "chicago_set_merge = chicago_set_merge.merge(chicago_set_distance, how='left', on=['start_latitude', 'start_longitude', 'end_latitude', 'end_longitude'])\n",
    "chicago_set_merge.head()"
   ]
  },
  {
   "cell_type": "markdown",
   "id": "wJ_DgwYfdgLm",
   "metadata": {
    "id": "wJ_DgwYfdgLm"
   },
   "source": [
    "\n",
    "### Average speed in meters per second"
   ]
  },
  {
   "cell_type": "code",
   "execution_count": 23,
   "id": "7MV_7ENHdrzI",
   "metadata": {
    "colab": {
     "base_uri": "https://localhost:8080/",
     "height": 438
    },
    "id": "7MV_7ENHdrzI",
    "outputId": "ba089e4e-76d7-44d3-a01a-dd99b10cf232",
    "scrolled": true
   },
   "outputs": [
    {
     "data": {
      "text/html": [
       "<div>\n",
       "<style scoped>\n",
       "    .dataframe tbody tr th:only-of-type {\n",
       "        vertical-align: middle;\n",
       "    }\n",
       "\n",
       "    .dataframe tbody tr th {\n",
       "        vertical-align: top;\n",
       "    }\n",
       "\n",
       "    .dataframe thead th {\n",
       "        text-align: right;\n",
       "    }\n",
       "</style>\n",
       "<table border=\"1\" class=\"dataframe\">\n",
       "  <thead>\n",
       "    <tr style=\"text-align: right;\">\n",
       "      <th></th>\n",
       "      <th>start_time</th>\n",
       "      <th>end_time</th>\n",
       "      <th>start_station_id</th>\n",
       "      <th>end_station_id</th>\n",
       "      <th>start_station_name</th>\n",
       "      <th>end_station_name</th>\n",
       "      <th>bike_id</th>\n",
       "      <th>user_type</th>\n",
       "      <th>duration</th>\n",
       "      <th>start_latitude</th>\n",
       "      <th>start_longitude</th>\n",
       "      <th>end_latitude</th>\n",
       "      <th>end_longitude</th>\n",
       "      <th>distance</th>\n",
       "      <th>speed</th>\n",
       "    </tr>\n",
       "  </thead>\n",
       "  <tbody>\n",
       "    <tr>\n",
       "      <th>0</th>\n",
       "      <td>2019-01-01 00:04:37</td>\n",
       "      <td>2019-01-01 00:11:07</td>\n",
       "      <td>199</td>\n",
       "      <td>84</td>\n",
       "      <td>Wabash Ave &amp; Grand Ave</td>\n",
       "      <td>Milwaukee Ave &amp; Grand Ave</td>\n",
       "      <td>2167</td>\n",
       "      <td>Subscriber</td>\n",
       "      <td>0 days 00:06:30</td>\n",
       "      <td>41.891466</td>\n",
       "      <td>-87.626761</td>\n",
       "      <td>41.891578</td>\n",
       "      <td>-87.648384</td>\n",
       "      <td>2.404368</td>\n",
       "      <td>6.165046</td>\n",
       "    </tr>\n",
       "    <tr>\n",
       "      <th>1</th>\n",
       "      <td>2019-01-01 00:08:13</td>\n",
       "      <td>2019-01-01 00:15:34</td>\n",
       "      <td>44</td>\n",
       "      <td>624</td>\n",
       "      <td>State St &amp; Randolph St</td>\n",
       "      <td>Dearborn St &amp; Van Buren St (*)</td>\n",
       "      <td>4386</td>\n",
       "      <td>Subscriber</td>\n",
       "      <td>0 days 00:07:21</td>\n",
       "      <td>41.884730</td>\n",
       "      <td>-87.627734</td>\n",
       "      <td>41.876268</td>\n",
       "      <td>-87.629155</td>\n",
       "      <td>0.162734</td>\n",
       "      <td>0.369012</td>\n",
       "    </tr>\n",
       "    <tr>\n",
       "      <th>2</th>\n",
       "      <td>2019-01-01 00:13:23</td>\n",
       "      <td>2019-01-01 00:27:12</td>\n",
       "      <td>15</td>\n",
       "      <td>644</td>\n",
       "      <td>Racine Ave &amp; 18th St</td>\n",
       "      <td>Western Ave &amp; Fillmore St (*)</td>\n",
       "      <td>1524</td>\n",
       "      <td>Subscriber</td>\n",
       "      <td>0 days 00:13:49</td>\n",
       "      <td>41.858166</td>\n",
       "      <td>-87.656495</td>\n",
       "      <td>41.868563</td>\n",
       "      <td>-87.686234</td>\n",
       "      <td>3.307160</td>\n",
       "      <td>3.989336</td>\n",
       "    </tr>\n",
       "    <tr>\n",
       "      <th>3</th>\n",
       "      <td>2019-01-01 00:13:45</td>\n",
       "      <td>2019-01-01 00:43:28</td>\n",
       "      <td>123</td>\n",
       "      <td>176</td>\n",
       "      <td>California Ave &amp; Milwaukee Ave</td>\n",
       "      <td>Clark St &amp; Elm St</td>\n",
       "      <td>252</td>\n",
       "      <td>Subscriber</td>\n",
       "      <td>0 days 00:29:43</td>\n",
       "      <td>41.922695</td>\n",
       "      <td>-87.697153</td>\n",
       "      <td>41.902973</td>\n",
       "      <td>-87.631280</td>\n",
       "      <td>7.325289</td>\n",
       "      <td>4.108406</td>\n",
       "    </tr>\n",
       "    <tr>\n",
       "      <th>4</th>\n",
       "      <td>2019-01-01 00:14:52</td>\n",
       "      <td>2019-01-01 00:20:56</td>\n",
       "      <td>173</td>\n",
       "      <td>35</td>\n",
       "      <td>Mies van der Rohe Way &amp; Chicago Ave</td>\n",
       "      <td>Streeter Dr &amp; Grand Ave</td>\n",
       "      <td>1170</td>\n",
       "      <td>Subscriber</td>\n",
       "      <td>0 days 00:06:04</td>\n",
       "      <td>41.896910</td>\n",
       "      <td>-87.621743</td>\n",
       "      <td>41.892278</td>\n",
       "      <td>-87.612043</td>\n",
       "      <td>1.078803</td>\n",
       "      <td>2.963746</td>\n",
       "    </tr>\n",
       "  </tbody>\n",
       "</table>\n",
       "</div>"
      ],
      "text/plain": [
       "           start_time            end_time  start_station_id  end_station_id  \\\n",
       "0 2019-01-01 00:04:37 2019-01-01 00:11:07               199              84   \n",
       "1 2019-01-01 00:08:13 2019-01-01 00:15:34                44             624   \n",
       "2 2019-01-01 00:13:23 2019-01-01 00:27:12                15             644   \n",
       "3 2019-01-01 00:13:45 2019-01-01 00:43:28               123             176   \n",
       "4 2019-01-01 00:14:52 2019-01-01 00:20:56               173              35   \n",
       "\n",
       "                    start_station_name                end_station_name  \\\n",
       "0               Wabash Ave & Grand Ave       Milwaukee Ave & Grand Ave   \n",
       "1               State St & Randolph St  Dearborn St & Van Buren St (*)   \n",
       "2                 Racine Ave & 18th St   Western Ave & Fillmore St (*)   \n",
       "3       California Ave & Milwaukee Ave               Clark St & Elm St   \n",
       "4  Mies van der Rohe Way & Chicago Ave         Streeter Dr & Grand Ave   \n",
       "\n",
       "   bike_id   user_type        duration  start_latitude  start_longitude  \\\n",
       "0     2167  Subscriber 0 days 00:06:30       41.891466       -87.626761   \n",
       "1     4386  Subscriber 0 days 00:07:21       41.884730       -87.627734   \n",
       "2     1524  Subscriber 0 days 00:13:49       41.858166       -87.656495   \n",
       "3      252  Subscriber 0 days 00:29:43       41.922695       -87.697153   \n",
       "4     1170  Subscriber 0 days 00:06:04       41.896910       -87.621743   \n",
       "\n",
       "   end_latitude  end_longitude  distance     speed  \n",
       "0     41.891578     -87.648384  2.404368  6.165046  \n",
       "1     41.876268     -87.629155  0.162734  0.369012  \n",
       "2     41.868563     -87.686234  3.307160  3.989336  \n",
       "3     41.902973     -87.631280  7.325289  4.108406  \n",
       "4     41.892278     -87.612043  1.078803  2.963746  "
      ]
     },
     "execution_count": 23,
     "metadata": {},
     "output_type": "execute_result"
    }
   ],
   "source": [
    "chicago_set_merge['speed'] = chicago_set_merge['distance'] * 1000 / chicago_set_merge['duration'].dt.total_seconds()\n",
    "chicago_set_merge.head()"
   ]
  },
  {
   "cell_type": "markdown",
   "id": "7d22a64f",
   "metadata": {
    "id": "wJ_DgwYfdgLm"
   },
   "source": [
    "\n",
    "### To be able to work with the individual traffic for each station in the heatmap, we have to calculate the total amount of usage (rides started and ended) for each station as followed."
   ]
  },
  {
   "cell_type": "code",
   "execution_count": 25,
   "id": "26331907",
   "metadata": {},
   "outputs": [
    {
     "name": "stdout",
     "output_type": "stream",
     "text": [
      "     start_station_id  count\n",
      "0                   1      1\n",
      "1                   2  11030\n",
      "2                   3  26432\n",
      "3                   4  10658\n",
      "4                   5   7765\n",
      "..                ...    ...\n",
      "611               666    543\n",
      "612               669      1\n",
      "613               671     15\n",
      "614               672   3821\n",
      "615               673   3390\n",
      "\n",
      "[616 rows x 2 columns]\n",
      "     end_station_id  count\n",
      "0                 1      1\n",
      "1                 2   9283\n",
      "2                 3  22184\n",
      "3                 4  11042\n",
      "4                 5   7615\n",
      "..              ...    ...\n",
      "612             666    582\n",
      "613             669      1\n",
      "614             671    157\n",
      "615             672   3813\n",
      "616             673   3489\n",
      "\n",
      "[617 rows x 2 columns]\n",
      "      latitude  longitude  total_amount\n",
      "0    41.765286 -87.621748             2\n",
      "1    41.816208 -87.634819         20313\n",
      "2    41.786833 -87.666215         48616\n",
      "3    41.766000 -87.611726         21700\n",
      "4    41.786691 -87.655859         15380\n",
      "..         ...        ...           ...\n",
      "607  41.884616 -87.644571           796\n",
      "608  41.894503 -87.617854          1647\n",
      "609  41.869482 -87.655486          3334\n",
      "610  41.883668 -87.648670            23\n",
      "611  41.944540 -87.654678          1125\n",
      "\n",
      "[612 rows x 3 columns]\n",
      "latitude            42.064854\n",
      "longitude          -87.549386\n",
      "total_amount    149706.000000\n",
      "dtype: float64\n",
      "[[ 4.17652860e+01 -8.76217480e+01  2.00000000e+00]\n",
      " [ 4.18162077e+01 -8.76348193e+01  2.03130000e+04]\n",
      " [ 4.17868330e+01 -8.76662150e+01  4.86160000e+04]\n",
      " ...\n",
      " [ 4.18694820e+01 -8.76554860e+01  3.33400000e+03]\n",
      " [ 4.18836680e+01 -8.76486700e+01  2.30000000e+01]\n",
      " [ 4.19445400e+01 -8.76546780e+01  1.12500000e+03]]\n"
     ]
    }
   ],
   "source": [
    "\n",
    "amount_started = pd.DataFrame({'count' : chicago_set.groupby( [ \"start_station_id\"] ).size()}).reset_index()\n",
    "amount_ended = pd.DataFrame({'count' : chicago_set.groupby( [ \"end_station_id\"] ).size()}).reset_index()\n",
    "\n",
    "\n",
    "print(amount_started)\n",
    "print(amount_ended)\n",
    "\n",
    "#merge amount_started and amount_ended together, as total_amount\n",
    "\n",
    "amount_merged = amount_started.merge(amount_ended, how='left', left_on=['start_station_id'], right_on = ['end_station_id']) \n",
    "amount_merged['total_amount'] = amount_merged['count_x'] + amount_merged['count_y']\n",
    "\n",
    "\n",
    "\n",
    "coordinates_unique = coordinates_unique.merge(amount_merged, how='left', left_on=['station_id'], right_on = ['start_station_id'])\n",
    "coordinates_unique = coordinates_unique.dropna()\n",
    "\n",
    "\n",
    " \n",
    "\n",
    "station_data = pd.DataFrame(coordinates_unique[['latitude', 'longitude']])\n",
    "station_data['total_amount'] = pd.DataFrame(amount_merged[['total_amount']])\n",
    "print(station_data)\n",
    "\n",
    "print(station_data.max())\n",
    "\n",
    "\n",
    "\n",
    "# converting the dataframe into a numpy array changes the values into exponential view, however the values\n",
    "# are not affected by this\n",
    "data_array = station_data[['latitude','longitude','total_amount']].to_numpy()\n",
    "print(data_array)\n"
   ]
  },
  {
   "cell_type": "markdown",
   "id": "ff202353",
   "metadata": {},
   "source": [
    "## Now that the data is correctly ordered and available we are able to create a heatmap which will give us a nice overview of the total amount of bike trips started from the 617 different stations all over chicago. This heatmap is created by using the folium library."
   ]
  },
  {
   "cell_type": "code",
   "execution_count": 27,
   "id": "59963b40",
   "metadata": {},
   "outputs": [
    {
     "data": {
      "text/html": [
       "<div style=\"width:100%;\"><div style=\"position:relative;width:100%;height:0;padding-bottom:60%;\"><span style=\"color:#565656\">Make this Notebook Trusted to load map: File -> Trust Notebook</span><iframe srcdoc=\"&lt;!DOCTYPE html&gt;\n",
       "&lt;head&gt;    \n",
       "    &lt;meta http-equiv=&quot;content-type&quot; content=&quot;text/html; charset=UTF-8&quot; /&gt;\n",
       "    \n",
       "        &lt;script&gt;\n",
       "            L_NO_TOUCH = false;\n",
       "            L_DISABLE_3D = false;\n",
       "        &lt;/script&gt;\n",
       "    \n",
       "    &lt;style&gt;html, body {width: 100%;height: 100%;margin: 0;padding: 0;}&lt;/style&gt;\n",
       "    &lt;style&gt;#map {position:absolute;top:0;bottom:0;right:0;left:0;}&lt;/style&gt;\n",
       "    &lt;script src=&quot;https://cdn.jsdelivr.net/npm/leaflet@1.6.0/dist/leaflet.js&quot;&gt;&lt;/script&gt;\n",
       "    &lt;script src=&quot;https://code.jquery.com/jquery-1.12.4.min.js&quot;&gt;&lt;/script&gt;\n",
       "    &lt;script src=&quot;https://maxcdn.bootstrapcdn.com/bootstrap/3.2.0/js/bootstrap.min.js&quot;&gt;&lt;/script&gt;\n",
       "    &lt;script src=&quot;https://cdnjs.cloudflare.com/ajax/libs/Leaflet.awesome-markers/2.0.2/leaflet.awesome-markers.js&quot;&gt;&lt;/script&gt;\n",
       "    &lt;link rel=&quot;stylesheet&quot; href=&quot;https://cdn.jsdelivr.net/npm/leaflet@1.6.0/dist/leaflet.css&quot;/&gt;\n",
       "    &lt;link rel=&quot;stylesheet&quot; href=&quot;https://maxcdn.bootstrapcdn.com/bootstrap/3.2.0/css/bootstrap.min.css&quot;/&gt;\n",
       "    &lt;link rel=&quot;stylesheet&quot; href=&quot;https://maxcdn.bootstrapcdn.com/bootstrap/3.2.0/css/bootstrap-theme.min.css&quot;/&gt;\n",
       "    &lt;link rel=&quot;stylesheet&quot; href=&quot;https://maxcdn.bootstrapcdn.com/font-awesome/4.6.3/css/font-awesome.min.css&quot;/&gt;\n",
       "    &lt;link rel=&quot;stylesheet&quot; href=&quot;https://cdnjs.cloudflare.com/ajax/libs/Leaflet.awesome-markers/2.0.2/leaflet.awesome-markers.css&quot;/&gt;\n",
       "    &lt;link rel=&quot;stylesheet&quot; href=&quot;https://cdn.jsdelivr.net/gh/python-visualization/folium/folium/templates/leaflet.awesome.rotate.min.css&quot;/&gt;\n",
       "    \n",
       "            &lt;meta name=&quot;viewport&quot; content=&quot;width=device-width,\n",
       "                initial-scale=1.0, maximum-scale=1.0, user-scalable=no&quot; /&gt;\n",
       "            &lt;style&gt;\n",
       "                #map_df80807ea1b2acb740f8b3d7362fe64c {\n",
       "                    position: relative;\n",
       "                    width: 100.0%;\n",
       "                    height: 100.0%;\n",
       "                    left: 0.0%;\n",
       "                    top: 0.0%;\n",
       "                }\n",
       "            &lt;/style&gt;\n",
       "        \n",
       "    &lt;script src=&quot;https://cdn.jsdelivr.net/gh/python-visualization/folium@master/folium/templates/leaflet_heat.min.js&quot;&gt;&lt;/script&gt;\n",
       "&lt;/head&gt;\n",
       "&lt;body&gt;    \n",
       "    \n",
       "            &lt;div class=&quot;folium-map&quot; id=&quot;map_df80807ea1b2acb740f8b3d7362fe64c&quot; &gt;&lt;/div&gt;\n",
       "        \n",
       "&lt;/body&gt;\n",
       "&lt;script&gt;    \n",
       "    \n",
       "            var map_df80807ea1b2acb740f8b3d7362fe64c = L.map(\n",
       "                &quot;map_df80807ea1b2acb740f8b3d7362fe64c&quot;,\n",
       "                {\n",
       "                    center: [41.881832, -87.623177],\n",
       "                    crs: L.CRS.EPSG3857,\n",
       "                    zoom: 12,\n",
       "                    zoomControl: true,\n",
       "                    preferCanvas: false,\n",
       "                }\n",
       "            );\n",
       "\n",
       "            \n",
       "\n",
       "        \n",
       "    \n",
       "            var tile_layer_030b1eb4a554ca15dbfc11496cd9c47a = L.tileLayer(\n",
       "                &quot;https://{s}.tile.openstreetmap.org/{z}/{x}/{y}.png&quot;,\n",
       "                {&quot;attribution&quot;: &quot;Data by \\u0026copy; \\u003ca href=\\&quot;http://openstreetmap.org\\&quot;\\u003eOpenStreetMap\\u003c/a\\u003e, under \\u003ca href=\\&quot;http://www.openstreetmap.org/copyright\\&quot;\\u003eODbL\\u003c/a\\u003e.&quot;, &quot;detectRetina&quot;: false, &quot;maxNativeZoom&quot;: 18, &quot;maxZoom&quot;: 18, &quot;minZoom&quot;: 0, &quot;noWrap&quot;: false, &quot;opacity&quot;: 1, &quot;subdomains&quot;: &quot;abc&quot;, &quot;tms&quot;: false}\n",
       "            ).addTo(map_df80807ea1b2acb740f8b3d7362fe64c);\n",
       "        \n",
       "    \n",
       "            var heat_map_c0881dc165dfd18438c61ad38b1cebc2 = L.heatLayer(\n",
       "                [[41.765286, -87.621748, 2.0], [41.81620767856, -87.6348193497, 20313.0], [41.786833, -87.666215, 48616.0], [41.766, -87.611726, 21700.0], [41.786691, -87.655859, 15380.0], [41.77987, -87.650919, 31449.0], [41.768898, -87.635876, 20480.0], [41.747363, -87.580046, 1054.0], [41.768726, -87.664069, 441.0], [41.743921, -87.575225, 1713.0], [41.794087, -87.675478, 31510.0], [41.803023, -87.664699, 8468.0], [41.76571903697, -87.604959713, 9797.0], [41.887832, -87.755527, 13795.0], [41.80183164049, -87.645213904, 16377.0], [41.76929308995, -87.6281959291, 31127.0], [41.751785, -87.578496, 10772.0], [41.84151770807, -87.6851314409, 24193.0], [41.8481, -87.715068, 24445.0], [41.75849, -87.60641, 14981.0], [41.799659, -87.657195, 9255.0], [41.808227, -87.67718, 41624.0], [41.872131, -87.746619, 21681.0], [41.743316, -87.622849, 39918.0], [41.894745, -87.756895, 7918.0], [41.85353363213, -87.7050730318, 9967.0], [41.750794, -87.624424, 12946.0], [42.019537, -87.669563, 10059.0], [41.75916, -87.595751, 27793.0], [41.866516, -87.706532, 12323.0], [41.756971, -87.624621, 21124.0], [41.792822, -87.664429, 12994.0], [41.77372095205, -87.60563486, 149706.0], [42.025784, -87.684107, 37692.0], [41.947326, -87.717582, 23482.0], [41.949923, -87.713949, 31484.0], [41.79342945658, -87.6158532619, 22731.0], [41.746559, -87.586005, 13195.0], [41.79293, -87.64499, 24082.0], [41.77938114228, -87.6446208145, 6312.0], [41.885409, -87.726491, 78027.0], [41.85378, -87.64665, 39342.0], [41.854063503874464, -87.71511733531952, 16413.0], [41.975672, -87.709261, 13632.0], [41.865054, -87.656959, 38610.0], [41.87501, -87.67328, 46016.0], [41.780081, -87.615943, 39750.0], [41.819102, -87.643278, 23826.0], [41.75094, -87.61379, 31184.0], [41.77537816666667, -87.654345, 45496.0], [41.74310916666667, -87.61481683333334, 46134.0], [41.823638333333335, -87.65093566666667, 19865.0], [41.736646, -87.622634, 13104.0], [41.765508, -87.616918, 40613.0], [41.880121, -87.763238, 12113.0], [42.064854, -87.715297, 28763.0], [42.05711033333333, -87.6865505, 41374.0], [42.00454962194, -87.6806661451, 19765.0], [41.880708, -87.741018, 21272.0], [41.877917, -87.735737, 11008.0], [41.774074, -87.663815, 46710.0], [41.823465, -87.665577, 35456.0], [41.948818, -87.74002, 13595.0], [41.838464, -87.635406, 40779.0], [41.78007963264, -87.6297463052, 37411.0], [41.75797, -87.63121, 19352.0], [41.80931770924, -87.633449288, 17151.0], [41.753174, -87.605026, 36003.0], [41.82879201994, -87.6806044594, 20720.0], [41.751173, -87.585337, 90437.0], [41.783189, -87.654372, 97219.0], [41.844567, -87.71591, 19029.0], [41.744615, -87.551208, 67009.0], [42.019276, -87.68452, 29652.0], [41.965875, -87.700825, 73298.0], [42.016977, -87.677725, 13046.0], [41.75182, -87.565211, 18508.0], [41.751731, -87.552812, 11564.0], [41.953393, -87.732002, 15718.0], [41.83920868403, -87.6656098589, 71530.0], [41.794982, -87.633124, 98839.0], [41.778881, -87.586647, 13960.0], [41.96590013976, -87.6936384935, 18611.0], [41.939398, -87.711561, 43987.0], [41.769062, -87.644614, 470.0], [42.012701, -87.666058, 22338.0], [41.88995451607409, -87.68065094947815, 17679.0], [41.946264, -87.731023, 22360.0], [41.844475, -87.702013, 28858.0], [41.805661, -87.683392, 44259.0], [41.84911, -87.69514, 2375.0], [41.768938, -87.652934, 403.0], [42.048308, -87.698224, 4660.0], [41.884069, -87.656853, 21768.0], [41.830687833333336, -87.64711133333333, 27268.0], [41.80887, -87.66454, 15876.0], [41.854109, -87.685838, 12915.0], [41.886841, -87.745261, 48708.0], [41.880207, -87.755337, 27832.0], [41.88445395657, -87.6962981368, 29447.0], [41.885502, -87.716866, 30802.0], [41.848191, -87.705414, 27266.0], [41.744123, -87.599034, 25494.0], [41.823015, -87.626568, 17177.0], [41.794853, -87.618691, 37472.0], [41.83069611252, -87.6559759116, 27257.0], [42.018901, -87.690048, 10784.0], [41.94524356848, -87.7066499009, 8521.0], [41.773458, -87.58534, 6730.0], [41.991178, -87.683593, 2922.0], [41.875806, -87.755285, 17934.0], [41.84411216666667, -87.6953665, 3598.0], [41.847199833333335, -87.64683233333334, 23930.0], [41.867324, -87.648625, 19209.0], [41.86193, -87.69345, 27397.0], [41.809835, -87.599383, 18876.0], [41.83452988563, -87.6318229814, 12957.0], [41.78059901484, -87.606112388, 15563.0], [41.96835449363, -87.7118306675, 13433.0], [41.96108, -87.73569, 3233.0], [41.89491383333333, -87.774308, 65604.0], [41.788746, -87.601334, 26267.0], [41.88460328501, -87.7063037436, 2941.0], [41.90965687563, -87.7166319516, 2065.0], [41.885928, -87.73541, 8797.0], [41.872993, -87.764499, 12217.0], [41.830777, -87.632504, 34748.0], [42.001785, -87.688829, 39527.0], [41.92459, -87.72785, 30897.0], [41.92019556200566, -87.69265919923781, 23909.0], [41.849527, -87.640591, 25282.0], [41.827059, -87.64572, 27842.0], [41.744531, -87.56506, 8309.0], [41.96152593287, -87.6911650414, 4418.0], [41.88085, -87.727907, 13390.0], [41.874325, -87.725704, 5989.0], [41.89122, -87.67686, 15089.0], [41.751294, -87.597552, 15299.0], [41.89046879243862, -87.70260751247406, 19426.0], [41.901315, -87.677409, 11300.0], [41.851375, -87.618835, 22665.0], [41.99023602867, -87.6933696402, 25368.0], [41.83010465416, -87.6702983089, 20242.0], [41.885951, -87.677009, 6407.0], [41.743441, -87.604836, 8772.0], [41.796642, -87.625923, 27656.0], [41.831379, -87.618034, 7030.0], [41.99925182186, -87.6713773393, 7156.0], [41.89546530305, -87.7061278837, 29838.0], [41.852619, -87.626488, 14919.0], [41.86650148316, -87.68469707, 10335.0], [42.01256011541, -87.6743671152, 486.0], [41.80839, -87.656526, 18139.0], [41.96668636205, -87.7080519806, 6340.0], [41.99051755556753, -87.66983360052109, 5144.0], [42.0085943972, -87.6904922389, 3817.0], [41.95216219326, -87.698051113, 25972.0], [42.00445062934, -87.6724024047, 25179.0], [41.77981333333334, -87.63484083333333, 58416.0], [41.894958, -87.764902, 16481.0], [41.842733, -87.635491, 52685.0], [41.920771, -87.663712, 67940.0], [41.874255, -87.639573, 5497.0], [41.87474885079, -87.6864452757, 2014.0], [41.8246, -87.61678, 16276.0], [41.960631, -87.745359, 38717.0], [41.954468, -87.749594, 30417.0], [41.877613, -87.745405, 12490.0], [41.75787144829, -87.54938625, 5387.0], [41.875679, -87.71547, 5083.0], [41.868563, -87.686234, 16573.0], [41.961041, -87.705866, 15066.0], [41.860384, -87.625813, 13312.0], [41.816499, -87.606582, 27268.0], [41.91044, -87.6972, 104516.0], [41.982264, -87.70886, 1377.0], [41.961544833333335, -87.6665555, 24003.0], [41.961507, -87.671387, 63261.0], [41.795264, -87.596471, 27555.0], [41.813996, -87.666589, 22627.0], [41.787539, -87.644874, 34062.0], [41.84163253965, -87.6574349533, 49075.0], [41.93533728263, -87.7168892935, 784.0], [41.794228, -87.655073, 738.0], [41.899181, -87.6722, 4606.0], [41.857499, -87.646277, 2602.0], [41.766493, -87.586461, 2624.0], [41.93258963429789, -87.66593635082245, 7142.0], [41.79430062054, -87.6014497734, 3745.0], [41.946655, -87.683359, 4167.0], [42.015963, -87.675005, 2720.0], [42.015962, -87.66857, 2238.0], [41.836208, -87.613533, 39018.0], [41.902997, -87.683825, 46552.0], [41.809855, -87.606755, 40737.0], [41.939408, -87.723574, 10225.0], [41.87464, -87.65703, 9293.0], [41.967094, -87.679028, 4149.0], [41.88169, -87.63953, 4425.0], [42.012342, -87.688243, 12200.0], [41.91468, -87.64332, 4399.0], [41.880317, -87.635185, 17986.0], [41.76663823695, -87.5764501141, 28615.0], [41.895501, -87.682017, 6270.0], [41.99416136902, -87.689438282, 15943.0], [41.80229465088, -87.6180535802, 14859.0], [41.948797, -87.675278, 21679.0], [41.9466358306, -87.694614758, 15088.0], [41.858166, -87.656495, 22360.0], [41.855136, -87.654127, 4996.0], [41.962957333333335, -87.68463866666667, 26655.0], [41.76218896038, -87.55927465, 17649.0], [41.91751339399, -87.7018089555, 15477.0], [41.880281, -87.774453, 24253.0], [41.979762, -87.67753, 17374.0], [41.93058537138, -87.7237773635, 8705.0], [41.87943409140013, -87.63550400733948, 7698.0], [41.93949, -87.66378, 15066.0], [41.87146651779, -87.6409491327, 7684.0], [41.877245, -87.639366, 11024.0], [41.880422, -87.642746, 24699.0], [41.77351755125, -87.5771428255, 26825.0], [41.906866, -87.626217, 10778.0], [41.93190196886, -87.7011951301, 9199.0], [41.87772613, -87.65478743, 9230.0], [41.75865, -87.58691, 10726.0], [41.983691, -87.6964175, 5392.0], [41.873327, -87.66898883333333, 14842.0], [42.039742, -87.699413, 7799.0], [41.9840446107, -87.6602738295, 26833.0], [41.805772, -87.592464, 7685.0], [41.780595, -87.584846, 7014.0], [41.907221, -87.655618, 2933.0], [41.917805, -87.682437, 8465.0], [41.967968, -87.650001, 18880.0], [41.84847, -87.685109, 41472.0], [41.853804, -87.695742, 16115.0], [41.78101637196, -87.5761197602, 8468.0], [41.870257, -87.639474, 8557.0], [41.97563272521, -87.7014194389, 6903.0], [42.01213227742, -87.6829126443, 18968.0], [41.89993001, -87.63443007, 9586.0], [41.895966, -87.667747, 1575.0], [41.903266, -87.678435, 3848.0], [42.01058656284, -87.6624120948, 23659.0], [41.88592, -87.66717, 1626.0], [41.861267, -87.656625, 4054.0], [42.00104377979, -87.6611982433, 76931.0], [41.97491129677, -87.6925025594, 269.0], [41.884576228, -87.63188991, 1567.0], [41.887919, -87.774446, 6151.0], [41.874053, -87.627716, 18819.0], [42.007972, -87.665502, 4009.0], [41.88283, -87.661206, 4371.0], [41.954245, -87.654406, 6529.0], [41.956004, -87.680161, 9117.0], [41.838198, -87.645143, 2372.0], [41.95078, -87.659172, 2334.0], [41.803038, -87.606615, 3647.0], [41.924632, -87.689307, 1283.0], [41.850084, -87.632141, 13869.0], [41.809851, -87.616279, 48995.0], [41.954005, -87.719128, 30686.0], [41.8349, -87.61793, 7834.0], [41.980394, -87.716115, 21976.0], [41.929465, -87.684158, 63857.0], [41.891795, -87.658751, 14885.0], [41.968885, -87.684001, 45372.0], [42.032562, -87.679101, 7670.0], [42.023463, -87.699595, 29307.0], [41.92883, -87.668507, 5254.0], [41.96110801623, -87.7289701012, 15439.0], [41.917741, -87.691392, 11095.0], [41.7804056457, -87.5914159893, 10858.0], [42.050491, -87.677821, 22359.0], [41.91402671273, -87.705126462, 5084.0], [42.0208872805206, -87.66505792737007, 8620.0], [41.857556, -87.661535, 21866.0], [41.800908, -87.674684, 36606.0], [41.8671177825, -87.6410879593, 25942.0], [41.83877816666666, -87.621875, 17358.0], [41.96115407569, -87.7165690733, 24786.0], [41.872596, -87.633502, 22037.0], [41.884114, -87.654264, 8909.0], [41.90021949323, -87.6429854676, 8860.0], [41.773643, -87.567514, 17470.0], [41.928773, -87.663913, 7303.0], [41.904613, -87.640552, 7468.0], [41.921525, -87.707322, 8611.0], [41.928887, -87.658971, 4805.0], [41.8793563587, -87.6297910363, 15223.0], [41.88137, -87.67493, 29734.0], [41.890762, -87.631697, 5876.0], [41.954341, -87.68608, 5372.0], [41.966495, -87.688419, 4917.0], [41.957879, -87.649519, 11666.0], [41.88634906269, -87.6175165471, 10906.0], [41.892048, -87.689397, 8512.0], [41.9170905, -87.71022316666667, 26384.0], [41.907781666666665, -87.68587933333333, 25394.0], [41.843548166666665, -87.6454545, 16931.0], [41.935733, -87.663576, 7356.0], [41.9364968219, -87.6475386582, 22484.0], [41.957921, -87.673567, 15451.0], [41.97561480459, -87.6794590387, 10821.0], [41.78509714636, -87.6010727606, 24629.0], [41.9406, -87.6785, 11432.0], [41.939354, -87.683282, 24653.0], [41.75712006802, -87.5758393587, 4927.0], [41.85418424947, -87.6191537415, 31951.0], [41.89257, -87.614492, 19216.0], [41.88949181977, -87.6882193648, 13064.0], [41.91849115368695, -87.69742280244827, 27218.0], [41.891072, -87.666611, 2010.0], [41.96909, -87.674237, 1862.0], [41.865248, -87.646972, 19284.0], [41.94334, -87.67097, 16079.0], [41.920082, -87.677855, 6827.0], [41.877618, -87.673895, 31454.0], [41.912919, -87.664169, 32171.0], [41.92409085038, -87.6764600747, 17694.0], [41.896362458, -87.6540612729, 10720.0], [41.93588, -87.67842, 29774.0], [41.936083, -87.669807, 10896.0], [41.924398819, -87.7154410355, 15401.0], [41.89936843921, -87.6484798752, 9223.0], [41.950687, -87.6687, 1857.0], [41.973815, -87.65966, 18920.0], [41.91552, -87.687022, 11551.0], [41.879255, -87.639904, 1706.0], [41.870816, -87.631246, 720.0], [41.814093, -87.597005, 846.0], [41.89637337, -87.66098386, 3035.0], [41.895634, -87.672069, 1393.0], [41.865234, -87.666507, 418.0], [41.880419, -87.655519, 18726.0], [41.826712, -87.683144, 120.0], [41.953733, -87.740569, 8.0], [41.99478, -87.660285, 17074.0], [41.779374, -87.664843, 3440.0], [41.898418, -87.686596, 2502.0], [41.943034, -87.687288, 1565.0], [41.909769, -87.70528, 1120.0], [41.799336, -87.600958, 795.0], [41.87811603010527, -87.63983845710754, 8196.0], [41.915983, -87.677335, 1541.0], [41.885837, -87.6355, 12334.0], [41.949399, -87.654529, 1117.0], [41.969517, -87.654691, 10504.0], [41.830629, -87.64129, 1713.0], [41.85491457576575, -87.66355991363525, 1529.0], [42.004583, -87.661406, 3365.0], [41.93842879148, -87.698007756, 3627.0], [41.946176, -87.673308, 11132.0], [41.931931, -87.677856, 57.0], [41.939743, -87.658865, 901.0], [41.8378, -87.65114, 138.0], [41.91461, -87.667968, 322.0], [41.78602, -87.674167, 245.0], [41.894666, -87.638437, 154.0], [41.939365, -87.668385, 241.0], [41.89766, -87.62351, 69.0], [41.912616, -87.681391, 8484.0], [41.766409, -87.565688, 246.0], [41.871737, -87.65103, 238.0], [41.883073, -87.656952, 315.0], [41.907626, -87.638566, 626.0], [41.883132, -87.637321, 90.0], [41.872773, -87.623981, 1999.0], [41.89102331025185, -87.63547986745834, 3989.0], [41.902893, -87.687275, 3100.0], [41.914166, -87.716755, 3309.0], [41.885637, -87.641823, 4961.0], [41.799568, -87.594747, 425.0], [41.822985, -87.6071, 693.0], [41.89691, -87.621743, 122.0], [41.932225, -87.658617, 1380.0], [41.910535, -87.689556, 510.0], [41.888243, -87.63639, 588.0], [41.979851, -87.681932, 2570.0], [41.887664, -87.765469, 15641.0], [42.041691, -87.680687, 1356.0], [41.877945, -87.662007, 1585.0], [41.758768, -87.56644, 11524.0], [41.758361, -87.614138, 8666.0], [41.882134, -87.625125, 8389.0], [41.961068, -87.695439, 17379.0], [41.899643, -87.6677, 394.0], [41.891578, -87.648384, 1116.0], [41.910509, -87.682389, 23708.0], [41.886976, -87.612813, 7184.0], [41.791728, -87.583945, 6265.0], [41.87785, -87.62408, 14416.0], [41.885483, -87.652305, 854.0], [41.877708, -87.635321, 962.0], [41.877642, -87.649618, 293.0], [41.886616, -87.65804, 263.0], [41.88132, -87.629521, 373.0], [41.940106, -87.645451, 6311.0], [41.922167, -87.638888, 334.0], [41.882664, -87.63253, 3112.0], [41.883165, -87.6511, 439.0], [41.902707, -87.70922, 748.0], [41.88473, -87.627734, 2270.0], [41.857813, -87.62455, 454.0], [41.793242, -87.587782, 819.0], [41.791478, -87.599861, 149.0], [41.856268, -87.613348, 222.0], [41.78794281287, -87.5883151702, 1808.0], [42.058239, -87.677432, 391.0], [41.816659, -87.619412, 458.0], [41.877181, -87.627844, 310.0], [41.784142, -87.613308, 493.0], [41.834734, -87.625813, 6179.0], [41.853085, -87.631931, 1856.0], [42.019159, -87.673573, 2892.0], [41.82168, -87.6216, 1511.0], [41.831274, -87.608799, 7802.0], [41.932418, -87.652705, 1569.0], [41.953586, -87.709311, 2819.0], [41.808134, -87.645617, 9070.0], [41.838556, -87.608218, 699.0], [41.893992, -87.629318, 1120.0], [41.868968, -87.659141, 4952.0], [41.889177, -87.638506, 9276.0], [41.895765, -87.625908, 19608.0], [42.063598, -87.69873, 8605.0], [41.894877, -87.632326, 8869.0], [41.8492, -87.67564, 3762.0], [41.90230870122, -87.627690528, 14595.0], [41.79949429373, -87.5864498959, 7273.0], [41.890359, -87.617532, 10475.0], [41.882242, -87.641066, 1688.0], [41.931248, -87.644336, 2598.0], [41.9256018819, -87.6537080423, 1097.0], [41.92556258, -87.65840426, 1423.0], [41.862378, -87.651062, 1938.0], [41.965221, -87.658139, 3042.0], [41.87934437346, -87.6319852213, 3251.0], [41.919936, -87.64883, 2578.0], [41.866624, -87.694521, 3687.0], [41.87359967462, -87.7048707493, 2575.0], [41.922695, -87.697153, 2378.0], [41.8839840647265, -87.6246839761734, 3830.0], [41.870769, -87.625734, 2171.0], [41.894556, -87.653449, 2151.0], [41.87184, -87.64664, 3663.0], [41.866095, -87.607267, 5056.0], [41.8797877089, -87.686112808, 3446.0], [41.907993, -87.631501, 2111.0], [41.957081, -87.664199, 2011.0], [41.89675, -87.63089, 3874.0], [41.910337, -87.670072, 2390.0], [41.898203, -87.637536, 1310.0], [41.795212, -87.580715, 3074.0], [41.874754, -87.649807, 3885.0], [41.9716, -87.650154, 5002.0], [41.952833, -87.649993, 3505.0], [41.925858, -87.638973, 5269.0], [41.96325, -87.679258, 1250.0], [41.928712, -87.653833, 1217.0], [41.87651122881695, -87.62054800987242, 2371.0], [41.92533, -87.6658, 3236.0], [41.916017, -87.668879, 4085.0], [41.906724, -87.63483, 3968.0], [41.891466, -87.626761, 2958.0], [41.898969, -87.629912, 4645.0], [41.921822, -87.64414, 5138.0], [41.92669, -87.697668, 4797.0], [41.8750236280333, -87.6330940425396, 5223.0], [41.92154, -87.653818, 6082.0], [41.889187, -87.627754, 7188.0], [41.9093960065, -87.6776919292, 7763.0], [41.85795, -87.640826, 2146.0], [41.802562, -87.590368, 2971.0], [41.943739, -87.66402, 1863.0], [41.878166, -87.631929, 7584.0], [41.94018, -87.65304, 1066.0], [41.903029, -87.697474, 5071.0], [41.878287, -87.643909, 1354.0], [41.856802, -87.633879, 1482.0], [41.895748, -87.620104, 483.0], [41.913688, -87.652855, 3456.0], [41.886875, -87.62603, 1035.0], [41.97334, -87.66778, 3981.0], [41.98403669612, -87.6523104689, 314.0], [41.945529, -87.646439, 2099.0], [41.87207763285, -87.6295437729, 870.0], [41.88602082773, -87.6308760584, 1470.0], [41.867491, -87.63219, 242.0], [41.911386, -87.638677, 183.0], [41.956057, -87.668835, 140.0], [41.93758231600629, -87.6440978050232, 214.0], [41.889906, -87.634266, 872.0], [41.9779966544, -87.6680471047, 203.0], [41.894722, -87.634362, 274.0], [41.913865, -87.648755, 253.0], [41.79156801058, -87.6078521774, 37.0], [41.823192, -87.676597, 97.0], [41.90345, -87.667747, 52.0], [41.94367, -87.64895, 122.0], [41.911974, -87.631942, 269.0], [41.954177, -87.664358, 163.0], [41.881892, -87.648789, 254.0], [41.983593, -87.669154, 104.0], [41.907066, -87.667252, 320.0], [41.880958, -87.616743, 216.0], [41.929546, -87.643118, 336.0], [41.857901, -87.668745, 771.0], [41.91021, -87.6435, 240.0], [41.902924, -87.637715, 194.0], [41.95469, -87.67393, 363.0], [41.903119, -87.673935, 501.0], [41.876268, -87.629155, 1163.0], [41.884728, -87.619521, 179.0], [41.918306, -87.636282, 124.0], [41.869154, -87.671045, 204.0], [41.909668, -87.648128, 84.0], [41.903222, -87.634324, 42.0], [41.936266, -87.652662, 223.0], [41.943403, -87.679618, 545.0], [41.897764, -87.642884, 74.0], [41.896746973093805, -87.63566762208939, 77.0], [41.925905, -87.64926, 17.0], [41.9105780349, -87.6494219288, 180.0], [41.918216, -87.656936, 26.0], [41.929143, -87.649077, 104.0], [41.93132, -87.638742, 125.0], [41.915689, -87.6346, 60.0], [41.968987, -87.696027, 47.0], [41.88338, -87.64117, 86.0], [41.890173, -87.626185, 127.0], [41.8985866514, -87.6219152258, 282.0], [41.884241, -87.629634, 99.0], [41.929567, -87.707857, 409.0], [41.871514, -87.669886, 125.0], [41.912133, -87.634656, 120.0], [42.048214, -87.683485, 252.0], [41.841707, -87.626938, 55.0], [41.918084, -87.643749, 99.0], [41.91844, -87.65222, 130.0], [41.93314, -87.64776, 97.0], [41.900363, -87.696704, 109.0], [41.876243, -87.624426, 165.0], [41.9366884494997, -87.63682901859283, 128.0], [41.8759326655, -87.6305845355, 111.0], [42.064313, -87.686152, 211.0], [41.89380805624359, -87.64169722795485, 330.0], [41.889899, -87.671473, 63.0], [41.890028, -87.636618, 70.0], [41.897448, -87.628722, 1119.0], [41.949074, -87.648636, 1082.0], [41.965845, -87.645361, 1376.0], [41.978353, -87.659753, 1198.0], [41.989743, -87.660141, 66.0], [41.968812, -87.657659, 428.0], [42.009074, -87.67419, 253.0], [41.871262, -87.673688, 10536.0], [41.90068, -87.6626, 5878.0], [41.894448, -87.622663, 1882.0], [41.864059, -87.623727, 1026.0], [41.902973, -87.63128, 1868.0], [41.890573, -87.622072, 3088.0], [41.94815, -87.66394, 2061.0], [41.958494, -87.654966, 4018.0], [41.888716036, -87.6444478533, 6071.0], [41.882091, -87.639833, 4910.0], [41.940775, -87.639192, 1655.0], [41.932588, -87.636427, 16285.0], [41.967096, -87.667429, 20901.0], [41.831036, -87.626798, 8327.0], [41.865312, -87.617867, 28336.0], [41.895769, -87.67722, 12974.0], [42.052939, -87.673447, 3675.0], [41.857611, -87.619407, 12366.0], [41.886835, -87.62232, 19731.0], [41.845687, -87.622481, 6573.0], [41.961004, -87.649603, 797.0], [41.910522, -87.653106, 2918.0], [41.923931, -87.635825, 17916.0], [41.949473, -87.646453, 13962.0], [41.907655, -87.672552, 17228.0], [41.867888, -87.623041, 10210.0], [41.96167, -87.65464, 42308.0], [41.856594, -87.627542, 11947.0], [41.954383, -87.648043, 1294.0], [41.809443, -87.591875, 4226.0], [41.926756, -87.634429, 188.0], [41.858086, -87.651073, 2194.0], [41.903486, -87.643353, 5381.0], [41.842052, -87.617, 1131.0], [41.926277, -87.630834, 167.0], [41.881032, -87.624084, 20.0], [41.961406, -87.676169, 35.0], [41.911722, -87.626804, 89.0], [41.802406, -87.586924, 92.0], [41.875885, -87.640795, 27.0], [41.855048, -87.675726, 38.0], [41.872187, -87.661501, 443.0], [41.886024, -87.624117, 8679.0], [41.867227, -87.625961, 3183.0], [41.891847, -87.62058, 3945.0], [41.892278, -87.612043, 10396.0], [41.879472, -87.625689, 5247.0], [41.90096, -87.623777, 7473.0], [41.867226, -87.615355, 3677.0], [41.963982, -87.638181, 917.0], [41.884616, -87.644571, 796.0], [41.894503, -87.617854, 1647.0], [41.869482, -87.655486, 3334.0], [41.883668, -87.64867, 23.0], [41.94454, -87.654678, 1125.0]],\n",
       "                {&quot;blur&quot;: 15, &quot;gradient&quot;: {&quot;0&quot;: &quot;navy&quot;, &quot;0.25&quot;: &quot;blue&quot;, &quot;0.5&quot;: &quot;lime&quot;, &quot;0.75&quot;: &quot;orange&quot;, &quot;1&quot;: &quot;red&quot;}, &quot;maxZoom&quot;: 13, &quot;minOpacity&quot;: 0.5, &quot;radius&quot;: 8}\n",
       "            ).addTo(map_df80807ea1b2acb740f8b3d7362fe64c);\n",
       "        \n",
       "    \n",
       "            var heat_map_c26da149c81f3e399c499a43cbaff2b7 = L.heatLayer(\n",
       "                [[41.765286, -87.621748, 2.0], [41.81620767856, -87.6348193497, 20313.0], [41.786833, -87.666215, 48616.0], [41.766, -87.611726, 21700.0], [41.786691, -87.655859, 15380.0], [41.77987, -87.650919, 31449.0], [41.768898, -87.635876, 20480.0], [41.747363, -87.580046, 1054.0], [41.768726, -87.664069, 441.0], [41.743921, -87.575225, 1713.0], [41.794087, -87.675478, 31510.0], [41.803023, -87.664699, 8468.0], [41.76571903697, -87.604959713, 9797.0], [41.887832, -87.755527, 13795.0], [41.80183164049, -87.645213904, 16377.0], [41.76929308995, -87.6281959291, 31127.0], [41.751785, -87.578496, 10772.0], [41.84151770807, -87.6851314409, 24193.0], [41.8481, -87.715068, 24445.0], [41.75849, -87.60641, 14981.0], [41.799659, -87.657195, 9255.0], [41.808227, -87.67718, 41624.0], [41.872131, -87.746619, 21681.0], [41.743316, -87.622849, 39918.0], [41.894745, -87.756895, 7918.0], [41.85353363213, -87.7050730318, 9967.0], [41.750794, -87.624424, 12946.0], [42.019537, -87.669563, 10059.0], [41.75916, -87.595751, 27793.0], [41.866516, -87.706532, 12323.0], [41.756971, -87.624621, 21124.0], [41.792822, -87.664429, 12994.0], [41.77372095205, -87.60563486, 149706.0], [42.025784, -87.684107, 37692.0], [41.947326, -87.717582, 23482.0], [41.949923, -87.713949, 31484.0], [41.79342945658, -87.6158532619, 22731.0], [41.746559, -87.586005, 13195.0], [41.79293, -87.64499, 24082.0], [41.77938114228, -87.6446208145, 6312.0], [41.885409, -87.726491, 78027.0], [41.85378, -87.64665, 39342.0], [41.854063503874464, -87.71511733531952, 16413.0], [41.975672, -87.709261, 13632.0], [41.865054, -87.656959, 38610.0], [41.87501, -87.67328, 46016.0], [41.780081, -87.615943, 39750.0], [41.819102, -87.643278, 23826.0], [41.75094, -87.61379, 31184.0], [41.77537816666667, -87.654345, 45496.0], [41.74310916666667, -87.61481683333334, 46134.0], [41.823638333333335, -87.65093566666667, 19865.0], [41.736646, -87.622634, 13104.0], [41.765508, -87.616918, 40613.0], [41.880121, -87.763238, 12113.0], [42.064854, -87.715297, 28763.0], [42.05711033333333, -87.6865505, 41374.0], [42.00454962194, -87.6806661451, 19765.0], [41.880708, -87.741018, 21272.0], [41.877917, -87.735737, 11008.0], [41.774074, -87.663815, 46710.0], [41.823465, -87.665577, 35456.0], [41.948818, -87.74002, 13595.0], [41.838464, -87.635406, 40779.0], [41.78007963264, -87.6297463052, 37411.0], [41.75797, -87.63121, 19352.0], [41.80931770924, -87.633449288, 17151.0], [41.753174, -87.605026, 36003.0], [41.82879201994, -87.6806044594, 20720.0], [41.751173, -87.585337, 90437.0], [41.783189, -87.654372, 97219.0], [41.844567, -87.71591, 19029.0], [41.744615, -87.551208, 67009.0], [42.019276, -87.68452, 29652.0], [41.965875, -87.700825, 73298.0], [42.016977, -87.677725, 13046.0], [41.75182, -87.565211, 18508.0], [41.751731, -87.552812, 11564.0], [41.953393, -87.732002, 15718.0], [41.83920868403, -87.6656098589, 71530.0], [41.794982, -87.633124, 98839.0], [41.778881, -87.586647, 13960.0], [41.96590013976, -87.6936384935, 18611.0], [41.939398, -87.711561, 43987.0], [41.769062, -87.644614, 470.0], [42.012701, -87.666058, 22338.0], [41.88995451607409, -87.68065094947815, 17679.0], [41.946264, -87.731023, 22360.0], [41.844475, -87.702013, 28858.0], [41.805661, -87.683392, 44259.0], [41.84911, -87.69514, 2375.0], [41.768938, -87.652934, 403.0], [42.048308, -87.698224, 4660.0], [41.884069, -87.656853, 21768.0], [41.830687833333336, -87.64711133333333, 27268.0], [41.80887, -87.66454, 15876.0], [41.854109, -87.685838, 12915.0], [41.886841, -87.745261, 48708.0], [41.880207, -87.755337, 27832.0], [41.88445395657, -87.6962981368, 29447.0], [41.885502, -87.716866, 30802.0], [41.848191, -87.705414, 27266.0], [41.744123, -87.599034, 25494.0], [41.823015, -87.626568, 17177.0], [41.794853, -87.618691, 37472.0], [41.83069611252, -87.6559759116, 27257.0], [42.018901, -87.690048, 10784.0], [41.94524356848, -87.7066499009, 8521.0], [41.773458, -87.58534, 6730.0], [41.991178, -87.683593, 2922.0], [41.875806, -87.755285, 17934.0], [41.84411216666667, -87.6953665, 3598.0], [41.847199833333335, -87.64683233333334, 23930.0], [41.867324, -87.648625, 19209.0], [41.86193, -87.69345, 27397.0], [41.809835, -87.599383, 18876.0], [41.83452988563, -87.6318229814, 12957.0], [41.78059901484, -87.606112388, 15563.0], [41.96835449363, -87.7118306675, 13433.0], [41.96108, -87.73569, 3233.0], [41.89491383333333, -87.774308, 65604.0], [41.788746, -87.601334, 26267.0], [41.88460328501, -87.7063037436, 2941.0], [41.90965687563, -87.7166319516, 2065.0], [41.885928, -87.73541, 8797.0], [41.872993, -87.764499, 12217.0], [41.830777, -87.632504, 34748.0], [42.001785, -87.688829, 39527.0], [41.92459, -87.72785, 30897.0], [41.92019556200566, -87.69265919923781, 23909.0], [41.849527, -87.640591, 25282.0], [41.827059, -87.64572, 27842.0], [41.744531, -87.56506, 8309.0], [41.96152593287, -87.6911650414, 4418.0], [41.88085, -87.727907, 13390.0], [41.874325, -87.725704, 5989.0], [41.89122, -87.67686, 15089.0], [41.751294, -87.597552, 15299.0], [41.89046879243862, -87.70260751247406, 19426.0], [41.901315, -87.677409, 11300.0], [41.851375, -87.618835, 22665.0], [41.99023602867, -87.6933696402, 25368.0], [41.83010465416, -87.6702983089, 20242.0], [41.885951, -87.677009, 6407.0], [41.743441, -87.604836, 8772.0], [41.796642, -87.625923, 27656.0], [41.831379, -87.618034, 7030.0], [41.99925182186, -87.6713773393, 7156.0], [41.89546530305, -87.7061278837, 29838.0], [41.852619, -87.626488, 14919.0], [41.86650148316, -87.68469707, 10335.0], [42.01256011541, -87.6743671152, 486.0], [41.80839, -87.656526, 18139.0], [41.96668636205, -87.7080519806, 6340.0], [41.99051755556753, -87.66983360052109, 5144.0], [42.0085943972, -87.6904922389, 3817.0], [41.95216219326, -87.698051113, 25972.0], [42.00445062934, -87.6724024047, 25179.0], [41.77981333333334, -87.63484083333333, 58416.0], [41.894958, -87.764902, 16481.0], [41.842733, -87.635491, 52685.0], [41.920771, -87.663712, 67940.0], [41.874255, -87.639573, 5497.0], [41.87474885079, -87.6864452757, 2014.0], [41.8246, -87.61678, 16276.0], [41.960631, -87.745359, 38717.0], [41.954468, -87.749594, 30417.0], [41.877613, -87.745405, 12490.0], [41.75787144829, -87.54938625, 5387.0], [41.875679, -87.71547, 5083.0], [41.868563, -87.686234, 16573.0], [41.961041, -87.705866, 15066.0], [41.860384, -87.625813, 13312.0], [41.816499, -87.606582, 27268.0], [41.91044, -87.6972, 104516.0], [41.982264, -87.70886, 1377.0], [41.961544833333335, -87.6665555, 24003.0], [41.961507, -87.671387, 63261.0], [41.795264, -87.596471, 27555.0], [41.813996, -87.666589, 22627.0], [41.787539, -87.644874, 34062.0], [41.84163253965, -87.6574349533, 49075.0], [41.93533728263, -87.7168892935, 784.0], [41.794228, -87.655073, 738.0], [41.899181, -87.6722, 4606.0], [41.857499, -87.646277, 2602.0], [41.766493, -87.586461, 2624.0], [41.93258963429789, -87.66593635082245, 7142.0], [41.79430062054, -87.6014497734, 3745.0], [41.946655, -87.683359, 4167.0], [42.015963, -87.675005, 2720.0], [42.015962, -87.66857, 2238.0], [41.836208, -87.613533, 39018.0], [41.902997, -87.683825, 46552.0], [41.809855, -87.606755, 40737.0], [41.939408, -87.723574, 10225.0], [41.87464, -87.65703, 9293.0], [41.967094, -87.679028, 4149.0], [41.88169, -87.63953, 4425.0], [42.012342, -87.688243, 12200.0], [41.91468, -87.64332, 4399.0], [41.880317, -87.635185, 17986.0], [41.76663823695, -87.5764501141, 28615.0], [41.895501, -87.682017, 6270.0], [41.99416136902, -87.689438282, 15943.0], [41.80229465088, -87.6180535802, 14859.0], [41.948797, -87.675278, 21679.0], [41.9466358306, -87.694614758, 15088.0], [41.858166, -87.656495, 22360.0], [41.855136, -87.654127, 4996.0], [41.962957333333335, -87.68463866666667, 26655.0], [41.76218896038, -87.55927465, 17649.0], [41.91751339399, -87.7018089555, 15477.0], [41.880281, -87.774453, 24253.0], [41.979762, -87.67753, 17374.0], [41.93058537138, -87.7237773635, 8705.0], [41.87943409140013, -87.63550400733948, 7698.0], [41.93949, -87.66378, 15066.0], [41.87146651779, -87.6409491327, 7684.0], [41.877245, -87.639366, 11024.0], [41.880422, -87.642746, 24699.0], [41.77351755125, -87.5771428255, 26825.0], [41.906866, -87.626217, 10778.0], [41.93190196886, -87.7011951301, 9199.0], [41.87772613, -87.65478743, 9230.0], [41.75865, -87.58691, 10726.0], [41.983691, -87.6964175, 5392.0], [41.873327, -87.66898883333333, 14842.0], [42.039742, -87.699413, 7799.0], [41.9840446107, -87.6602738295, 26833.0], [41.805772, -87.592464, 7685.0], [41.780595, -87.584846, 7014.0], [41.907221, -87.655618, 2933.0], [41.917805, -87.682437, 8465.0], [41.967968, -87.650001, 18880.0], [41.84847, -87.685109, 41472.0], [41.853804, -87.695742, 16115.0], [41.78101637196, -87.5761197602, 8468.0], [41.870257, -87.639474, 8557.0], [41.97563272521, -87.7014194389, 6903.0], [42.01213227742, -87.6829126443, 18968.0], [41.89993001, -87.63443007, 9586.0], [41.895966, -87.667747, 1575.0], [41.903266, -87.678435, 3848.0], [42.01058656284, -87.6624120948, 23659.0], [41.88592, -87.66717, 1626.0], [41.861267, -87.656625, 4054.0], [42.00104377979, -87.6611982433, 76931.0], [41.97491129677, -87.6925025594, 269.0], [41.884576228, -87.63188991, 1567.0], [41.887919, -87.774446, 6151.0], [41.874053, -87.627716, 18819.0], [42.007972, -87.665502, 4009.0], [41.88283, -87.661206, 4371.0], [41.954245, -87.654406, 6529.0], [41.956004, -87.680161, 9117.0], [41.838198, -87.645143, 2372.0], [41.95078, -87.659172, 2334.0], [41.803038, -87.606615, 3647.0], [41.924632, -87.689307, 1283.0], [41.850084, -87.632141, 13869.0], [41.809851, -87.616279, 48995.0], [41.954005, -87.719128, 30686.0], [41.8349, -87.61793, 7834.0], [41.980394, -87.716115, 21976.0], [41.929465, -87.684158, 63857.0], [41.891795, -87.658751, 14885.0], [41.968885, -87.684001, 45372.0], [42.032562, -87.679101, 7670.0], [42.023463, -87.699595, 29307.0], [41.92883, -87.668507, 5254.0], [41.96110801623, -87.7289701012, 15439.0], [41.917741, -87.691392, 11095.0], [41.7804056457, -87.5914159893, 10858.0], [42.050491, -87.677821, 22359.0], [41.91402671273, -87.705126462, 5084.0], [42.0208872805206, -87.66505792737007, 8620.0], [41.857556, -87.661535, 21866.0], [41.800908, -87.674684, 36606.0], [41.8671177825, -87.6410879593, 25942.0], [41.83877816666666, -87.621875, 17358.0], [41.96115407569, -87.7165690733, 24786.0], [41.872596, -87.633502, 22037.0], [41.884114, -87.654264, 8909.0], [41.90021949323, -87.6429854676, 8860.0], [41.773643, -87.567514, 17470.0], [41.928773, -87.663913, 7303.0], [41.904613, -87.640552, 7468.0], [41.921525, -87.707322, 8611.0], [41.928887, -87.658971, 4805.0], [41.8793563587, -87.6297910363, 15223.0], [41.88137, -87.67493, 29734.0], [41.890762, -87.631697, 5876.0], [41.954341, -87.68608, 5372.0], [41.966495, -87.688419, 4917.0], [41.957879, -87.649519, 11666.0], [41.88634906269, -87.6175165471, 10906.0], [41.892048, -87.689397, 8512.0], [41.9170905, -87.71022316666667, 26384.0], [41.907781666666665, -87.68587933333333, 25394.0], [41.843548166666665, -87.6454545, 16931.0], [41.935733, -87.663576, 7356.0], [41.9364968219, -87.6475386582, 22484.0], [41.957921, -87.673567, 15451.0], [41.97561480459, -87.6794590387, 10821.0], [41.78509714636, -87.6010727606, 24629.0], [41.9406, -87.6785, 11432.0], [41.939354, -87.683282, 24653.0], [41.75712006802, -87.5758393587, 4927.0], [41.85418424947, -87.6191537415, 31951.0], [41.89257, -87.614492, 19216.0], [41.88949181977, -87.6882193648, 13064.0], [41.91849115368695, -87.69742280244827, 27218.0], [41.891072, -87.666611, 2010.0], [41.96909, -87.674237, 1862.0], [41.865248, -87.646972, 19284.0], [41.94334, -87.67097, 16079.0], [41.920082, -87.677855, 6827.0], [41.877618, -87.673895, 31454.0], [41.912919, -87.664169, 32171.0], [41.92409085038, -87.6764600747, 17694.0], [41.896362458, -87.6540612729, 10720.0], [41.93588, -87.67842, 29774.0], [41.936083, -87.669807, 10896.0], [41.924398819, -87.7154410355, 15401.0], [41.89936843921, -87.6484798752, 9223.0], [41.950687, -87.6687, 1857.0], [41.973815, -87.65966, 18920.0], [41.91552, -87.687022, 11551.0], [41.879255, -87.639904, 1706.0], [41.870816, -87.631246, 720.0], [41.814093, -87.597005, 846.0], [41.89637337, -87.66098386, 3035.0], [41.895634, -87.672069, 1393.0], [41.865234, -87.666507, 418.0], [41.880419, -87.655519, 18726.0], [41.826712, -87.683144, 120.0], [41.953733, -87.740569, 8.0], [41.99478, -87.660285, 17074.0], [41.779374, -87.664843, 3440.0], [41.898418, -87.686596, 2502.0], [41.943034, -87.687288, 1565.0], [41.909769, -87.70528, 1120.0], [41.799336, -87.600958, 795.0], [41.87811603010527, -87.63983845710754, 8196.0], [41.915983, -87.677335, 1541.0], [41.885837, -87.6355, 12334.0], [41.949399, -87.654529, 1117.0], [41.969517, -87.654691, 10504.0], [41.830629, -87.64129, 1713.0], [41.85491457576575, -87.66355991363525, 1529.0], [42.004583, -87.661406, 3365.0], [41.93842879148, -87.698007756, 3627.0], [41.946176, -87.673308, 11132.0], [41.931931, -87.677856, 57.0], [41.939743, -87.658865, 901.0], [41.8378, -87.65114, 138.0], [41.91461, -87.667968, 322.0], [41.78602, -87.674167, 245.0], [41.894666, -87.638437, 154.0], [41.939365, -87.668385, 241.0], [41.89766, -87.62351, 69.0], [41.912616, -87.681391, 8484.0], [41.766409, -87.565688, 246.0], [41.871737, -87.65103, 238.0], [41.883073, -87.656952, 315.0], [41.907626, -87.638566, 626.0], [41.883132, -87.637321, 90.0], [41.872773, -87.623981, 1999.0], [41.89102331025185, -87.63547986745834, 3989.0], [41.902893, -87.687275, 3100.0], [41.914166, -87.716755, 3309.0], [41.885637, -87.641823, 4961.0], [41.799568, -87.594747, 425.0], [41.822985, -87.6071, 693.0], [41.89691, -87.621743, 122.0], [41.932225, -87.658617, 1380.0], [41.910535, -87.689556, 510.0], [41.888243, -87.63639, 588.0], [41.979851, -87.681932, 2570.0], [41.887664, -87.765469, 15641.0], [42.041691, -87.680687, 1356.0], [41.877945, -87.662007, 1585.0], [41.758768, -87.56644, 11524.0], [41.758361, -87.614138, 8666.0], [41.882134, -87.625125, 8389.0], [41.961068, -87.695439, 17379.0], [41.899643, -87.6677, 394.0], [41.891578, -87.648384, 1116.0], [41.910509, -87.682389, 23708.0], [41.886976, -87.612813, 7184.0], [41.791728, -87.583945, 6265.0], [41.87785, -87.62408, 14416.0], [41.885483, -87.652305, 854.0], [41.877708, -87.635321, 962.0], [41.877642, -87.649618, 293.0], [41.886616, -87.65804, 263.0], [41.88132, -87.629521, 373.0], [41.940106, -87.645451, 6311.0], [41.922167, -87.638888, 334.0], [41.882664, -87.63253, 3112.0], [41.883165, -87.6511, 439.0], [41.902707, -87.70922, 748.0], [41.88473, -87.627734, 2270.0], [41.857813, -87.62455, 454.0], [41.793242, -87.587782, 819.0], [41.791478, -87.599861, 149.0], [41.856268, -87.613348, 222.0], [41.78794281287, -87.5883151702, 1808.0], [42.058239, -87.677432, 391.0], [41.816659, -87.619412, 458.0], [41.877181, -87.627844, 310.0], [41.784142, -87.613308, 493.0], [41.834734, -87.625813, 6179.0], [41.853085, -87.631931, 1856.0], [42.019159, -87.673573, 2892.0], [41.82168, -87.6216, 1511.0], [41.831274, -87.608799, 7802.0], [41.932418, -87.652705, 1569.0], [41.953586, -87.709311, 2819.0], [41.808134, -87.645617, 9070.0], [41.838556, -87.608218, 699.0], [41.893992, -87.629318, 1120.0], [41.868968, -87.659141, 4952.0], [41.889177, -87.638506, 9276.0], [41.895765, -87.625908, 19608.0], [42.063598, -87.69873, 8605.0], [41.894877, -87.632326, 8869.0], [41.8492, -87.67564, 3762.0], [41.90230870122, -87.627690528, 14595.0], [41.79949429373, -87.5864498959, 7273.0], [41.890359, -87.617532, 10475.0], [41.882242, -87.641066, 1688.0], [41.931248, -87.644336, 2598.0], [41.9256018819, -87.6537080423, 1097.0], [41.92556258, -87.65840426, 1423.0], [41.862378, -87.651062, 1938.0], [41.965221, -87.658139, 3042.0], [41.87934437346, -87.6319852213, 3251.0], [41.919936, -87.64883, 2578.0], [41.866624, -87.694521, 3687.0], [41.87359967462, -87.7048707493, 2575.0], [41.922695, -87.697153, 2378.0], [41.8839840647265, -87.6246839761734, 3830.0], [41.870769, -87.625734, 2171.0], [41.894556, -87.653449, 2151.0], [41.87184, -87.64664, 3663.0], [41.866095, -87.607267, 5056.0], [41.8797877089, -87.686112808, 3446.0], [41.907993, -87.631501, 2111.0], [41.957081, -87.664199, 2011.0], [41.89675, -87.63089, 3874.0], [41.910337, -87.670072, 2390.0], [41.898203, -87.637536, 1310.0], [41.795212, -87.580715, 3074.0], [41.874754, -87.649807, 3885.0], [41.9716, -87.650154, 5002.0], [41.952833, -87.649993, 3505.0], [41.925858, -87.638973, 5269.0], [41.96325, -87.679258, 1250.0], [41.928712, -87.653833, 1217.0], [41.87651122881695, -87.62054800987242, 2371.0], [41.92533, -87.6658, 3236.0], [41.916017, -87.668879, 4085.0], [41.906724, -87.63483, 3968.0], [41.891466, -87.626761, 2958.0], [41.898969, -87.629912, 4645.0], [41.921822, -87.64414, 5138.0], [41.92669, -87.697668, 4797.0], [41.8750236280333, -87.6330940425396, 5223.0], [41.92154, -87.653818, 6082.0], [41.889187, -87.627754, 7188.0], [41.9093960065, -87.6776919292, 7763.0], [41.85795, -87.640826, 2146.0], [41.802562, -87.590368, 2971.0], [41.943739, -87.66402, 1863.0], [41.878166, -87.631929, 7584.0], [41.94018, -87.65304, 1066.0], [41.903029, -87.697474, 5071.0], [41.878287, -87.643909, 1354.0], [41.856802, -87.633879, 1482.0], [41.895748, -87.620104, 483.0], [41.913688, -87.652855, 3456.0], [41.886875, -87.62603, 1035.0], [41.97334, -87.66778, 3981.0], [41.98403669612, -87.6523104689, 314.0], [41.945529, -87.646439, 2099.0], [41.87207763285, -87.6295437729, 870.0], [41.88602082773, -87.6308760584, 1470.0], [41.867491, -87.63219, 242.0], [41.911386, -87.638677, 183.0], [41.956057, -87.668835, 140.0], [41.93758231600629, -87.6440978050232, 214.0], [41.889906, -87.634266, 872.0], [41.9779966544, -87.6680471047, 203.0], [41.894722, -87.634362, 274.0], [41.913865, -87.648755, 253.0], [41.79156801058, -87.6078521774, 37.0], [41.823192, -87.676597, 97.0], [41.90345, -87.667747, 52.0], [41.94367, -87.64895, 122.0], [41.911974, -87.631942, 269.0], [41.954177, -87.664358, 163.0], [41.881892, -87.648789, 254.0], [41.983593, -87.669154, 104.0], [41.907066, -87.667252, 320.0], [41.880958, -87.616743, 216.0], [41.929546, -87.643118, 336.0], [41.857901, -87.668745, 771.0], [41.91021, -87.6435, 240.0], [41.902924, -87.637715, 194.0], [41.95469, -87.67393, 363.0], [41.903119, -87.673935, 501.0], [41.876268, -87.629155, 1163.0], [41.884728, -87.619521, 179.0], [41.918306, -87.636282, 124.0], [41.869154, -87.671045, 204.0], [41.909668, -87.648128, 84.0], [41.903222, -87.634324, 42.0], [41.936266, -87.652662, 223.0], [41.943403, -87.679618, 545.0], [41.897764, -87.642884, 74.0], [41.896746973093805, -87.63566762208939, 77.0], [41.925905, -87.64926, 17.0], [41.9105780349, -87.6494219288, 180.0], [41.918216, -87.656936, 26.0], [41.929143, -87.649077, 104.0], [41.93132, -87.638742, 125.0], [41.915689, -87.6346, 60.0], [41.968987, -87.696027, 47.0], [41.88338, -87.64117, 86.0], [41.890173, -87.626185, 127.0], [41.8985866514, -87.6219152258, 282.0], [41.884241, -87.629634, 99.0], [41.929567, -87.707857, 409.0], [41.871514, -87.669886, 125.0], [41.912133, -87.634656, 120.0], [42.048214, -87.683485, 252.0], [41.841707, -87.626938, 55.0], [41.918084, -87.643749, 99.0], [41.91844, -87.65222, 130.0], [41.93314, -87.64776, 97.0], [41.900363, -87.696704, 109.0], [41.876243, -87.624426, 165.0], [41.9366884494997, -87.63682901859283, 128.0], [41.8759326655, -87.6305845355, 111.0], [42.064313, -87.686152, 211.0], [41.89380805624359, -87.64169722795485, 330.0], [41.889899, -87.671473, 63.0], [41.890028, -87.636618, 70.0], [41.897448, -87.628722, 1119.0], [41.949074, -87.648636, 1082.0], [41.965845, -87.645361, 1376.0], [41.978353, -87.659753, 1198.0], [41.989743, -87.660141, 66.0], [41.968812, -87.657659, 428.0], [42.009074, -87.67419, 253.0], [41.871262, -87.673688, 10536.0], [41.90068, -87.6626, 5878.0], [41.894448, -87.622663, 1882.0], [41.864059, -87.623727, 1026.0], [41.902973, -87.63128, 1868.0], [41.890573, -87.622072, 3088.0], [41.94815, -87.66394, 2061.0], [41.958494, -87.654966, 4018.0], [41.888716036, -87.6444478533, 6071.0], [41.882091, -87.639833, 4910.0], [41.940775, -87.639192, 1655.0], [41.932588, -87.636427, 16285.0], [41.967096, -87.667429, 20901.0], [41.831036, -87.626798, 8327.0], [41.865312, -87.617867, 28336.0], [41.895769, -87.67722, 12974.0], [42.052939, -87.673447, 3675.0], [41.857611, -87.619407, 12366.0], [41.886835, -87.62232, 19731.0], [41.845687, -87.622481, 6573.0], [41.961004, -87.649603, 797.0], [41.910522, -87.653106, 2918.0], [41.923931, -87.635825, 17916.0], [41.949473, -87.646453, 13962.0], [41.907655, -87.672552, 17228.0], [41.867888, -87.623041, 10210.0], [41.96167, -87.65464, 42308.0], [41.856594, -87.627542, 11947.0], [41.954383, -87.648043, 1294.0], [41.809443, -87.591875, 4226.0], [41.926756, -87.634429, 188.0], [41.858086, -87.651073, 2194.0], [41.903486, -87.643353, 5381.0], [41.842052, -87.617, 1131.0], [41.926277, -87.630834, 167.0], [41.881032, -87.624084, 20.0], [41.961406, -87.676169, 35.0], [41.911722, -87.626804, 89.0], [41.802406, -87.586924, 92.0], [41.875885, -87.640795, 27.0], [41.855048, -87.675726, 38.0], [41.872187, -87.661501, 443.0], [41.886024, -87.624117, 8679.0], [41.867227, -87.625961, 3183.0], [41.891847, -87.62058, 3945.0], [41.892278, -87.612043, 10396.0], [41.879472, -87.625689, 5247.0], [41.90096, -87.623777, 7473.0], [41.867226, -87.615355, 3677.0], [41.963982, -87.638181, 917.0], [41.884616, -87.644571, 796.0], [41.894503, -87.617854, 1647.0], [41.869482, -87.655486, 3334.0], [41.883668, -87.64867, 23.0], [41.94454, -87.654678, 1125.0]],\n",
       "                {&quot;blur&quot;: 15, &quot;maxZoom&quot;: 18, &quot;minOpacity&quot;: 0.5, &quot;radius&quot;: 25}\n",
       "            ).addTo(map_df80807ea1b2acb740f8b3d7362fe64c);\n",
       "        \n",
       "&lt;/script&gt;\" style=\"position:absolute;width:100%;height:100%;left:0;top:0;border:none !important;\" allowfullscreen webkitallowfullscreen mozallowfullscreen></iframe></div></div>"
      ],
      "text/plain": [
       "<folium.folium.Map at 0x242084945e0>"
      ]
     },
     "execution_count": 27,
     "metadata": {},
     "output_type": "execute_result"
    }
   ],
   "source": [
    "import folium\n",
    "\n",
    "from folium import features\n",
    "from folium import plugins\n",
    "from folium.plugins import HeatMap\n",
    "\n",
    "data = data_array\n",
    "\n",
    "\n",
    "# creating a map object for further use and visualization\n",
    "mapChicago = folium.Map([41.881832, -87.623177], zoom_start = 12)\n",
    "\n",
    "#we can specify the colouring intensity (according to the total amount of rides for each station) in the following way\n",
    "gradient={0: 'navy', 0.25:'blue', 0.5: 'lime', 0.75: 'orange', 1: 'red'}\n",
    "HeatMap(data= data_array, gradient = gradient, radius = 8, max_zoom=13).add_to(mapChicago)\n",
    "\n",
    "\n",
    "# a data column consists of the latitude and longitude of the station, the intensity is determined by the amount of times this specific station\n",
    "# was used (the total amount of rides(started + ended) per station)\n",
    "HeatMap(data).add_to(mapChicago)\n",
    "\n",
    "# the heatmap can also be viewed under this file below which gets saved in the local folder\n",
    "mapChicago.save(\"ChicagoHeatmap.html\")\n",
    "\n",
    "# this gives us a rough idea about where the more popular areas for bike trips in chicago are located and in which areas\n",
    "# there was less bike traffic in 2019\n",
    "mapChicago"
   ]
  },
  {
   "cell_type": "markdown",
   "id": "W1pJWGuTnhmM",
   "metadata": {
    "id": "W1pJWGuTnhmM"
   },
   "source": [
    "# Analysis of features in dependence of time components\n"
   ]
  },
  {
   "cell_type": "markdown",
   "id": "bPoL8a91a9l2",
   "metadata": {
    "id": "bPoL8a91a9l2"
   },
   "source": [
    "In the following part we visualize our data set. We want to make clear which time parameters like months, time or weekday has influence on the demand. Furthermore, we try to find patterns of the duration and the time the service is getting used.\n",
    "In the next steps we will visualize the amount of rides, duration, speed, distance in dependence of the different time parameters (month, weekday and hour).  Furthermore, we'll analyse the amount of rides, the duration, distance and speed in dependence of the start and end station. These finding will be later more clearly visualized with a heatmap. \n",
    "\n",
    "In the following part we renounced of printing or plotting the data explicitly. For the interested reader it would be possible to see the data or plots explicity by using the commands:\n",
    "\n",
    "```\n",
    "print(variable)\n",
    "plt.plot(variable)\n",
    "```\n",
    "\n",
    "or delete the # before such commands. Also the reader might consider to comment statements out by himself.\n",
    "\n",
    "\n",
    "\n",
    "\n",
    "We could add an inverse curve which is the available fleetsize per unit which is the result of the substraction of the rides/hour and the overall fleetsize."
   ]
  },
  {
   "cell_type": "markdown",
   "id": "TzD9Tx3lXI_C",
   "metadata": {
    "id": "TzD9Tx3lXI_C"
   },
   "source": [
    "### Functions which will reduce the rest of the code (unfinished)"
   ]
  },
  {
   "cell_type": "markdown",
   "id": "puQMXyrLVWfv",
   "metadata": {
    "id": "puQMXyrLVWfv"
   },
   "source": [
    "In the following visualisation we need to reorder the data for the days per week and we need to normalize. We did it manually, but it might reduce our length if we implemented the following functions. \n",
    "\n",
    "Since we solved the problem, nor further time was used to implement this functions.\n",
    "\n",
    "\n",
    "\n",
    "```\n",
    "y1 = [rides_started_per_weekday[1], rides_started_per_weekday[5],rides_started_per_weekday[6],\n",
    "                           rides_started_per_weekday[4],rides_started_per_weekday[0],rides_started_per_weekday[2],\n",
    "                           rides_started_per_weekday[3]]\n",
    "\n",
    "def sort_weekday(parameter):\n",
    "  list [1,5,6,4,0,2,3]\n",
    "\n",
    "  for i in range(6):\n",
    "    x [i] = parameter[list[i]]\n",
    "\n",
    "  return x\n",
    "\n",
    "y = sort_weekday(rides_started_per_weekday)  \n",
    "\n",
    "def normalize(value):\n",
    "  min = min(value)\n",
    "  range = max(value)-min(value)\n",
    "  \n",
    " # value = (value - min)/range\n",
    "  return value\n",
    " \n",
    "```\n",
    "\n"
   ]
  },
  {
   "cell_type": "markdown",
   "id": "Sz3qOSLxnuKn",
   "metadata": {
    "id": "Sz3qOSLxnuKn"
   },
   "source": [
    "### Analysis of the features in dependence of the month"
   ]
  },
  {
   "cell_type": "code",
   "execution_count": null,
   "id": "dmDzuRKstFS-",
   "metadata": {
    "id": "dmDzuRKstFS-"
   },
   "outputs": [],
   "source": [
    "# adding the weather data into the visulisation\n",
    "weather_set['date_time'] = pd.to_datetime(weather_set['date_time'])\n",
    "\n",
    "# calculating the average max temp per month\n",
    "avg_max_temp = weather_set['max_temp'].groupby(weather_set['date_time'].dt.month).mean()\n",
    "# print(avg_max_temp)\n",
    "\n",
    "# calculate the average min temp per month\n",
    "avg_min_temp = weather_set['min_temp'].groupby(weather_set['date_time'].dt.month).mean()\n",
    "# print(avg_min_temp)\n",
    "\n",
    "# calculating the average temperature\n",
    "avg_temp = (avg_max_temp+avg_min_temp)/2"
   ]
  },
  {
   "cell_type": "code",
   "execution_count": null,
   "id": "hZMyAq_Wn-4t",
   "metadata": {
    "id": "hZMyAq_Wn-4t"
   },
   "outputs": [],
   "source": [
    "rides_per_month = chicago_set['start_time'].groupby(chicago_set['start_time'].dt.month).agg('count')\n",
    "avg_duration_per_month = chicago_set.groupby(chicago_set['start_time'].dt.month)['duration'].mean()\n",
    "avg_speed_per_month = chicago_set_merge.groupby(chicago_set['start_time'].dt.month)['speed'].mean()\n",
    "avg_distance_per_month = chicago_set_merge.groupby(chicago_set['start_time'].dt.month)['distance'].mean()\n"
   ]
  },
  {
   "cell_type": "code",
   "execution_count": null,
   "id": "n4PHLyTbtLUc",
   "metadata": {
    "id": "n4PHLyTbtLUc"
   },
   "outputs": [],
   "source": [
    "# normalize the rides_per_month\n",
    "range_rides_per_month = max(rides_per_month)-min(rides_per_month)\n",
    "rides_per_month_norm = (rides_per_month - min(rides_per_month))/range_rides_per_month\n",
    "\n",
    "# normalize the average_duration_per_month\n",
    "range_avg_duration_per_month = max(avg_duration_per_month)-min(avg_duration_per_month)\n",
    "duration_per_month_norm = (avg_duration_per_month - min(avg_duration_per_month))/range_avg_duration_per_month\n",
    "\n",
    "#normalize the average temperature per month\n",
    "range_avg_temp = max(avg_temp)-min(avg_temp)\n",
    "avg_temp_norm = (avg_temp - min(avg_temp))/range_avg_temp\n",
    "\n",
    "#normalize the average speed per month\n",
    "range_avg_speed_per_month = max(avg_speed_per_month)-min(avg_speed_per_month)\n",
    "avg_speed_per_month_norm = (avg_speed_per_month - min(avg_speed_per_month))/range_avg_speed_per_month    \n",
    "\n",
    "#normalize the average distance per month\n",
    "range_avg_distance_per_month = max(avg_distance_per_month)-min(avg_distance_per_month)\n",
    "avg_distance_per_month_norm = (avg_distance_per_month - min(avg_distance_per_month))/range_avg_distance_per_month\n",
    "                                                    "
   ]
  },
  {
   "cell_type": "code",
   "execution_count": null,
   "id": "aUVkj0ZeoVm3",
   "metadata": {
    "colab": {
     "base_uri": "https://localhost:8080/",
     "height": 265
    },
    "id": "aUVkj0ZeoVm3",
    "outputId": "b46f5f3b-5605-4e15-b8ab-cb1cb039e523"
   },
   "outputs": [],
   "source": [
    "#plotting the normalized rides_per_month, avg_duration_per_month and the avg_temp_per_month\n",
    "months = ['January', 'February', 'March', 'April', 'May', 'June', 'July', 'August', 'September', 'October', 'November', 'December']\n",
    "x = months\n",
    "y1 = rides_per_month_norm\n",
    "y2 = duration_per_month_norm\n",
    "y3 = avg_temp_norm\n",
    "y4 = avg_speed_per_month_norm\n",
    "y5 = avg_distance_per_month_norm\n",
    "\n",
    "plt.plot(x, y1, label=\"Avg amount of rides\")\n",
    "plt.plot(x, y2, label=\"Avg duration\")\n",
    "plt.plot(x, y3, label=\"Avg temperature\")\n",
    "plt.plot(x, y4, label=\"Avg speed\")\n",
    "plt.plot(x, y5, label=\"Avg distance\")\n",
    "\n",
    "plt.legend(loc=\"upper left\")\n",
    "\n",
    "plt.show()"
   ]
  },
  {
   "cell_type": "markdown",
   "id": "z66zaCxd1mPe",
   "metadata": {
    "id": "z66zaCxd1mPe"
   },
   "source": [
    "## Analysis of the features in dependence of the week"
   ]
  },
  {
   "cell_type": "markdown",
   "id": "1b01f985",
   "metadata": {
    "id": "1b01f985"
   },
   "source": [
    "### Extract week day as String and numeral from start time"
   ]
  },
  {
   "cell_type": "code",
   "execution_count": null,
   "id": "fef626da",
   "metadata": {
    "colab": {
     "base_uri": "https://localhost:8080/",
     "height": 438
    },
    "id": "fef626da",
    "outputId": "34ec5244-2069-42da-ed1b-5e9b044ba654"
   },
   "outputs": [],
   "source": [
    "chicago_set['day_of_week_name'] = chicago_set['start_time'].dt.day_name()\n",
    "chicago_set['day_of_week'] = chicago_set['start_time'].dt.dayofweek\n",
    "chicago_set.head()"
   ]
  },
  {
   "cell_type": "markdown",
   "id": "a6ff817c",
   "metadata": {
    "id": "a6ff817c"
   },
   "source": [
    "### Hot-encode weekday: turn number for day into boolean"
   ]
  },
  {
   "cell_type": "code",
   "execution_count": null,
   "id": "40986e02",
   "metadata": {
    "colab": {
     "base_uri": "https://localhost:8080/",
     "height": 438
    },
    "id": "40986e02",
    "outputId": "a37c90c7-ce08-4893-aa73-cf059530b78c"
   },
   "outputs": [],
   "source": [
    "chicago_set['monday'] = np.where(chicago_set['day_of_week'] == 0, 1, 0) #[chicago_set['day_of_week'] == 1]\n",
    "day = ['monday', 'tuesday', 'wednesday', 'thursday', 'friday', 'saturday']\n",
    "for i in range(0,6):\n",
    "    chicago_set[day[i]] = np.where(chicago_set['day_of_week'] == i, 1, 0)\n",
    "    \n",
    "chicago_set.sample(n=5)"
   ]
  },
  {
   "cell_type": "markdown",
   "id": "EtsC38s8a9l3",
   "metadata": {
    "id": "EtsC38s8a9l3"
   },
   "source": [
    "### Connections between days of the week and user behavior"
   ]
  },
  {
   "cell_type": "code",
   "execution_count": null,
   "id": "oOBFlnuWa9l3",
   "metadata": {
    "id": "oOBFlnuWa9l3"
   },
   "outputs": [],
   "source": [
    "rides_started_per_weekday = chicago_set['start_time'].groupby(chicago_set['start_time'].dt.day_name()).agg('count')\n",
    "rides_started_per_weekday = rides_started_per_weekday / 52\n",
    "# because there are 52 weeks per year\n",
    "avg_duration_per_weekday = chicago_set.groupby(chicago_set['start_time'].dt.day_name())['duration'].mean()\n",
    "avg_speed_per_weekday = chicago_set_merge.groupby(chicago_set['start_time'].dt.day_name())['speed'].mean()\n",
    "avg_distance_per_weekday = chicago_set_merge.groupby(chicago_set['start_time'].dt.day_name())['distance'].mean()\n"
   ]
  },
  {
   "cell_type": "code",
   "execution_count": null,
   "id": "xQ4OEuAja9l5",
   "metadata": {
    "id": "xQ4OEuAja9l5"
   },
   "outputs": [],
   "source": [
    "# Normalize ridea_started_per_weekday\n",
    "range_rides_started_per_weekday = max(rides_started_per_weekday)-min(rides_started_per_weekday)\n",
    "rides_started_per_weekday_norm = (rides_started_per_weekday - min(rides_started_per_weekday))/range_rides_started_per_weekday\n",
    "\n",
    "# Normalize avg_duration_per_weekday\n",
    "range_avg_duration_per_weekday = max(avg_duration_per_weekday)-min(avg_duration_per_weekday)\n",
    "avg_duration_per_weekday_norm = (avg_duration_per_weekday - min(avg_duration_per_weekday))/range_avg_duration_per_weekday\n",
    "\n",
    "# Normalize avg_speed_per_weekday\n",
    "range_avg_speed_per_weekday = max(avg_speed_per_weekday)-min(avg_speed_per_weekday)\n",
    "avg_speed_per_weekday_norm = (avg_speed_per_weekday - min(avg_speed_per_weekday))/range_avg_speed_per_weekday\n",
    "\n",
    "# Normalize avg_distance_per_weekday\n",
    "range_avg_distance_per_weekday = max(avg_distance_per_weekday)-min(avg_distance_per_weekday)\n",
    "avg_distance_per_weekday_norm = (avg_distance_per_weekday - min(avg_distance_per_weekday))/range_avg_distance_per_weekday\n"
   ]
  },
  {
   "cell_type": "code",
   "execution_count": null,
   "id": "afXoT0ys1ahq",
   "metadata": {
    "colab": {
     "base_uri": "https://localhost:8080/",
     "height": 265
    },
    "id": "afXoT0ys1ahq",
    "outputId": "1be9986f-5c79-4e12-f56c-fd310d8e7fc6"
   },
   "outputs": [],
   "source": [
    "x  = ['Monday', 'Tuesday', 'Wednesday','Thursday', 'Friday', 'Saturday', 'Sunday']\n",
    "\n",
    "y1 = [rides_started_per_weekday_norm[1], rides_started_per_weekday_norm[5],rides_started_per_weekday_norm[6],\n",
    "                           rides_started_per_weekday_norm[4],rides_started_per_weekday_norm[0],rides_started_per_weekday_norm[2],\n",
    "                           rides_started_per_weekday_norm[3]]\n",
    "y2 = [avg_duration_per_weekday_norm[1], avg_duration_per_weekday_norm[5],avg_duration_per_weekday_norm[6],\n",
    "                           avg_duration_per_weekday_norm[4],avg_duration_per_weekday_norm[0],avg_duration_per_weekday_norm[2],\n",
    "                           avg_duration_per_weekday_norm[3]]\n",
    "y3 = [avg_distance_per_weekday_norm[1], avg_distance_per_weekday_norm[5],avg_distance_per_weekday_norm[6],\n",
    "                           avg_distance_per_weekday_norm[4],avg_distance_per_weekday_norm[0],avg_distance_per_weekday_norm[2],\n",
    "                           avg_distance_per_weekday_norm[3]]\n",
    "y4 = [avg_speed_per_weekday_norm[1], avg_speed_per_weekday_norm[5],avg_speed_per_weekday_norm[6],\n",
    "                           avg_speed_per_weekday_norm[4],avg_speed_per_weekday_norm[0],avg_speed_per_weekday_norm[2],\n",
    "                           avg_speed_per_weekday_norm[3]]\n",
    "\n",
    "\n",
    "plt.plot(x, y1, label=\"Rides started\")\n",
    "plt.plot(x, y2, label=\"Average duration\")\n",
    "plt.plot(x, y3, label=\"Average distance\")\n",
    "plt.plot(x, y4, label=\"Average speed\")\n",
    "plt.legend(loc=\"upper left\")\n",
    "\n",
    "plt.show()"
   ]
  },
  {
   "cell_type": "markdown",
   "id": "433aJnPY1yK_",
   "metadata": {
    "id": "433aJnPY1yK_"
   },
   "source": [
    "Wee see that during the week we have nearly constantly around 11k rides per weekday, during the weekend this number drops to around 9k rides per day with a low on Sundays.\n",
    "\n",
    "Although we see that there are less rides on the weekend, the average duration is ca. 50% higher than during the week.\n",
    "In the next step, we want to draw both graphs in one diagram and also change the sequence from alphabetically to standard Mo-Sun view. Therefore, we normalize our data with this formula: xnormalized = (x - xminimum) / range of x .\n",
    "\n",
    "In the next step, we'll change the sequence. Python ordered the data alphabetically, but for us humans it's more intuitive to have a week from \"Monday\" till \"Sunday\" (at least in Europe)."
   ]
  },
  {
   "cell_type": "markdown",
   "id": "0dbea3ba",
   "metadata": {
    "id": "0dbea3ba"
   },
   "source": [
    "## Analysis of the features in dependence of the hour"
   ]
  },
  {
   "cell_type": "code",
   "execution_count": null,
   "id": "4960ef77",
   "metadata": {
    "id": "4960ef77"
   },
   "outputs": [],
   "source": [
    "rides_per_hour = chicago_set['start_time'].groupby(chicago_set['start_time'].dt.hour).agg('count')\n",
    "avg_duration_per_hour = chicago_set.groupby(chicago_set['start_time'].dt.hour)['duration'].mean()\n",
    "avg_speed_per_hour = chicago_set_merge.groupby(chicago_set['start_time'].dt.hour)['speed'].mean()\n",
    "avg_distance_per_hour = chicago_set_merge.groupby(chicago_set['start_time'].dt.hour)['distance'].mean()\n"
   ]
  },
  {
   "cell_type": "markdown",
   "id": "ab74e668",
   "metadata": {
    "id": "ab74e668"
   },
   "source": [
    "We see two spikes of usage during the day: our services is getting used the most between 5am and 10 am and between 3pm and 7pm. We can assume that our users rent our bikes to get to the university/school/workplace or home. "
   ]
  },
  {
   "cell_type": "code",
   "execution_count": null,
   "id": "oqTjKAXDa9l-",
   "metadata": {
    "id": "oqTjKAXDa9l-"
   },
   "outputs": [],
   "source": [
    "avg_duration_per_hour = chicago_set.groupby(chicago_set['start_time'].dt.hour)['duration'].mean()\n",
    "# print(avg_duration_per_hour)\n",
    "# plt.plot(avg_duration_per_hour)"
   ]
  },
  {
   "cell_type": "markdown",
   "id": "nZTDpjF8a9l-",
   "metadata": {
    "id": "nZTDpjF8a9l-"
   },
   "source": [
    "We see a peak between 3 and 4am, so maybe drunk people need to get home and rely on our service."
   ]
  },
  {
   "cell_type": "code",
   "execution_count": null,
   "id": "MQQ85H8la9l_",
   "metadata": {
    "id": "MQQ85H8la9l_"
   },
   "outputs": [],
   "source": [
    "# normalize the rides_per_hour\n",
    "range_rides_per_hour = max(rides_per_hour)-min(rides_per_hour)\n",
    "rides_per_hour_norm = (rides_per_hour - min(rides_per_hour))/range_rides_per_hour\n",
    "\n",
    "# normalize the average_duration_per_hour\n",
    "range_avg_duration_per_hour = max(avg_duration_per_hour)-min(avg_duration_per_hour)\n",
    "duration_per_hour_norm = (avg_duration_per_hour - min(avg_duration_per_hour))/range_avg_duration_per_hour\n",
    "\n",
    "# normalize the avg_speed_per_hour\n",
    "range_avg_speed_per_hour = max(avg_speed_per_hour)-min(avg_speed_per_hour)\n",
    "avg_speed_per_hour_norm = (avg_speed_per_hour - min(avg_speed_per_hour))/range_avg_speed_per_hour\n",
    "\n",
    "# normalize the avg_distance_per_hour\n",
    "range_avg_distance_per_hour = max(avg_distance_per_hour)-min(avg_distance_per_hour)\n",
    "avg_distance_per_hour_norm = (avg_distance_per_hour - min(avg_distance_per_hour))/range_avg_distance_per_hour\n"
   ]
  },
  {
   "cell_type": "code",
   "execution_count": null,
   "id": "0BtQDjd1a9l_",
   "metadata": {
    "colab": {
     "base_uri": "https://localhost:8080/",
     "height": 265
    },
    "id": "0BtQDjd1a9l_",
    "outputId": "55137706-85a6-462b-ab17-3786382309f5"
   },
   "outputs": [],
   "source": [
    "#plotting the normalized rides_per_month, avg_duration_per_month and the avg_temp_per_month\n",
    "\n",
    "y1 = rides_per_hour_norm\n",
    "y2 = duration_per_hour_norm\n",
    "y3 = avg_speed_per_hour_norm\n",
    "y4 = avg_distance_per_hour_norm\n",
    "\n",
    "plt.plot(y1, label=\"Avg amount of rides\")\n",
    "plt.plot(y2, label=\"Avg duration\")\n",
    "plt.plot(y3, label=\"Avg speed\")\n",
    "plt.plot(y2, label=\"Avg distance\")\n",
    "\n",
    "plt.legend(loc=\"upper right\")\n",
    "\n",
    "plt.show()"
   ]
  },
  {
   "cell_type": "markdown",
   "id": "EnEq0TXxa9l_",
   "metadata": {
    "id": "EnEq0TXxa9l_"
   },
   "source": [
    "## Analysis of the geographical data"
   ]
  },
  {
   "cell_type": "markdown",
   "id": "c3b74e1f",
   "metadata": {
    "id": "c3b74e1f"
   },
   "source": [
    "### Visualizing the amount of trips started/ended per station"
   ]
  },
  {
   "cell_type": "markdown",
   "id": "20841227",
   "metadata": {
    "id": "20841227"
   },
   "source": [
    "This should help us to improve the understanding of the location data before we'll visualize this in a heatmap in the further steps."
   ]
  },
  {
   "cell_type": "code",
   "execution_count": null,
   "id": "4a902ce7",
   "metadata": {
    "colab": {
     "base_uri": "https://localhost:8080/"
    },
    "id": "4a902ce7",
    "outputId": "7756bffa-c554-4bfa-e373-671bacb7510a"
   },
   "outputs": [],
   "source": [
    "amount_of_start_stations = len(chicago_set['start_station_id'].unique())\n",
    "print(amount_of_start_stations)\n",
    "\n",
    "amount_of_end_stations = len(chicago_set['end_station_id'].unique())\n",
    "print(amount_of_end_stations)"
   ]
  },
  {
   "cell_type": "code",
   "execution_count": null,
   "id": "aInJGtV7YM_d",
   "metadata": {
    "colab": {
     "base_uri": "https://localhost:8080/",
     "height": 438
    },
    "id": "aInJGtV7YM_d",
    "outputId": "ed022d42-b6b0-4c72-cf50-3a9dd81cb4a3"
   },
   "outputs": [],
   "source": [
    "chicago_set.head()"
   ]
  },
  {
   "cell_type": "code",
   "execution_count": null,
   "id": "9MrOiF2va9mA",
   "metadata": {
    "colab": {
     "base_uri": "https://localhost:8080/",
     "height": 375
    },
    "id": "9MrOiF2va9mA",
    "outputId": "eeecccfe-bc11-4899-c4f2-dce7eab5aeb2"
   },
   "outputs": [],
   "source": [
    "rides_started_per_station = chicago_set['start_station_id'].groupby(chicago_set['start_station_id']).agg('count')\n",
    "rides_ended_per_station = rides_ended_per_station = chicago_set['end_station_id'].groupby(chicago_set['end_station_id']).agg('count')\n",
    "\n",
    "avg_duration_per_start_station = chicago_set.groupby(chicago_set['start_station_id'])['duration'].mean()\n",
    "avg_duration_per_end_station = chicago_set.groupby(chicago_set['end_station_id'])['duration'].mean()\n",
    "\n",
    "avg_distance_per_start_station = chicago_set.groupby(chicago_set['start_station_id'])['distance'].mean()\n",
    "avg_distance_per_end_station = chicago_set.groupby(chicago_set['end_station_id'])['distance'].mean()\n",
    "\n",
    "avg_speed_per_start_station = chicago_set.groupby(chicago_set['start_station_id'])['speed'].mean()\n",
    "avg_speed_per_end_station =  chicago_set.groupby(chicago_set['end_station_id'])['speed'].mean()\n"
   ]
  },
  {
   "cell_type": "code",
   "execution_count": null,
   "id": "zoXt99tmphvi",
   "metadata": {
    "id": "zoXt99tmphvi"
   },
   "outputs": [],
   "source": [
    "# normalize the rides_per_station\n",
    "range_rides_started_per_station = max(rides_started_per_station)-min(rides_started_per_station)\n",
    "rides_started_per_station_norm = (rides_started_per_station - min(rides_started_per_station))/range_rides_started_per_station\n",
    "\n",
    "range_rides_ended_per_station = max(rides_ended_per_station)-min(rides_ended_per_station)\n",
    "rides_ended_per_station_norm = (rides_ended_per_station - min(rides_ended_per_station))/range_rides_ended_per_station\n",
    "\n",
    "\n",
    "# normalize the average_duration_per_month\n",
    "range_avg_duration_per_start_station = max(avg_duration_per_start_station)-min(avg_duration_per_start_station)\n",
    "avg_duration_per_start_station_norm = (avg_duration_per_start_station - min(avg_duration_per_start_station))/range_avg_duration_per_start_station\n",
    "\n",
    "range_avg_duration_per_end_station = max(avg_duration_per_end_station)-min(avg_duration_per_end_station)\n",
    "avg_duration_per_end_station_norm = (avg_duration_per_end_station - min(avg_duration_per_end_station))/range_avg_duration_per_end_station\n",
    "\n"
   ]
  },
  {
   "cell_type": "code",
   "execution_count": null,
   "id": "NU57mv1zr4Wp",
   "metadata": {
    "id": "NU57mv1zr4Wp"
   },
   "outputs": [],
   "source": [
    "y1 = rides_started_per_station_norm\n",
    "y2 = rides_ended_per_station_norm\n",
    "plt.plot(y1, label=\"Rides started per station\")\n",
    "plt.plot(y2, label=\"Rides ended per station\")\n",
    "plt.legend(loc=\"upper left\")\n",
    "\n",
    "plt.show()"
   ]
  },
  {
   "cell_type": "code",
   "execution_count": null,
   "id": "VVrM2QdKper_",
   "metadata": {
    "id": "VVrM2QdKper_"
   },
   "outputs": [],
   "source": [
    "y3 = avg_duration_per_start_station_norm\n",
    "y4 = avg_duration_per_end_station_norm\n",
    "\n",
    "plt.plot(y3, label=\"Avg duration per start station\")\n",
    "plt.plot(y4, label=\"Avg duration per end station\")\n",
    "\n",
    "plt.legend(loc=\"upper left\")\n",
    "\n",
    "plt.show()"
   ]
  },
  {
   "cell_type": "markdown",
   "id": "14bc9a0e",
   "metadata": {
    "id": "14bc9a0e"
   },
   "source": [
    "There are 616 unique start_station_ids and 617 end_station_ids. We visualized the amount of rides started/ended per stations and see that some stations are more popular than others. We will analyze this investigation in the further steps and visualize it with a heatmap."
   ]
  },
  {
   "cell_type": "markdown",
   "id": "b4bf27bc",
   "metadata": {
    "id": "b4bf27bc"
   },
   "source": []
  },
  {
   "cell_type": "markdown",
   "id": "SsidFj7Ua9mD",
   "metadata": {
    "id": "SsidFj7Ua9mD"
   },
   "source": [
    "## Clustering our complete dataset"
   ]
  },
  {
   "cell_type": "code",
   "execution_count": null,
   "id": "lys70skF6nmy",
   "metadata": {
    "id": "lys70skF6nmy"
   },
   "outputs": [],
   "source": [
    "chicago_set.info()"
   ]
  },
  {
   "cell_type": "markdown",
   "id": "CjEUhZSQ6Xx0",
   "metadata": {
    "id": "CjEUhZSQ6Xx0"
   },
   "source": [
    "Because it's not possible to cluster timestamp data, we'll add three more columns which will include the information month, hour and minute of the ride."
   ]
  },
  {
   "cell_type": "code",
   "execution_count": null,
   "id": "bTPf2MBt6QFj",
   "metadata": {
    "id": "bTPf2MBt6QFj"
   },
   "outputs": [],
   "source": [
    "chicago_set['start_month'] = pd.to_datetime(chicago_set['start_time']).dt.month\n",
    "chicago_set['start_hour'] = pd.to_datetime(chicago_set['start_time']).dt.hour\n",
    "chicago_set['start_minute'] = pd.to_datetime(chicago_set['start_time']).dt.minute"
   ]
  },
  {
   "cell_type": "code",
   "execution_count": null,
   "id": "htkycUen9OZ4",
   "metadata": {
    "id": "htkycUen9OZ4"
   },
   "outputs": [],
   "source": [
    "#hot-encode user_type\n"
   ]
  },
  {
   "cell_type": "code",
   "execution_count": null,
   "id": "aNSGkRg0-u_p",
   "metadata": {
    "id": "aNSGkRg0-u_p"
   },
   "outputs": [],
   "source": [
    "def temp_at_time():\n",
    "  if()\n",
    "\n",
    "months\n",
    "hours\n",
    "\n",
    "\n",
    "chicago_set['avg_temp'] = "
   ]
  },
  {
   "cell_type": "code",
   "execution_count": null,
   "id": "MsXnPuPra9mD",
   "metadata": {
    "id": "MsXnPuPra9mD"
   },
   "outputs": [],
   "source": [
    "import matplotlib.pyplot as plt\n",
    "from sklearn.cluster import KMeans\n",
    "from sklearn import datasets"
   ]
  },
  {
   "cell_type": "code",
   "execution_count": null,
   "id": "SxU__a0Ztfkm",
   "metadata": {
    "id": "SxU__a0Ztfkm"
   },
   "outputs": [],
   "source": [
    "x = chicago_set.iloc[:, [3,4,8,9,11]]"
   ]
  },
  {
   "cell_type": "code",
   "execution_count": null,
   "id": "gbEFLYjba9mD",
   "metadata": {
    "id": "gbEFLYjba9mD"
   },
   "outputs": [],
   "source": [
    "distortions = []\n",
    "K = range(1,10)\n",
    "for k in K:\n",
    "    kmeanModel = KMeans(n_clusters=k)\n",
    "    kmeanModel.fit(x)\n",
    "    distortions.append(kmeanModel.inertia_)\n",
    "    \n",
    "plt.figure(figsize=(16,8))\n",
    "plt.plot(K, distortions, 'bx-')\n",
    "plt.xlabel('k')\n",
    "plt.ylabel('Distortion')\n",
    "plt.title('The Elbow Method showing the optimal clusters')\n",
    "plt.show()"
   ]
  },
  {
   "cell_type": "code",
   "execution_count": null,
   "id": "kpJb1WtYa9mE",
   "metadata": {
    "id": "kpJb1WtYa9mE"
   },
   "outputs": [],
   "source": []
  }
 ],
 "metadata": {
  "accelerator": "GPU",
  "colab": {
   "name": "Data_Analysis_Chicago_V7.ipynb",
   "provenance": [],
   "toc_visible": true
  },
  "gpuClass": "standard",
  "kernelspec": {
   "display_name": "Python 3 (ipykernel)",
   "language": "python",
   "name": "python3"
  },
  "language_info": {
   "codemirror_mode": {
    "name": "ipython",
    "version": 3
   },
   "file_extension": ".py",
   "mimetype": "text/x-python",
   "name": "python",
   "nbconvert_exporter": "python",
   "pygments_lexer": "ipython3",
   "version": "3.9.7"
  }
 },
 "nbformat": 4,
 "nbformat_minor": 5
}
